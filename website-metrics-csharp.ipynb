{
  "cells": [
    {
      "cell_type": "code",
      "execution_count": 1,
      "id": "692e343b-52ee-4e4b-a87f-8c0be7e295cc",
      "metadata": {
        "collapsed": true,
        "execution": {
          "iopub.status.busy": "2022-10-17T17:15:39.194Z",
          "iopub.status.idle": "2022-10-17T17:15:41.334Z",
          "shell.execute_reply": "2022-10-17T17:15:41.398Z"
        },
        "jupyter": {
          "outputs_hidden": false,
          "source_hidden": false
        },
        "nteract": {
          "transient": {
            "deleting": false
          }
        },
        "trusted": false
      },
      "outputs": [
        {
          "data": {},
          "execution_count": 1,
          "metadata": {},
          "output_type": "execute_result"
        }
      ],
      "source": "using Microsoft.Azure.Cosmos;\n\nvar cosmosClient = new CosmosClient(Cosmos.Endpoint, Cosmos.Key);\n\nDatabase database = await cosmosClient.CreateDatabaseIfNotExistsAsync(\"RetailIngest\");\nContainer container = await database.CreateContainerIfNotExistsAsync(\"WebsiteMetrics\", \"/CartID\");"
    },
    {
      "cell_type": "code",
      "execution_count": 2,
      "id": "4d9c9a65-d6de-4132-a3b9-5a2478988583",
      "metadata": {
        "collapsed": true,
        "execution": {
          "iopub.status.busy": "2022-10-17T17:15:55.677Z",
          "iopub.status.idle": "2022-10-17T17:16:00.103Z",
          "shell.execute_reply": "2022-10-17T17:16:00.111Z"
        },
        "jupyter": {
          "outputs_hidden": false,
          "source_hidden": false
        },
        "nteract": {
          "transient": {
            "deleting": false
          }
        },
        "trusted": false
      },
      "outputs": [
        {
          "data": {
            "text/html": "\n<span style='color:#0078D4'>\nDocuments successfully uploaded to WebsiteMetrics <br/>\nTotal number of documents imported:<br/>\n&nbsp;&nbsp;Success: <b>2654</b> <br/>\n&nbsp;&nbsp;Failure: <b>0</b> <br/>\nTotal time taken : <b>00:00:04</b> hours <br/>\nTotal RUs consumed : <b>27309.660000001593</b> <br/>\n<br/>\n</span>\n"
          },
          "metadata": {},
          "output_type": "display_data"
        }
      ],
      "source": "%%upload --databaseName RetailIngest --containerName WebsiteMetrics --url https://cosmosnotebooksdata.blob.core.windows.net/notebookdata/websiteData.json"
    },
    {
      "cell_type": "code",
      "execution_count": 3,
      "id": "b50f1208-09c1-4503-81e1-ebaff648d5f3",
      "metadata": {
        "collapsed": true,
        "execution": {
          "iopub.status.busy": "2022-10-17T17:16:20.726Z",
          "iopub.status.idle": "2022-10-17T17:16:20.968Z",
          "shell.execute_reply": "2022-10-17T17:16:21.010Z"
        },
        "jupyter": {
          "outputs_hidden": false,
          "source_hidden": false
        },
        "nteract": {
          "transient": {
            "deleting": false
          }
        },
        "trusted": false
      },
      "outputs": [
        {
          "data": {},
          "execution_count": 3,
          "metadata": {},
          "output_type": "execute_result"
        }
      ],
      "source": "public class Record\n{\n  public string Action { get; set; }\n  public decimal Price { get; set; }\n  public string Country { get; set; }\n  public string Item { get; set; }\n}"
    },
    {
      "cell_type": "code",
      "execution_count": 4,
      "id": "17ee8579-7465-429c-b490-f954a334dc62",
      "metadata": {
        "collapsed": true,
        "execution": {
          "iopub.status.busy": "2022-10-17T17:16:23.037Z",
          "iopub.status.idle": "2022-10-17T17:16:24.081Z",
          "shell.execute_reply": "2022-10-17T17:16:24.145Z"
        },
        "jupyter": {
          "outputs_hidden": false,
          "source_hidden": false
        },
        "nteract": {
          "transient": {
            "deleting": false
          }
        },
        "trusted": false
      },
      "outputs": [
        {
          "data": {},
          "execution_count": 4,
          "metadata": {},
          "output_type": "execute_result"
        }
      ],
      "source": "using System.Collections.Generic;\n\nvar query = new QueryDefinition(\n    query: \"SELECT c.Action, c.Price, c.Country, c.Item FROM c\"\n);\n\nFeedIterator<Record> feed = container.GetItemQueryIterator<Record>(\n    queryDefinition: query\n);\n\nvar results = new List<Record>();\nwhile (feed.HasMoreResults)\n{\n    FeedResponse<Record> response = await feed.ReadNextAsync();\n    foreach (Record result in response)\n    {\n        results.Add(result);\n    }\n}"
    },
    {
      "cell_type": "code",
      "execution_count": 5,
      "id": "573a8da0-6a39-4d5b-aba3-b05b15f02f50",
      "metadata": {
        "collapsed": true,
        "execution": {
          "iopub.status.busy": "2022-10-17T17:16:26.321Z",
          "iopub.status.idle": "2022-10-17T17:16:26.416Z",
          "shell.execute_reply": "2022-10-17T17:16:26.425Z"
        },
        "jupyter": {
          "outputs_hidden": false,
          "source_hidden": false
        },
        "nteract": {
          "transient": {
            "deleting": false
          }
        },
        "trusted": false
      },
      "outputs": [
        {
          "data": {
            "application/json": {
              "data": {
                " Flip Flop Shoes": 14,
                " Necklace": 12,
                "Athletic Shoes": 75,
                "Athletic Shorts": 22.5,
                "Bag": 37.5,
                "Baseball Hat": 17,
                "Beanie": 10,
                "Black Dress": 65,
                "Black Hoodie": 25,
                "Black Tee": 9,
                "Blazer Jacket": 87.5,
                "Blue Sweater": 27,
                "Button-Up Shirt": 19.99,
                "Cardigan Sweater": 25,
                "Cosmos T-shirt": 350,
                "Crewneck Sweater": 22,
                "Dark Jeans": 90,
                "Denim Jacket": 31.99,
                "Denim Shorts": 50,
                "Dress Shoes": 120,
                "Earring": 8,
                "Flannel Shirt": 19.99,
                "Fleece Jacket": 65,
                "Gloves": 20,
                "Green Sweater": 30,
                "High Heel Shoe": 72,
                "Jeans": 85,
                "Light Jeans": 80,
                "Pant": 40,
                "Puffy Jacket": 105,
                "Rainjacket": 55,
                "Red Dress": 130,
                "Red Top": 33,
                "Sandal": 35.5,
                "Sandals": 12,
                "Scarf": 29.99,
                "Silver Necklace": 15.5,
                "Socks": 3.75,
                "Suit Jacket": 92,
                "Suit Pant": 95,
                "Sweatpants": 21,
                "Walking Shoes": 79.99,
                "White Dress": 84.99,
                "White Shirt": 25.2,
                "White Sweater": 32,
                "Windbreaker Jacket": 49.99
              }
            },
            "text/plain": "System.Collections.Generic.Dictionary`2[System.String,System.Decimal]"
          },
          "execution_count": 5,
          "metadata": {},
          "output_type": "execute_result"
        }
      ],
      "source": "var dictionary = new Dictionary<string, decimal>();\n\nforeach(var result in results)\n{\n    dictionary.TryAdd (result.Item, result.Price); \n}\n\ndictionary"
    },
    {
      "cell_type": "code",
      "execution_count": 6,
      "id": "447802c6-9281-4c2b-ad45-e90c9f85f72b",
      "metadata": {
        "collapsed": true,
        "execution": {
          "iopub.status.busy": "2022-10-17T17:16:42.288Z",
          "iopub.status.idle": "2022-10-17T17:16:42.527Z",
          "shell.execute_reply": "2022-10-17T17:16:42.564Z"
        },
        "jupyter": {
          "outputs_hidden": false,
          "source_hidden": false
        },
        "nteract": {
          "transient": {
            "deleting": false
          }
        },
        "trusted": false
      },
      "outputs": [
        {
          "data": {
            "application/vnd.dataresource+json": {
              "data": [
                {
                  "Action": "Viewed",
                  "Country": "Brazil",
                  "Item": "Baseball Hat",
                  "Price": 17,
                  "index": 0
                },
                {
                  "Action": "Viewed",
                  "Country": "Algeria",
                  "Item": "Beanie",
                  "Price": 10,
                  "index": 1
                },
                {
                  "Action": "Viewed",
                  "Country": "Falkland Islands (Malvinas)",
                  "Item": "Bag",
                  "Price": 37.5,
                  "index": 2
                },
                {
                  "Action": "Viewed",
                  "Country": "Republic of Korea",
                  "Item": "Red Top",
                  "Price": 33,
                  "index": 3
                },
                {
                  "Action": "Purchased",
                  "Country": "Falkland Islands (Malvinas)",
                  "Item": "Bag",
                  "Price": 37.5,
                  "index": 4
                },
                {
                  "Action": "Added",
                  "Country": "New Caledonia",
                  "Item": "Rainjacket",
                  "Price": 55,
                  "index": 5
                },
                {
                  "Action": "Viewed",
                  "Country": "New Caledonia",
                  "Item": "Rainjacket",
                  "Price": 55,
                  "index": 6
                },
                {
                  "Action": "Added",
                  "Country": "Algeria",
                  "Item": "Gloves",
                  "Price": 20,
                  "index": 7
                },
                {
                  "Action": "Viewed",
                  "Country": "Algeria",
                  "Item": "Gloves",
                  "Price": 20,
                  "index": 8
                },
                {
                  "Action": "Purchased",
                  "Country": "Libyan Arab Jamahiriya",
                  "Item": "Fleece Jacket",
                  "Price": 65,
                  "index": 9
                },
                {
                  "Action": "Viewed",
                  "Country": "Libyan Arab Jamahiriya",
                  "Item": "Fleece Jacket",
                  "Price": 65,
                  "index": 10
                },
                {
                  "Action": "Purchased",
                  "Country": "Eritrea",
                  "Item": "Scarf",
                  "Price": 29.99,
                  "index": 11
                },
                {
                  "Action": "Viewed",
                  "Country": "Eritrea",
                  "Item": "Scarf",
                  "Price": 29.99,
                  "index": 12
                },
                {
                  "Action": "Added",
                  "Country": "Eritrea",
                  "Item": "Scarf",
                  "Price": 29.99,
                  "index": 13
                },
                {
                  "Action": "Added",
                  "Country": "Libyan Arab Jamahiriya",
                  "Item": "Fleece Jacket",
                  "Price": 65,
                  "index": 14
                },
                {
                  "Action": "Viewed",
                  "Country": "Myanmar",
                  "Item": "White Sweater",
                  "Price": 32,
                  "index": 15
                },
                {
                  "Action": "Viewed",
                  "Country": "Estonia",
                  "Item": "Earring",
                  "Price": 8,
                  "index": 16
                },
                {
                  "Action": "Purchased",
                  "Country": "Croatia",
                  "Item": "Windbreaker Jacket",
                  "Price": 49.99,
                  "index": 17
                },
                {
                  "Action": "Viewed",
                  "Country": "Croatia",
                  "Item": "Windbreaker Jacket",
                  "Price": 49.99,
                  "index": 18
                },
                {
                  "Action": "Added",
                  "Country": "Croatia",
                  "Item": "Windbreaker Jacket",
                  "Price": 49.99,
                  "index": 19
                },
                {
                  "Action": "Viewed",
                  "Country": "Iraq",
                  "Item": "Denim Shorts",
                  "Price": 50,
                  "index": 20
                },
                {
                  "Action": "Viewed",
                  "Country": "Reunion",
                  "Item": "Walking Shoes",
                  "Price": 79.99,
                  "index": 21
                },
                {
                  "Action": "Added",
                  "Country": "Reunion",
                  "Item": "Walking Shoes",
                  "Price": 79.99,
                  "index": 22
                },
                {
                  "Action": "Viewed",
                  "Country": "United Kingdom",
                  "Item": "Puffy Jacket",
                  "Price": 105,
                  "index": 23
                },
                {
                  "Action": "Viewed",
                  "Country": "Montserrat",
                  "Item": "White Dress",
                  "Price": 84.99,
                  "index": 24
                },
                {
                  "Action": "Added",
                  "Country": "Gambia",
                  "Item": "Windbreaker Jacket",
                  "Price": 49.99,
                  "index": 25
                },
                {
                  "Action": "Viewed",
                  "Country": "Guadeloupe",
                  "Item": "Black Tee",
                  "Price": 9,
                  "index": 26
                },
                {
                  "Action": "Viewed",
                  "Country": "Gambia",
                  "Item": "Windbreaker Jacket",
                  "Price": 49.99,
                  "index": 27
                },
                {
                  "Action": "Added",
                  "Country": "Guadeloupe",
                  "Item": "Black Tee",
                  "Price": 9,
                  "index": 28
                },
                {
                  "Action": "Viewed",
                  "Country": "Saint Pierre and Miquelon",
                  "Item": "Silver Necklace",
                  "Price": 15.5,
                  "index": 29
                },
                {
                  "Action": "Purchased",
                  "Country": "Saint Pierre and Miquelon",
                  "Item": "Silver Necklace",
                  "Price": 15.5,
                  "index": 30
                },
                {
                  "Action": "Added",
                  "Country": "Saint Pierre and Miquelon",
                  "Item": "Silver Necklace",
                  "Price": 15.5,
                  "index": 31
                },
                {
                  "Action": "Added",
                  "Country": "Syrian Arab Republic",
                  "Item": "Button-Up Shirt",
                  "Price": 19.99,
                  "index": 32
                },
                {
                  "Action": "Purchased",
                  "Country": "Italy",
                  "Item": "White Sweater",
                  "Price": 32,
                  "index": 33
                },
                {
                  "Action": "Viewed",
                  "Country": "Puerto Rico",
                  "Item": "Denim Jacket",
                  "Price": 31.99,
                  "index": 34
                },
                {
                  "Action": "Viewed",
                  "Country": "Italy",
                  "Item": "White Sweater",
                  "Price": 32,
                  "index": 35
                },
                {
                  "Action": "Purchased",
                  "Country": "Algeria",
                  "Item": "Denim Shorts",
                  "Price": 50,
                  "index": 36
                },
                {
                  "Action": "Added",
                  "Country": "Italy",
                  "Item": "White Sweater",
                  "Price": 32,
                  "index": 37
                },
                {
                  "Action": "Viewed",
                  "Country": "Rwanda",
                  "Item": " Necklace",
                  "Price": 12,
                  "index": 38
                },
                {
                  "Action": "Viewed",
                  "Country": "Algeria",
                  "Item": "Denim Shorts",
                  "Price": 50,
                  "index": 39
                },
                {
                  "Action": "Purchased",
                  "Country": "Marshall Islands",
                  "Item": "Suit Jacket",
                  "Price": 92,
                  "index": 40
                },
                {
                  "Action": "Added",
                  "Country": "Algeria",
                  "Item": "Denim Shorts",
                  "Price": 50,
                  "index": 41
                },
                {
                  "Action": "Viewed",
                  "Country": "Marshall Islands",
                  "Item": "Suit Jacket",
                  "Price": 92,
                  "index": 42
                },
                {
                  "Action": "Viewed",
                  "Country": "Nigeria",
                  "Item": "Rainjacket",
                  "Price": 55,
                  "index": 43
                },
                {
                  "Action": "Added",
                  "Country": "Marshall Islands",
                  "Item": "Suit Jacket",
                  "Price": 92,
                  "index": 44
                },
                {
                  "Action": "Viewed",
                  "Country": "Vanuatu",
                  "Item": "Light Jeans",
                  "Price": 80,
                  "index": 45
                },
                {
                  "Action": "Purchased",
                  "Country": "Qatar",
                  "Item": "Dress Shoes",
                  "Price": 120,
                  "index": 46
                },
                {
                  "Action": "Viewed",
                  "Country": "Qatar",
                  "Item": "Dress Shoes",
                  "Price": 120,
                  "index": 47
                },
                {
                  "Action": "Added",
                  "Country": "Cuba",
                  "Item": "Denim Shorts",
                  "Price": 50,
                  "index": 48
                },
                {
                  "Action": "Added",
                  "Country": "Qatar",
                  "Item": "Dress Shoes",
                  "Price": 120,
                  "index": 49
                },
                {
                  "Action": "Viewed",
                  "Country": "Cuba",
                  "Item": "Denim Shorts",
                  "Price": 50,
                  "index": 50
                },
                {
                  "Action": "Viewed",
                  "Country": "Slovenia",
                  "Item": "Cardigan Sweater",
                  "Price": 25,
                  "index": 51
                },
                {
                  "Action": "Purchased",
                  "Country": "Bahrain",
                  "Item": "High Heel Shoe",
                  "Price": 72,
                  "index": 52
                },
                {
                  "Action": "Viewed",
                  "Country": "Bahrain",
                  "Item": "High Heel Shoe",
                  "Price": 72,
                  "index": 53
                },
                {
                  "Action": "Added",
                  "Country": "Bahrain",
                  "Item": "High Heel Shoe",
                  "Price": 72,
                  "index": 54
                },
                {
                  "Action": "Added",
                  "Country": "Central African Republic",
                  "Item": "Blue Sweater",
                  "Price": 27,
                  "index": 55
                },
                {
                  "Action": "Viewed",
                  "Country": "Central African Republic",
                  "Item": "Blue Sweater",
                  "Price": 27,
                  "index": 56
                },
                {
                  "Action": "Viewed",
                  "Country": "United States Minor Outlying Islands",
                  "Item": "Rainjacket",
                  "Price": 55,
                  "index": 57
                },
                {
                  "Action": "Added",
                  "Country": "United States Minor Outlying Islands",
                  "Item": "Rainjacket",
                  "Price": 55,
                  "index": 58
                },
                {
                  "Action": "Viewed",
                  "Country": "British Indian Ocean Territory (Chagos Archipelago)",
                  "Item": "Walking Shoes",
                  "Price": 79.99,
                  "index": 59
                },
                {
                  "Action": "Viewed",
                  "Country": "Papua New Guinea",
                  "Item": "Rainjacket",
                  "Price": 55,
                  "index": 60
                },
                {
                  "Action": "Added",
                  "Country": "Kenya",
                  "Item": "Black Tee",
                  "Price": 9,
                  "index": 61
                },
                {
                  "Action": "Viewed",
                  "Country": "Kenya",
                  "Item": "Black Tee",
                  "Price": 9,
                  "index": 62
                },
                {
                  "Action": "Added",
                  "Country": "Saint Barthelemy",
                  "Item": "White Dress",
                  "Price": 84.99,
                  "index": 63
                },
                {
                  "Action": "Viewed",
                  "Country": "Saint Barthelemy",
                  "Item": "White Dress",
                  "Price": 84.99,
                  "index": 64
                },
                {
                  "Action": "Added",
                  "Country": "Virgin Islands",
                  "Item": "White Dress",
                  "Price": 84.99,
                  "index": 65
                },
                {
                  "Action": "Viewed",
                  "Country": "Virgin Islands",
                  "Item": "White Dress",
                  "Price": 84.99,
                  "index": 66
                },
                {
                  "Action": "Purchased",
                  "Country": "Ethiopia",
                  "Item": "Athletic Shoes",
                  "Price": 75,
                  "index": 67
                },
                {
                  "Action": "Added",
                  "Country": "Ethiopia",
                  "Item": "Athletic Shoes",
                  "Price": 75,
                  "index": 68
                },
                {
                  "Action": "Viewed",
                  "Country": "Ethiopia",
                  "Item": "Athletic Shoes",
                  "Price": 75,
                  "index": 69
                },
                {
                  "Action": "Viewed",
                  "Country": "China",
                  "Item": "Athletic Shorts",
                  "Price": 22.5,
                  "index": 70
                },
                {
                  "Action": "Purchased",
                  "Country": "Honduras",
                  "Item": "Puffy Jacket",
                  "Price": 99.99,
                  "index": 71
                },
                {
                  "Action": "Added",
                  "Country": "Honduras",
                  "Item": "Puffy Jacket",
                  "Price": 99.99,
                  "index": 72
                },
                {
                  "Action": "Viewed",
                  "Country": "Honduras",
                  "Item": "Puffy Jacket",
                  "Price": 99.99,
                  "index": 73
                },
                {
                  "Action": "Viewed",
                  "Country": "Croatia",
                  "Item": " Flip Flop Shoes",
                  "Price": 14,
                  "index": 74
                },
                {
                  "Action": "Added",
                  "Country": "Croatia",
                  "Item": " Flip Flop Shoes",
                  "Price": 14,
                  "index": 75
                },
                {
                  "Action": "Viewed",
                  "Country": "Lao People's Democratic Republic",
                  "Item": "Cardigan Sweater",
                  "Price": 25,
                  "index": 76
                },
                {
                  "Action": "Purchased",
                  "Country": "Latvia",
                  "Item": "Fleece Jacket",
                  "Price": 65,
                  "index": 77
                },
                {
                  "Action": "Viewed",
                  "Country": "Latvia",
                  "Item": "Fleece Jacket",
                  "Price": 65,
                  "index": 78
                },
                {
                  "Action": "Added",
                  "Country": "Latvia",
                  "Item": "Fleece Jacket",
                  "Price": 65,
                  "index": 79
                },
                {
                  "Action": "Viewed",
                  "Country": "Uganda",
                  "Item": "Denim Jacket",
                  "Price": 31.99,
                  "index": 80
                },
                {
                  "Action": "Added",
                  "Country": "Uganda",
                  "Item": "Denim Jacket",
                  "Price": 31.99,
                  "index": 81
                },
                {
                  "Action": "Purchased",
                  "Country": "Saint Kitts and Nevis",
                  "Item": "Pant",
                  "Price": 40,
                  "index": 82
                },
                {
                  "Action": "Viewed",
                  "Country": "Saint Kitts and Nevis",
                  "Item": "Pant",
                  "Price": 40,
                  "index": 83
                },
                {
                  "Action": "Added",
                  "Country": "Turkmenistan",
                  "Item": "Light Jeans",
                  "Price": 80,
                  "index": 84
                },
                {
                  "Action": "Added",
                  "Country": "Saint Kitts and Nevis",
                  "Item": "Pant",
                  "Price": 40,
                  "index": 85
                },
                {
                  "Action": "Viewed",
                  "Country": "Turkmenistan",
                  "Item": "Light Jeans",
                  "Price": 80,
                  "index": 86
                },
                {
                  "Action": "Added",
                  "Country": "Afghanistan",
                  "Item": "Black Tee",
                  "Price": 9,
                  "index": 87
                },
                {
                  "Action": "Viewed",
                  "Country": "Malaysia",
                  "Item": "Black Tee",
                  "Price": 9,
                  "index": 88
                },
                {
                  "Action": "Viewed",
                  "Country": "Afghanistan",
                  "Item": "Black Tee",
                  "Price": 9,
                  "index": 89
                },
                {
                  "Action": "Added",
                  "Country": "Martinique",
                  "Item": "High Heel Shoe",
                  "Price": 72,
                  "index": 90
                },
                {
                  "Action": "Purchased",
                  "Country": "Czech Republic",
                  "Item": "Denim Jacket",
                  "Price": 31.99,
                  "index": 91
                },
                {
                  "Action": "Added",
                  "Country": "Czech Republic",
                  "Item": "Denim Jacket",
                  "Price": 31.99,
                  "index": 92
                },
                {
                  "Action": "Viewed",
                  "Country": "Czech Republic",
                  "Item": "Denim Jacket",
                  "Price": 31.99,
                  "index": 93
                },
                {
                  "Action": "Added",
                  "Country": "China",
                  "Item": "Sweatpants",
                  "Price": 21,
                  "index": 94
                },
                {
                  "Action": "Viewed",
                  "Country": "Martinique",
                  "Item": "High Heel Shoe",
                  "Price": 72,
                  "index": 95
                },
                {
                  "Action": "Viewed",
                  "Country": "China",
                  "Item": "Sweatpants",
                  "Price": 21,
                  "index": 96
                },
                {
                  "Action": "Viewed",
                  "Country": "Mauritius",
                  "Item": "Windbreaker Jacket",
                  "Price": 49.99,
                  "index": 97
                },
                {
                  "Action": "Purchased",
                  "Country": "Guinea-Bissau",
                  "Item": "Black Hoodie",
                  "Price": 25,
                  "index": 98
                },
                {
                  "Action": "Added",
                  "Country": "Guinea-Bissau",
                  "Item": "Black Hoodie",
                  "Price": 25,
                  "index": 99
                },
                {
                  "Action": "Viewed",
                  "Country": "Brunei Darussalam",
                  "Item": "Pant",
                  "Price": 40,
                  "index": 100
                },
                {
                  "Action": "Viewed",
                  "Country": "Saint Kitts and Nevis",
                  "Item": "Flannel Shirt",
                  "Price": 19.99,
                  "index": 101
                },
                {
                  "Action": "Viewed",
                  "Country": "Cape Verde",
                  "Item": "White Shirt",
                  "Price": 25.2,
                  "index": 102
                },
                {
                  "Action": "Purchased",
                  "Country": "Nicaragua",
                  "Item": "Crewneck Sweater",
                  "Price": 22,
                  "index": 103
                },
                {
                  "Action": "Viewed",
                  "Country": "Georgia",
                  "Item": "Athletic Shoes",
                  "Price": 75,
                  "index": 104
                },
                {
                  "Action": "Purchased",
                  "Country": "Algeria",
                  "Item": "Suit Pant",
                  "Price": 95,
                  "index": 105
                },
                {
                  "Action": "Added",
                  "Country": "Georgia",
                  "Item": "Athletic Shoes",
                  "Price": 75,
                  "index": 106
                },
                {
                  "Action": "Viewed",
                  "Country": "Madagascar",
                  "Item": "Dark Jeans",
                  "Price": 90,
                  "index": 107
                },
                {
                  "Action": "Viewed",
                  "Country": "Algeria",
                  "Item": "Suit Pant",
                  "Price": 95,
                  "index": 108
                },
                {
                  "Action": "Added",
                  "Country": "Algeria",
                  "Item": "Suit Pant",
                  "Price": 95,
                  "index": 109
                },
                {
                  "Action": "Viewed",
                  "Country": "Cape Verde",
                  "Item": "White Shirt",
                  "Price": 25.2,
                  "index": 110
                },
                {
                  "Action": "Added",
                  "Country": "Cape Verde",
                  "Item": "White Shirt",
                  "Price": 25.2,
                  "index": 111
                },
                {
                  "Action": "Viewed",
                  "Country": "Seychelles",
                  "Item": "Baseball Hat",
                  "Price": 17,
                  "index": 112
                },
                {
                  "Action": "Added",
                  "Country": "Palau",
                  "Item": "Earring",
                  "Price": 8,
                  "index": 113
                },
                {
                  "Action": "Viewed",
                  "Country": "Solomon Islands",
                  "Item": "Bag",
                  "Price": 37.5,
                  "index": 114
                },
                {
                  "Action": "Viewed",
                  "Country": "Turkey",
                  "Item": "Blue Sweater",
                  "Price": 27,
                  "index": 115
                },
                {
                  "Action": "Viewed",
                  "Country": "Palau",
                  "Item": "Earring",
                  "Price": 8,
                  "index": 116
                },
                {
                  "Action": "Viewed",
                  "Country": "Sri Lanka",
                  "Item": "Athletic Shorts",
                  "Price": 22.5,
                  "index": 117
                },
                {
                  "Action": "Viewed",
                  "Country": "Bulgaria",
                  "Item": "Pant",
                  "Price": 40,
                  "index": 118
                },
                {
                  "Action": "Purchased",
                  "Country": "Marshall Islands",
                  "Item": "Silver Necklace",
                  "Price": 15.5,
                  "index": 119
                },
                {
                  "Action": "Added",
                  "Country": "Marshall Islands",
                  "Item": "Silver Necklace",
                  "Price": 15.5,
                  "index": 120
                },
                {
                  "Action": "Viewed",
                  "Country": "Marshall Islands",
                  "Item": "Silver Necklace",
                  "Price": 15.5,
                  "index": 121
                },
                {
                  "Action": "Viewed",
                  "Country": "Wallis and Futuna",
                  "Item": "Athletic Shorts",
                  "Price": 22.5,
                  "index": 122
                },
                {
                  "Action": "Purchased",
                  "Country": "Wallis and Futuna",
                  "Item": "Athletic Shorts",
                  "Price": 22.5,
                  "index": 123
                },
                {
                  "Action": "Added",
                  "Country": "Wallis and Futuna",
                  "Item": "Athletic Shorts",
                  "Price": 22.5,
                  "index": 124
                },
                {
                  "Action": "Viewed",
                  "Country": "Western Sahara",
                  "Item": "Puffy Jacket",
                  "Price": 99.99,
                  "index": 125
                },
                {
                  "Action": "Purchased",
                  "Country": "Western Sahara",
                  "Item": "Puffy Jacket",
                  "Price": 99.99,
                  "index": 126
                },
                {
                  "Action": "Added",
                  "Country": "Western Sahara",
                  "Item": "Puffy Jacket",
                  "Price": 99.99,
                  "index": 127
                },
                {
                  "Action": "Added",
                  "Country": "Gibraltar",
                  "Item": "Cosmos T-shirt",
                  "Price": 350,
                  "index": 128
                },
                {
                  "Action": "Viewed",
                  "Country": "Gibraltar",
                  "Item": "Cosmos T-shirt",
                  "Price": 350,
                  "index": 129
                },
                {
                  "Action": "Viewed",
                  "Country": "Afghanistan",
                  "Item": "Black Tee",
                  "Price": 9,
                  "index": 130
                },
                {
                  "Action": "Viewed",
                  "Country": "Philippines",
                  "Item": "Gloves",
                  "Price": 20,
                  "index": 131
                },
                {
                  "Action": "Purchased",
                  "Country": "Germany",
                  "Item": "Sweatpants",
                  "Price": 21,
                  "index": 132
                },
                {
                  "Action": "Viewed",
                  "Country": "Germany",
                  "Item": "Sweatpants",
                  "Price": 21,
                  "index": 133
                },
                {
                  "Action": "Added",
                  "Country": "Germany",
                  "Item": "Sweatpants",
                  "Price": 21,
                  "index": 134
                },
                {
                  "Action": "Viewed",
                  "Country": "Saudi Arabia",
                  "Item": "Athletic Shoes",
                  "Price": 70,
                  "index": 135
                },
                {
                  "Action": "Viewed",
                  "Country": "Lesotho",
                  "Item": "Cardigan Sweater",
                  "Price": 25,
                  "index": 136
                },
                {
                  "Action": "Added",
                  "Country": "Saudi Arabia",
                  "Item": "Athletic Shoes",
                  "Price": 70,
                  "index": 137
                },
                {
                  "Action": "Added",
                  "Country": "Lesotho",
                  "Item": " Necklace",
                  "Price": 12,
                  "index": 138
                },
                {
                  "Action": "Added",
                  "Country": "Saint Kitts and Nevis",
                  "Item": "Flannel Shirt",
                  "Price": 19.99,
                  "index": 139
                },
                {
                  "Action": "Added",
                  "Country": "Gambia",
                  "Item": "Athletic Shorts",
                  "Price": 22.5,
                  "index": 140
                },
                {
                  "Action": "Viewed",
                  "Country": "Lesotho",
                  "Item": " Necklace",
                  "Price": 12,
                  "index": 141
                },
                {
                  "Action": "Viewed",
                  "Country": "Gambia",
                  "Item": "Athletic Shorts",
                  "Price": 22.5,
                  "index": 142
                },
                {
                  "Action": "Viewed",
                  "Country": "Hungary",
                  "Item": "Blue Sweater",
                  "Price": 27,
                  "index": 143
                },
                {
                  "Action": "Purchased",
                  "Country": "Honduras",
                  "Item": "Sweatpants",
                  "Price": 21,
                  "index": 144
                },
                {
                  "Action": "Viewed",
                  "Country": "Honduras",
                  "Item": "Sweatpants",
                  "Price": 21,
                  "index": 145
                },
                {
                  "Action": "Added",
                  "Country": "Honduras",
                  "Item": "Sweatpants",
                  "Price": 21,
                  "index": 146
                },
                {
                  "Action": "Viewed",
                  "Country": "Burkina Faso",
                  "Item": "Black Hoodie",
                  "Price": 25,
                  "index": 147
                },
                {
                  "Action": "Added",
                  "Country": "Burkina Faso",
                  "Item": "Black Hoodie",
                  "Price": 25,
                  "index": 148
                },
                {
                  "Action": "Purchased",
                  "Country": "Mozambique",
                  "Item": "White Dress",
                  "Price": 84.99,
                  "index": 149
                },
                {
                  "Action": "Added",
                  "Country": "Mozambique",
                  "Item": "White Dress",
                  "Price": 84.99,
                  "index": 150
                },
                {
                  "Action": "Viewed",
                  "Country": "Mozambique",
                  "Item": "White Dress",
                  "Price": 84.99,
                  "index": 151
                },
                {
                  "Action": "Purchased",
                  "Country": "Saint Lucia",
                  "Item": "White Dress",
                  "Price": 84.99,
                  "index": 152
                },
                {
                  "Action": "Purchased",
                  "Country": "Georgia",
                  "Item": "Athletic Shoes",
                  "Price": 75,
                  "index": 153
                },
                {
                  "Action": "Viewed",
                  "Country": "Saint Lucia",
                  "Item": "White Dress",
                  "Price": 84.99,
                  "index": 154
                },
                {
                  "Action": "Added",
                  "Country": "Saint Lucia",
                  "Item": "White Dress",
                  "Price": 84.99,
                  "index": 155
                },
                {
                  "Action": "Purchased",
                  "Country": "Montserrat",
                  "Item": " Flip Flop Shoes",
                  "Price": 14,
                  "index": 156
                },
                {
                  "Action": "Added",
                  "Country": "Montserrat",
                  "Item": " Flip Flop Shoes",
                  "Price": 14,
                  "index": 157
                },
                {
                  "Action": "Purchased",
                  "Country": "Qatar",
                  "Item": "Red Dress",
                  "Price": 130,
                  "index": 158
                },
                {
                  "Action": "Viewed",
                  "Country": "Montserrat",
                  "Item": " Flip Flop Shoes",
                  "Price": 14,
                  "index": 159
                },
                {
                  "Action": "Viewed",
                  "Country": "Qatar",
                  "Item": "Red Dress",
                  "Price": 130,
                  "index": 160
                },
                {
                  "Action": "Added",
                  "Country": "Mauritius",
                  "Item": "Black Hoodie",
                  "Price": 25,
                  "index": 161
                },
                {
                  "Action": "Added",
                  "Country": "Qatar",
                  "Item": "Red Dress",
                  "Price": 130,
                  "index": 162
                },
                {
                  "Action": "Added",
                  "Country": "Gibraltar",
                  "Item": "Scarf",
                  "Price": 29.99,
                  "index": 163
                },
                {
                  "Action": "Viewed",
                  "Country": "Kyrgyz Republic",
                  "Item": "Windbreaker Jacket",
                  "Price": 49.99,
                  "index": 164
                },
                {
                  "Action": "Viewed",
                  "Country": "Gibraltar",
                  "Item": "Scarf",
                  "Price": 29.99,
                  "index": 165
                },
                {
                  "Action": "Added",
                  "Country": "Indonesia",
                  "Item": "Crewneck Sweater",
                  "Price": 22,
                  "index": 166
                },
                {
                  "Action": "Added",
                  "Country": "Guam",
                  "Item": "Crewneck Sweater",
                  "Price": 22,
                  "index": 167
                },
                {
                  "Action": "Viewed",
                  "Country": "Indonesia",
                  "Item": "Crewneck Sweater",
                  "Price": 22,
                  "index": 168
                },
                {
                  "Action": "Viewed",
                  "Country": "Guam",
                  "Item": "Crewneck Sweater",
                  "Price": 22,
                  "index": 169
                },
                {
                  "Action": "Viewed",
                  "Country": "Zambia",
                  "Item": "Cardigan Sweater",
                  "Price": 25,
                  "index": 170
                },
                {
                  "Action": "Viewed",
                  "Country": "Eritrea",
                  "Item": "Light Jeans",
                  "Price": 80,
                  "index": 171
                },
                {
                  "Action": "Purchased",
                  "Country": "Eritrea",
                  "Item": "Light Jeans",
                  "Price": 80,
                  "index": 172
                },
                {
                  "Action": "Viewed",
                  "Country": "Zambia",
                  "Item": "Bag",
                  "Price": 37.5,
                  "index": 173
                },
                {
                  "Action": "Viewed",
                  "Country": "Virgin Islands",
                  "Item": "Beanie",
                  "Price": 10,
                  "index": 174
                },
                {
                  "Action": "Added",
                  "Country": "Kyrgyz Republic",
                  "Item": "Silver Necklace",
                  "Price": 15.5,
                  "index": 175
                },
                {
                  "Action": "Viewed",
                  "Country": "Sudan",
                  "Item": "Red Dress",
                  "Price": 130,
                  "index": 176
                },
                {
                  "Action": "Added",
                  "Country": "Eritrea",
                  "Item": "Light Jeans",
                  "Price": 80,
                  "index": 177
                },
                {
                  "Action": "Viewed",
                  "Country": "Pitcairn Islands",
                  "Item": "Baseball Hat",
                  "Price": 17,
                  "index": 178
                },
                {
                  "Action": "Viewed",
                  "Country": "Kyrgyz Republic",
                  "Item": "Silver Necklace",
                  "Price": 15.5,
                  "index": 179
                },
                {
                  "Action": "Viewed",
                  "Country": "Gabon",
                  "Item": "Puffy Jacket",
                  "Price": 95.99,
                  "index": 180
                },
                {
                  "Action": "Added",
                  "Country": "Gabon",
                  "Item": "Puffy Jacket",
                  "Price": 95.99,
                  "index": 181
                },
                {
                  "Action": "Viewed",
                  "Country": "Montserrat",
                  "Item": "Green Sweater",
                  "Price": 30,
                  "index": 182
                },
                {
                  "Action": "Purchased",
                  "Country": "Montserrat",
                  "Item": "Green Sweater",
                  "Price": 30,
                  "index": 183
                },
                {
                  "Action": "Added",
                  "Country": "Montserrat",
                  "Item": "Green Sweater",
                  "Price": 30,
                  "index": 184
                },
                {
                  "Action": "Viewed",
                  "Country": "Somalia",
                  "Item": "Blazer Jacket",
                  "Price": 87.5,
                  "index": 185
                },
                {
                  "Action": "Viewed",
                  "Country": "Albania",
                  "Item": "White Shirt",
                  "Price": 25.2,
                  "index": 186
                },
                {
                  "Action": "Viewed",
                  "Country": "Ireland",
                  "Item": "Green Sweater",
                  "Price": 30,
                  "index": 187
                },
                {
                  "Action": "Added",
                  "Country": "Ireland",
                  "Item": "Green Sweater",
                  "Price": 30,
                  "index": 188
                },
                {
                  "Action": "Viewed",
                  "Country": "Argentina",
                  "Item": "Athletic Shorts",
                  "Price": 22.5,
                  "index": 189
                },
                {
                  "Action": "Added",
                  "Country": "Syrian Arab Republic",
                  "Item": "Blazer Jacket",
                  "Price": 87.5,
                  "index": 190
                },
                {
                  "Action": "Added",
                  "Country": "Argentina",
                  "Item": "Athletic Shorts",
                  "Price": 22.5,
                  "index": 191
                },
                {
                  "Action": "Viewed",
                  "Country": "Saudi Arabia",
                  "Item": "White Sweater",
                  "Price": 32,
                  "index": 192
                },
                {
                  "Action": "Added",
                  "Country": "Macedonia",
                  "Item": " Necklace",
                  "Price": 12,
                  "index": 193
                },
                {
                  "Action": "Viewed",
                  "Country": "Syrian Arab Republic",
                  "Item": "Blazer Jacket",
                  "Price": 87.5,
                  "index": 194
                },
                {
                  "Action": "Viewed",
                  "Country": "Macedonia",
                  "Item": " Necklace",
                  "Price": 12,
                  "index": 195
                },
                {
                  "Action": "Viewed",
                  "Country": "Serbia",
                  "Item": "Scarf",
                  "Price": 29.99,
                  "index": 196
                },
                {
                  "Action": "Purchased",
                  "Country": "Botswana",
                  "Item": "Jeans",
                  "Price": 85,
                  "index": 197
                },
                {
                  "Action": "Added",
                  "Country": "Kuwait",
                  "Item": "White Sweater",
                  "Price": 32,
                  "index": 198
                },
                {
                  "Action": "Added",
                  "Country": "Botswana",
                  "Item": "Jeans",
                  "Price": 85,
                  "index": 199
                },
                {
                  "Action": "Added",
                  "Country": "Zimbabwe",
                  "Item": "Beanie",
                  "Price": 10,
                  "index": 200
                },
                {
                  "Action": "Viewed",
                  "Country": "Kenya",
                  "Item": "Black Tee",
                  "Price": 9,
                  "index": 201
                },
                {
                  "Action": "Added",
                  "Country": "Kenya",
                  "Item": "Black Tee",
                  "Price": 9,
                  "index": 202
                },
                {
                  "Action": "Purchased",
                  "Country": "Equatorial Guinea",
                  "Item": "Beanie",
                  "Price": 10,
                  "index": 203
                },
                {
                  "Action": "Added",
                  "Country": "American Samoa",
                  "Item": "Beanie",
                  "Price": 10,
                  "index": 204
                },
                {
                  "Action": "Viewed",
                  "Country": "American Samoa",
                  "Item": "Beanie",
                  "Price": 10,
                  "index": 205
                },
                {
                  "Action": "Viewed",
                  "Country": "Equatorial Guinea",
                  "Item": "Beanie",
                  "Price": 10,
                  "index": 206
                },
                {
                  "Action": "Viewed",
                  "Country": "Jersey",
                  "Item": "Green Sweater",
                  "Price": 30,
                  "index": 207
                },
                {
                  "Action": "Added",
                  "Country": "Equatorial Guinea",
                  "Item": "Beanie",
                  "Price": 10,
                  "index": 208
                },
                {
                  "Action": "Purchased",
                  "Country": "Jersey",
                  "Item": "Green Sweater",
                  "Price": 30,
                  "index": 209
                },
                {
                  "Action": "Added",
                  "Country": "Jersey",
                  "Item": "Green Sweater",
                  "Price": 30,
                  "index": 210
                },
                {
                  "Action": "Viewed",
                  "Country": "Thailand",
                  "Item": "White Sweater",
                  "Price": 32,
                  "index": 211
                },
                {
                  "Action": "Added",
                  "Country": "Mali",
                  "Item": "Athletic Shoes",
                  "Price": 70,
                  "index": 212
                },
                {
                  "Action": "Purchased",
                  "Country": "Mali",
                  "Item": "Athletic Shoes",
                  "Price": 70,
                  "index": 213
                },
                {
                  "Action": "Viewed",
                  "Country": "Mali",
                  "Item": "Athletic Shoes",
                  "Price": 70,
                  "index": 214
                },
                {
                  "Action": "Purchased",
                  "Country": "Republic of Korea",
                  "Item": "Athletic Shorts",
                  "Price": 22.5,
                  "index": 215
                },
                {
                  "Action": "Viewed",
                  "Country": "Belgium",
                  "Item": "Suit Pant",
                  "Price": 95,
                  "index": 216
                },
                {
                  "Action": "Added",
                  "Country": "Republic of Korea",
                  "Item": "Athletic Shorts",
                  "Price": 22.5,
                  "index": 217
                },
                {
                  "Action": "Added",
                  "Country": "Azerbaijan",
                  "Item": "Athletic Shoes",
                  "Price": 70,
                  "index": 218
                },
                {
                  "Action": "Viewed",
                  "Country": "Cook Islands",
                  "Item": "Athletic Shorts",
                  "Price": 22.5,
                  "index": 219
                },
                {
                  "Action": "Viewed",
                  "Country": "Saint Vincent and the Grenadines",
                  "Item": "Crewneck Sweater",
                  "Price": 22,
                  "index": 220
                },
                {
                  "Action": "Added",
                  "Country": "Malta",
                  "Item": "Light Jeans",
                  "Price": 80,
                  "index": 221
                },
                {
                  "Action": "Viewed",
                  "Country": "Malta",
                  "Item": "Light Jeans",
                  "Price": 80,
                  "index": 222
                },
                {
                  "Action": "Viewed",
                  "Country": "Azerbaijan",
                  "Item": "Athletic Shoes",
                  "Price": 70,
                  "index": 223
                },
                {
                  "Action": "Viewed",
                  "Country": "Poland",
                  "Item": "Dark Jeans",
                  "Price": 90,
                  "index": 224
                },
                {
                  "Action": "Purchased",
                  "Country": "Kenya",
                  "Item": "Black Tee",
                  "Price": 9,
                  "index": 225
                },
                {
                  "Action": "Purchased",
                  "Country": "Argentina",
                  "Item": "Pant",
                  "Price": 40,
                  "index": 226
                },
                {
                  "Action": "Added",
                  "Country": "Poland",
                  "Item": "Dark Jeans",
                  "Price": 90,
                  "index": 227
                },
                {
                  "Action": "Viewed",
                  "Country": "Argentina",
                  "Item": "Pant",
                  "Price": 40,
                  "index": 228
                },
                {
                  "Action": "Viewed",
                  "Country": "Zimbabwe",
                  "Item": "Beanie",
                  "Price": 10,
                  "index": 229
                },
                {
                  "Action": "Viewed",
                  "Country": "El Salvador",
                  "Item": "Socks",
                  "Price": 3.75,
                  "index": 230
                },
                {
                  "Action": "Added",
                  "Country": "Argentina",
                  "Item": "Pant",
                  "Price": 40,
                  "index": 231
                },
                {
                  "Action": "Viewed",
                  "Country": "Democratic People's Republic of Korea",
                  "Item": "Jeans",
                  "Price": 85,
                  "index": 232
                },
                {
                  "Action": "Added",
                  "Country": "Canada",
                  "Item": " Flip Flop Shoes",
                  "Price": 14,
                  "index": 233
                },
                {
                  "Action": "Viewed",
                  "Country": "Canada",
                  "Item": " Flip Flop Shoes",
                  "Price": 14,
                  "index": 234
                },
                {
                  "Action": "Added",
                  "Country": "Portugal",
                  "Item": "Suit Jacket",
                  "Price": 92,
                  "index": 235
                },
                {
                  "Action": "Viewed",
                  "Country": "Portugal",
                  "Item": "Suit Jacket",
                  "Price": 92,
                  "index": 236
                },
                {
                  "Action": "Viewed",
                  "Country": "Saint Barthelemy",
                  "Item": "Dark Jeans",
                  "Price": 90,
                  "index": 237
                },
                {
                  "Action": "Purchased",
                  "Country": "Cape Verde",
                  "Item": "High Heel Shoe",
                  "Price": 72,
                  "index": 238
                },
                {
                  "Action": "Added",
                  "Country": "Cape Verde",
                  "Item": "High Heel Shoe",
                  "Price": 72,
                  "index": 239
                },
                {
                  "Action": "Viewed",
                  "Country": "Cape Verde",
                  "Item": "High Heel Shoe",
                  "Price": 72,
                  "index": 240
                },
                {
                  "Action": "Viewed",
                  "Country": "Svalbard & Jan Mayen Islands",
                  "Item": "Blue Sweater",
                  "Price": 27,
                  "index": 241
                },
                {
                  "Action": "Added",
                  "Country": "Svalbard & Jan Mayen Islands",
                  "Item": "Blue Sweater",
                  "Price": 27,
                  "index": 242
                },
                {
                  "Action": "Viewed",
                  "Country": "Malta",
                  "Item": "Cosmos T-shirt",
                  "Price": 350,
                  "index": 243
                },
                {
                  "Action": "Viewed",
                  "Country": "Saint Helena",
                  "Item": "Cardigan Sweater",
                  "Price": 25,
                  "index": 244
                },
                {
                  "Action": "Added",
                  "Country": "Malta",
                  "Item": "Cosmos T-shirt",
                  "Price": 350,
                  "index": 245
                },
                {
                  "Action": "Viewed",
                  "Country": "Kenya",
                  "Item": " Flip Flop Shoes",
                  "Price": 14,
                  "index": 246
                },
                {
                  "Action": "Added",
                  "Country": "Yemen",
                  "Item": "Windbreaker Jacket",
                  "Price": 49.99,
                  "index": 247
                },
                {
                  "Action": "Viewed",
                  "Country": "Yemen",
                  "Item": "Windbreaker Jacket",
                  "Price": 49.99,
                  "index": 248
                },
                {
                  "Action": "Viewed",
                  "Country": "Lao People's Democratic Republic",
                  "Item": "Red Dress",
                  "Price": 130,
                  "index": 249
                },
                {
                  "Action": "Purchased",
                  "Country": "Costa Rica",
                  "Item": "Pant",
                  "Price": 40,
                  "index": 250
                },
                {
                  "Action": "Viewed",
                  "Country": "Costa Rica",
                  "Item": "Pant",
                  "Price": 40,
                  "index": 251
                },
                {
                  "Action": "Added",
                  "Country": "Lao People's Democratic Republic",
                  "Item": "Red Dress",
                  "Price": 130,
                  "index": 252
                },
                {
                  "Action": "Viewed",
                  "Country": "United Kingdom",
                  "Item": "Baseball Hat",
                  "Price": 17,
                  "index": 253
                },
                {
                  "Action": "Added",
                  "Country": "United Kingdom",
                  "Item": "Baseball Hat",
                  "Price": 17,
                  "index": 254
                },
                {
                  "Action": "Added",
                  "Country": "Saint Vincent and the Grenadines",
                  "Item": "Crewneck Sweater",
                  "Price": 22,
                  "index": 255
                },
                {
                  "Action": "Purchased",
                  "Country": "United Kingdom",
                  "Item": "Baseball Hat",
                  "Price": 17,
                  "index": 256
                },
                {
                  "Action": "Added",
                  "Country": "Costa Rica",
                  "Item": "Pant",
                  "Price": 40,
                  "index": 257
                },
                {
                  "Action": "Purchased",
                  "Country": "Paraguay",
                  "Item": "White Sweater",
                  "Price": 32,
                  "index": 258
                },
                {
                  "Action": "Viewed",
                  "Country": "Macao",
                  "Item": "Black Hoodie",
                  "Price": 25,
                  "index": 259
                },
                {
                  "Action": "Added",
                  "Country": "Paraguay",
                  "Item": "White Sweater",
                  "Price": 32,
                  "index": 260
                },
                {
                  "Action": "Viewed",
                  "Country": "Bangladesh",
                  "Item": "White Dress",
                  "Price": 84.99,
                  "index": 261
                },
                {
                  "Action": "Viewed",
                  "Country": "Paraguay",
                  "Item": "White Sweater",
                  "Price": 32,
                  "index": 262
                },
                {
                  "Action": "Added",
                  "Country": "Fiji",
                  "Item": "Blue Sweater",
                  "Price": 27,
                  "index": 263
                },
                {
                  "Action": "Purchased",
                  "Country": "Bangladesh",
                  "Item": "White Dress",
                  "Price": 84.99,
                  "index": 264
                },
                {
                  "Action": "Viewed",
                  "Country": "Fiji",
                  "Item": "Blue Sweater",
                  "Price": 27,
                  "index": 265
                },
                {
                  "Action": "Added",
                  "Country": "Bangladesh",
                  "Item": "White Dress",
                  "Price": 84.99,
                  "index": 266
                },
                {
                  "Action": "Viewed",
                  "Country": "Turks and Caicos Islands",
                  "Item": "Crewneck Sweater",
                  "Price": 22,
                  "index": 267
                },
                {
                  "Action": "Added",
                  "Country": "Lao People's Democratic Republic",
                  "Item": "Puffy Jacket",
                  "Price": 105,
                  "index": 268
                },
                {
                  "Action": "Viewed",
                  "Country": "Lao People's Democratic Republic",
                  "Item": "Puffy Jacket",
                  "Price": 105,
                  "index": 269
                },
                {
                  "Action": "Viewed",
                  "Country": "Micronesia",
                  "Item": "Beanie",
                  "Price": 10,
                  "index": 270
                },
                {
                  "Action": "Viewed",
                  "Country": "Saint Helena",
                  "Item": "Fleece Jacket",
                  "Price": 65,
                  "index": 271
                },
                {
                  "Action": "Purchased",
                  "Country": "Saint Helena",
                  "Item": "Fleece Jacket",
                  "Price": 65,
                  "index": 272
                },
                {
                  "Action": "Added",
                  "Country": "Saint Helena",
                  "Item": "Fleece Jacket",
                  "Price": 65,
                  "index": 273
                },
                {
                  "Action": "Added",
                  "Country": "Wallis and Futuna",
                  "Item": "High Heel Shoe",
                  "Price": 72,
                  "index": 274
                },
                {
                  "Action": "Viewed",
                  "Country": "American Samoa",
                  "Item": "Dress Shoes",
                  "Price": 120,
                  "index": 275
                },
                {
                  "Action": "Purchased",
                  "Country": "Burundi",
                  "Item": "Button-Up Shirt",
                  "Price": 19.99,
                  "index": 276
                },
                {
                  "Action": "Viewed",
                  "Country": "Burundi",
                  "Item": "Button-Up Shirt",
                  "Price": 19.99,
                  "index": 277
                },
                {
                  "Action": "Added",
                  "Country": "Burundi",
                  "Item": "Button-Up Shirt",
                  "Price": 19.99,
                  "index": 278
                },
                {
                  "Action": "Viewed",
                  "Country": "Liechtenstein",
                  "Item": "Pant",
                  "Price": 40,
                  "index": 279
                },
                {
                  "Action": "Added",
                  "Country": "Saint Vincent and the Grenadines",
                  "Item": "Button-Up Shirt",
                  "Price": 19.99,
                  "index": 280
                },
                {
                  "Action": "Added",
                  "Country": "Heard Island and McDonald Islands",
                  "Item": "Earring",
                  "Price": 8,
                  "index": 281
                },
                {
                  "Action": "Viewed",
                  "Country": "Saint Vincent and the Grenadines",
                  "Item": "Button-Up Shirt",
                  "Price": 19.99,
                  "index": 282
                },
                {
                  "Action": "Viewed",
                  "Country": "Benin",
                  "Item": "White Shirt",
                  "Price": 25.2,
                  "index": 283
                },
                {
                  "Action": "Viewed",
                  "Country": "Wallis and Futuna",
                  "Item": "High Heel Shoe",
                  "Price": 72,
                  "index": 284
                },
                {
                  "Action": "Purchased",
                  "Country": "Benin",
                  "Item": "White Shirt",
                  "Price": 25.2,
                  "index": 285
                },
                {
                  "Action": "Viewed",
                  "Country": "Mongolia",
                  "Item": "White Shirt",
                  "Price": 25.2,
                  "index": 286
                },
                {
                  "Action": "Added",
                  "Country": "Benin",
                  "Item": "White Shirt",
                  "Price": 25.2,
                  "index": 287
                },
                {
                  "Action": "Viewed",
                  "Country": "Cuba",
                  "Item": "Fleece Jacket",
                  "Price": 65,
                  "index": 288
                },
                {
                  "Action": "Viewed",
                  "Country": "Zambia",
                  "Item": "Blue Sweater",
                  "Price": 27,
                  "index": 289
                },
                {
                  "Action": "Viewed",
                  "Country": "Egypt",
                  "Item": "Red Dress",
                  "Price": 130,
                  "index": 290
                },
                {
                  "Action": "Purchased",
                  "Country": "Zambia",
                  "Item": "Blue Sweater",
                  "Price": 27,
                  "index": 291
                },
                {
                  "Action": "Added",
                  "Country": "Zambia",
                  "Item": "Blue Sweater",
                  "Price": 27,
                  "index": 292
                },
                {
                  "Action": "Purchased",
                  "Country": "Nepal",
                  "Item": "Red Dress",
                  "Price": 130,
                  "index": 293
                },
                {
                  "Action": "Added",
                  "Country": "Nepal",
                  "Item": "Red Dress",
                  "Price": 130,
                  "index": 294
                },
                {
                  "Action": "Viewed",
                  "Country": "Nepal",
                  "Item": "Red Dress",
                  "Price": 130,
                  "index": 295
                },
                {
                  "Action": "Added",
                  "Country": "Armenia",
                  "Item": " Flip Flop Shoes",
                  "Price": 14,
                  "index": 296
                },
                {
                  "Action": "Viewed",
                  "Country": "Armenia",
                  "Item": " Flip Flop Shoes",
                  "Price": 14,
                  "index": 297
                },
                {
                  "Action": "Purchased",
                  "Country": "Panama",
                  "Item": "Black Tee",
                  "Price": 9,
                  "index": 298
                },
                {
                  "Action": "Viewed",
                  "Country": "Panama",
                  "Item": "Black Tee",
                  "Price": 9,
                  "index": 299
                },
                {
                  "Action": "Viewed",
                  "Country": "Isle of Man",
                  "Item": "Rainjacket",
                  "Price": 55,
                  "index": 300
                },
                {
                  "Action": "Added",
                  "Country": "Mozambique",
                  "Item": "Puffy Jacket",
                  "Price": 105,
                  "index": 301
                },
                {
                  "Action": "Added",
                  "Country": "Falkland Islands (Malvinas)",
                  "Item": "Bag",
                  "Price": 37.5,
                  "index": 302
                },
                {
                  "Action": "Viewed",
                  "Country": "New Zealand",
                  "Item": "Pant",
                  "Price": 40,
                  "index": 303
                },
                {
                  "Action": "Added",
                  "Country": "Estonia",
                  "Item": "Denim Jacket",
                  "Price": 31.99,
                  "index": 304
                },
                {
                  "Action": "Viewed",
                  "Country": "Estonia",
                  "Item": "Denim Jacket",
                  "Price": 31.99,
                  "index": 305
                },
                {
                  "Action": "Viewed",
                  "Country": "Puerto Rico",
                  "Item": "Puffy Jacket",
                  "Price": 95.99,
                  "index": 306
                },
                {
                  "Action": "Viewed",
                  "Country": "Netherlands Antilles",
                  "Item": "Cosmos T-shirt",
                  "Price": 350,
                  "index": 307
                },
                {
                  "Action": "Viewed",
                  "Country": "Central African Republic",
                  "Item": "Bag",
                  "Price": 37.5,
                  "index": 308
                },
                {
                  "Action": "Viewed",
                  "Country": "Malta",
                  "Item": "Blazer Jacket",
                  "Price": 87.5,
                  "index": 309
                },
                {
                  "Action": "Added",
                  "Country": "Netherlands Antilles",
                  "Item": "Cosmos T-shirt",
                  "Price": 350,
                  "index": 310
                },
                {
                  "Action": "Purchased",
                  "Country": "Guadeloupe",
                  "Item": "Dress Shoes",
                  "Price": 120,
                  "index": 311
                },
                {
                  "Action": "Viewed",
                  "Country": "Guadeloupe",
                  "Item": "Dress Shoes",
                  "Price": 120,
                  "index": 312
                },
                {
                  "Action": "Added",
                  "Country": "Guadeloupe",
                  "Item": "Dress Shoes",
                  "Price": 120,
                  "index": 313
                },
                {
                  "Action": "Added",
                  "Country": "Algeria",
                  "Item": "Flannel Shirt",
                  "Price": 19.99,
                  "index": 314
                },
                {
                  "Action": "Added",
                  "Country": "Senegal",
                  "Item": "Blue Sweater",
                  "Price": 27,
                  "index": 315
                },
                {
                  "Action": "Viewed",
                  "Country": "Algeria",
                  "Item": "Flannel Shirt",
                  "Price": 19.99,
                  "index": 316
                },
                {
                  "Action": "Viewed",
                  "Country": "Senegal",
                  "Item": "Blue Sweater",
                  "Price": 27,
                  "index": 317
                },
                {
                  "Action": "Purchased",
                  "Country": "Romania",
                  "Item": "Silver Necklace",
                  "Price": 15.5,
                  "index": 318
                },
                {
                  "Action": "Viewed",
                  "Country": "Romania",
                  "Item": "Silver Necklace",
                  "Price": 15.5,
                  "index": 319
                },
                {
                  "Action": "Added",
                  "Country": "Romania",
                  "Item": "Silver Necklace",
                  "Price": 15.5,
                  "index": 320
                },
                {
                  "Action": "Added",
                  "Country": "Guatemala",
                  "Item": "Red Top",
                  "Price": 33,
                  "index": 321
                },
                {
                  "Action": "Viewed",
                  "Country": "Guatemala",
                  "Item": "Red Top",
                  "Price": 33,
                  "index": 322
                },
                {
                  "Action": "Viewed",
                  "Country": "Singapore",
                  "Item": "Fleece Jacket",
                  "Price": 65,
                  "index": 323
                },
                {
                  "Action": "Purchased",
                  "Country": "Singapore",
                  "Item": "Fleece Jacket",
                  "Price": 65,
                  "index": 324
                },
                {
                  "Action": "Added",
                  "Country": "Singapore",
                  "Item": "Fleece Jacket",
                  "Price": 65,
                  "index": 325
                },
                {
                  "Action": "Viewed",
                  "Country": "Mali",
                  "Item": "Black Tee",
                  "Price": 9,
                  "index": 326
                },
                {
                  "Action": "Added",
                  "Country": "Norfolk Island",
                  "Item": "White Shirt",
                  "Price": 25.2,
                  "index": 327
                },
                {
                  "Action": "Viewed",
                  "Country": "Western Sahara",
                  "Item": "Athletic Shorts",
                  "Price": 22.5,
                  "index": 328
                },
                {
                  "Action": "Viewed",
                  "Country": "Norfolk Island",
                  "Item": "White Shirt",
                  "Price": 25.2,
                  "index": 329
                },
                {
                  "Action": "Viewed",
                  "Country": "Qatar",
                  "Item": "Button-Up Shirt",
                  "Price": 19.99,
                  "index": 330
                },
                {
                  "Action": "Viewed",
                  "Country": "Saint Barthelemy",
                  "Item": "Cardigan Sweater",
                  "Price": 25,
                  "index": 331
                },
                {
                  "Action": "Viewed",
                  "Country": "Syrian Arab Republic",
                  "Item": "Dress Shoes",
                  "Price": 120,
                  "index": 332
                },
                {
                  "Action": "Viewed",
                  "Country": "Falkland Islands (Malvinas)",
                  "Item": "Windbreaker Jacket",
                  "Price": 49.99,
                  "index": 333
                },
                {
                  "Action": "Viewed",
                  "Country": "Romania",
                  "Item": "Crewneck Sweater",
                  "Price": 22,
                  "index": 334
                },
                {
                  "Action": "Purchased",
                  "Country": "Romania",
                  "Item": "Crewneck Sweater",
                  "Price": 22,
                  "index": 335
                },
                {
                  "Action": "Added",
                  "Country": "Romania",
                  "Item": "Crewneck Sweater",
                  "Price": 22,
                  "index": 336
                },
                {
                  "Action": "Viewed",
                  "Country": "Denmark",
                  "Item": "Jeans",
                  "Price": 85,
                  "index": 337
                },
                {
                  "Action": "Viewed",
                  "Country": "Moldova",
                  "Item": "Blue Sweater",
                  "Price": 27,
                  "index": 338
                },
                {
                  "Action": "Viewed",
                  "Country": "Libyan Arab Jamahiriya",
                  "Item": "Suit Jacket",
                  "Price": 92,
                  "index": 339
                },
                {
                  "Action": "Viewed",
                  "Country": "Timor-Leste",
                  "Item": "Earring",
                  "Price": 8,
                  "index": 340
                },
                {
                  "Action": "Viewed",
                  "Country": "Seychelles",
                  "Item": "Rainjacket",
                  "Price": 55,
                  "index": 341
                },
                {
                  "Action": "Viewed",
                  "Country": "British Indian Ocean Territory (Chagos Archipelago)",
                  "Item": " Flip Flop Shoes",
                  "Price": 14,
                  "index": 342
                },
                {
                  "Action": "Viewed",
                  "Country": "Bahrain",
                  "Item": "Red Dress",
                  "Price": 130,
                  "index": 343
                },
                {
                  "Action": "Purchased",
                  "Country": "Guadeloupe",
                  "Item": "Athletic Shoes",
                  "Price": 75,
                  "index": 344
                },
                {
                  "Action": "Added",
                  "Country": "British Indian Ocean Territory (Chagos Archipelago)",
                  "Item": " Flip Flop Shoes",
                  "Price": 14,
                  "index": 345
                },
                {
                  "Action": "Added",
                  "Country": "Guadeloupe",
                  "Item": "Athletic Shoes",
                  "Price": 75,
                  "index": 346
                },
                {
                  "Action": "Added",
                  "Country": "Guam",
                  "Item": "Windbreaker Jacket",
                  "Price": 49.99,
                  "index": 347
                },
                {
                  "Action": "Viewed",
                  "Country": "Guadeloupe",
                  "Item": "Athletic Shoes",
                  "Price": 75,
                  "index": 348
                },
                {
                  "Action": "Purchased",
                  "Country": "Guyana",
                  "Item": "Red Dress",
                  "Price": 130,
                  "index": 349
                },
                {
                  "Action": "Viewed",
                  "Country": "Guam",
                  "Item": "Windbreaker Jacket",
                  "Price": 49.99,
                  "index": 350
                },
                {
                  "Action": "Added",
                  "Country": "Guyana",
                  "Item": "Red Dress",
                  "Price": 130,
                  "index": 351
                },
                {
                  "Action": "Viewed",
                  "Country": "Mozambique",
                  "Item": "Walking Shoes",
                  "Price": 79.99,
                  "index": 352
                },
                {
                  "Action": "Viewed",
                  "Country": "Guyana",
                  "Item": "Red Dress",
                  "Price": 130,
                  "index": 353
                },
                {
                  "Action": "Viewed",
                  "Country": "Luxembourg",
                  "Item": "High Heel Shoe",
                  "Price": 72,
                  "index": 354
                },
                {
                  "Action": "Purchased",
                  "Country": "France",
                  "Item": "Puffy Jacket",
                  "Price": 105,
                  "index": 355
                },
                {
                  "Action": "Viewed",
                  "Country": "Estonia",
                  "Item": "Scarf",
                  "Price": 29.99,
                  "index": 356
                },
                {
                  "Action": "Viewed",
                  "Country": "France",
                  "Item": "Puffy Jacket",
                  "Price": 105,
                  "index": 357
                },
                {
                  "Action": "Added",
                  "Country": "France",
                  "Item": "Puffy Jacket",
                  "Price": 105,
                  "index": 358
                },
                {
                  "Action": "Purchased",
                  "Country": "San Marino",
                  "Item": "Red Top",
                  "Price": 33,
                  "index": 359
                },
                {
                  "Action": "Viewed",
                  "Country": "San Marino",
                  "Item": "Red Top",
                  "Price": 33,
                  "index": 360
                },
                {
                  "Action": "Added",
                  "Country": "San Marino",
                  "Item": "Red Top",
                  "Price": 33,
                  "index": 361
                },
                {
                  "Action": "Viewed",
                  "Country": "Virgin Islands",
                  "Item": "Sweatpants",
                  "Price": 21,
                  "index": 362
                },
                {
                  "Action": "Purchased",
                  "Country": "Saint Vincent and the Grenadines",
                  "Item": "Sandals",
                  "Price": 12,
                  "index": 363
                },
                {
                  "Action": "Viewed",
                  "Country": "Saint Vincent and the Grenadines",
                  "Item": "Sandals",
                  "Price": 12,
                  "index": 364
                },
                {
                  "Action": "Added",
                  "Country": "Saint Vincent and the Grenadines",
                  "Item": "Sandals",
                  "Price": 12,
                  "index": 365
                },
                {
                  "Action": "Viewed",
                  "Country": "Bahamas",
                  "Item": "Suit Pant",
                  "Price": 95,
                  "index": 366
                },
                {
                  "Action": "Purchased",
                  "Country": "Malaysia",
                  "Item": "Puffy Jacket",
                  "Price": 105,
                  "index": 367
                },
                {
                  "Action": "Viewed",
                  "Country": "Malaysia",
                  "Item": "Puffy Jacket",
                  "Price": 105,
                  "index": 368
                },
                {
                  "Action": "Added",
                  "Country": "Malaysia",
                  "Item": "Puffy Jacket",
                  "Price": 105,
                  "index": 369
                },
                {
                  "Action": "Viewed",
                  "Country": "Saint Lucia",
                  "Item": "Athletic Shoes",
                  "Price": 75,
                  "index": 370
                },
                {
                  "Action": "Viewed",
                  "Country": "Lao People's Democratic Republic",
                  "Item": "Jeans",
                  "Price": 85,
                  "index": 371
                },
                {
                  "Action": "Added",
                  "Country": "Saint Lucia",
                  "Item": "Athletic Shoes",
                  "Price": 75,
                  "index": 372
                },
                {
                  "Action": "Purchased",
                  "Country": "Lao People's Democratic Republic",
                  "Item": "Jeans",
                  "Price": 85,
                  "index": 373
                },
                {
                  "Action": "Added",
                  "Country": "Lao People's Democratic Republic",
                  "Item": "Jeans",
                  "Price": 85,
                  "index": 374
                },
                {
                  "Action": "Added",
                  "Country": "Uruguay",
                  "Item": "Puffy Jacket",
                  "Price": 99.99,
                  "index": 375
                },
                {
                  "Action": "Added",
                  "Country": "Lesotho",
                  "Item": "Athletic Shoes",
                  "Price": 75,
                  "index": 376
                },
                {
                  "Action": "Viewed",
                  "Country": "Uruguay",
                  "Item": "Puffy Jacket",
                  "Price": 99.99,
                  "index": 377
                },
                {
                  "Action": "Viewed",
                  "Country": "Lesotho",
                  "Item": "Athletic Shoes",
                  "Price": 75,
                  "index": 378
                },
                {
                  "Action": "Viewed",
                  "Country": "Singapore",
                  "Item": "Jeans",
                  "Price": 85,
                  "index": 379
                },
                {
                  "Action": "Viewed",
                  "Country": "Guam",
                  "Item": "Walking Shoes",
                  "Price": 79.99,
                  "index": 380
                },
                {
                  "Action": "Purchased",
                  "Country": "Guam",
                  "Item": "Walking Shoes",
                  "Price": 79.99,
                  "index": 381
                },
                {
                  "Action": "Added",
                  "Country": "Guam",
                  "Item": "Walking Shoes",
                  "Price": 79.99,
                  "index": 382
                },
                {
                  "Action": "Viewed",
                  "Country": "Paraguay",
                  "Item": "Gloves",
                  "Price": 20,
                  "index": 383
                },
                {
                  "Action": "Viewed",
                  "Country": "Greece",
                  "Item": "Sandals",
                  "Price": 12,
                  "index": 384
                },
                {
                  "Action": "Added",
                  "Country": "Greece",
                  "Item": "Sandals",
                  "Price": 12,
                  "index": 385
                },
                {
                  "Action": "Purchased",
                  "Country": "Paraguay",
                  "Item": "Gloves",
                  "Price": 20,
                  "index": 386
                },
                {
                  "Action": "Added",
                  "Country": "Paraguay",
                  "Item": "Gloves",
                  "Price": 20,
                  "index": 387
                },
                {
                  "Action": "Added",
                  "Country": "Namibia",
                  "Item": "Denim Shorts",
                  "Price": 50,
                  "index": 388
                },
                {
                  "Action": "Viewed",
                  "Country": "Namibia",
                  "Item": "Denim Shorts",
                  "Price": 50,
                  "index": 389
                },
                {
                  "Action": "Viewed",
                  "Country": "France",
                  "Item": "Button-Up Shirt",
                  "Price": 19.99,
                  "index": 390
                },
                {
                  "Action": "Added",
                  "Country": "France",
                  "Item": "Button-Up Shirt",
                  "Price": 19.99,
                  "index": 391
                },
                {
                  "Action": "Viewed",
                  "Country": "Pitcairn Islands",
                  "Item": "Windbreaker Jacket",
                  "Price": 49.99,
                  "index": 392
                },
                {
                  "Action": "Viewed",
                  "Country": "Saint Barthelemy",
                  "Item": "Sandals",
                  "Price": 12,
                  "index": 393
                },
                {
                  "Action": "Viewed",
                  "Country": "Chile",
                  "Item": " Flip Flop Shoes",
                  "Price": 14,
                  "index": 394
                },
                {
                  "Action": "Purchased",
                  "Country": "Reunion",
                  "Item": "Fleece Jacket",
                  "Price": 65,
                  "index": 395
                },
                {
                  "Action": "Added",
                  "Country": "Iceland",
                  "Item": "Crewneck Sweater",
                  "Price": 22,
                  "index": 396
                },
                {
                  "Action": "Viewed",
                  "Country": "Reunion",
                  "Item": "Fleece Jacket",
                  "Price": 65,
                  "index": 397
                },
                {
                  "Action": "Viewed",
                  "Country": "Afghanistan",
                  "Item": "Walking Shoes",
                  "Price": 79.99,
                  "index": 398
                },
                {
                  "Action": "Added",
                  "Country": "Reunion",
                  "Item": "Fleece Jacket",
                  "Price": 65,
                  "index": 399
                },
                {
                  "Action": "Added",
                  "Country": "Costa Rica",
                  "Item": "Athletic Shoes",
                  "Price": 75,
                  "index": 400
                },
                {
                  "Action": "Added",
                  "Country": "Ethiopia",
                  "Item": "Pant",
                  "Price": 40,
                  "index": 401
                },
                {
                  "Action": "Added",
                  "Country": "Saint Barthelemy",
                  "Item": "Socks",
                  "Price": 3.75,
                  "index": 402
                },
                {
                  "Action": "Purchased",
                  "Country": "Tuvalu",
                  "Item": "Cosmos T-shirt",
                  "Price": 350,
                  "index": 403
                },
                {
                  "Action": "Added",
                  "Country": "Saint Barthelemy",
                  "Item": "Puffy Jacket",
                  "Price": 95.99,
                  "index": 404
                },
                {
                  "Action": "Added",
                  "Country": "Guinea-Bissau",
                  "Item": "Earring",
                  "Price": 8,
                  "index": 405
                },
                {
                  "Action": "Added",
                  "Country": "Tuvalu",
                  "Item": "Cosmos T-shirt",
                  "Price": 350,
                  "index": 406
                },
                {
                  "Action": "Added",
                  "Country": "Australia",
                  "Item": "Socks",
                  "Price": 3.75,
                  "index": 407
                },
                {
                  "Action": "Viewed",
                  "Country": "Guinea-Bissau",
                  "Item": "Earring",
                  "Price": 8,
                  "index": 408
                },
                {
                  "Action": "Viewed",
                  "Country": "Australia",
                  "Item": "Socks",
                  "Price": 3.75,
                  "index": 409
                },
                {
                  "Action": "Added",
                  "Country": "Netherlands Antilles",
                  "Item": "Blazer Jacket",
                  "Price": 87.5,
                  "index": 410
                },
                {
                  "Action": "Viewed",
                  "Country": "Cape Verde",
                  "Item": "Suit Jacket",
                  "Price": 92,
                  "index": 411
                },
                {
                  "Action": "Purchased",
                  "Country": "Cape Verde",
                  "Item": "Suit Jacket",
                  "Price": 92,
                  "index": 412
                },
                {
                  "Action": "Viewed",
                  "Country": "Burkina Faso",
                  "Item": "Cardigan Sweater",
                  "Price": 25,
                  "index": 413
                },
                {
                  "Action": "Added",
                  "Country": "Anguilla",
                  "Item": "Cosmos T-shirt",
                  "Price": 350,
                  "index": 414
                },
                {
                  "Action": "Added",
                  "Country": "Cape Verde",
                  "Item": "Suit Jacket",
                  "Price": 92,
                  "index": 415
                },
                {
                  "Action": "Viewed",
                  "Country": "Italy",
                  "Item": "Button-Up Shirt",
                  "Price": 19.99,
                  "index": 416
                },
                {
                  "Action": "Purchased",
                  "Country": "Puerto Rico",
                  "Item": "Jeans",
                  "Price": 85,
                  "index": 417
                },
                {
                  "Action": "Viewed",
                  "Country": "Anguilla",
                  "Item": "Cosmos T-shirt",
                  "Price": 350,
                  "index": 418
                },
                {
                  "Action": "Added",
                  "Country": "Puerto Rico",
                  "Item": "Jeans",
                  "Price": 85,
                  "index": 419
                },
                {
                  "Action": "Viewed",
                  "Country": "Puerto Rico",
                  "Item": "Jeans",
                  "Price": 85,
                  "index": 420
                },
                {
                  "Action": "Added",
                  "Country": "Ethiopia",
                  "Item": "Fleece Jacket",
                  "Price": 65,
                  "index": 421
                },
                {
                  "Action": "Viewed",
                  "Country": "Ethiopia",
                  "Item": "Fleece Jacket",
                  "Price": 65,
                  "index": 422
                },
                {
                  "Action": "Viewed",
                  "Country": "French Southern Territories",
                  "Item": "Green Sweater",
                  "Price": 30,
                  "index": 423
                },
                {
                  "Action": "Added",
                  "Country": "French Southern Territories",
                  "Item": "Green Sweater",
                  "Price": 30,
                  "index": 424
                },
                {
                  "Action": "Viewed",
                  "Country": "Morocco",
                  "Item": "Cardigan Sweater",
                  "Price": 25,
                  "index": 425
                },
                {
                  "Action": "Purchased",
                  "Country": "Morocco",
                  "Item": "Cardigan Sweater",
                  "Price": 25,
                  "index": 426
                },
                {
                  "Action": "Added",
                  "Country": "Morocco",
                  "Item": "Cardigan Sweater",
                  "Price": 25,
                  "index": 427
                },
                {
                  "Action": "Viewed",
                  "Country": "Yemen",
                  "Item": "Athletic Shorts",
                  "Price": 22.5,
                  "index": 428
                },
                {
                  "Action": "Purchased",
                  "Country": "Marshall Islands",
                  "Item": "Light Jeans",
                  "Price": 80,
                  "index": 429
                },
                {
                  "Action": "Added",
                  "Country": "Marshall Islands",
                  "Item": "Light Jeans",
                  "Price": 80,
                  "index": 430
                },
                {
                  "Action": "Viewed",
                  "Country": "Marshall Islands",
                  "Item": "Light Jeans",
                  "Price": 80,
                  "index": 431
                },
                {
                  "Action": "Viewed",
                  "Country": "Moldova",
                  "Item": "Red Top",
                  "Price": 33,
                  "index": 432
                },
                {
                  "Action": "Viewed",
                  "Country": "Bulgaria",
                  "Item": "Dark Jeans",
                  "Price": 90,
                  "index": 433
                },
                {
                  "Action": "Viewed",
                  "Country": "Fiji",
                  "Item": "Silver Necklace",
                  "Price": 15.5,
                  "index": 434
                },
                {
                  "Action": "Added",
                  "Country": "Finland",
                  "Item": "Green Sweater",
                  "Price": 30,
                  "index": 435
                },
                {
                  "Action": "Viewed",
                  "Country": "Finland",
                  "Item": "Green Sweater",
                  "Price": 30,
                  "index": 436
                },
                {
                  "Action": "Purchased",
                  "Country": "Spain",
                  "Item": "Athletic Shorts",
                  "Price": 22.5,
                  "index": 437
                },
                {
                  "Action": "Viewed",
                  "Country": "Spain",
                  "Item": "Athletic Shorts",
                  "Price": 22.5,
                  "index": 438
                },
                {
                  "Action": "Added",
                  "Country": "Spain",
                  "Item": "Athletic Shorts",
                  "Price": 22.5,
                  "index": 439
                },
                {
                  "Action": "Viewed",
                  "Country": "Burkina Faso",
                  "Item": "Blazer Jacket",
                  "Price": 87.5,
                  "index": 440
                },
                {
                  "Action": "Added",
                  "Country": "Bahrain",
                  "Item": "Earring",
                  "Price": 8,
                  "index": 441
                },
                {
                  "Action": "Viewed",
                  "Country": "Pitcairn Islands",
                  "Item": "Suit Jacket",
                  "Price": 92,
                  "index": 442
                },
                {
                  "Action": "Viewed",
                  "Country": "Bahrain",
                  "Item": "Earring",
                  "Price": 8,
                  "index": 443
                },
                {
                  "Action": "Added",
                  "Country": "Vanuatu",
                  "Item": "Cardigan Sweater",
                  "Price": 25,
                  "index": 444
                },
                {
                  "Action": "Viewed",
                  "Country": "Vanuatu",
                  "Item": "Cardigan Sweater",
                  "Price": 25,
                  "index": 445
                },
                {
                  "Action": "Viewed",
                  "Country": "Liechtenstein",
                  "Item": " Flip Flop Shoes",
                  "Price": 14,
                  "index": 446
                },
                {
                  "Action": "Purchased",
                  "Country": "Liechtenstein",
                  "Item": " Flip Flop Shoes",
                  "Price": 14,
                  "index": 447
                },
                {
                  "Action": "Added",
                  "Country": "Liechtenstein",
                  "Item": " Flip Flop Shoes",
                  "Price": 14,
                  "index": 448
                },
                {
                  "Action": "Purchased",
                  "Country": "Mongolia",
                  "Item": "Green Sweater",
                  "Price": 30,
                  "index": 449
                },
                {
                  "Action": "Added",
                  "Country": "Mongolia",
                  "Item": "Green Sweater",
                  "Price": 30,
                  "index": 450
                },
                {
                  "Action": "Viewed",
                  "Country": "China",
                  "Item": "Green Sweater",
                  "Price": 30,
                  "index": 451
                },
                {
                  "Action": "Added",
                  "Country": "China",
                  "Item": "Green Sweater",
                  "Price": 30,
                  "index": 452
                },
                {
                  "Action": "Viewed",
                  "Country": "Mongolia",
                  "Item": "Green Sweater",
                  "Price": 30,
                  "index": 453
                },
                {
                  "Action": "Added",
                  "Country": "Gabon",
                  "Item": "Scarf",
                  "Price": 29.99,
                  "index": 454
                },
                {
                  "Action": "Viewed",
                  "Country": "Gabon",
                  "Item": "Scarf",
                  "Price": 29.99,
                  "index": 455
                },
                {
                  "Action": "Viewed",
                  "Country": "Venezuela",
                  "Item": "Puffy Jacket",
                  "Price": 105,
                  "index": 456
                },
                {
                  "Action": "Purchased",
                  "Country": "Venezuela",
                  "Item": "Puffy Jacket",
                  "Price": 105,
                  "index": 457
                },
                {
                  "Action": "Purchased",
                  "Country": "Norfolk Island",
                  "Item": "Jeans",
                  "Price": 85,
                  "index": 458
                },
                {
                  "Action": "Added",
                  "Country": "Venezuela",
                  "Item": "Puffy Jacket",
                  "Price": 105,
                  "index": 459
                },
                {
                  "Action": "Viewed",
                  "Country": "Norfolk Island",
                  "Item": "Jeans",
                  "Price": 85,
                  "index": 460
                },
                {
                  "Action": "Added",
                  "Country": "Norfolk Island",
                  "Item": "Jeans",
                  "Price": 85,
                  "index": 461
                },
                {
                  "Action": "Purchased",
                  "Country": "Macao",
                  "Item": "Cardigan Sweater",
                  "Price": 25,
                  "index": 462
                },
                {
                  "Action": "Viewed",
                  "Country": "Macao",
                  "Item": "Cardigan Sweater",
                  "Price": 25,
                  "index": 463
                },
                {
                  "Action": "Added",
                  "Country": "Macao",
                  "Item": "Cardigan Sweater",
                  "Price": 25,
                  "index": 464
                },
                {
                  "Action": "Viewed",
                  "Country": "Spain",
                  "Item": "Denim Jacket",
                  "Price": 31.99,
                  "index": 465
                },
                {
                  "Action": "Purchased",
                  "Country": "Argentina",
                  "Item": "Cosmos T-shirt",
                  "Price": 350,
                  "index": 466
                },
                {
                  "Action": "Viewed",
                  "Country": "Argentina",
                  "Item": "Cosmos T-shirt",
                  "Price": 350,
                  "index": 467
                },
                {
                  "Action": "Added",
                  "Country": "Argentina",
                  "Item": "Cosmos T-shirt",
                  "Price": 350,
                  "index": 468
                },
                {
                  "Action": "Purchased",
                  "Country": "Mauritius",
                  "Item": "Denim Jacket",
                  "Price": 31.99,
                  "index": 469
                },
                {
                  "Action": "Added",
                  "Country": "Libyan Arab Jamahiriya",
                  "Item": "Earring",
                  "Price": 8,
                  "index": 470
                },
                {
                  "Action": "Viewed",
                  "Country": "Samoa",
                  "Item": "Denim Shorts",
                  "Price": 50,
                  "index": 471
                },
                {
                  "Action": "Added",
                  "Country": "Mauritius",
                  "Item": "Denim Jacket",
                  "Price": 31.99,
                  "index": 472
                },
                {
                  "Action": "Viewed",
                  "Country": "Mauritius",
                  "Item": "Denim Jacket",
                  "Price": 31.99,
                  "index": 473
                },
                {
                  "Action": "Viewed",
                  "Country": "Egypt",
                  "Item": "Bag",
                  "Price": 37.5,
                  "index": 474
                },
                {
                  "Action": "Added",
                  "Country": "Egypt",
                  "Item": "Bag",
                  "Price": 37.5,
                  "index": 475
                },
                {
                  "Action": "Viewed",
                  "Country": "Libyan Arab Jamahiriya",
                  "Item": "Earring",
                  "Price": 8,
                  "index": 476
                },
                {
                  "Action": "Added",
                  "Country": "Bermuda",
                  "Item": "Walking Shoes",
                  "Price": 79.99,
                  "index": 477
                },
                {
                  "Action": "Viewed",
                  "Country": "Bermuda",
                  "Item": "Walking Shoes",
                  "Price": 79.99,
                  "index": 478
                },
                {
                  "Action": "Viewed",
                  "Country": "Gambia",
                  "Item": "Flannel Shirt",
                  "Price": 19.99,
                  "index": 479
                },
                {
                  "Action": "Purchased",
                  "Country": "Gambia",
                  "Item": "Flannel Shirt",
                  "Price": 19.99,
                  "index": 480
                },
                {
                  "Action": "Added",
                  "Country": "Gambia",
                  "Item": "Flannel Shirt",
                  "Price": 19.99,
                  "index": 481
                },
                {
                  "Action": "Purchased",
                  "Country": "Malta",
                  "Item": "Walking Shoes",
                  "Price": 79.99,
                  "index": 482
                },
                {
                  "Action": "Added",
                  "Country": "Malta",
                  "Item": "Walking Shoes",
                  "Price": 79.99,
                  "index": 483
                },
                {
                  "Action": "Viewed",
                  "Country": "Malta",
                  "Item": "Walking Shoes",
                  "Price": 79.99,
                  "index": 484
                },
                {
                  "Action": "Added",
                  "Country": "Guatemala",
                  "Item": "Fleece Jacket",
                  "Price": 65,
                  "index": 485
                },
                {
                  "Action": "Viewed",
                  "Country": "Guatemala",
                  "Item": "Fleece Jacket",
                  "Price": 65,
                  "index": 486
                },
                {
                  "Action": "Purchased",
                  "Country": "Botswana",
                  "Item": "Bag",
                  "Price": 37.5,
                  "index": 487
                },
                {
                  "Action": "Viewed",
                  "Country": "Botswana",
                  "Item": "Bag",
                  "Price": 37.5,
                  "index": 488
                },
                {
                  "Action": "Added",
                  "Country": "Botswana",
                  "Item": "Bag",
                  "Price": 37.5,
                  "index": 489
                },
                {
                  "Action": "Purchased",
                  "Country": "French Southern Territories",
                  "Item": "Puffy Jacket",
                  "Price": 105,
                  "index": 490
                },
                {
                  "Action": "Added",
                  "Country": "French Southern Territories",
                  "Item": "Puffy Jacket",
                  "Price": 105,
                  "index": 491
                },
                {
                  "Action": "Viewed",
                  "Country": "French Southern Territories",
                  "Item": "Puffy Jacket",
                  "Price": 105,
                  "index": 492
                },
                {
                  "Action": "Viewed",
                  "Country": "Turkey",
                  "Item": "Jeans",
                  "Price": 85,
                  "index": 493
                },
                {
                  "Action": "Added",
                  "Country": "Cape Verde",
                  "Item": "White Shirt",
                  "Price": 25.2,
                  "index": 494
                },
                {
                  "Action": "Viewed",
                  "Country": "South Georgia and the South Sandwich Islands",
                  "Item": "Socks",
                  "Price": 3.75,
                  "index": 495
                },
                {
                  "Action": "Viewed",
                  "Country": "Vietnam",
                  "Item": "Beanie",
                  "Price": 10,
                  "index": 496
                },
                {
                  "Action": "Added",
                  "Country": "Panama",
                  "Item": "Light Jeans",
                  "Price": 80,
                  "index": 497
                },
                {
                  "Action": "Added",
                  "Country": "Vietnam",
                  "Item": "Beanie",
                  "Price": 10,
                  "index": 498
                },
                {
                  "Action": "Viewed",
                  "Country": "Panama",
                  "Item": "Light Jeans",
                  "Price": 80,
                  "index": 499
                },
                {
                  "Action": "Viewed",
                  "Country": "Iceland",
                  "Item": "Crewneck Sweater",
                  "Price": 22,
                  "index": 500
                },
                {
                  "Action": "Viewed",
                  "Country": "Liechtenstein",
                  "Item": "Baseball Hat",
                  "Price": 17,
                  "index": 501
                },
                {
                  "Action": "Viewed",
                  "Country": "France",
                  "Item": "Denim Shorts",
                  "Price": 50,
                  "index": 502
                },
                {
                  "Action": "Purchased",
                  "Country": "Pitcairn Islands",
                  "Item": "Suit Pant",
                  "Price": 95,
                  "index": 503
                },
                {
                  "Action": "Viewed",
                  "Country": "Romania",
                  "Item": "High Heel Shoe",
                  "Price": 72,
                  "index": 504
                },
                {
                  "Action": "Viewed",
                  "Country": "Sweden",
                  "Item": "Puffy Jacket",
                  "Price": 99.99,
                  "index": 505
                },
                {
                  "Action": "Added",
                  "Country": "Guinea-Bissau",
                  "Item": "Athletic Shoes",
                  "Price": 75,
                  "index": 506
                },
                {
                  "Action": "Viewed",
                  "Country": "Morocco",
                  "Item": "High Heel Shoe",
                  "Price": 72,
                  "index": 507
                },
                {
                  "Action": "Viewed",
                  "Country": "French Southern Territories",
                  "Item": "Light Jeans",
                  "Price": 80,
                  "index": 508
                },
                {
                  "Action": "Purchased",
                  "Country": "Marshall Islands",
                  "Item": "Black Dress",
                  "Price": 65,
                  "index": 509
                },
                {
                  "Action": "Viewed",
                  "Country": "Guinea-Bissau",
                  "Item": "Athletic Shoes",
                  "Price": 75,
                  "index": 510
                },
                {
                  "Action": "Viewed",
                  "Country": "Marshall Islands",
                  "Item": "Black Dress",
                  "Price": 65,
                  "index": 511
                },
                {
                  "Action": "Viewed",
                  "Country": "Sri Lanka",
                  "Item": "Baseball Hat",
                  "Price": 17,
                  "index": 512
                },
                {
                  "Action": "Added",
                  "Country": "Marshall Islands",
                  "Item": "Black Dress",
                  "Price": 65,
                  "index": 513
                },
                {
                  "Action": "Purchased",
                  "Country": "Chile",
                  "Item": "Bag",
                  "Price": 37.5,
                  "index": 514
                },
                {
                  "Action": "Added",
                  "Country": "Chile",
                  "Item": "Bag",
                  "Price": 37.5,
                  "index": 515
                },
                {
                  "Action": "Added",
                  "Country": "Western Sahara",
                  "Item": " Necklace",
                  "Price": 12,
                  "index": 516
                },
                {
                  "Action": "Viewed",
                  "Country": "Chile",
                  "Item": "Bag",
                  "Price": 37.5,
                  "index": 517
                },
                {
                  "Action": "Viewed",
                  "Country": "Western Sahara",
                  "Item": " Necklace",
                  "Price": 12,
                  "index": 518
                },
                {
                  "Action": "Viewed",
                  "Country": "Saudi Arabia",
                  "Item": "Dark Jeans",
                  "Price": 90,
                  "index": 519
                },
                {
                  "Action": "Purchased",
                  "Country": "Mongolia",
                  "Item": " Flip Flop Shoes",
                  "Price": 14,
                  "index": 520
                },
                {
                  "Action": "Added",
                  "Country": "Costa Rica",
                  "Item": " Necklace",
                  "Price": 12,
                  "index": 521
                },
                {
                  "Action": "Viewed",
                  "Country": "Mongolia",
                  "Item": " Flip Flop Shoes",
                  "Price": 14,
                  "index": 522
                },
                {
                  "Action": "Added",
                  "Country": "Brazil",
                  "Item": "Crewneck Sweater",
                  "Price": 22,
                  "index": 523
                },
                {
                  "Action": "Added",
                  "Country": "Mongolia",
                  "Item": " Flip Flop Shoes",
                  "Price": 14,
                  "index": 524
                },
                {
                  "Action": "Viewed",
                  "Country": "Brazil",
                  "Item": "Crewneck Sweater",
                  "Price": 22,
                  "index": 525
                },
                {
                  "Action": "Purchased",
                  "Country": "Armenia",
                  "Item": "Puffy Jacket",
                  "Price": 99.99,
                  "index": 526
                },
                {
                  "Action": "Viewed",
                  "Country": "Armenia",
                  "Item": "Puffy Jacket",
                  "Price": 99.99,
                  "index": 527
                },
                {
                  "Action": "Added",
                  "Country": "Guernsey",
                  "Item": "High Heel Shoe",
                  "Price": 72,
                  "index": 528
                },
                {
                  "Action": "Viewed",
                  "Country": "Guernsey",
                  "Item": "High Heel Shoe",
                  "Price": 72,
                  "index": 529
                },
                {
                  "Action": "Added",
                  "Country": "Armenia",
                  "Item": "Puffy Jacket",
                  "Price": 99.99,
                  "index": 530
                },
                {
                  "Action": "Added",
                  "Country": "Afghanistan",
                  "Item": "Red Dress",
                  "Price": 130,
                  "index": 531
                },
                {
                  "Action": "Viewed",
                  "Country": "Afghanistan",
                  "Item": "Red Dress",
                  "Price": 130,
                  "index": 532
                },
                {
                  "Action": "Viewed",
                  "Country": "Serbia",
                  "Item": "Beanie",
                  "Price": 10,
                  "index": 533
                },
                {
                  "Action": "Added",
                  "Country": "Angola",
                  "Item": "Cosmos T-shirt",
                  "Price": 350,
                  "index": 534
                },
                {
                  "Action": "Viewed",
                  "Country": "Eritrea",
                  "Item": "Scarf",
                  "Price": 29.99,
                  "index": 535
                },
                {
                  "Action": "Purchased",
                  "Country": "Eritrea",
                  "Item": "Scarf",
                  "Price": 29.99,
                  "index": 536
                },
                {
                  "Action": "Viewed",
                  "Country": "Angola",
                  "Item": "Cosmos T-shirt",
                  "Price": 350,
                  "index": 537
                },
                {
                  "Action": "Purchased",
                  "Country": "New Caledonia",
                  "Item": "Rainjacket",
                  "Price": 55,
                  "index": 538
                },
                {
                  "Action": "Added",
                  "Country": "Eritrea",
                  "Item": "Scarf",
                  "Price": 29.99,
                  "index": 539
                },
                {
                  "Action": "Viewed",
                  "Country": "Antigua and Barbuda",
                  "Item": "Dark Jeans",
                  "Price": 90,
                  "index": 540
                },
                {
                  "Action": "Purchased",
                  "Country": "Antigua and Barbuda",
                  "Item": "Dark Jeans",
                  "Price": 90,
                  "index": 541
                },
                {
                  "Action": "Purchased",
                  "Country": "Bahrain",
                  "Item": "Flannel Shirt",
                  "Price": 19.99,
                  "index": 542
                },
                {
                  "Action": "Added",
                  "Country": "Antigua and Barbuda",
                  "Item": "Dark Jeans",
                  "Price": 90,
                  "index": 543
                },
                {
                  "Action": "Viewed",
                  "Country": "Mozambique",
                  "Item": "Puffy Jacket",
                  "Price": 105,
                  "index": 544
                },
                {
                  "Action": "Viewed",
                  "Country": "Bahrain",
                  "Item": "Flannel Shirt",
                  "Price": 19.99,
                  "index": 545
                },
                {
                  "Action": "Purchased",
                  "Country": "Mozambique",
                  "Item": "Puffy Jacket",
                  "Price": 105,
                  "index": 546
                },
                {
                  "Action": "Added",
                  "Country": "Bahrain",
                  "Item": "Flannel Shirt",
                  "Price": 19.99,
                  "index": 547
                },
                {
                  "Action": "Viewed",
                  "Country": "Netherlands Antilles",
                  "Item": "Blazer Jacket",
                  "Price": 87.5,
                  "index": 548
                },
                {
                  "Action": "Viewed",
                  "Country": "Azerbaijan",
                  "Item": "Cardigan Sweater",
                  "Price": 25,
                  "index": 549
                },
                {
                  "Action": "Purchased",
                  "Country": "Netherlands Antilles",
                  "Item": "Blazer Jacket",
                  "Price": 87.5,
                  "index": 550
                },
                {
                  "Action": "Viewed",
                  "Country": "Liberia",
                  "Item": "Gloves",
                  "Price": 20,
                  "index": 551
                },
                {
                  "Action": "Added",
                  "Country": "Liberia",
                  "Item": "Gloves",
                  "Price": 20,
                  "index": 552
                },
                {
                  "Action": "Viewed",
                  "Country": "Equatorial Guinea",
                  "Item": "Cardigan Sweater",
                  "Price": 25,
                  "index": 553
                },
                {
                  "Action": "Added",
                  "Country": "Brazil",
                  "Item": "Baseball Hat",
                  "Price": 17,
                  "index": 554
                },
                {
                  "Action": "Purchased",
                  "Country": "Equatorial Guinea",
                  "Item": "Cardigan Sweater",
                  "Price": 25,
                  "index": 555
                },
                {
                  "Action": "Added",
                  "Country": "Equatorial Guinea",
                  "Item": "Cardigan Sweater",
                  "Price": 25,
                  "index": 556
                },
                {
                  "Action": "Added",
                  "Country": "Saint Lucia",
                  "Item": "Blue Sweater",
                  "Price": 27,
                  "index": 557
                },
                {
                  "Action": "Viewed",
                  "Country": "China",
                  "Item": "Windbreaker Jacket",
                  "Price": 49.99,
                  "index": 558
                },
                {
                  "Action": "Purchased",
                  "Country": "British Indian Ocean Territory (Chagos Archipelago)",
                  "Item": "Denim Jacket",
                  "Price": 31.99,
                  "index": 559
                },
                {
                  "Action": "Viewed",
                  "Country": "Saint Lucia",
                  "Item": "Blue Sweater",
                  "Price": 27,
                  "index": 560
                },
                {
                  "Action": "Viewed",
                  "Country": "British Indian Ocean Territory (Chagos Archipelago)",
                  "Item": "Denim Jacket",
                  "Price": 31.99,
                  "index": 561
                },
                {
                  "Action": "Viewed",
                  "Country": "Gibraltar",
                  "Item": " Flip Flop Shoes",
                  "Price": 14,
                  "index": 562
                },
                {
                  "Action": "Added",
                  "Country": "Gibraltar",
                  "Item": " Flip Flop Shoes",
                  "Price": 14,
                  "index": 563
                },
                {
                  "Action": "Viewed",
                  "Country": "Mexico",
                  "Item": "Puffy Jacket",
                  "Price": 105,
                  "index": 564
                },
                {
                  "Action": "Added",
                  "Country": "British Indian Ocean Territory (Chagos Archipelago)",
                  "Item": "Denim Jacket",
                  "Price": 31.99,
                  "index": 565
                },
                {
                  "Action": "Purchased",
                  "Country": "Honduras",
                  "Item": "Cardigan Sweater",
                  "Price": 25,
                  "index": 566
                },
                {
                  "Action": "Viewed",
                  "Country": "Honduras",
                  "Item": "Cardigan Sweater",
                  "Price": 25,
                  "index": 567
                },
                {
                  "Action": "Purchased",
                  "Country": "Estonia",
                  "Item": "Black Hoodie",
                  "Price": 25,
                  "index": 568
                },
                {
                  "Action": "Added",
                  "Country": "Honduras",
                  "Item": "Cardigan Sweater",
                  "Price": 25,
                  "index": 569
                },
                {
                  "Action": "Added",
                  "Country": "Estonia",
                  "Item": "Black Hoodie",
                  "Price": 25,
                  "index": 570
                },
                {
                  "Action": "Viewed",
                  "Country": "Estonia",
                  "Item": "Black Hoodie",
                  "Price": 25,
                  "index": 571
                },
                {
                  "Action": "Viewed",
                  "Country": "Saint Martin",
                  "Item": "Silver Necklace",
                  "Price": 15.5,
                  "index": 572
                },
                {
                  "Action": "Viewed",
                  "Country": "Gibraltar",
                  "Item": "Beanie",
                  "Price": 10,
                  "index": 573
                },
                {
                  "Action": "Added",
                  "Country": "Swaziland",
                  "Item": "White Sweater",
                  "Price": 32,
                  "index": 574
                },
                {
                  "Action": "Added",
                  "Country": "Cocos (Keeling) Islands",
                  "Item": "Cosmos T-shirt",
                  "Price": 350,
                  "index": 575
                },
                {
                  "Action": "Viewed",
                  "Country": "Swaziland",
                  "Item": "White Sweater",
                  "Price": 32,
                  "index": 576
                },
                {
                  "Action": "Viewed",
                  "Country": "Cocos (Keeling) Islands",
                  "Item": "Cosmos T-shirt",
                  "Price": 350,
                  "index": 577
                },
                {
                  "Action": "Added",
                  "Country": "Belize",
                  "Item": "Jeans",
                  "Price": 85,
                  "index": 578
                },
                {
                  "Action": "Viewed",
                  "Country": "Madagascar",
                  "Item": "Silver Necklace",
                  "Price": 15.5,
                  "index": 579
                },
                {
                  "Action": "Added",
                  "Country": "Madagascar",
                  "Item": "Silver Necklace",
                  "Price": 15.5,
                  "index": 580
                },
                {
                  "Action": "Added",
                  "Country": "Svalbard & Jan Mayen Islands",
                  "Item": "Puffy Jacket",
                  "Price": 99.99,
                  "index": 581
                },
                {
                  "Action": "Viewed",
                  "Country": "Belize",
                  "Item": "Jeans",
                  "Price": 85,
                  "index": 582
                },
                {
                  "Action": "Viewed",
                  "Country": "Svalbard & Jan Mayen Islands",
                  "Item": "Puffy Jacket",
                  "Price": 99.99,
                  "index": 583
                },
                {
                  "Action": "Added",
                  "Country": "Botswana",
                  "Item": "Athletic Shorts",
                  "Price": 22.5,
                  "index": 584
                },
                {
                  "Action": "Viewed",
                  "Country": "Botswana",
                  "Item": "Athletic Shorts",
                  "Price": 22.5,
                  "index": 585
                },
                {
                  "Action": "Purchased",
                  "Country": "Liberia",
                  "Item": "Rainjacket",
                  "Price": 55,
                  "index": 586
                },
                {
                  "Action": "Viewed",
                  "Country": "Liberia",
                  "Item": "Rainjacket",
                  "Price": 55,
                  "index": 587
                },
                {
                  "Action": "Viewed",
                  "Country": "Mali",
                  "Item": "Athletic Shorts",
                  "Price": 22.5,
                  "index": 588
                },
                {
                  "Action": "Added",
                  "Country": "Liberia",
                  "Item": "Rainjacket",
                  "Price": 55,
                  "index": 589
                },
                {
                  "Action": "Purchased",
                  "Country": "Tajikistan",
                  "Item": "Puffy Jacket",
                  "Price": 99.99,
                  "index": 590
                },
                {
                  "Action": "Added",
                  "Country": "Tajikistan",
                  "Item": "Puffy Jacket",
                  "Price": 99.99,
                  "index": 591
                },
                {
                  "Action": "Purchased",
                  "Country": "Bermuda",
                  "Item": "Light Jeans",
                  "Price": 80,
                  "index": 592
                },
                {
                  "Action": "Viewed",
                  "Country": "Tajikistan",
                  "Item": "Puffy Jacket",
                  "Price": 99.99,
                  "index": 593
                },
                {
                  "Action": "Purchased",
                  "Country": "Isle of Man",
                  "Item": "Rainjacket",
                  "Price": 55,
                  "index": 594
                },
                {
                  "Action": "Viewed",
                  "Country": "Bermuda",
                  "Item": "Light Jeans",
                  "Price": 80,
                  "index": 595
                },
                {
                  "Action": "Added",
                  "Country": "Bermuda",
                  "Item": "Light Jeans",
                  "Price": 80,
                  "index": 596
                },
                {
                  "Action": "Viewed",
                  "Country": "Saudi Arabia",
                  "Item": "Fleece Jacket",
                  "Price": 65,
                  "index": 597
                },
                {
                  "Action": "Added",
                  "Country": "Isle of Man",
                  "Item": "Rainjacket",
                  "Price": 55,
                  "index": 598
                },
                {
                  "Action": "Purchased",
                  "Country": "Bahrain",
                  "Item": "Puffy Jacket",
                  "Price": 95.99,
                  "index": 599
                },
                {
                  "Action": "Added",
                  "Country": "Spain",
                  "Item": "Earring",
                  "Price": 8,
                  "index": 600
                },
                {
                  "Action": "Viewed",
                  "Country": "Papua New Guinea",
                  "Item": " Necklace",
                  "Price": 12,
                  "index": 601
                },
                {
                  "Action": "Added",
                  "Country": "Grenada",
                  "Item": "Pant",
                  "Price": 40,
                  "index": 602
                },
                {
                  "Action": "Purchased",
                  "Country": "Grenada",
                  "Item": "Pant",
                  "Price": 40,
                  "index": 603
                },
                {
                  "Action": "Viewed",
                  "Country": "Grenada",
                  "Item": "Pant",
                  "Price": 40,
                  "index": 604
                },
                {
                  "Action": "Viewed",
                  "Country": "South Africa",
                  "Item": "Button-Up Shirt",
                  "Price": 19.99,
                  "index": 605
                },
                {
                  "Action": "Purchased",
                  "Country": "South Africa",
                  "Item": "Button-Up Shirt",
                  "Price": 19.99,
                  "index": 606
                },
                {
                  "Action": "Added",
                  "Country": "Cocos (Keeling) Islands",
                  "Item": "High Heel Shoe",
                  "Price": 72,
                  "index": 607
                },
                {
                  "Action": "Added",
                  "Country": "South Africa",
                  "Item": "Button-Up Shirt",
                  "Price": 19.99,
                  "index": 608
                },
                {
                  "Action": "Viewed",
                  "Country": "Jersey",
                  "Item": "Baseball Hat",
                  "Price": 17,
                  "index": 609
                },
                {
                  "Action": "Viewed",
                  "Country": "Cocos (Keeling) Islands",
                  "Item": "High Heel Shoe",
                  "Price": 72,
                  "index": 610
                },
                {
                  "Action": "Purchased",
                  "Country": "Honduras",
                  "Item": "White Shirt",
                  "Price": 25.2,
                  "index": 611
                },
                {
                  "Action": "Viewed",
                  "Country": "Palestinian Territory",
                  "Item": "Crewneck Sweater",
                  "Price": 22,
                  "index": 612
                },
                {
                  "Action": "Viewed",
                  "Country": "Niue",
                  "Item": "White Dress",
                  "Price": 84.99,
                  "index": 613
                },
                {
                  "Action": "Viewed",
                  "Country": "Bahamas",
                  "Item": "Walking Shoes",
                  "Price": 79.99,
                  "index": 614
                },
                {
                  "Action": "Purchased",
                  "Country": "Cocos (Keeling) Islands",
                  "Item": "High Heel Shoe",
                  "Price": 72,
                  "index": 615
                },
                {
                  "Action": "Viewed",
                  "Country": "Honduras",
                  "Item": "White Shirt",
                  "Price": 25.2,
                  "index": 616
                },
                {
                  "Action": "Added",
                  "Country": "Honduras",
                  "Item": "White Shirt",
                  "Price": 25.2,
                  "index": 617
                },
                {
                  "Action": "Added",
                  "Country": "Slovakia (Slovak Republic)",
                  "Item": "Dark Jeans",
                  "Price": 90,
                  "index": 618
                },
                {
                  "Action": "Viewed",
                  "Country": "Cocos (Keeling) Islands",
                  "Item": "High Heel Shoe",
                  "Price": 72,
                  "index": 619
                },
                {
                  "Action": "Viewed",
                  "Country": "Saint Martin",
                  "Item": "Walking Shoes",
                  "Price": 79.99,
                  "index": 620
                },
                {
                  "Action": "Viewed",
                  "Country": "Slovakia (Slovak Republic)",
                  "Item": "Dark Jeans",
                  "Price": 90,
                  "index": 621
                },
                {
                  "Action": "Added",
                  "Country": "Cocos (Keeling) Islands",
                  "Item": "High Heel Shoe",
                  "Price": 72,
                  "index": 622
                },
                {
                  "Action": "Purchased",
                  "Country": "Saint Martin",
                  "Item": "Walking Shoes",
                  "Price": 79.99,
                  "index": 623
                },
                {
                  "Action": "Added",
                  "Country": "Saint Martin",
                  "Item": "Walking Shoes",
                  "Price": 79.99,
                  "index": 624
                },
                {
                  "Action": "Viewed",
                  "Country": "Guadeloupe",
                  "Item": "Sandals",
                  "Price": 12,
                  "index": 625
                },
                {
                  "Action": "Viewed",
                  "Country": "Luxembourg",
                  "Item": "Denim Shorts",
                  "Price": 50,
                  "index": 626
                },
                {
                  "Action": "Viewed",
                  "Country": "Mongolia",
                  "Item": "Cardigan Sweater",
                  "Price": 25,
                  "index": 627
                },
                {
                  "Action": "Viewed",
                  "Country": "Uzbekistan",
                  "Item": "Pant",
                  "Price": 40,
                  "index": 628
                },
                {
                  "Action": "Added",
                  "Country": "Mongolia",
                  "Item": "Cardigan Sweater",
                  "Price": 25,
                  "index": 629
                },
                {
                  "Action": "Purchased",
                  "Country": "Mongolia",
                  "Item": "Cardigan Sweater",
                  "Price": 25,
                  "index": 630
                },
                {
                  "Action": "Viewed",
                  "Country": "Palau",
                  "Item": "Denim Jacket",
                  "Price": 31.99,
                  "index": 631
                },
                {
                  "Action": "Viewed",
                  "Country": "Lao People's Democratic Republic",
                  "Item": " Necklace",
                  "Price": 12,
                  "index": 632
                },
                {
                  "Action": "Viewed",
                  "Country": "Nigeria",
                  "Item": "High Heel Shoe",
                  "Price": 72,
                  "index": 633
                },
                {
                  "Action": "Added",
                  "Country": "Lao People's Democratic Republic",
                  "Item": " Necklace",
                  "Price": 12,
                  "index": 634
                },
                {
                  "Action": "Purchased",
                  "Country": "Morocco",
                  "Item": "Baseball Hat",
                  "Price": 17,
                  "index": 635
                },
                {
                  "Action": "Viewed",
                  "Country": "Morocco",
                  "Item": "Baseball Hat",
                  "Price": 17,
                  "index": 636
                },
                {
                  "Action": "Purchased",
                  "Country": "Niger",
                  "Item": "Button-Up Shirt",
                  "Price": 19.99,
                  "index": 637
                },
                {
                  "Action": "Added",
                  "Country": "Morocco",
                  "Item": "Baseball Hat",
                  "Price": 17,
                  "index": 638
                },
                {
                  "Action": "Viewed",
                  "Country": "Niger",
                  "Item": "Button-Up Shirt",
                  "Price": 19.99,
                  "index": 639
                },
                {
                  "Action": "Viewed",
                  "Country": "Lao People's Democratic Republic",
                  "Item": "Puffy Jacket",
                  "Price": 99.99,
                  "index": 640
                },
                {
                  "Action": "Added",
                  "Country": "Niger",
                  "Item": "Button-Up Shirt",
                  "Price": 19.99,
                  "index": 641
                },
                {
                  "Action": "Added",
                  "Country": "Serbia",
                  "Item": "Dark Jeans",
                  "Price": 90,
                  "index": 642
                },
                {
                  "Action": "Purchased",
                  "Country": "Serbia",
                  "Item": "Dark Jeans",
                  "Price": 90,
                  "index": 643
                },
                {
                  "Action": "Viewed",
                  "Country": "Serbia",
                  "Item": "Dark Jeans",
                  "Price": 90,
                  "index": 644
                },
                {
                  "Action": "Viewed",
                  "Country": "Switzerland",
                  "Item": "Athletic Shoes",
                  "Price": 70,
                  "index": 645
                },
                {
                  "Action": "Viewed",
                  "Country": "Zambia",
                  "Item": "Puffy Jacket",
                  "Price": 99.99,
                  "index": 646
                },
                {
                  "Action": "Added",
                  "Country": "Heard Island and McDonald Islands",
                  "Item": "Black Dress",
                  "Price": 65,
                  "index": 647
                },
                {
                  "Action": "Added",
                  "Country": "Central African Republic",
                  "Item": "Flannel Shirt",
                  "Price": 19.99,
                  "index": 648
                },
                {
                  "Action": "Viewed",
                  "Country": "Heard Island and McDonald Islands",
                  "Item": "Black Dress",
                  "Price": 65,
                  "index": 649
                },
                {
                  "Action": "Viewed",
                  "Country": "Central African Republic",
                  "Item": "Flannel Shirt",
                  "Price": 19.99,
                  "index": 650
                },
                {
                  "Action": "Purchased",
                  "Country": "Bangladesh",
                  "Item": "Athletic Shoes",
                  "Price": 70,
                  "index": 651
                },
                {
                  "Action": "Added",
                  "Country": "Bangladesh",
                  "Item": "Athletic Shoes",
                  "Price": 70,
                  "index": 652
                },
                {
                  "Action": "Viewed",
                  "Country": "Bangladesh",
                  "Item": "Athletic Shoes",
                  "Price": 70,
                  "index": 653
                },
                {
                  "Action": "Viewed",
                  "Country": "Indonesia",
                  "Item": "Red Top",
                  "Price": 33,
                  "index": 654
                },
                {
                  "Action": "Viewed",
                  "Country": "Tuvalu",
                  "Item": "Blue Sweater",
                  "Price": 27,
                  "index": 655
                },
                {
                  "Action": "Viewed",
                  "Country": "Nauru",
                  "Item": "Denim Shorts",
                  "Price": 50,
                  "index": 656
                },
                {
                  "Action": "Viewed",
                  "Country": "Montserrat",
                  "Item": "Cardigan Sweater",
                  "Price": 25,
                  "index": 657
                },
                {
                  "Action": "Purchased",
                  "Country": "Tuvalu",
                  "Item": "Red Top",
                  "Price": 33,
                  "index": 658
                },
                {
                  "Action": "Viewed",
                  "Country": "Tuvalu",
                  "Item": "Red Top",
                  "Price": 33,
                  "index": 659
                },
                {
                  "Action": "Viewed",
                  "Country": "Sri Lanka",
                  "Item": "Rainjacket",
                  "Price": 55,
                  "index": 660
                },
                {
                  "Action": "Added",
                  "Country": "Sri Lanka",
                  "Item": "Rainjacket",
                  "Price": 55,
                  "index": 661
                },
                {
                  "Action": "Added",
                  "Country": "Tuvalu",
                  "Item": "Red Top",
                  "Price": 33,
                  "index": 662
                },
                {
                  "Action": "Viewed",
                  "Country": "Afghanistan",
                  "Item": "Flannel Shirt",
                  "Price": 19.99,
                  "index": 663
                },
                {
                  "Action": "Viewed",
                  "Country": "Croatia",
                  "Item": "Green Sweater",
                  "Price": 30,
                  "index": 664
                },
                {
                  "Action": "Added",
                  "Country": "Afghanistan",
                  "Item": "Flannel Shirt",
                  "Price": 19.99,
                  "index": 665
                },
                {
                  "Action": "Purchased",
                  "Country": "Wallis and Futuna",
                  "Item": "Cosmos T-shirt",
                  "Price": 350,
                  "index": 666
                },
                {
                  "Action": "Viewed",
                  "Country": "Wallis and Futuna",
                  "Item": "Cosmos T-shirt",
                  "Price": 350,
                  "index": 667
                },
                {
                  "Action": "Purchased",
                  "Country": "Afghanistan",
                  "Item": "Flannel Shirt",
                  "Price": 19.99,
                  "index": 668
                },
                {
                  "Action": "Viewed",
                  "Country": "Mongolia",
                  "Item": "Cardigan Sweater",
                  "Price": 25,
                  "index": 669
                },
                {
                  "Action": "Added",
                  "Country": "Mongolia",
                  "Item": "Cardigan Sweater",
                  "Price": 25,
                  "index": 670
                },
                {
                  "Action": "Added",
                  "Country": "Wallis and Futuna",
                  "Item": "Cosmos T-shirt",
                  "Price": 350,
                  "index": 671
                },
                {
                  "Action": "Viewed",
                  "Country": "Georgia",
                  "Item": "Socks",
                  "Price": 3.75,
                  "index": 672
                },
                {
                  "Action": "Added",
                  "Country": "Falkland Islands (Malvinas)",
                  "Item": "Blazer Jacket",
                  "Price": 87.5,
                  "index": 673
                },
                {
                  "Action": "Viewed",
                  "Country": "Falkland Islands (Malvinas)",
                  "Item": "Blazer Jacket",
                  "Price": 87.5,
                  "index": 674
                },
                {
                  "Action": "Viewed",
                  "Country": "Tuvalu",
                  "Item": "Scarf",
                  "Price": 29.99,
                  "index": 675
                },
                {
                  "Action": "Purchased",
                  "Country": "Tuvalu",
                  "Item": "Scarf",
                  "Price": 29.99,
                  "index": 676
                },
                {
                  "Action": "Viewed",
                  "Country": "Azerbaijan",
                  "Item": "Dress Shoes",
                  "Price": 120,
                  "index": 677
                },
                {
                  "Action": "Added",
                  "Country": "Azerbaijan",
                  "Item": "Dress Shoes",
                  "Price": 120,
                  "index": 678
                },
                {
                  "Action": "Added",
                  "Country": "Tuvalu",
                  "Item": "Scarf",
                  "Price": 29.99,
                  "index": 679
                },
                {
                  "Action": "Purchased",
                  "Country": "Malaysia",
                  "Item": "Dark Jeans",
                  "Price": 90,
                  "index": 680
                },
                {
                  "Action": "Viewed",
                  "Country": "Jordan",
                  "Item": "White Sweater",
                  "Price": 32,
                  "index": 681
                },
                {
                  "Action": "Added",
                  "Country": "Malaysia",
                  "Item": "Dark Jeans",
                  "Price": 90,
                  "index": 682
                },
                {
                  "Action": "Added",
                  "Country": "United Arab Emirates",
                  "Item": "Dark Jeans",
                  "Price": 90,
                  "index": 683
                },
                {
                  "Action": "Viewed",
                  "Country": "Malaysia",
                  "Item": "Dark Jeans",
                  "Price": 90,
                  "index": 684
                },
                {
                  "Action": "Purchased",
                  "Country": "Rwanda",
                  "Item": "Flannel Shirt",
                  "Price": 19.99,
                  "index": 685
                },
                {
                  "Action": "Viewed",
                  "Country": "United Arab Emirates",
                  "Item": "Dark Jeans",
                  "Price": 90,
                  "index": 686
                },
                {
                  "Action": "Viewed",
                  "Country": "Rwanda",
                  "Item": "Flannel Shirt",
                  "Price": 19.99,
                  "index": 687
                },
                {
                  "Action": "Added",
                  "Country": "Lesotho",
                  "Item": "Rainjacket",
                  "Price": 55,
                  "index": 688
                },
                {
                  "Action": "Added",
                  "Country": "Rwanda",
                  "Item": "Flannel Shirt",
                  "Price": 19.99,
                  "index": 689
                },
                {
                  "Action": "Added",
                  "Country": "Denmark",
                  "Item": "Sandal",
                  "Price": 35.5,
                  "index": 690
                },
                {
                  "Action": "Viewed",
                  "Country": "Lesotho",
                  "Item": "Rainjacket",
                  "Price": 55,
                  "index": 691
                },
                {
                  "Action": "Viewed",
                  "Country": "Denmark",
                  "Item": "Sandal",
                  "Price": 35.5,
                  "index": 692
                },
                {
                  "Action": "Viewed",
                  "Country": "Cambodia",
                  "Item": " Flip Flop Shoes",
                  "Price": 14,
                  "index": 693
                },
                {
                  "Action": "Viewed",
                  "Country": "Malawi",
                  "Item": "Puffy Jacket",
                  "Price": 105,
                  "index": 694
                },
                {
                  "Action": "Added",
                  "Country": "Gibraltar",
                  "Item": "Black Tee",
                  "Price": 9,
                  "index": 695
                },
                {
                  "Action": "Added",
                  "Country": "Malawi",
                  "Item": "Puffy Jacket",
                  "Price": 105,
                  "index": 696
                },
                {
                  "Action": "Viewed",
                  "Country": "Gibraltar",
                  "Item": "Black Tee",
                  "Price": 9,
                  "index": 697
                },
                {
                  "Action": "Purchased",
                  "Country": "Germany",
                  "Item": "Black Hoodie",
                  "Price": 25,
                  "index": 698
                },
                {
                  "Action": "Viewed",
                  "Country": "Germany",
                  "Item": "Black Hoodie",
                  "Price": 25,
                  "index": 699
                },
                {
                  "Action": "Added",
                  "Country": "Netherlands Antilles",
                  "Item": "Athletic Shorts",
                  "Price": 22.5,
                  "index": 700
                },
                {
                  "Action": "Viewed",
                  "Country": "Latvia",
                  "Item": "Puffy Jacket",
                  "Price": 105,
                  "index": 701
                },
                {
                  "Action": "Viewed",
                  "Country": "Costa Rica",
                  "Item": "Athletic Shoes",
                  "Price": 75,
                  "index": 702
                },
                {
                  "Action": "Viewed",
                  "Country": "Belarus",
                  "Item": "Athletic Shoes",
                  "Price": 70,
                  "index": 703
                },
                {
                  "Action": "Viewed",
                  "Country": "Tuvalu",
                  "Item": "Cosmos T-shirt",
                  "Price": 350,
                  "index": 704
                },
                {
                  "Action": "Viewed",
                  "Country": "Lao People's Democratic Republic",
                  "Item": "Dark Jeans",
                  "Price": 90,
                  "index": 705
                },
                {
                  "Action": "Viewed",
                  "Country": "Malaysia",
                  "Item": "Pant",
                  "Price": 40,
                  "index": 706
                },
                {
                  "Action": "Added",
                  "Country": "Antigua and Barbuda",
                  "Item": "Button-Up Shirt",
                  "Price": 19.99,
                  "index": 707
                },
                {
                  "Action": "Viewed",
                  "Country": "Antigua and Barbuda",
                  "Item": "Button-Up Shirt",
                  "Price": 19.99,
                  "index": 708
                },
                {
                  "Action": "Added",
                  "Country": "Malaysia",
                  "Item": "Pant",
                  "Price": 40,
                  "index": 709
                },
                {
                  "Action": "Added",
                  "Country": "Virgin Islands",
                  "Item": "Sweatpants",
                  "Price": 21,
                  "index": 710
                },
                {
                  "Action": "Viewed",
                  "Country": "Virgin Islands",
                  "Item": "Sweatpants",
                  "Price": 21,
                  "index": 711
                },
                {
                  "Action": "Viewed",
                  "Country": "Netherlands Antilles",
                  "Item": "Athletic Shorts",
                  "Price": 22.5,
                  "index": 712
                },
                {
                  "Action": "Added",
                  "Country": "Antigua and Barbuda",
                  "Item": "Red Dress",
                  "Price": 130,
                  "index": 713
                },
                {
                  "Action": "Viewed",
                  "Country": "Antigua and Barbuda",
                  "Item": "Red Dress",
                  "Price": 130,
                  "index": 714
                },
                {
                  "Action": "Viewed",
                  "Country": "Swaziland",
                  "Item": " Flip Flop Shoes",
                  "Price": 14,
                  "index": 715
                },
                {
                  "Action": "Viewed",
                  "Country": "Lao People's Democratic Republic",
                  "Item": "Light Jeans",
                  "Price": 80,
                  "index": 716
                },
                {
                  "Action": "Viewed",
                  "Country": "Afghanistan",
                  "Item": "Silver Necklace",
                  "Price": 15.5,
                  "index": 717
                },
                {
                  "Action": "Viewed",
                  "Country": "Serbia",
                  "Item": "Athletic Shoes",
                  "Price": 70,
                  "index": 718
                },
                {
                  "Action": "Viewed",
                  "Country": "El Salvador",
                  "Item": "Athletic Shorts",
                  "Price": 22.5,
                  "index": 719
                },
                {
                  "Action": "Purchased",
                  "Country": "Palau",
                  "Item": "Denim Shorts",
                  "Price": 50,
                  "index": 720
                },
                {
                  "Action": "Viewed",
                  "Country": "Andorra",
                  "Item": "Puffy Jacket",
                  "Price": 105,
                  "index": 721
                },
                {
                  "Action": "Added",
                  "Country": "Palau",
                  "Item": "Denim Shorts",
                  "Price": 50,
                  "index": 722
                },
                {
                  "Action": "Purchased",
                  "Country": "Kiribati",
                  "Item": "Silver Necklace",
                  "Price": 15.5,
                  "index": 723
                },
                {
                  "Action": "Viewed",
                  "Country": "Palau",
                  "Item": "Denim Shorts",
                  "Price": 50,
                  "index": 724
                },
                {
                  "Action": "Viewed",
                  "Country": "Kiribati",
                  "Item": "Silver Necklace",
                  "Price": 15.5,
                  "index": 725
                },
                {
                  "Action": "Viewed",
                  "Country": "Martinique",
                  "Item": "Puffy Jacket",
                  "Price": 99.99,
                  "index": 726
                },
                {
                  "Action": "Added",
                  "Country": "Kiribati",
                  "Item": "Silver Necklace",
                  "Price": 15.5,
                  "index": 727
                },
                {
                  "Action": "Viewed",
                  "Country": "Panama",
                  "Item": "Flannel Shirt",
                  "Price": 19.99,
                  "index": 728
                },
                {
                  "Action": "Added",
                  "Country": "Panama",
                  "Item": "Flannel Shirt",
                  "Price": 19.99,
                  "index": 729
                },
                {
                  "Action": "Viewed",
                  "Country": "Syrian Arab Republic",
                  "Item": "Fleece Jacket",
                  "Price": 65,
                  "index": 730
                },
                {
                  "Action": "Purchased",
                  "Country": "Syrian Arab Republic",
                  "Item": "Fleece Jacket",
                  "Price": 65,
                  "index": 731
                },
                {
                  "Action": "Added",
                  "Country": "Syrian Arab Republic",
                  "Item": "Fleece Jacket",
                  "Price": 65,
                  "index": 732
                },
                {
                  "Action": "Viewed",
                  "Country": "United States of America",
                  "Item": "Puffy Jacket",
                  "Price": 99.99,
                  "index": 733
                },
                {
                  "Action": "Added",
                  "Country": "Fiji",
                  "Item": "Jeans",
                  "Price": 85,
                  "index": 734
                },
                {
                  "Action": "Viewed",
                  "Country": "Fiji",
                  "Item": "Jeans",
                  "Price": 85,
                  "index": 735
                },
                {
                  "Action": "Purchased",
                  "Country": "Svalbard & Jan Mayen Islands",
                  "Item": "Sandals",
                  "Price": 12,
                  "index": 736
                },
                {
                  "Action": "Viewed",
                  "Country": "Saint Martin",
                  "Item": "Suit Jacket",
                  "Price": 92,
                  "index": 737
                },
                {
                  "Action": "Viewed",
                  "Country": "Svalbard & Jan Mayen Islands",
                  "Item": "Sandals",
                  "Price": 12,
                  "index": 738
                },
                {
                  "Action": "Added",
                  "Country": "Svalbard & Jan Mayen Islands",
                  "Item": "Sandals",
                  "Price": 12,
                  "index": 739
                },
                {
                  "Action": "Viewed",
                  "Country": "Serbia",
                  "Item": "Light Jeans",
                  "Price": 80,
                  "index": 740
                },
                {
                  "Action": "Purchased",
                  "Country": "Serbia",
                  "Item": "Light Jeans",
                  "Price": 80,
                  "index": 741
                },
                {
                  "Action": "Added",
                  "Country": "Serbia",
                  "Item": "Light Jeans",
                  "Price": 80,
                  "index": 742
                },
                {
                  "Action": "Viewed",
                  "Country": "Kyrgyz Republic",
                  "Item": "White Dress",
                  "Price": 84.99,
                  "index": 743
                },
                {
                  "Action": "Added",
                  "Country": "Guadeloupe",
                  "Item": "Bag",
                  "Price": 37.5,
                  "index": 744
                },
                {
                  "Action": "Viewed",
                  "Country": "Guadeloupe",
                  "Item": "Bag",
                  "Price": 37.5,
                  "index": 745
                },
                {
                  "Action": "Viewed",
                  "Country": "South Georgia and the South Sandwich Islands",
                  "Item": "Baseball Hat",
                  "Price": 17,
                  "index": 746
                },
                {
                  "Action": "Viewed",
                  "Country": "Syrian Arab Republic",
                  "Item": "Sandals",
                  "Price": 12,
                  "index": 747
                },
                {
                  "Action": "Viewed",
                  "Country": "Tuvalu",
                  "Item": "Denim Jacket",
                  "Price": 31.99,
                  "index": 748
                },
                {
                  "Action": "Purchased",
                  "Country": "Tuvalu",
                  "Item": "Denim Jacket",
                  "Price": 31.99,
                  "index": 749
                },
                {
                  "Action": "Viewed",
                  "Country": "Central African Republic",
                  "Item": "Gloves",
                  "Price": 20,
                  "index": 750
                },
                {
                  "Action": "Purchased",
                  "Country": "Central African Republic",
                  "Item": "Gloves",
                  "Price": 20,
                  "index": 751
                },
                {
                  "Action": "Added",
                  "Country": "Tuvalu",
                  "Item": "Denim Jacket",
                  "Price": 31.99,
                  "index": 752
                },
                {
                  "Action": "Added",
                  "Country": "Central African Republic",
                  "Item": "Gloves",
                  "Price": 20,
                  "index": 753
                },
                {
                  "Action": "Purchased",
                  "Country": "Faroe Islands",
                  "Item": "Puffy Jacket",
                  "Price": 95.99,
                  "index": 754
                },
                {
                  "Action": "Added",
                  "Country": "Virgin Islands",
                  "Item": "Pant",
                  "Price": 40,
                  "index": 755
                },
                {
                  "Action": "Viewed",
                  "Country": "Faroe Islands",
                  "Item": "Puffy Jacket",
                  "Price": 95.99,
                  "index": 756
                },
                {
                  "Action": "Added",
                  "Country": "Faroe Islands",
                  "Item": "Puffy Jacket",
                  "Price": 95.99,
                  "index": 757
                },
                {
                  "Action": "Viewed",
                  "Country": "Virgin Islands",
                  "Item": "Pant",
                  "Price": 40,
                  "index": 758
                },
                {
                  "Action": "Purchased",
                  "Country": "Macedonia",
                  "Item": "Button-Up Shirt",
                  "Price": 19.99,
                  "index": 759
                },
                {
                  "Action": "Viewed",
                  "Country": "Macedonia",
                  "Item": "Button-Up Shirt",
                  "Price": 19.99,
                  "index": 760
                },
                {
                  "Action": "Added",
                  "Country": "Macedonia",
                  "Item": "Button-Up Shirt",
                  "Price": 19.99,
                  "index": 761
                },
                {
                  "Action": "Viewed",
                  "Country": "Botswana",
                  "Item": "Sandals",
                  "Price": 12,
                  "index": 762
                },
                {
                  "Action": "Viewed",
                  "Country": "Indonesia",
                  "Item": "Beanie",
                  "Price": 10,
                  "index": 763
                },
                {
                  "Action": "Added",
                  "Country": "Indonesia",
                  "Item": "Beanie",
                  "Price": 10,
                  "index": 764
                },
                {
                  "Action": "Purchased",
                  "Country": "Dominica",
                  "Item": "Dark Jeans",
                  "Price": 90,
                  "index": 765
                },
                {
                  "Action": "Viewed",
                  "Country": "Dominica",
                  "Item": "Dark Jeans",
                  "Price": 90,
                  "index": 766
                },
                {
                  "Action": "Viewed",
                  "Country": "Yemen",
                  "Item": "White Dress",
                  "Price": 84.99,
                  "index": 767
                },
                {
                  "Action": "Viewed",
                  "Country": "Germany",
                  "Item": "Black Dress",
                  "Price": 65,
                  "index": 768
                },
                {
                  "Action": "Added",
                  "Country": "Dominica",
                  "Item": "Dark Jeans",
                  "Price": 90,
                  "index": 769
                },
                {
                  "Action": "Purchased",
                  "Country": "Switzerland",
                  "Item": "Suit Pant",
                  "Price": 95,
                  "index": 770
                },
                {
                  "Action": "Added",
                  "Country": "Switzerland",
                  "Item": "Suit Pant",
                  "Price": 95,
                  "index": 771
                },
                {
                  "Action": "Viewed",
                  "Country": "Switzerland",
                  "Item": "Suit Pant",
                  "Price": 95,
                  "index": 772
                },
                {
                  "Action": "Viewed",
                  "Country": "United States Minor Outlying Islands",
                  "Item": "Suit Jacket",
                  "Price": 92,
                  "index": 773
                },
                {
                  "Action": "Purchased",
                  "Country": "United States Minor Outlying Islands",
                  "Item": "Suit Jacket",
                  "Price": 92,
                  "index": 774
                },
                {
                  "Action": "Added",
                  "Country": "United States Minor Outlying Islands",
                  "Item": "Suit Jacket",
                  "Price": 92,
                  "index": 775
                },
                {
                  "Action": "Purchased",
                  "Country": "Papua New Guinea",
                  "Item": "Athletic Shoes",
                  "Price": 75,
                  "index": 776
                },
                {
                  "Action": "Added",
                  "Country": "Papua New Guinea",
                  "Item": "Athletic Shoes",
                  "Price": 75,
                  "index": 777
                },
                {
                  "Action": "Viewed",
                  "Country": "Papua New Guinea",
                  "Item": "Athletic Shoes",
                  "Price": 75,
                  "index": 778
                },
                {
                  "Action": "Added",
                  "Country": "Mexico",
                  "Item": "Walking Shoes",
                  "Price": 79.99,
                  "index": 779
                },
                {
                  "Action": "Viewed",
                  "Country": "Mexico",
                  "Item": "Walking Shoes",
                  "Price": 79.99,
                  "index": 780
                },
                {
                  "Action": "Viewed",
                  "Country": "Kenya",
                  "Item": "Crewneck Sweater",
                  "Price": 22,
                  "index": 781
                },
                {
                  "Action": "Added",
                  "Country": "Nicaragua",
                  "Item": "Crewneck Sweater",
                  "Price": 22,
                  "index": 782
                },
                {
                  "Action": "Viewed",
                  "Country": "Nicaragua",
                  "Item": "Crewneck Sweater",
                  "Price": 22,
                  "index": 783
                },
                {
                  "Action": "Added",
                  "Country": "Falkland Islands (Malvinas)",
                  "Item": "Flannel Shirt",
                  "Price": 19.99,
                  "index": 784
                },
                {
                  "Action": "Viewed",
                  "Country": "Falkland Islands (Malvinas)",
                  "Item": "Flannel Shirt",
                  "Price": 19.99,
                  "index": 785
                },
                {
                  "Action": "Viewed",
                  "Country": "Brunei Darussalam",
                  "Item": "Athletic Shoes",
                  "Price": 75,
                  "index": 786
                },
                {
                  "Action": "Viewed",
                  "Country": "Germany",
                  "Item": "Button-Up Shirt",
                  "Price": 19.99,
                  "index": 787
                },
                {
                  "Action": "Viewed",
                  "Country": "Wallis and Futuna",
                  "Item": "Silver Necklace",
                  "Price": 15.5,
                  "index": 788
                },
                {
                  "Action": "Viewed",
                  "Country": "Nicaragua",
                  "Item": "Light Jeans",
                  "Price": 80,
                  "index": 789
                },
                {
                  "Action": "Viewed",
                  "Country": "Falkland Islands (Malvinas)",
                  "Item": "Athletic Shorts",
                  "Price": 22.5,
                  "index": 790
                },
                {
                  "Action": "Purchased",
                  "Country": "Saint Pierre and Miquelon",
                  "Item": "Suit Jacket",
                  "Price": 92,
                  "index": 791
                },
                {
                  "Action": "Viewed",
                  "Country": "Saint Pierre and Miquelon",
                  "Item": "Suit Jacket",
                  "Price": 92,
                  "index": 792
                },
                {
                  "Action": "Added",
                  "Country": "Saint Pierre and Miquelon",
                  "Item": "Suit Jacket",
                  "Price": 92,
                  "index": 793
                },
                {
                  "Action": "Viewed",
                  "Country": "Kiribati",
                  "Item": "Earring",
                  "Price": 8,
                  "index": 794
                },
                {
                  "Action": "Purchased",
                  "Country": "Swaziland",
                  "Item": "Red Dress",
                  "Price": 130,
                  "index": 795
                },
                {
                  "Action": "Viewed",
                  "Country": "Swaziland",
                  "Item": "Red Dress",
                  "Price": 130,
                  "index": 796
                },
                {
                  "Action": "Added",
                  "Country": "Swaziland",
                  "Item": "Red Dress",
                  "Price": 130,
                  "index": 797
                },
                {
                  "Action": "Viewed",
                  "Country": "El Salvador",
                  "Item": "Black Tee",
                  "Price": 9,
                  "index": 798
                },
                {
                  "Action": "Added",
                  "Country": "Suriname",
                  "Item": "Athletic Shoes",
                  "Price": 70,
                  "index": 799
                },
                {
                  "Action": "Added",
                  "Country": "Lesotho",
                  "Item": " Flip Flop Shoes",
                  "Price": 14,
                  "index": 800
                },
                {
                  "Action": "Added",
                  "Country": "Panama",
                  "Item": "Black Tee",
                  "Price": 9,
                  "index": 801
                },
                {
                  "Action": "Added",
                  "Country": "Tunisia",
                  "Item": "Red Top",
                  "Price": 33,
                  "index": 802
                },
                {
                  "Action": "Added",
                  "Country": "Tonga",
                  "Item": "Athletic Shorts",
                  "Price": 22.5,
                  "index": 803
                },
                {
                  "Action": "Purchased",
                  "Country": "Tonga",
                  "Item": "Athletic Shorts",
                  "Price": 22.5,
                  "index": 804
                },
                {
                  "Action": "Purchased",
                  "Country": "Poland",
                  "Item": "Black Hoodie",
                  "Price": 25,
                  "index": 805
                },
                {
                  "Action": "Viewed",
                  "Country": "Poland",
                  "Item": "Black Hoodie",
                  "Price": 25,
                  "index": 806
                },
                {
                  "Action": "Viewed",
                  "Country": "Lesotho",
                  "Item": " Flip Flop Shoes",
                  "Price": 14,
                  "index": 807
                },
                {
                  "Action": "Added",
                  "Country": "Poland",
                  "Item": "Black Hoodie",
                  "Price": 25,
                  "index": 808
                },
                {
                  "Action": "Purchased",
                  "Country": "Albania",
                  "Item": "Green Sweater",
                  "Price": 30,
                  "index": 809
                },
                {
                  "Action": "Viewed",
                  "Country": "Albania",
                  "Item": "Green Sweater",
                  "Price": 30,
                  "index": 810
                },
                {
                  "Action": "Viewed",
                  "Country": "Central African Republic",
                  "Item": "Flannel Shirt",
                  "Price": 19.99,
                  "index": 811
                },
                {
                  "Action": "Added",
                  "Country": "Albania",
                  "Item": "Green Sweater",
                  "Price": 30,
                  "index": 812
                },
                {
                  "Action": "Purchased",
                  "Country": "Nepal",
                  "Item": "White Shirt",
                  "Price": 25.2,
                  "index": 813
                },
                {
                  "Action": "Viewed",
                  "Country": "Niger",
                  "Item": "Rainjacket",
                  "Price": 55,
                  "index": 814
                },
                {
                  "Action": "Viewed",
                  "Country": "Nepal",
                  "Item": "White Shirt",
                  "Price": 25.2,
                  "index": 815
                },
                {
                  "Action": "Added",
                  "Country": "Nepal",
                  "Item": "White Shirt",
                  "Price": 25.2,
                  "index": 816
                },
                {
                  "Action": "Viewed",
                  "Country": "South Africa",
                  "Item": "Dark Jeans",
                  "Price": 90,
                  "index": 817
                },
                {
                  "Action": "Viewed",
                  "Country": "Uganda",
                  "Item": "Earring",
                  "Price": 8,
                  "index": 818
                },
                {
                  "Action": "Viewed",
                  "Country": "Estonia",
                  "Item": " Flip Flop Shoes",
                  "Price": 14,
                  "index": 819
                },
                {
                  "Action": "Added",
                  "Country": "Central African Republic",
                  "Item": "White Dress",
                  "Price": 84.99,
                  "index": 820
                },
                {
                  "Action": "Viewed",
                  "Country": "Slovakia (Slovak Republic)",
                  "Item": "Baseball Hat",
                  "Price": 17,
                  "index": 821
                },
                {
                  "Action": "Viewed",
                  "Country": "Czech Republic",
                  "Item": "Bag",
                  "Price": 37.5,
                  "index": 822
                },
                {
                  "Action": "Viewed",
                  "Country": "Central African Republic",
                  "Item": "White Dress",
                  "Price": 84.99,
                  "index": 823
                },
                {
                  "Action": "Viewed",
                  "Country": "Italy",
                  "Item": " Necklace",
                  "Price": 12,
                  "index": 824
                },
                {
                  "Action": "Viewed",
                  "Country": "Bangladesh",
                  "Item": "Red Dress",
                  "Price": 130,
                  "index": 825
                },
                {
                  "Action": "Viewed",
                  "Country": "Norfolk Island",
                  "Item": "Dark Jeans",
                  "Price": 90,
                  "index": 826
                },
                {
                  "Action": "Added",
                  "Country": "Norfolk Island",
                  "Item": "Dark Jeans",
                  "Price": 90,
                  "index": 827
                },
                {
                  "Action": "Viewed",
                  "Country": "Paraguay",
                  "Item": " Necklace",
                  "Price": 12,
                  "index": 828
                },
                {
                  "Action": "Added",
                  "Country": "Paraguay",
                  "Item": "Dark Jeans",
                  "Price": 90,
                  "index": 829
                },
                {
                  "Action": "Viewed",
                  "Country": "Paraguay",
                  "Item": "Dark Jeans",
                  "Price": 90,
                  "index": 830
                },
                {
                  "Action": "Purchased",
                  "Country": "Cyprus",
                  "Item": "White Sweater",
                  "Price": 32,
                  "index": 831
                },
                {
                  "Action": "Added",
                  "Country": "Cyprus",
                  "Item": "White Sweater",
                  "Price": 32,
                  "index": 832
                },
                {
                  "Action": "Viewed",
                  "Country": "Cyprus",
                  "Item": "White Sweater",
                  "Price": 32,
                  "index": 833
                },
                {
                  "Action": "Purchased",
                  "Country": "Croatia",
                  "Item": "Walking Shoes",
                  "Price": 79.99,
                  "index": 834
                },
                {
                  "Action": "Viewed",
                  "Country": "Guinea-Bissau",
                  "Item": "Socks",
                  "Price": 3.75,
                  "index": 835
                },
                {
                  "Action": "Added",
                  "Country": "Croatia",
                  "Item": "Walking Shoes",
                  "Price": 79.99,
                  "index": 836
                },
                {
                  "Action": "Added",
                  "Country": "Greece",
                  "Item": "Socks",
                  "Price": 3.75,
                  "index": 837
                },
                {
                  "Action": "Viewed",
                  "Country": "Morocco",
                  "Item": "Athletic Shoes",
                  "Price": 70,
                  "index": 838
                },
                {
                  "Action": "Viewed",
                  "Country": "Greece",
                  "Item": "Socks",
                  "Price": 3.75,
                  "index": 839
                },
                {
                  "Action": "Viewed",
                  "Country": "Croatia",
                  "Item": "Walking Shoes",
                  "Price": 79.99,
                  "index": 840
                },
                {
                  "Action": "Viewed",
                  "Country": "Uruguay",
                  "Item": "Red Top",
                  "Price": 33,
                  "index": 841
                },
                {
                  "Action": "Purchased",
                  "Country": "Morocco",
                  "Item": "Light Jeans",
                  "Price": 80,
                  "index": 842
                },
                {
                  "Action": "Viewed",
                  "Country": "Morocco",
                  "Item": "Light Jeans",
                  "Price": 80,
                  "index": 843
                },
                {
                  "Action": "Viewed",
                  "Country": "Mongolia",
                  "Item": "Bag",
                  "Price": 37.5,
                  "index": 844
                },
                {
                  "Action": "Added",
                  "Country": "Morocco",
                  "Item": "Light Jeans",
                  "Price": 80,
                  "index": 845
                },
                {
                  "Action": "Added",
                  "Country": "Palestinian Territory",
                  "Item": "Jeans",
                  "Price": 85,
                  "index": 846
                },
                {
                  "Action": "Added",
                  "Country": "Grenada",
                  "Item": "Dress Shoes",
                  "Price": 120,
                  "index": 847
                },
                {
                  "Action": "Viewed",
                  "Country": "Mali",
                  "Item": " Flip Flop Shoes",
                  "Price": 14,
                  "index": 848
                },
                {
                  "Action": "Viewed",
                  "Country": "Palestinian Territory",
                  "Item": "Jeans",
                  "Price": 85,
                  "index": 849
                },
                {
                  "Action": "Viewed",
                  "Country": "Grenada",
                  "Item": "Dress Shoes",
                  "Price": 120,
                  "index": 850
                },
                {
                  "Action": "Purchased",
                  "Country": "Democratic People's Republic of Korea",
                  "Item": "Flannel Shirt",
                  "Price": 19.99,
                  "index": 851
                },
                {
                  "Action": "Viewed",
                  "Country": "Congo",
                  "Item": "Silver Necklace",
                  "Price": 15.5,
                  "index": 852
                },
                {
                  "Action": "Viewed",
                  "Country": "Democratic People's Republic of Korea",
                  "Item": "Flannel Shirt",
                  "Price": 19.99,
                  "index": 853
                },
                {
                  "Action": "Viewed",
                  "Country": "Philippines",
                  "Item": "Silver Necklace",
                  "Price": 15.5,
                  "index": 854
                },
                {
                  "Action": "Added",
                  "Country": "Democratic People's Republic of Korea",
                  "Item": "Flannel Shirt",
                  "Price": 19.99,
                  "index": 855
                },
                {
                  "Action": "Viewed",
                  "Country": "Brunei Darussalam",
                  "Item": "Light Jeans",
                  "Price": 80,
                  "index": 856
                },
                {
                  "Action": "Viewed",
                  "Country": "Georgia",
                  "Item": "Athletic Shoes",
                  "Price": 70,
                  "index": 857
                },
                {
                  "Action": "Added",
                  "Country": "Georgia",
                  "Item": "Athletic Shoes",
                  "Price": 70,
                  "index": 858
                },
                {
                  "Action": "Purchased",
                  "Country": "Brunei Darussalam",
                  "Item": "Light Jeans",
                  "Price": 80,
                  "index": 859
                },
                {
                  "Action": "Added",
                  "Country": "Brunei Darussalam",
                  "Item": "Light Jeans",
                  "Price": 80,
                  "index": 860
                },
                {
                  "Action": "Viewed",
                  "Country": "Kenya",
                  "Item": "White Shirt",
                  "Price": 25.2,
                  "index": 861
                },
                {
                  "Action": "Added",
                  "Country": "Eritrea",
                  "Item": "Gloves",
                  "Price": 20,
                  "index": 862
                },
                {
                  "Action": "Purchased",
                  "Country": "Eritrea",
                  "Item": "Gloves",
                  "Price": 20,
                  "index": 863
                },
                {
                  "Action": "Viewed",
                  "Country": "Eritrea",
                  "Item": "Gloves",
                  "Price": 20,
                  "index": 864
                },
                {
                  "Action": "Viewed",
                  "Country": "Malawi",
                  "Item": "Athletic Shorts",
                  "Price": 22.5,
                  "index": 865
                },
                {
                  "Action": "Added",
                  "Country": "Georgia",
                  "Item": "Earring",
                  "Price": 8,
                  "index": 866
                },
                {
                  "Action": "Viewed",
                  "Country": "Saint Vincent and the Grenadines",
                  "Item": "Athletic Shorts",
                  "Price": 22.5,
                  "index": 867
                },
                {
                  "Action": "Viewed",
                  "Country": "Georgia",
                  "Item": "Earring",
                  "Price": 8,
                  "index": 868
                },
                {
                  "Action": "Purchased",
                  "Country": "Seychelles",
                  "Item": "Sandals",
                  "Price": 12,
                  "index": 869
                },
                {
                  "Action": "Viewed",
                  "Country": "Honduras",
                  "Item": "Sweatpants",
                  "Price": 21,
                  "index": 870
                },
                {
                  "Action": "Viewed",
                  "Country": "Seychelles",
                  "Item": "Sandals",
                  "Price": 12,
                  "index": 871
                },
                {
                  "Action": "Added",
                  "Country": "Yemen",
                  "Item": "Cosmos T-shirt",
                  "Price": 350,
                  "index": 872
                },
                {
                  "Action": "Added",
                  "Country": "Seychelles",
                  "Item": "Sandals",
                  "Price": 12,
                  "index": 873
                },
                {
                  "Action": "Viewed",
                  "Country": "Yemen",
                  "Item": "Cosmos T-shirt",
                  "Price": 350,
                  "index": 874
                },
                {
                  "Action": "Purchased",
                  "Country": "Republic of Korea",
                  "Item": "Denim Shorts",
                  "Price": 50,
                  "index": 875
                },
                {
                  "Action": "Viewed",
                  "Country": "Republic of Korea",
                  "Item": "Denim Shorts",
                  "Price": 50,
                  "index": 876
                },
                {
                  "Action": "Viewed",
                  "Country": "Mongolia",
                  "Item": "Suit Pant",
                  "Price": 95,
                  "index": 877
                },
                {
                  "Action": "Viewed",
                  "Country": "South Africa",
                  "Item": "Blazer Jacket",
                  "Price": 87.5,
                  "index": 878
                },
                {
                  "Action": "Added",
                  "Country": "Republic of Korea",
                  "Item": "Denim Shorts",
                  "Price": 50,
                  "index": 879
                },
                {
                  "Action": "Viewed",
                  "Country": "Albania",
                  "Item": "Silver Necklace",
                  "Price": 15.5,
                  "index": 880
                },
                {
                  "Action": "Viewed",
                  "Country": "Tunisia",
                  "Item": "Red Top",
                  "Price": 33,
                  "index": 881
                },
                {
                  "Action": "Viewed",
                  "Country": "Aruba",
                  "Item": "Gloves",
                  "Price": 20,
                  "index": 882
                },
                {
                  "Action": "Added",
                  "Country": "Albania",
                  "Item": "Silver Necklace",
                  "Price": 15.5,
                  "index": 883
                },
                {
                  "Action": "Added",
                  "Country": "Aruba",
                  "Item": "Gloves",
                  "Price": 20,
                  "index": 884
                },
                {
                  "Action": "Viewed",
                  "Country": "Madagascar",
                  "Item": "White Sweater",
                  "Price": 32,
                  "index": 885
                },
                {
                  "Action": "Viewed",
                  "Country": "Jordan",
                  "Item": "Green Sweater",
                  "Price": 30,
                  "index": 886
                },
                {
                  "Action": "Purchased",
                  "Country": "Cambodia",
                  "Item": "Athletic Shorts",
                  "Price": 22.5,
                  "index": 887
                },
                {
                  "Action": "Purchased",
                  "Country": "San Marino",
                  "Item": "Denim Jacket",
                  "Price": 31.99,
                  "index": 888
                },
                {
                  "Action": "Added",
                  "Country": "Cambodia",
                  "Item": "Athletic Shorts",
                  "Price": 22.5,
                  "index": 889
                },
                {
                  "Action": "Viewed",
                  "Country": "Cambodia",
                  "Item": "Athletic Shorts",
                  "Price": 22.5,
                  "index": 890
                },
                {
                  "Action": "Viewed",
                  "Country": "San Marino",
                  "Item": "Denim Jacket",
                  "Price": 31.99,
                  "index": 891
                },
                {
                  "Action": "Added",
                  "Country": "Saint Vincent and the Grenadines",
                  "Item": "Black Hoodie",
                  "Price": 25,
                  "index": 892
                },
                {
                  "Action": "Added",
                  "Country": "San Marino",
                  "Item": "Denim Jacket",
                  "Price": 31.99,
                  "index": 893
                },
                {
                  "Action": "Viewed",
                  "Country": "Nigeria",
                  "Item": "Green Sweater",
                  "Price": 30,
                  "index": 894
                },
                {
                  "Action": "Viewed",
                  "Country": "Wallis and Futuna",
                  "Item": "Athletic Shoes",
                  "Price": 75,
                  "index": 895
                },
                {
                  "Action": "Viewed",
                  "Country": "China",
                  "Item": "Athletic Shorts",
                  "Price": 22.5,
                  "index": 896
                },
                {
                  "Action": "Added",
                  "Country": "China",
                  "Item": "Athletic Shorts",
                  "Price": 22.5,
                  "index": 897
                },
                {
                  "Action": "Purchased",
                  "Country": "China",
                  "Item": "Socks",
                  "Price": 3.75,
                  "index": 898
                },
                {
                  "Action": "Added",
                  "Country": "China",
                  "Item": "Socks",
                  "Price": 3.75,
                  "index": 899
                },
                {
                  "Action": "Viewed",
                  "Country": "South Africa",
                  "Item": "Earring",
                  "Price": 8,
                  "index": 900
                },
                {
                  "Action": "Viewed",
                  "Country": "Sri Lanka",
                  "Item": "Walking Shoes",
                  "Price": 79.99,
                  "index": 901
                },
                {
                  "Action": "Viewed",
                  "Country": "Saint Lucia",
                  "Item": "Scarf",
                  "Price": 29.99,
                  "index": 902
                },
                {
                  "Action": "Viewed",
                  "Country": "Tunisia",
                  "Item": "Walking Shoes",
                  "Price": 79.99,
                  "index": 903
                },
                {
                  "Action": "Purchased",
                  "Country": "Montserrat",
                  "Item": "Black Hoodie",
                  "Price": 25,
                  "index": 904
                },
                {
                  "Action": "Viewed",
                  "Country": "Montserrat",
                  "Item": "Black Hoodie",
                  "Price": 25,
                  "index": 905
                },
                {
                  "Action": "Added",
                  "Country": "Tunisia",
                  "Item": "Walking Shoes",
                  "Price": 79.99,
                  "index": 906
                },
                {
                  "Action": "Added",
                  "Country": "Montserrat",
                  "Item": "Black Hoodie",
                  "Price": 25,
                  "index": 907
                },
                {
                  "Action": "Purchased",
                  "Country": "Maldives",
                  "Item": "Flannel Shirt",
                  "Price": 19.99,
                  "index": 908
                },
                {
                  "Action": "Viewed",
                  "Country": "Maldives",
                  "Item": "Flannel Shirt",
                  "Price": 19.99,
                  "index": 909
                },
                {
                  "Action": "Added",
                  "Country": "Aruba",
                  "Item": "Green Sweater",
                  "Price": 30,
                  "index": 910
                },
                {
                  "Action": "Added",
                  "Country": "Maldives",
                  "Item": "Flannel Shirt",
                  "Price": 19.99,
                  "index": 911
                },
                {
                  "Action": "Viewed",
                  "Country": "Gibraltar",
                  "Item": "Puffy Jacket",
                  "Price": 99.99,
                  "index": 912
                },
                {
                  "Action": "Viewed",
                  "Country": "Aruba",
                  "Item": "Green Sweater",
                  "Price": 30,
                  "index": 913
                },
                {
                  "Action": "Viewed",
                  "Country": "Bosnia and Herzegovina",
                  "Item": "Puffy Jacket",
                  "Price": 95.99,
                  "index": 914
                },
                {
                  "Action": "Purchased",
                  "Country": "Aruba",
                  "Item": "Green Sweater",
                  "Price": 30,
                  "index": 915
                },
                {
                  "Action": "Added",
                  "Country": "Bosnia and Herzegovina",
                  "Item": "Puffy Jacket",
                  "Price": 95.99,
                  "index": 916
                },
                {
                  "Action": "Viewed",
                  "Country": "Azerbaijan",
                  "Item": "Athletic Shoes",
                  "Price": 75,
                  "index": 917
                },
                {
                  "Action": "Added",
                  "Country": "El Salvador",
                  "Item": "Sweatpants",
                  "Price": 21,
                  "index": 918
                },
                {
                  "Action": "Viewed",
                  "Country": "El Salvador",
                  "Item": "Sweatpants",
                  "Price": 21,
                  "index": 919
                },
                {
                  "Action": "Added",
                  "Country": "Azerbaijan",
                  "Item": "Athletic Shoes",
                  "Price": 75,
                  "index": 920
                },
                {
                  "Action": "Purchased",
                  "Country": "Saint Lucia",
                  "Item": "Crewneck Sweater",
                  "Price": 22,
                  "index": 921
                },
                {
                  "Action": "Viewed",
                  "Country": "Saint Lucia",
                  "Item": "Crewneck Sweater",
                  "Price": 22,
                  "index": 922
                },
                {
                  "Action": "Added",
                  "Country": "Saint Lucia",
                  "Item": "Crewneck Sweater",
                  "Price": 22,
                  "index": 923
                },
                {
                  "Action": "Viewed",
                  "Country": "Cote d'Ivoire",
                  "Item": " Flip Flop Shoes",
                  "Price": 14,
                  "index": 924
                },
                {
                  "Action": "Purchased",
                  "Country": "Serbia",
                  "Item": "Black Hoodie",
                  "Price": 25,
                  "index": 925
                },
                {
                  "Action": "Viewed",
                  "Country": "Serbia",
                  "Item": "Black Hoodie",
                  "Price": 25,
                  "index": 926
                },
                {
                  "Action": "Added",
                  "Country": "Armenia",
                  "Item": "Silver Necklace",
                  "Price": 15.5,
                  "index": 927
                },
                {
                  "Action": "Viewed",
                  "Country": "Armenia",
                  "Item": "Silver Necklace",
                  "Price": 15.5,
                  "index": 928
                },
                {
                  "Action": "Viewed",
                  "Country": "Sao Tome and Principe",
                  "Item": "Athletic Shorts",
                  "Price": 22.5,
                  "index": 929
                },
                {
                  "Action": "Added",
                  "Country": "Serbia",
                  "Item": "Black Hoodie",
                  "Price": 25,
                  "index": 930
                },
                {
                  "Action": "Purchased",
                  "Country": "Armenia",
                  "Item": "Silver Necklace",
                  "Price": 15.5,
                  "index": 931
                },
                {
                  "Action": "Added",
                  "Country": "Zimbabwe",
                  "Item": "Athletic Shorts",
                  "Price": 22.5,
                  "index": 932
                },
                {
                  "Action": "Viewed",
                  "Country": "Republic of Korea",
                  "Item": "Athletic Shorts",
                  "Price": 22.5,
                  "index": 933
                },
                {
                  "Action": "Viewed",
                  "Country": "Zimbabwe",
                  "Item": "Athletic Shorts",
                  "Price": 22.5,
                  "index": 934
                },
                {
                  "Action": "Added",
                  "Country": "United States of America",
                  "Item": "Rainjacket",
                  "Price": 55,
                  "index": 935
                },
                {
                  "Action": "Purchased",
                  "Country": "Montenegro",
                  "Item": "Cardigan Sweater",
                  "Price": 25,
                  "index": 936
                },
                {
                  "Action": "Viewed",
                  "Country": "United States of America",
                  "Item": "Rainjacket",
                  "Price": 55,
                  "index": 937
                },
                {
                  "Action": "Viewed",
                  "Country": "Montenegro",
                  "Item": "Cardigan Sweater",
                  "Price": 25,
                  "index": 938
                },
                {
                  "Action": "Added",
                  "Country": "Montenegro",
                  "Item": "Cardigan Sweater",
                  "Price": 25,
                  "index": 939
                },
                {
                  "Action": "Added",
                  "Country": "Ukraine",
                  "Item": " Flip Flop Shoes",
                  "Price": 14,
                  "index": 940
                },
                {
                  "Action": "Viewed",
                  "Country": "Ukraine",
                  "Item": " Flip Flop Shoes",
                  "Price": 14,
                  "index": 941
                },
                {
                  "Action": "Viewed",
                  "Country": "Benin",
                  "Item": "Flannel Shirt",
                  "Price": 19.99,
                  "index": 942
                },
                {
                  "Action": "Viewed",
                  "Country": "Pakistan",
                  "Item": "Walking Shoes",
                  "Price": 79.99,
                  "index": 943
                },
                {
                  "Action": "Purchased",
                  "Country": "Bahamas",
                  "Item": "Athletic Shorts",
                  "Price": 22.5,
                  "index": 944
                },
                {
                  "Action": "Viewed",
                  "Country": "Bahamas",
                  "Item": "Athletic Shorts",
                  "Price": 22.5,
                  "index": 945
                },
                {
                  "Action": "Viewed",
                  "Country": "United States of America",
                  "Item": "Athletic Shorts",
                  "Price": 22.5,
                  "index": 946
                },
                {
                  "Action": "Added",
                  "Country": "Bahamas",
                  "Item": "Athletic Shorts",
                  "Price": 22.5,
                  "index": 947
                },
                {
                  "Action": "Added",
                  "Country": "Macedonia",
                  "Item": "Green Sweater",
                  "Price": 30,
                  "index": 948
                },
                {
                  "Action": "Viewed",
                  "Country": "Macedonia",
                  "Item": "Green Sweater",
                  "Price": 30,
                  "index": 949
                },
                {
                  "Action": "Viewed",
                  "Country": "Panama",
                  "Item": "White Shirt",
                  "Price": 25.2,
                  "index": 950
                },
                {
                  "Action": "Added",
                  "Country": "Panama",
                  "Item": "White Shirt",
                  "Price": 25.2,
                  "index": 951
                },
                {
                  "Action": "Viewed",
                  "Country": "Pakistan",
                  "Item": "Rainjacket",
                  "Price": 55,
                  "index": 952
                },
                {
                  "Action": "Viewed",
                  "Country": "Paraguay",
                  "Item": "Silver Necklace",
                  "Price": 15.5,
                  "index": 953
                },
                {
                  "Action": "Added",
                  "Country": "Paraguay",
                  "Item": "Silver Necklace",
                  "Price": 15.5,
                  "index": 954
                },
                {
                  "Action": "Purchased",
                  "Country": "Bahamas",
                  "Item": "Suit Pant",
                  "Price": 95,
                  "index": 955
                },
                {
                  "Action": "Purchased",
                  "Country": "Puerto Rico",
                  "Item": "Bag",
                  "Price": 37.5,
                  "index": 956
                },
                {
                  "Action": "Viewed",
                  "Country": "Puerto Rico",
                  "Item": "Bag",
                  "Price": 37.5,
                  "index": 957
                },
                {
                  "Action": "Added",
                  "Country": "Puerto Rico",
                  "Item": "Bag",
                  "Price": 37.5,
                  "index": 958
                },
                {
                  "Action": "Viewed",
                  "Country": "Somalia",
                  "Item": "White Sweater",
                  "Price": 32,
                  "index": 959
                },
                {
                  "Action": "Added",
                  "Country": "Somalia",
                  "Item": "White Sweater",
                  "Price": 32,
                  "index": 960
                },
                {
                  "Action": "Purchased",
                  "Country": "Somalia",
                  "Item": "White Sweater",
                  "Price": 32,
                  "index": 961
                },
                {
                  "Action": "Purchased",
                  "Country": "Saint Vincent and the Grenadines",
                  "Item": "Flannel Shirt",
                  "Price": 19.99,
                  "index": 962
                },
                {
                  "Action": "Viewed",
                  "Country": "Saint Vincent and the Grenadines",
                  "Item": "Flannel Shirt",
                  "Price": 19.99,
                  "index": 963
                },
                {
                  "Action": "Added",
                  "Country": "Saint Vincent and the Grenadines",
                  "Item": "Flannel Shirt",
                  "Price": 19.99,
                  "index": 964
                },
                {
                  "Action": "Added",
                  "Country": "Ukraine",
                  "Item": "White Shirt",
                  "Price": 25.2,
                  "index": 965
                },
                {
                  "Action": "Viewed",
                  "Country": "Ukraine",
                  "Item": "White Shirt",
                  "Price": 25.2,
                  "index": 966
                },
                {
                  "Action": "Purchased",
                  "Country": "Kenya",
                  "Item": "Puffy Jacket",
                  "Price": 99.99,
                  "index": 967
                },
                {
                  "Action": "Viewed",
                  "Country": "Kenya",
                  "Item": "Puffy Jacket",
                  "Price": 99.99,
                  "index": 968
                },
                {
                  "Action": "Added",
                  "Country": "Kenya",
                  "Item": "Puffy Jacket",
                  "Price": 99.99,
                  "index": 969
                },
                {
                  "Action": "Purchased",
                  "Country": "Bahrain",
                  "Item": "High Heel Shoe",
                  "Price": 72,
                  "index": 970
                },
                {
                  "Action": "Viewed",
                  "Country": "Bahrain",
                  "Item": "High Heel Shoe",
                  "Price": 72,
                  "index": 971
                },
                {
                  "Action": "Added",
                  "Country": "Bahrain",
                  "Item": "High Heel Shoe",
                  "Price": 72,
                  "index": 972
                },
                {
                  "Action": "Viewed",
                  "Country": "Brunei Darussalam",
                  "Item": "Sweatpants",
                  "Price": 21,
                  "index": 973
                },
                {
                  "Action": "Viewed",
                  "Country": "Ethiopia",
                  "Item": "White Shirt",
                  "Price": 25.2,
                  "index": 974
                },
                {
                  "Action": "Viewed",
                  "Country": "Bolivia",
                  "Item": "Black Dress",
                  "Price": 65,
                  "index": 975
                },
                {
                  "Action": "Viewed",
                  "Country": "Belarus",
                  "Item": "Athletic Shorts",
                  "Price": 22.5,
                  "index": 976
                },
                {
                  "Action": "Viewed",
                  "Country": "Thailand",
                  "Item": "Athletic Shorts",
                  "Price": 22.5,
                  "index": 977
                },
                {
                  "Action": "Viewed",
                  "Country": "Honduras",
                  "Item": "Athletic Shoes",
                  "Price": 75,
                  "index": 978
                },
                {
                  "Action": "Viewed",
                  "Country": "Oman",
                  "Item": "Red Dress",
                  "Price": 130,
                  "index": 979
                },
                {
                  "Action": "Viewed",
                  "Country": "Liberia",
                  "Item": "Athletic Shoes",
                  "Price": 70,
                  "index": 980
                },
                {
                  "Action": "Purchased",
                  "Country": "British Indian Ocean Territory (Chagos Archipelago)",
                  "Item": "Sandals",
                  "Price": 12,
                  "index": 981
                },
                {
                  "Action": "Viewed",
                  "Country": "British Indian Ocean Territory (Chagos Archipelago)",
                  "Item": "Sandals",
                  "Price": 12,
                  "index": 982
                },
                {
                  "Action": "Added",
                  "Country": "British Indian Ocean Territory (Chagos Archipelago)",
                  "Item": "Sandals",
                  "Price": 12,
                  "index": 983
                },
                {
                  "Action": "Viewed",
                  "Country": "Sierra Leone",
                  "Item": "Black Dress",
                  "Price": 65,
                  "index": 984
                },
                {
                  "Action": "Purchased",
                  "Country": "Sierra Leone",
                  "Item": "Black Dress",
                  "Price": 65,
                  "index": 985
                },
                {
                  "Action": "Added",
                  "Country": "Sierra Leone",
                  "Item": "Black Dress",
                  "Price": 65,
                  "index": 986
                },
                {
                  "Action": "Added",
                  "Country": "Armenia",
                  "Item": "White Sweater",
                  "Price": 32,
                  "index": 987
                },
                {
                  "Action": "Viewed",
                  "Country": "Armenia",
                  "Item": "White Sweater",
                  "Price": 32,
                  "index": 988
                },
                {
                  "Action": "Purchased",
                  "Country": "France",
                  "Item": "Puffy Jacket",
                  "Price": 99.99,
                  "index": 989
                },
                {
                  "Action": "Viewed",
                  "Country": "France",
                  "Item": "Puffy Jacket",
                  "Price": 99.99,
                  "index": 990
                },
                {
                  "Action": "Added",
                  "Country": "France",
                  "Item": "Puffy Jacket",
                  "Price": 99.99,
                  "index": 991
                },
                {
                  "Action": "Viewed",
                  "Country": "Palestinian Territory",
                  "Item": "Earring",
                  "Price": 8,
                  "index": 992
                },
                {
                  "Action": "Viewed",
                  "Country": "Guinea-Bissau",
                  "Item": "Suit Pant",
                  "Price": 95,
                  "index": 993
                },
                {
                  "Action": "Added",
                  "Country": "Poland",
                  "Item": "Sandal",
                  "Price": 35.5,
                  "index": 994
                },
                {
                  "Action": "Added",
                  "Country": "Palestinian Territory",
                  "Item": "Earring",
                  "Price": 8,
                  "index": 995
                },
                {
                  "Action": "Viewed",
                  "Country": "Poland",
                  "Item": "Sandal",
                  "Price": 35.5,
                  "index": 996
                },
                {
                  "Action": "Added",
                  "Country": "Micronesia",
                  "Item": "Gloves",
                  "Price": 20,
                  "index": 997
                },
                {
                  "Action": "Purchased",
                  "Country": "Afghanistan",
                  "Item": "Baseball Hat",
                  "Price": 17,
                  "index": 998
                },
                {
                  "Action": "Added",
                  "Country": "United States Minor Outlying Islands",
                  "Item": "Gloves",
                  "Price": 20,
                  "index": 999
                },
                {
                  "Action": "Added",
                  "Country": "Pitcairn Islands",
                  "Item": "Suit Jacket",
                  "Price": 92,
                  "index": 1000
                },
                {
                  "Action": "Viewed",
                  "Country": "Spain",
                  "Item": "Earring",
                  "Price": 8,
                  "index": 1001
                },
                {
                  "Action": "Added",
                  "Country": "Bahrain",
                  "Item": "Puffy Jacket",
                  "Price": 95.99,
                  "index": 1002
                },
                {
                  "Action": "Viewed",
                  "Country": "Ethiopia",
                  "Item": "Pant",
                  "Price": 40,
                  "index": 1003
                },
                {
                  "Action": "Viewed",
                  "Country": "France",
                  "Item": "Puffy Jacket",
                  "Price": 95.99,
                  "index": 1004
                },
                {
                  "Action": "Viewed",
                  "Country": "Montenegro",
                  "Item": "Light Jeans",
                  "Price": 80,
                  "index": 1005
                },
                {
                  "Action": "Added",
                  "Country": "United States Minor Outlying Islands",
                  "Item": "Light Jeans",
                  "Price": 80,
                  "index": 1006
                },
                {
                  "Action": "Viewed",
                  "Country": "United States Minor Outlying Islands",
                  "Item": "Light Jeans",
                  "Price": 80,
                  "index": 1007
                },
                {
                  "Action": "Viewed",
                  "Country": "Germany",
                  "Item": "Beanie",
                  "Price": 10,
                  "index": 1008
                },
                {
                  "Action": "Purchased",
                  "Country": "Germany",
                  "Item": "Beanie",
                  "Price": 10,
                  "index": 1009
                },
                {
                  "Action": "Added",
                  "Country": "Germany",
                  "Item": "Beanie",
                  "Price": 10,
                  "index": 1010
                },
                {
                  "Action": "Added",
                  "Country": "Svalbard & Jan Mayen Islands",
                  "Item": "Cosmos T-shirt",
                  "Price": 350,
                  "index": 1011
                },
                {
                  "Action": "Added",
                  "Country": "Afghanistan",
                  "Item": "Scarf",
                  "Price": 29.99,
                  "index": 1012
                },
                {
                  "Action": "Viewed",
                  "Country": "Svalbard & Jan Mayen Islands",
                  "Item": "Cosmos T-shirt",
                  "Price": 350,
                  "index": 1013
                },
                {
                  "Action": "Viewed",
                  "Country": "Afghanistan",
                  "Item": "Scarf",
                  "Price": 29.99,
                  "index": 1014
                },
                {
                  "Action": "Viewed",
                  "Country": "Mali",
                  "Item": "Puffy Jacket",
                  "Price": 95.99,
                  "index": 1015
                },
                {
                  "Action": "Purchased",
                  "Country": "Guam",
                  "Item": "Blazer Jacket",
                  "Price": 87.5,
                  "index": 1016
                },
                {
                  "Action": "Viewed",
                  "Country": "Guam",
                  "Item": "Blazer Jacket",
                  "Price": 87.5,
                  "index": 1017
                },
                {
                  "Action": "Viewed",
                  "Country": "Papua New Guinea",
                  "Item": "Denim Shorts",
                  "Price": 50,
                  "index": 1018
                },
                {
                  "Action": "Added",
                  "Country": "Guam",
                  "Item": "Blazer Jacket",
                  "Price": 87.5,
                  "index": 1019
                },
                {
                  "Action": "Purchased",
                  "Country": "Falkland Islands (Malvinas)",
                  "Item": "Puffy Jacket",
                  "Price": 99.99,
                  "index": 1020
                },
                {
                  "Action": "Added",
                  "Country": "Falkland Islands (Malvinas)",
                  "Item": "Puffy Jacket",
                  "Price": 99.99,
                  "index": 1021
                },
                {
                  "Action": "Viewed",
                  "Country": "Falkland Islands (Malvinas)",
                  "Item": "Puffy Jacket",
                  "Price": 99.99,
                  "index": 1022
                },
                {
                  "Action": "Viewed",
                  "Country": "Afghanistan",
                  "Item": "Fleece Jacket",
                  "Price": 65,
                  "index": 1023
                },
                {
                  "Action": "Viewed",
                  "Country": "Swaziland",
                  "Item": "Scarf",
                  "Price": 29.99,
                  "index": 1024
                },
                {
                  "Action": "Viewed",
                  "Country": "Finland",
                  "Item": "Athletic Shorts",
                  "Price": 22.5,
                  "index": 1025
                },
                {
                  "Action": "Purchased",
                  "Country": "Finland",
                  "Item": "Athletic Shorts",
                  "Price": 22.5,
                  "index": 1026
                },
                {
                  "Action": "Added",
                  "Country": "Finland",
                  "Item": "Athletic Shorts",
                  "Price": 22.5,
                  "index": 1027
                },
                {
                  "Action": "Viewed",
                  "Country": "Puerto Rico",
                  "Item": "Cosmos T-shirt",
                  "Price": 350,
                  "index": 1028
                },
                {
                  "Action": "Purchased",
                  "Country": "Romania",
                  "Item": "Button-Up Shirt",
                  "Price": 19.99,
                  "index": 1029
                },
                {
                  "Action": "Added",
                  "Country": "Romania",
                  "Item": "Button-Up Shirt",
                  "Price": 19.99,
                  "index": 1030
                },
                {
                  "Action": "Purchased",
                  "Country": "Nicaragua",
                  "Item": "White Sweater",
                  "Price": 32,
                  "index": 1031
                },
                {
                  "Action": "Viewed",
                  "Country": "Romania",
                  "Item": "Button-Up Shirt",
                  "Price": 19.99,
                  "index": 1032
                },
                {
                  "Action": "Viewed",
                  "Country": "Nicaragua",
                  "Item": "White Sweater",
                  "Price": 32,
                  "index": 1033
                },
                {
                  "Action": "Added",
                  "Country": "Poland",
                  "Item": " Necklace",
                  "Price": 12,
                  "index": 1034
                },
                {
                  "Action": "Added",
                  "Country": "Nicaragua",
                  "Item": "White Sweater",
                  "Price": 32,
                  "index": 1035
                },
                {
                  "Action": "Viewed",
                  "Country": "Poland",
                  "Item": " Necklace",
                  "Price": 12,
                  "index": 1036
                },
                {
                  "Action": "Viewed",
                  "Country": "Afghanistan",
                  "Item": " Necklace",
                  "Price": 12,
                  "index": 1037
                },
                {
                  "Action": "Viewed",
                  "Country": "Martinique",
                  "Item": "Cosmos T-shirt",
                  "Price": 350,
                  "index": 1038
                },
                {
                  "Action": "Viewed",
                  "Country": "Macedonia",
                  "Item": "Silver Necklace",
                  "Price": 15.5,
                  "index": 1039
                },
                {
                  "Action": "Viewed",
                  "Country": "Saint Lucia",
                  "Item": "Socks",
                  "Price": 3.75,
                  "index": 1040
                },
                {
                  "Action": "Viewed",
                  "Country": "Cocos (Keeling) Islands",
                  "Item": "White Sweater",
                  "Price": 32,
                  "index": 1041
                },
                {
                  "Action": "Added",
                  "Country": "Australia",
                  "Item": "Flannel Shirt",
                  "Price": 19.99,
                  "index": 1042
                },
                {
                  "Action": "Viewed",
                  "Country": "Australia",
                  "Item": "Flannel Shirt",
                  "Price": 19.99,
                  "index": 1043
                },
                {
                  "Action": "Viewed",
                  "Country": "Saudi Arabia",
                  "Item": "Blue Sweater",
                  "Price": 27,
                  "index": 1044
                },
                {
                  "Action": "Added",
                  "Country": "Antigua and Barbuda",
                  "Item": "Red Top",
                  "Price": 33,
                  "index": 1045
                },
                {
                  "Action": "Purchased",
                  "Country": "Saudi Arabia",
                  "Item": "Blue Sweater",
                  "Price": 27,
                  "index": 1046
                },
                {
                  "Action": "Added",
                  "Country": "Saudi Arabia",
                  "Item": "Blue Sweater",
                  "Price": 27,
                  "index": 1047
                },
                {
                  "Action": "Added",
                  "Country": "Guernsey",
                  "Item": "High Heel Shoe",
                  "Price": 72,
                  "index": 1048
                },
                {
                  "Action": "Viewed",
                  "Country": "Antigua and Barbuda",
                  "Item": "Red Top",
                  "Price": 33,
                  "index": 1049
                },
                {
                  "Action": "Viewed",
                  "Country": "Guernsey",
                  "Item": "High Heel Shoe",
                  "Price": 72,
                  "index": 1050
                },
                {
                  "Action": "Added",
                  "Country": "Mongolia",
                  "Item": " Flip Flop Shoes",
                  "Price": 14,
                  "index": 1051
                },
                {
                  "Action": "Viewed",
                  "Country": "French Southern Territories",
                  "Item": "Dark Jeans",
                  "Price": 90,
                  "index": 1052
                },
                {
                  "Action": "Viewed",
                  "Country": "Mongolia",
                  "Item": " Flip Flop Shoes",
                  "Price": 14,
                  "index": 1053
                },
                {
                  "Action": "Viewed",
                  "Country": "Honduras",
                  "Item": " Flip Flop Shoes",
                  "Price": 14,
                  "index": 1054
                },
                {
                  "Action": "Purchased",
                  "Country": "Honduras",
                  "Item": " Flip Flop Shoes",
                  "Price": 14,
                  "index": 1055
                },
                {
                  "Action": "Added",
                  "Country": "Cote d'Ivoire",
                  "Item": "Dress Shoes",
                  "Price": 120,
                  "index": 1056
                },
                {
                  "Action": "Added",
                  "Country": "Honduras",
                  "Item": " Flip Flop Shoes",
                  "Price": 14,
                  "index": 1057
                },
                {
                  "Action": "Viewed",
                  "Country": "Slovenia",
                  "Item": "Baseball Hat",
                  "Price": 17,
                  "index": 1058
                },
                {
                  "Action": "Viewed",
                  "Country": "Cote d'Ivoire",
                  "Item": "Dress Shoes",
                  "Price": 120,
                  "index": 1059
                },
                {
                  "Action": "Purchased",
                  "Country": "Slovenia",
                  "Item": "Baseball Hat",
                  "Price": 17,
                  "index": 1060
                },
                {
                  "Action": "Added",
                  "Country": "Slovenia",
                  "Item": "Baseball Hat",
                  "Price": 17,
                  "index": 1061
                },
                {
                  "Action": "Added",
                  "Country": "Norfolk Island",
                  "Item": "Sandal",
                  "Price": 35.5,
                  "index": 1062
                },
                {
                  "Action": "Viewed",
                  "Country": "Norfolk Island",
                  "Item": "Sandal",
                  "Price": 35.5,
                  "index": 1063
                },
                {
                  "Action": "Viewed",
                  "Country": "Ukraine",
                  "Item": "Pant",
                  "Price": 40,
                  "index": 1064
                },
                {
                  "Action": "Purchased",
                  "Country": "Ukraine",
                  "Item": "Pant",
                  "Price": 40,
                  "index": 1065
                },
                {
                  "Action": "Added",
                  "Country": "Ukraine",
                  "Item": "Pant",
                  "Price": 40,
                  "index": 1066
                },
                {
                  "Action": "Viewed",
                  "Country": "Burundi",
                  "Item": "Jeans",
                  "Price": 85,
                  "index": 1067
                },
                {
                  "Action": "Added",
                  "Country": "Guadeloupe",
                  "Item": "Cardigan Sweater",
                  "Price": 25,
                  "index": 1068
                },
                {
                  "Action": "Viewed",
                  "Country": "Guadeloupe",
                  "Item": "Cardigan Sweater",
                  "Price": 25,
                  "index": 1069
                },
                {
                  "Action": "Viewed",
                  "Country": "Svalbard & Jan Mayen Islands",
                  "Item": "Sweatpants",
                  "Price": 21,
                  "index": 1070
                },
                {
                  "Action": "Added",
                  "Country": "Bouvet Island (Bouvetoya)",
                  "Item": "Puffy Jacket",
                  "Price": 95.99,
                  "index": 1071
                },
                {
                  "Action": "Viewed",
                  "Country": "Bouvet Island (Bouvetoya)",
                  "Item": "Puffy Jacket",
                  "Price": 95.99,
                  "index": 1072
                },
                {
                  "Action": "Added",
                  "Country": "Burkina Faso",
                  "Item": "Blazer Jacket",
                  "Price": 87.5,
                  "index": 1073
                },
                {
                  "Action": "Viewed",
                  "Country": "Burkina Faso",
                  "Item": "Blazer Jacket",
                  "Price": 87.5,
                  "index": 1074
                },
                {
                  "Action": "Added",
                  "Country": "China",
                  "Item": "Sandals",
                  "Price": 12,
                  "index": 1075
                },
                {
                  "Action": "Viewed",
                  "Country": "China",
                  "Item": "Sandals",
                  "Price": 12,
                  "index": 1076
                },
                {
                  "Action": "Purchased",
                  "Country": "Mali",
                  "Item": "Beanie",
                  "Price": 10,
                  "index": 1077
                },
                {
                  "Action": "Added",
                  "Country": "Mali",
                  "Item": "Beanie",
                  "Price": 10,
                  "index": 1078
                },
                {
                  "Action": "Viewed",
                  "Country": "Mali",
                  "Item": "Beanie",
                  "Price": 10,
                  "index": 1079
                },
                {
                  "Action": "Purchased",
                  "Country": "Guinea-Bissau",
                  "Item": "Fleece Jacket",
                  "Price": 65,
                  "index": 1080
                },
                {
                  "Action": "Viewed",
                  "Country": "Guinea-Bissau",
                  "Item": "Fleece Jacket",
                  "Price": 65,
                  "index": 1081
                },
                {
                  "Action": "Added",
                  "Country": "Guinea-Bissau",
                  "Item": "Fleece Jacket",
                  "Price": 65,
                  "index": 1082
                },
                {
                  "Action": "Viewed",
                  "Country": "Guam",
                  "Item": "Cosmos T-shirt",
                  "Price": 350,
                  "index": 1083
                },
                {
                  "Action": "Purchased",
                  "Country": "Switzerland",
                  "Item": "Jeans",
                  "Price": 85,
                  "index": 1084
                },
                {
                  "Action": "Viewed",
                  "Country": "Switzerland",
                  "Item": "Jeans",
                  "Price": 85,
                  "index": 1085
                },
                {
                  "Action": "Added",
                  "Country": "Switzerland",
                  "Item": "Jeans",
                  "Price": 85,
                  "index": 1086
                },
                {
                  "Action": "Purchased",
                  "Country": "Sierra Leone",
                  "Item": " Flip Flop Shoes",
                  "Price": 14,
                  "index": 1087
                },
                {
                  "Action": "Added",
                  "Country": "Angola",
                  "Item": "Denim Shorts",
                  "Price": 50,
                  "index": 1088
                },
                {
                  "Action": "Viewed",
                  "Country": "Reunion",
                  "Item": "Gloves",
                  "Price": 20,
                  "index": 1089
                },
                {
                  "Action": "Viewed",
                  "Country": "Angola",
                  "Item": "Denim Shorts",
                  "Price": 50,
                  "index": 1090
                },
                {
                  "Action": "Added",
                  "Country": "United States Minor Outlying Islands",
                  "Item": "Black Tee",
                  "Price": 9,
                  "index": 1091
                },
                {
                  "Action": "Viewed",
                  "Country": "Sierra Leone",
                  "Item": " Flip Flop Shoes",
                  "Price": 14,
                  "index": 1092
                },
                {
                  "Action": "Viewed",
                  "Country": "United States Minor Outlying Islands",
                  "Item": "Black Tee",
                  "Price": 9,
                  "index": 1093
                },
                {
                  "Action": "Added",
                  "Country": "Sierra Leone",
                  "Item": " Flip Flop Shoes",
                  "Price": 14,
                  "index": 1094
                },
                {
                  "Action": "Added",
                  "Country": "Suriname",
                  "Item": "Suit Jacket",
                  "Price": 92,
                  "index": 1095
                },
                {
                  "Action": "Viewed",
                  "Country": "Suriname",
                  "Item": "Suit Jacket",
                  "Price": 92,
                  "index": 1096
                },
                {
                  "Action": "Purchased",
                  "Country": "Australia",
                  "Item": "Athletic Shoes",
                  "Price": 70,
                  "index": 1097
                },
                {
                  "Action": "Viewed",
                  "Country": "Australia",
                  "Item": "Athletic Shoes",
                  "Price": 70,
                  "index": 1098
                },
                {
                  "Action": "Added",
                  "Country": "Australia",
                  "Item": "Athletic Shoes",
                  "Price": 70,
                  "index": 1099
                },
                {
                  "Action": "Viewed",
                  "Country": "Ghana",
                  "Item": "Fleece Jacket",
                  "Price": 65,
                  "index": 1100
                },
                {
                  "Action": "Viewed",
                  "Country": "Czech Republic",
                  "Item": "Rainjacket",
                  "Price": 55,
                  "index": 1101
                },
                {
                  "Action": "Purchased",
                  "Country": "Antigua and Barbuda",
                  "Item": "Athletic Shoes",
                  "Price": 75,
                  "index": 1102
                },
                {
                  "Action": "Viewed",
                  "Country": "Honduras",
                  "Item": "Sandal",
                  "Price": 35.5,
                  "index": 1103
                },
                {
                  "Action": "Purchased",
                  "Country": "Australia",
                  "Item": "Black Hoodie",
                  "Price": 25,
                  "index": 1104
                },
                {
                  "Action": "Added",
                  "Country": "Antigua and Barbuda",
                  "Item": "Athletic Shoes",
                  "Price": 75,
                  "index": 1105
                },
                {
                  "Action": "Viewed",
                  "Country": "Antigua and Barbuda",
                  "Item": "Flannel Shirt",
                  "Price": 19.99,
                  "index": 1106
                },
                {
                  "Action": "Added",
                  "Country": "Malawi",
                  "Item": "Athletic Shorts",
                  "Price": 22.5,
                  "index": 1107
                },
                {
                  "Action": "Added",
                  "Country": "Saint Lucia",
                  "Item": "Suit Pant",
                  "Price": 95,
                  "index": 1108
                },
                {
                  "Action": "Viewed",
                  "Country": "Saint Lucia",
                  "Item": "Suit Pant",
                  "Price": 95,
                  "index": 1109
                },
                {
                  "Action": "Added",
                  "Country": "Uruguay",
                  "Item": "Dark Jeans",
                  "Price": 90,
                  "index": 1110
                },
                {
                  "Action": "Added",
                  "Country": "Virgin Islands",
                  "Item": "White Shirt",
                  "Price": 25.2,
                  "index": 1111
                },
                {
                  "Action": "Viewed",
                  "Country": "Italy",
                  "Item": "Blazer Jacket",
                  "Price": 87.5,
                  "index": 1112
                },
                {
                  "Action": "Added",
                  "Country": "Bahamas",
                  "Item": "Walking Shoes",
                  "Price": 79.99,
                  "index": 1113
                },
                {
                  "Action": "Viewed",
                  "Country": "Virgin Islands",
                  "Item": "White Shirt",
                  "Price": 25.2,
                  "index": 1114
                },
                {
                  "Action": "Added",
                  "Country": "Guinea-Bissau",
                  "Item": "Socks",
                  "Price": 3.75,
                  "index": 1115
                },
                {
                  "Action": "Added",
                  "Country": "Australia",
                  "Item": "Black Hoodie",
                  "Price": 25,
                  "index": 1116
                },
                {
                  "Action": "Viewed",
                  "Country": "Iceland",
                  "Item": "Cosmos T-shirt",
                  "Price": 350,
                  "index": 1117
                },
                {
                  "Action": "Viewed",
                  "Country": "Australia",
                  "Item": "Black Hoodie",
                  "Price": 25,
                  "index": 1118
                },
                {
                  "Action": "Viewed",
                  "Country": "Uruguay",
                  "Item": "Dark Jeans",
                  "Price": 90,
                  "index": 1119
                },
                {
                  "Action": "Viewed",
                  "Country": "Antigua and Barbuda",
                  "Item": "Athletic Shoes",
                  "Price": 75,
                  "index": 1120
                },
                {
                  "Action": "Purchased",
                  "Country": "Qatar",
                  "Item": "Silver Necklace",
                  "Price": 15.5,
                  "index": 1121
                },
                {
                  "Action": "Purchased",
                  "Country": "Uruguay",
                  "Item": "Dark Jeans",
                  "Price": 90,
                  "index": 1122
                },
                {
                  "Action": "Viewed",
                  "Country": "Qatar",
                  "Item": "Silver Necklace",
                  "Price": 15.5,
                  "index": 1123
                },
                {
                  "Action": "Viewed",
                  "Country": "Aruba",
                  "Item": "Athletic Shorts",
                  "Price": 22.5,
                  "index": 1124
                },
                {
                  "Action": "Added",
                  "Country": "Qatar",
                  "Item": "Silver Necklace",
                  "Price": 15.5,
                  "index": 1125
                },
                {
                  "Action": "Purchased",
                  "Country": "Mauritius",
                  "Item": "Windbreaker Jacket",
                  "Price": 49.99,
                  "index": 1126
                },
                {
                  "Action": "Viewed",
                  "Country": "Hong Kong",
                  "Item": "Red Dress",
                  "Price": 130,
                  "index": 1127
                },
                {
                  "Action": "Added",
                  "Country": "Rwanda",
                  "Item": "Bag",
                  "Price": 37.5,
                  "index": 1128
                },
                {
                  "Action": "Viewed",
                  "Country": "Turkey",
                  "Item": "Crewneck Sweater",
                  "Price": 22,
                  "index": 1129
                },
                {
                  "Action": "Added",
                  "Country": "Turkey",
                  "Item": "Crewneck Sweater",
                  "Price": 22,
                  "index": 1130
                },
                {
                  "Action": "Viewed",
                  "Country": "Rwanda",
                  "Item": "Bag",
                  "Price": 37.5,
                  "index": 1131
                },
                {
                  "Action": "Added",
                  "Country": "Isle of Man",
                  "Item": "Earring",
                  "Price": 8,
                  "index": 1132
                },
                {
                  "Action": "Purchased",
                  "Country": "Cocos (Keeling) Islands",
                  "Item": "Crewneck Sweater",
                  "Price": 22,
                  "index": 1133
                },
                {
                  "Action": "Purchased",
                  "Country": "Isle of Man",
                  "Item": "Earring",
                  "Price": 8,
                  "index": 1134
                },
                {
                  "Action": "Viewed",
                  "Country": "Isle of Man",
                  "Item": "Earring",
                  "Price": 8,
                  "index": 1135
                },
                {
                  "Action": "Viewed",
                  "Country": "Hong Kong",
                  "Item": "Red Top",
                  "Price": 33,
                  "index": 1136
                },
                {
                  "Action": "Viewed",
                  "Country": "Malta",
                  "Item": "Sandal",
                  "Price": 35.5,
                  "index": 1137
                },
                {
                  "Action": "Viewed",
                  "Country": "Italy",
                  "Item": "Pant",
                  "Price": 40,
                  "index": 1138
                },
                {
                  "Action": "Added",
                  "Country": "Djibouti",
                  "Item": "White Sweater",
                  "Price": 32,
                  "index": 1139
                },
                {
                  "Action": "Purchased",
                  "Country": "Malawi",
                  "Item": "Athletic Shorts",
                  "Price": 22.5,
                  "index": 1140
                },
                {
                  "Action": "Added",
                  "Country": "Burundi",
                  "Item": "Black Tee",
                  "Price": 9,
                  "index": 1141
                },
                {
                  "Action": "Viewed",
                  "Country": "Djibouti",
                  "Item": "White Sweater",
                  "Price": 32,
                  "index": 1142
                },
                {
                  "Action": "Viewed",
                  "Country": "Malawi",
                  "Item": "Athletic Shorts",
                  "Price": 22.5,
                  "index": 1143
                },
                {
                  "Action": "Added",
                  "Country": "Iceland",
                  "Item": "Dress Shoes",
                  "Price": 120,
                  "index": 1144
                },
                {
                  "Action": "Added",
                  "Country": "Malawi",
                  "Item": "Athletic Shorts",
                  "Price": 22.5,
                  "index": 1145
                },
                {
                  "Action": "Viewed",
                  "Country": "Isle of Man",
                  "Item": "Windbreaker Jacket",
                  "Price": 49.99,
                  "index": 1146
                },
                {
                  "Action": "Viewed",
                  "Country": "Cook Islands",
                  "Item": "High Heel Shoe",
                  "Price": 72,
                  "index": 1147
                },
                {
                  "Action": "Viewed",
                  "Country": "Fiji",
                  "Item": "Denim Shorts",
                  "Price": 50,
                  "index": 1148
                },
                {
                  "Action": "Viewed",
                  "Country": "Eritrea",
                  "Item": "Suit Pant",
                  "Price": 95,
                  "index": 1149
                },
                {
                  "Action": "Purchased",
                  "Country": "Eritrea",
                  "Item": "Suit Pant",
                  "Price": 95,
                  "index": 1150
                },
                {
                  "Action": "Added",
                  "Country": "Eritrea",
                  "Item": "Suit Pant",
                  "Price": 95,
                  "index": 1151
                },
                {
                  "Action": "Added",
                  "Country": "Norway",
                  "Item": "Denim Jacket",
                  "Price": 31.99,
                  "index": 1152
                },
                {
                  "Action": "Viewed",
                  "Country": "Guernsey",
                  "Item": "Black Dress",
                  "Price": 65,
                  "index": 1153
                },
                {
                  "Action": "Added",
                  "Country": "Guernsey",
                  "Item": "Black Dress",
                  "Price": 65,
                  "index": 1154
                },
                {
                  "Action": "Viewed",
                  "Country": "Cayman Islands",
                  "Item": "Puffy Jacket",
                  "Price": 105,
                  "index": 1155
                },
                {
                  "Action": "Purchased",
                  "Country": "United States Minor Outlying Islands",
                  "Item": "Suit Jacket",
                  "Price": 92,
                  "index": 1156
                },
                {
                  "Action": "Viewed",
                  "Country": "Mozambique",
                  "Item": "Puffy Jacket",
                  "Price": 95.99,
                  "index": 1157
                },
                {
                  "Action": "Viewed",
                  "Country": "Kiribati",
                  "Item": "Sandals",
                  "Price": 12,
                  "index": 1158
                },
                {
                  "Action": "Added",
                  "Country": "Kiribati",
                  "Item": "Sandals",
                  "Price": 12,
                  "index": 1159
                },
                {
                  "Action": "Purchased",
                  "Country": "Sierra Leone",
                  "Item": "Scarf",
                  "Price": 29.99,
                  "index": 1160
                },
                {
                  "Action": "Purchased",
                  "Country": "Saint Lucia",
                  "Item": "Suit Pant",
                  "Price": 95,
                  "index": 1161
                },
                {
                  "Action": "Added",
                  "Country": "Saint Helena",
                  "Item": "Athletic Shorts",
                  "Price": 22.5,
                  "index": 1162
                },
                {
                  "Action": "Viewed",
                  "Country": "Sierra Leone",
                  "Item": "Scarf",
                  "Price": 29.99,
                  "index": 1163
                },
                {
                  "Action": "Added",
                  "Country": "Kenya",
                  "Item": "Jeans",
                  "Price": 85,
                  "index": 1164
                },
                {
                  "Action": "Added",
                  "Country": "Sierra Leone",
                  "Item": "Scarf",
                  "Price": 29.99,
                  "index": 1165
                },
                {
                  "Action": "Viewed",
                  "Country": "United States Minor Outlying Islands",
                  "Item": "Suit Jacket",
                  "Price": 92,
                  "index": 1166
                },
                {
                  "Action": "Viewed",
                  "Country": "Kenya",
                  "Item": "Jeans",
                  "Price": 85,
                  "index": 1167
                },
                {
                  "Action": "Added",
                  "Country": "Antigua and Barbuda",
                  "Item": "Cardigan Sweater",
                  "Price": 25,
                  "index": 1168
                },
                {
                  "Action": "Purchased",
                  "Country": "Saint Helena",
                  "Item": "Athletic Shorts",
                  "Price": 22.5,
                  "index": 1169
                },
                {
                  "Action": "Viewed",
                  "Country": "Antigua and Barbuda",
                  "Item": "Cardigan Sweater",
                  "Price": 25,
                  "index": 1170
                },
                {
                  "Action": "Added",
                  "Country": "Falkland Islands (Malvinas)",
                  "Item": "Cardigan Sweater",
                  "Price": 25,
                  "index": 1171
                },
                {
                  "Action": "Viewed",
                  "Country": "Mali",
                  "Item": "Black Dress",
                  "Price": 65,
                  "index": 1172
                },
                {
                  "Action": "Viewed",
                  "Country": "Falkland Islands (Malvinas)",
                  "Item": "Cardigan Sweater",
                  "Price": 25,
                  "index": 1173
                },
                {
                  "Action": "Viewed",
                  "Country": "Saint Helena",
                  "Item": "Athletic Shorts",
                  "Price": 22.5,
                  "index": 1174
                },
                {
                  "Action": "Purchased",
                  "Country": "Brunei Darussalam",
                  "Item": "Athletic Shorts",
                  "Price": 22.5,
                  "index": 1175
                },
                {
                  "Action": "Added",
                  "Country": "Latvia",
                  "Item": "Baseball Hat",
                  "Price": 17,
                  "index": 1176
                },
                {
                  "Action": "Added",
                  "Country": "United States Minor Outlying Islands",
                  "Item": "Suit Jacket",
                  "Price": 92,
                  "index": 1177
                },
                {
                  "Action": "Viewed",
                  "Country": "Latvia",
                  "Item": "Baseball Hat",
                  "Price": 17,
                  "index": 1178
                },
                {
                  "Action": "Viewed",
                  "Country": "Brunei Darussalam",
                  "Item": "Athletic Shorts",
                  "Price": 22.5,
                  "index": 1179
                },
                {
                  "Action": "Added",
                  "Country": "Brunei Darussalam",
                  "Item": "Athletic Shorts",
                  "Price": 22.5,
                  "index": 1180
                },
                {
                  "Action": "Purchased",
                  "Country": "Kenya",
                  "Item": "Cardigan Sweater",
                  "Price": 25,
                  "index": 1181
                },
                {
                  "Action": "Viewed",
                  "Country": "Turkey",
                  "Item": "Black Tee",
                  "Price": 9,
                  "index": 1182
                },
                {
                  "Action": "Added",
                  "Country": "Turkey",
                  "Item": "Black Tee",
                  "Price": 9,
                  "index": 1183
                },
                {
                  "Action": "Added",
                  "Country": "Kenya",
                  "Item": "Cardigan Sweater",
                  "Price": 25,
                  "index": 1184
                },
                {
                  "Action": "Viewed",
                  "Country": "Morocco",
                  "Item": "Walking Shoes",
                  "Price": 79.99,
                  "index": 1185
                },
                {
                  "Action": "Viewed",
                  "Country": "Pakistan",
                  "Item": " Necklace",
                  "Price": 12,
                  "index": 1186
                },
                {
                  "Action": "Added",
                  "Country": "Marshall Islands",
                  "Item": "Dress Shoes",
                  "Price": 120,
                  "index": 1187
                },
                {
                  "Action": "Viewed",
                  "Country": "Kenya",
                  "Item": "Cardigan Sweater",
                  "Price": 25,
                  "index": 1188
                },
                {
                  "Action": "Viewed",
                  "Country": "Marshall Islands",
                  "Item": "Dress Shoes",
                  "Price": 120,
                  "index": 1189
                },
                {
                  "Action": "Added",
                  "Country": "Saint Martin",
                  "Item": "Black Tee",
                  "Price": 9,
                  "index": 1190
                },
                {
                  "Action": "Viewed",
                  "Country": "Saint Martin",
                  "Item": "Black Tee",
                  "Price": 9,
                  "index": 1191
                },
                {
                  "Action": "Viewed",
                  "Country": "South Georgia and the South Sandwich Islands",
                  "Item": "Silver Necklace",
                  "Price": 15.5,
                  "index": 1192
                },
                {
                  "Action": "Viewed",
                  "Country": "Jamaica",
                  "Item": "Fleece Jacket",
                  "Price": 65,
                  "index": 1193
                },
                {
                  "Action": "Purchased",
                  "Country": "Cote d'Ivoire",
                  "Item": "Bag",
                  "Price": 37.5,
                  "index": 1194
                },
                {
                  "Action": "Viewed",
                  "Country": "Cote d'Ivoire",
                  "Item": "Bag",
                  "Price": 37.5,
                  "index": 1195
                },
                {
                  "Action": "Added",
                  "Country": "Mauritius",
                  "Item": " Necklace",
                  "Price": 12,
                  "index": 1196
                },
                {
                  "Action": "Added",
                  "Country": "Cote d'Ivoire",
                  "Item": "Bag",
                  "Price": 37.5,
                  "index": 1197
                },
                {
                  "Action": "Viewed",
                  "Country": "Mauritius",
                  "Item": " Necklace",
                  "Price": 12,
                  "index": 1198
                },
                {
                  "Action": "Viewed",
                  "Country": "Tonga",
                  "Item": " Necklace",
                  "Price": 12,
                  "index": 1199
                },
                {
                  "Action": "Viewed",
                  "Country": "China",
                  "Item": "Socks",
                  "Price": 3.75,
                  "index": 1200
                },
                {
                  "Action": "Viewed",
                  "Country": "Qatar",
                  "Item": "Athletic Shorts",
                  "Price": 22.5,
                  "index": 1201
                },
                {
                  "Action": "Added",
                  "Country": "Qatar",
                  "Item": "Athletic Shorts",
                  "Price": 22.5,
                  "index": 1202
                },
                {
                  "Action": "Purchased",
                  "Country": "Saint Lucia",
                  "Item": "Scarf",
                  "Price": 29.99,
                  "index": 1203
                },
                {
                  "Action": "Viewed",
                  "Country": "Macedonia",
                  "Item": " Flip Flop Shoes",
                  "Price": 14,
                  "index": 1204
                },
                {
                  "Action": "Added",
                  "Country": "Saint Lucia",
                  "Item": "Scarf",
                  "Price": 29.99,
                  "index": 1205
                },
                {
                  "Action": "Viewed",
                  "Country": "Italy",
                  "Item": "Socks",
                  "Price": 3.75,
                  "index": 1206
                },
                {
                  "Action": "Viewed",
                  "Country": "Tonga",
                  "Item": "Athletic Shorts",
                  "Price": 22.5,
                  "index": 1207
                },
                {
                  "Action": "Purchased",
                  "Country": "Philippines",
                  "Item": "Suit Pant",
                  "Price": 95,
                  "index": 1208
                },
                {
                  "Action": "Viewed",
                  "Country": "Philippines",
                  "Item": "Suit Pant",
                  "Price": 95,
                  "index": 1209
                },
                {
                  "Action": "Added",
                  "Country": "Philippines",
                  "Item": "Suit Pant",
                  "Price": 95,
                  "index": 1210
                },
                {
                  "Action": "Added",
                  "Country": "Argentina",
                  "Item": "Socks",
                  "Price": 3.75,
                  "index": 1211
                },
                {
                  "Action": "Purchased",
                  "Country": "Argentina",
                  "Item": "Socks",
                  "Price": 3.75,
                  "index": 1212
                },
                {
                  "Action": "Viewed",
                  "Country": "Malta",
                  "Item": "Athletic Shoes",
                  "Price": 70,
                  "index": 1213
                },
                {
                  "Action": "Viewed",
                  "Country": "Argentina",
                  "Item": "Socks",
                  "Price": 3.75,
                  "index": 1214
                },
                {
                  "Action": "Purchased",
                  "Country": "Macedonia",
                  "Item": "Button-Up Shirt",
                  "Price": 19.99,
                  "index": 1215
                },
                {
                  "Action": "Added",
                  "Country": "Cocos (Keeling) Islands",
                  "Item": "Dress Shoes",
                  "Price": 120,
                  "index": 1216
                },
                {
                  "Action": "Viewed",
                  "Country": "Macedonia",
                  "Item": "Button-Up Shirt",
                  "Price": 19.99,
                  "index": 1217
                },
                {
                  "Action": "Added",
                  "Country": "Macedonia",
                  "Item": "Button-Up Shirt",
                  "Price": 19.99,
                  "index": 1218
                },
                {
                  "Action": "Viewed",
                  "Country": "Cocos (Keeling) Islands",
                  "Item": "Dress Shoes",
                  "Price": 120,
                  "index": 1219
                },
                {
                  "Action": "Viewed",
                  "Country": "Guinea",
                  "Item": "Athletic Shoes",
                  "Price": 70,
                  "index": 1220
                },
                {
                  "Action": "Added",
                  "Country": "Guinea",
                  "Item": "Athletic Shoes",
                  "Price": 70,
                  "index": 1221
                },
                {
                  "Action": "Viewed",
                  "Country": "Italy",
                  "Item": "Sandals",
                  "Price": 12,
                  "index": 1222
                },
                {
                  "Action": "Purchased",
                  "Country": "Italy",
                  "Item": "Sandals",
                  "Price": 12,
                  "index": 1223
                },
                {
                  "Action": "Added",
                  "Country": "Turkey",
                  "Item": "Black Tee",
                  "Price": 9,
                  "index": 1224
                },
                {
                  "Action": "Added",
                  "Country": "Italy",
                  "Item": "Sandals",
                  "Price": 12,
                  "index": 1225
                },
                {
                  "Action": "Viewed",
                  "Country": "Turkey",
                  "Item": "Black Tee",
                  "Price": 9,
                  "index": 1226
                },
                {
                  "Action": "Viewed",
                  "Country": "Mozambique",
                  "Item": "Walking Shoes",
                  "Price": 79.99,
                  "index": 1227
                },
                {
                  "Action": "Purchased",
                  "Country": "Mozambique",
                  "Item": "Walking Shoes",
                  "Price": 79.99,
                  "index": 1228
                },
                {
                  "Action": "Added",
                  "Country": "Mozambique",
                  "Item": "Walking Shoes",
                  "Price": 79.99,
                  "index": 1229
                },
                {
                  "Action": "Viewed",
                  "Country": "Uruguay",
                  "Item": "Suit Pant",
                  "Price": 95,
                  "index": 1230
                },
                {
                  "Action": "Added",
                  "Country": "Nigeria",
                  "Item": "Silver Necklace",
                  "Price": 15.5,
                  "index": 1231
                },
                {
                  "Action": "Viewed",
                  "Country": "Nigeria",
                  "Item": "Silver Necklace",
                  "Price": 15.5,
                  "index": 1232
                },
                {
                  "Action": "Added",
                  "Country": "Republic of Korea",
                  "Item": "Cosmos T-shirt",
                  "Price": 350,
                  "index": 1233
                },
                {
                  "Action": "Viewed",
                  "Country": "Republic of Korea",
                  "Item": "Cosmos T-shirt",
                  "Price": 350,
                  "index": 1234
                },
                {
                  "Action": "Added",
                  "Country": "Egypt",
                  "Item": "Athletic Shorts",
                  "Price": 22.5,
                  "index": 1235
                },
                {
                  "Action": "Added",
                  "Country": "Bhutan",
                  "Item": "Cardigan Sweater",
                  "Price": 25,
                  "index": 1236
                },
                {
                  "Action": "Viewed",
                  "Country": "Bhutan",
                  "Item": "Cardigan Sweater",
                  "Price": 25,
                  "index": 1237
                },
                {
                  "Action": "Purchased",
                  "Country": "Cambodia",
                  "Item": "Black Dress",
                  "Price": 65,
                  "index": 1238
                },
                {
                  "Action": "Viewed",
                  "Country": "Egypt",
                  "Item": "Athletic Shorts",
                  "Price": 22.5,
                  "index": 1239
                },
                {
                  "Action": "Viewed",
                  "Country": "Cambodia",
                  "Item": "Black Dress",
                  "Price": 65,
                  "index": 1240
                },
                {
                  "Action": "Purchased",
                  "Country": "Trinidad and Tobago",
                  "Item": "Sandals",
                  "Price": 12,
                  "index": 1241
                },
                {
                  "Action": "Added",
                  "Country": "Cambodia",
                  "Item": "Black Dress",
                  "Price": 65,
                  "index": 1242
                },
                {
                  "Action": "Viewed",
                  "Country": "Trinidad and Tobago",
                  "Item": "Sandals",
                  "Price": 12,
                  "index": 1243
                },
                {
                  "Action": "Added",
                  "Country": "Timor-Leste",
                  "Item": "Sandals",
                  "Price": 12,
                  "index": 1244
                },
                {
                  "Action": "Added",
                  "Country": "Trinidad and Tobago",
                  "Item": "Sandals",
                  "Price": 12,
                  "index": 1245
                },
                {
                  "Action": "Viewed",
                  "Country": "Kiribati",
                  "Item": "Socks",
                  "Price": 3.75,
                  "index": 1246
                },
                {
                  "Action": "Added",
                  "Country": "Kiribati",
                  "Item": "Socks",
                  "Price": 3.75,
                  "index": 1247
                },
                {
                  "Action": "Viewed",
                  "Country": "Malta",
                  "Item": "Denim Jacket",
                  "Price": 31.99,
                  "index": 1248
                },
                {
                  "Action": "Viewed",
                  "Country": "Timor-Leste",
                  "Item": "Sandals",
                  "Price": 12,
                  "index": 1249
                },
                {
                  "Action": "Added",
                  "Country": "Montserrat",
                  "Item": "Athletic Shorts",
                  "Price": 22.5,
                  "index": 1250
                },
                {
                  "Action": "Viewed",
                  "Country": "Montserrat",
                  "Item": "Athletic Shorts",
                  "Price": 22.5,
                  "index": 1251
                },
                {
                  "Action": "Viewed",
                  "Country": "Qatar",
                  "Item": "Sweatpants",
                  "Price": 21,
                  "index": 1252
                },
                {
                  "Action": "Purchased",
                  "Country": "Qatar",
                  "Item": "Sweatpants",
                  "Price": 21,
                  "index": 1253
                },
                {
                  "Action": "Added",
                  "Country": "Qatar",
                  "Item": "Sweatpants",
                  "Price": 21,
                  "index": 1254
                },
                {
                  "Action": "Added",
                  "Country": "Singapore",
                  "Item": "Windbreaker Jacket",
                  "Price": 49.99,
                  "index": 1255
                },
                {
                  "Action": "Viewed",
                  "Country": "Singapore",
                  "Item": "Windbreaker Jacket",
                  "Price": 49.99,
                  "index": 1256
                },
                {
                  "Action": "Purchased",
                  "Country": "Saint Kitts and Nevis",
                  "Item": "Cardigan Sweater",
                  "Price": 25,
                  "index": 1257
                },
                {
                  "Action": "Added",
                  "Country": "Saint Kitts and Nevis",
                  "Item": "Cardigan Sweater",
                  "Price": 25,
                  "index": 1258
                },
                {
                  "Action": "Viewed",
                  "Country": "Saint Kitts and Nevis",
                  "Item": "Cardigan Sweater",
                  "Price": 25,
                  "index": 1259
                },
                {
                  "Action": "Added",
                  "Country": "Benin",
                  "Item": "Sandals",
                  "Price": 12,
                  "index": 1260
                },
                {
                  "Action": "Viewed",
                  "Country": "Benin",
                  "Item": "Sandals",
                  "Price": 12,
                  "index": 1261
                },
                {
                  "Action": "Purchased",
                  "Country": "Lebanon",
                  "Item": "Red Top",
                  "Price": 33,
                  "index": 1262
                },
                {
                  "Action": "Viewed",
                  "Country": "Lebanon",
                  "Item": "Red Top",
                  "Price": 33,
                  "index": 1263
                },
                {
                  "Action": "Purchased",
                  "Country": "Benin",
                  "Item": "Athletic Shoes",
                  "Price": 75,
                  "index": 1264
                },
                {
                  "Action": "Viewed",
                  "Country": "Benin",
                  "Item": "Athletic Shoes",
                  "Price": 75,
                  "index": 1265
                },
                {
                  "Action": "Added",
                  "Country": "Lebanon",
                  "Item": "Red Top",
                  "Price": 33,
                  "index": 1266
                },
                {
                  "Action": "Purchased",
                  "Country": "Taiwan",
                  "Item": "Blue Sweater",
                  "Price": 27,
                  "index": 1267
                },
                {
                  "Action": "Added",
                  "Country": "Benin",
                  "Item": "Athletic Shoes",
                  "Price": 75,
                  "index": 1268
                },
                {
                  "Action": "Added",
                  "Country": "Taiwan",
                  "Item": "Blue Sweater",
                  "Price": 27,
                  "index": 1269
                },
                {
                  "Action": "Viewed",
                  "Country": "Taiwan",
                  "Item": "Blue Sweater",
                  "Price": 27,
                  "index": 1270
                },
                {
                  "Action": "Purchased",
                  "Country": "Holy See (Vatican City State)",
                  "Item": "Athletic Shorts",
                  "Price": 22.5,
                  "index": 1271
                },
                {
                  "Action": "Viewed",
                  "Country": "Holy See (Vatican City State)",
                  "Item": "Athletic Shorts",
                  "Price": 22.5,
                  "index": 1272
                },
                {
                  "Action": "Viewed",
                  "Country": "Norfolk Island",
                  "Item": "Cosmos T-shirt",
                  "Price": 350,
                  "index": 1273
                },
                {
                  "Action": "Purchased",
                  "Country": "Holy See (Vatican City State)",
                  "Item": "Blue Sweater",
                  "Price": 27,
                  "index": 1274
                },
                {
                  "Action": "Added",
                  "Country": "Holy See (Vatican City State)",
                  "Item": "Athletic Shorts",
                  "Price": 22.5,
                  "index": 1275
                },
                {
                  "Action": "Viewed",
                  "Country": "Holy See (Vatican City State)",
                  "Item": "Blue Sweater",
                  "Price": 27,
                  "index": 1276
                },
                {
                  "Action": "Added",
                  "Country": "Latvia",
                  "Item": "Black Hoodie",
                  "Price": 25,
                  "index": 1277
                },
                {
                  "Action": "Added",
                  "Country": "Holy See (Vatican City State)",
                  "Item": "Blue Sweater",
                  "Price": 27,
                  "index": 1278
                },
                {
                  "Action": "Viewed",
                  "Country": "Latvia",
                  "Item": "Black Hoodie",
                  "Price": 25,
                  "index": 1279
                },
                {
                  "Action": "Viewed",
                  "Country": "Tunisia",
                  "Item": "Black Tee",
                  "Price": 9,
                  "index": 1280
                },
                {
                  "Action": "Viewed",
                  "Country": "Serbia",
                  "Item": "Denim Jacket",
                  "Price": 31.99,
                  "index": 1281
                },
                {
                  "Action": "Viewed",
                  "Country": "Haiti",
                  "Item": "Flannel Shirt",
                  "Price": 19.99,
                  "index": 1282
                },
                {
                  "Action": "Added",
                  "Country": "Mauritius",
                  "Item": "Windbreaker Jacket",
                  "Price": 49.99,
                  "index": 1283
                },
                {
                  "Action": "Viewed",
                  "Country": "Mauritius",
                  "Item": "Windbreaker Jacket",
                  "Price": 49.99,
                  "index": 1284
                },
                {
                  "Action": "Purchased",
                  "Country": "Czech Republic",
                  "Item": "Athletic Shoes",
                  "Price": 75,
                  "index": 1285
                },
                {
                  "Action": "Added",
                  "Country": "Haiti",
                  "Item": "Flannel Shirt",
                  "Price": 19.99,
                  "index": 1286
                },
                {
                  "Action": "Viewed",
                  "Country": "Czech Republic",
                  "Item": "Athletic Shoes",
                  "Price": 75,
                  "index": 1287
                },
                {
                  "Action": "Added",
                  "Country": "Czech Republic",
                  "Item": "Athletic Shoes",
                  "Price": 75,
                  "index": 1288
                },
                {
                  "Action": "Viewed",
                  "Country": "Puerto Rico",
                  "Item": "Puffy Jacket",
                  "Price": 99.99,
                  "index": 1289
                },
                {
                  "Action": "Purchased",
                  "Country": "Gibraltar",
                  "Item": "Sweatpants",
                  "Price": 21,
                  "index": 1290
                },
                {
                  "Action": "Added",
                  "Country": "Puerto Rico",
                  "Item": "Puffy Jacket",
                  "Price": 99.99,
                  "index": 1291
                },
                {
                  "Action": "Viewed",
                  "Country": "Gibraltar",
                  "Item": "Sweatpants",
                  "Price": 21,
                  "index": 1292
                },
                {
                  "Action": "Added",
                  "Country": "Gibraltar",
                  "Item": "Sweatpants",
                  "Price": 21,
                  "index": 1293
                },
                {
                  "Action": "Viewed",
                  "Country": "Azerbaijan",
                  "Item": "Beanie",
                  "Price": 10,
                  "index": 1294
                },
                {
                  "Action": "Viewed",
                  "Country": "Romania",
                  "Item": "Jeans",
                  "Price": 85,
                  "index": 1295
                },
                {
                  "Action": "Purchased",
                  "Country": "Sri Lanka",
                  "Item": "Walking Shoes",
                  "Price": 79.99,
                  "index": 1296
                },
                {
                  "Action": "Viewed",
                  "Country": "India",
                  "Item": "Cosmos T-shirt",
                  "Price": 350,
                  "index": 1297
                },
                {
                  "Action": "Added",
                  "Country": "Sri Lanka",
                  "Item": "Walking Shoes",
                  "Price": 79.99,
                  "index": 1298
                },
                {
                  "Action": "Viewed",
                  "Country": "Chad",
                  "Item": "Pant",
                  "Price": 40,
                  "index": 1299
                },
                {
                  "Action": "Viewed",
                  "Country": "Guinea-Bissau",
                  "Item": "Black Hoodie",
                  "Price": 25,
                  "index": 1300
                },
                {
                  "Action": "Added",
                  "Country": "Iceland",
                  "Item": "Athletic Shorts",
                  "Price": 22.5,
                  "index": 1301
                },
                {
                  "Action": "Viewed",
                  "Country": "Iceland",
                  "Item": "Athletic Shorts",
                  "Price": 22.5,
                  "index": 1302
                },
                {
                  "Action": "Added",
                  "Country": "Western Sahara",
                  "Item": "Dark Jeans",
                  "Price": 90,
                  "index": 1303
                },
                {
                  "Action": "Added",
                  "Country": "Sri Lanka",
                  "Item": "Athletic Shoes",
                  "Price": 70,
                  "index": 1304
                },
                {
                  "Action": "Viewed",
                  "Country": "Guadeloupe",
                  "Item": "Puffy Jacket",
                  "Price": 105,
                  "index": 1305
                },
                {
                  "Action": "Viewed",
                  "Country": "Sri Lanka",
                  "Item": "Athletic Shoes",
                  "Price": 70,
                  "index": 1306
                },
                {
                  "Action": "Viewed",
                  "Country": "Azerbaijan",
                  "Item": "Black Dress",
                  "Price": 65,
                  "index": 1307
                },
                {
                  "Action": "Purchased",
                  "Country": "Azerbaijan",
                  "Item": "Black Dress",
                  "Price": 65,
                  "index": 1308
                },
                {
                  "Action": "Added",
                  "Country": "Azerbaijan",
                  "Item": "Black Dress",
                  "Price": 65,
                  "index": 1309
                },
                {
                  "Action": "Purchased",
                  "Country": "Uzbekistan",
                  "Item": "Windbreaker Jacket",
                  "Price": 49.99,
                  "index": 1310
                },
                {
                  "Action": "Viewed",
                  "Country": "Uzbekistan",
                  "Item": "Windbreaker Jacket",
                  "Price": 49.99,
                  "index": 1311
                },
                {
                  "Action": "Added",
                  "Country": "Uzbekistan",
                  "Item": "Windbreaker Jacket",
                  "Price": 49.99,
                  "index": 1312
                },
                {
                  "Action": "Purchased",
                  "Country": "Armenia",
                  "Item": "Silver Necklace",
                  "Price": 15.5,
                  "index": 1313
                },
                {
                  "Action": "Viewed",
                  "Country": "Armenia",
                  "Item": "Silver Necklace",
                  "Price": 15.5,
                  "index": 1314
                },
                {
                  "Action": "Added",
                  "Country": "Armenia",
                  "Item": "Silver Necklace",
                  "Price": 15.5,
                  "index": 1315
                },
                {
                  "Action": "Purchased",
                  "Country": "Argentina",
                  "Item": "Beanie",
                  "Price": 10,
                  "index": 1316
                },
                {
                  "Action": "Added",
                  "Country": "Argentina",
                  "Item": "Beanie",
                  "Price": 10,
                  "index": 1317
                },
                {
                  "Action": "Viewed",
                  "Country": "Palau",
                  "Item": "Gloves",
                  "Price": 20,
                  "index": 1318
                },
                {
                  "Action": "Added",
                  "Country": "Palau",
                  "Item": "Gloves",
                  "Price": 20,
                  "index": 1319
                },
                {
                  "Action": "Viewed",
                  "Country": "Argentina",
                  "Item": "Beanie",
                  "Price": 10,
                  "index": 1320
                },
                {
                  "Action": "Added",
                  "Country": "South Georgia and the South Sandwich Islands",
                  "Item": "Athletic Shoes",
                  "Price": 75,
                  "index": 1321
                },
                {
                  "Action": "Viewed",
                  "Country": "South Georgia and the South Sandwich Islands",
                  "Item": "Athletic Shoes",
                  "Price": 75,
                  "index": 1322
                },
                {
                  "Action": "Purchased",
                  "Country": "Holy See (Vatican City State)",
                  "Item": " Necklace",
                  "Price": 12,
                  "index": 1323
                },
                {
                  "Action": "Viewed",
                  "Country": "Slovenia",
                  "Item": "Socks",
                  "Price": 3.75,
                  "index": 1324
                },
                {
                  "Action": "Added",
                  "Country": "Holy See (Vatican City State)",
                  "Item": " Necklace",
                  "Price": 12,
                  "index": 1325
                },
                {
                  "Action": "Viewed",
                  "Country": "Holy See (Vatican City State)",
                  "Item": " Necklace",
                  "Price": 12,
                  "index": 1326
                },
                {
                  "Action": "Viewed",
                  "Country": "Yemen",
                  "Item": "Crewneck Sweater",
                  "Price": 22,
                  "index": 1327
                },
                {
                  "Action": "Added",
                  "Country": "Ethiopia",
                  "Item": "Red Dress",
                  "Price": 130,
                  "index": 1328
                },
                {
                  "Action": "Added",
                  "Country": "Hungary",
                  "Item": "Denim Jacket",
                  "Price": 31.99,
                  "index": 1329
                },
                {
                  "Action": "Viewed",
                  "Country": "Luxembourg",
                  "Item": "White Sweater",
                  "Price": 32,
                  "index": 1330
                },
                {
                  "Action": "Viewed",
                  "Country": "Ethiopia",
                  "Item": "Red Dress",
                  "Price": 130,
                  "index": 1331
                },
                {
                  "Action": "Added",
                  "Country": "Timor-Leste",
                  "Item": "Light Jeans",
                  "Price": 80,
                  "index": 1332
                },
                {
                  "Action": "Viewed",
                  "Country": "Timor-Leste",
                  "Item": "Light Jeans",
                  "Price": 80,
                  "index": 1333
                },
                {
                  "Action": "Viewed",
                  "Country": "Hungary",
                  "Item": "Denim Jacket",
                  "Price": 31.99,
                  "index": 1334
                },
                {
                  "Action": "Purchased",
                  "Country": "Angola",
                  "Item": "Red Top",
                  "Price": 33,
                  "index": 1335
                },
                {
                  "Action": "Added",
                  "Country": "Angola",
                  "Item": "Red Top",
                  "Price": 33,
                  "index": 1336
                },
                {
                  "Action": "Viewed",
                  "Country": "Angola",
                  "Item": "Red Top",
                  "Price": 33,
                  "index": 1337
                },
                {
                  "Action": "Added",
                  "Country": "Turks and Caicos Islands",
                  "Item": "Windbreaker Jacket",
                  "Price": 49.99,
                  "index": 1338
                },
                {
                  "Action": "Viewed",
                  "Country": "Turks and Caicos Islands",
                  "Item": "Windbreaker Jacket",
                  "Price": 49.99,
                  "index": 1339
                },
                {
                  "Action": "Viewed",
                  "Country": "Andorra",
                  "Item": "White Dress",
                  "Price": 84.99,
                  "index": 1340
                },
                {
                  "Action": "Added",
                  "Country": "Bahamas",
                  "Item": "Suit Jacket",
                  "Price": 92,
                  "index": 1341
                },
                {
                  "Action": "Viewed",
                  "Country": "Chile",
                  "Item": "Beanie",
                  "Price": 10,
                  "index": 1342
                },
                {
                  "Action": "Viewed",
                  "Country": "Bahamas",
                  "Item": "Suit Jacket",
                  "Price": 92,
                  "index": 1343
                },
                {
                  "Action": "Viewed",
                  "Country": "Qatar",
                  "Item": "Denim Jacket",
                  "Price": 31.99,
                  "index": 1344
                },
                {
                  "Action": "Added",
                  "Country": "Cook Islands",
                  "Item": "Fleece Jacket",
                  "Price": 65,
                  "index": 1345
                },
                {
                  "Action": "Viewed",
                  "Country": "Cook Islands",
                  "Item": "Fleece Jacket",
                  "Price": 65,
                  "index": 1346
                },
                {
                  "Action": "Added",
                  "Country": "Madagascar",
                  "Item": "High Heel Shoe",
                  "Price": 72,
                  "index": 1347
                },
                {
                  "Action": "Purchased",
                  "Country": "Denmark",
                  "Item": "White Dress",
                  "Price": 84.99,
                  "index": 1348
                },
                {
                  "Action": "Viewed",
                  "Country": "Madagascar",
                  "Item": "High Heel Shoe",
                  "Price": 72,
                  "index": 1349
                },
                {
                  "Action": "Purchased",
                  "Country": "Niger",
                  "Item": "Rainjacket",
                  "Price": 55,
                  "index": 1350
                },
                {
                  "Action": "Viewed",
                  "Country": "Denmark",
                  "Item": "White Dress",
                  "Price": 84.99,
                  "index": 1351
                },
                {
                  "Action": "Viewed",
                  "Country": "Niger",
                  "Item": "Rainjacket",
                  "Price": 55,
                  "index": 1352
                },
                {
                  "Action": "Added",
                  "Country": "Niger",
                  "Item": "Rainjacket",
                  "Price": 55,
                  "index": 1353
                },
                {
                  "Action": "Added",
                  "Country": "Denmark",
                  "Item": "White Dress",
                  "Price": 84.99,
                  "index": 1354
                },
                {
                  "Action": "Viewed",
                  "Country": "Palestinian Territory",
                  "Item": "Puffy Jacket",
                  "Price": 105,
                  "index": 1355
                },
                {
                  "Action": "Added",
                  "Country": "Palestinian Territory",
                  "Item": "Puffy Jacket",
                  "Price": 105,
                  "index": 1356
                },
                {
                  "Action": "Purchased",
                  "Country": "Netherlands Antilles",
                  "Item": "Blazer Jacket",
                  "Price": 87.5,
                  "index": 1357
                },
                {
                  "Action": "Viewed",
                  "Country": "Tuvalu",
                  "Item": "Crewneck Sweater",
                  "Price": 22,
                  "index": 1358
                },
                {
                  "Action": "Viewed",
                  "Country": "Netherlands Antilles",
                  "Item": "Blazer Jacket",
                  "Price": 87.5,
                  "index": 1359
                },
                {
                  "Action": "Added",
                  "Country": "Netherlands Antilles",
                  "Item": "Blazer Jacket",
                  "Price": 87.5,
                  "index": 1360
                },
                {
                  "Action": "Added",
                  "Country": "Georgia",
                  "Item": "Black Tee",
                  "Price": 9,
                  "index": 1361
                },
                {
                  "Action": "Added",
                  "Country": "Nauru",
                  "Item": "Puffy Jacket",
                  "Price": 95.99,
                  "index": 1362
                },
                {
                  "Action": "Viewed",
                  "Country": "Nauru",
                  "Item": "Puffy Jacket",
                  "Price": 95.99,
                  "index": 1363
                },
                {
                  "Action": "Viewed",
                  "Country": "Georgia",
                  "Item": "Black Tee",
                  "Price": 9,
                  "index": 1364
                },
                {
                  "Action": "Viewed",
                  "Country": "Guernsey",
                  "Item": "Earring",
                  "Price": 8,
                  "index": 1365
                },
                {
                  "Action": "Purchased",
                  "Country": "Denmark",
                  "Item": "Sandal",
                  "Price": 35.5,
                  "index": 1366
                },
                {
                  "Action": "Added",
                  "Country": "Denmark",
                  "Item": "Sandal",
                  "Price": 35.5,
                  "index": 1367
                },
                {
                  "Action": "Viewed",
                  "Country": "Denmark",
                  "Item": "Sandal",
                  "Price": 35.5,
                  "index": 1368
                },
                {
                  "Action": "Added",
                  "Country": "United Kingdom",
                  "Item": "Suit Pant",
                  "Price": 95,
                  "index": 1369
                },
                {
                  "Action": "Purchased",
                  "Country": "Saudi Arabia",
                  "Item": "Light Jeans",
                  "Price": 80,
                  "index": 1370
                },
                {
                  "Action": "Viewed",
                  "Country": "United Kingdom",
                  "Item": "Suit Pant",
                  "Price": 95,
                  "index": 1371
                },
                {
                  "Action": "Viewed",
                  "Country": "Saudi Arabia",
                  "Item": "Light Jeans",
                  "Price": 80,
                  "index": 1372
                },
                {
                  "Action": "Added",
                  "Country": "Saudi Arabia",
                  "Item": "Light Jeans",
                  "Price": 80,
                  "index": 1373
                },
                {
                  "Action": "Purchased",
                  "Country": "Mozambique",
                  "Item": "Bag",
                  "Price": 37.5,
                  "index": 1374
                },
                {
                  "Action": "Viewed",
                  "Country": "Micronesia",
                  "Item": "Denim Shorts",
                  "Price": 50,
                  "index": 1375
                },
                {
                  "Action": "Viewed",
                  "Country": "Mozambique",
                  "Item": "Bag",
                  "Price": 37.5,
                  "index": 1376
                },
                {
                  "Action": "Viewed",
                  "Country": "Ireland",
                  "Item": "White Sweater",
                  "Price": 32,
                  "index": 1377
                },
                {
                  "Action": "Added",
                  "Country": "Mozambique",
                  "Item": "Bag",
                  "Price": 37.5,
                  "index": 1378
                },
                {
                  "Action": "Purchased",
                  "Country": "Guernsey",
                  "Item": "Windbreaker Jacket",
                  "Price": 49.99,
                  "index": 1379
                },
                {
                  "Action": "Viewed",
                  "Country": "Guernsey",
                  "Item": "Windbreaker Jacket",
                  "Price": 49.99,
                  "index": 1380
                },
                {
                  "Action": "Purchased",
                  "Country": "Slovakia (Slovak Republic)",
                  "Item": "Red Dress",
                  "Price": 130,
                  "index": 1381
                },
                {
                  "Action": "Added",
                  "Country": "Guernsey",
                  "Item": "Windbreaker Jacket",
                  "Price": 49.99,
                  "index": 1382
                },
                {
                  "Action": "Viewed",
                  "Country": "Slovakia (Slovak Republic)",
                  "Item": "Red Dress",
                  "Price": 130,
                  "index": 1383
                },
                {
                  "Action": "Purchased",
                  "Country": "Brazil",
                  "Item": "Red Dress",
                  "Price": 130,
                  "index": 1384
                },
                {
                  "Action": "Added",
                  "Country": "Slovakia (Slovak Republic)",
                  "Item": "Red Dress",
                  "Price": 130,
                  "index": 1385
                },
                {
                  "Action": "Viewed",
                  "Country": "Brazil",
                  "Item": "Red Dress",
                  "Price": 130,
                  "index": 1386
                },
                {
                  "Action": "Viewed",
                  "Country": "Guatemala",
                  "Item": "Silver Necklace",
                  "Price": 15.5,
                  "index": 1387
                },
                {
                  "Action": "Added",
                  "Country": "Brazil",
                  "Item": "Red Dress",
                  "Price": 130,
                  "index": 1388
                },
                {
                  "Action": "Added",
                  "Country": "Honduras",
                  "Item": "Puffy Jacket",
                  "Price": 95.99,
                  "index": 1389
                },
                {
                  "Action": "Viewed",
                  "Country": "Honduras",
                  "Item": "Puffy Jacket",
                  "Price": 95.99,
                  "index": 1390
                },
                {
                  "Action": "Viewed",
                  "Country": "Armenia",
                  "Item": "Blazer Jacket",
                  "Price": 87.5,
                  "index": 1391
                },
                {
                  "Action": "Added",
                  "Country": "Solomon Islands",
                  "Item": "Puffy Jacket",
                  "Price": 105,
                  "index": 1392
                },
                {
                  "Action": "Viewed",
                  "Country": "Solomon Islands",
                  "Item": "Puffy Jacket",
                  "Price": 105,
                  "index": 1393
                },
                {
                  "Action": "Added",
                  "Country": "Saudi Arabia",
                  "Item": "Athletic Shorts",
                  "Price": 22.5,
                  "index": 1394
                },
                {
                  "Action": "Viewed",
                  "Country": "Saudi Arabia",
                  "Item": "Athletic Shorts",
                  "Price": 22.5,
                  "index": 1395
                },
                {
                  "Action": "Added",
                  "Country": "Liberia",
                  "Item": "Blue Sweater",
                  "Price": 27,
                  "index": 1396
                },
                {
                  "Action": "Purchased",
                  "Country": "Liberia",
                  "Item": "Blue Sweater",
                  "Price": 27,
                  "index": 1397
                },
                {
                  "Action": "Viewed",
                  "Country": "Liberia",
                  "Item": "Blue Sweater",
                  "Price": 27,
                  "index": 1398
                },
                {
                  "Action": "Viewed",
                  "Country": "Somalia",
                  "Item": "Red Dress",
                  "Price": 130,
                  "index": 1399
                },
                {
                  "Action": "Viewed",
                  "Country": "Saint Barthelemy",
                  "Item": "Puffy Jacket",
                  "Price": 95.99,
                  "index": 1400
                },
                {
                  "Action": "Added",
                  "Country": "Somalia",
                  "Item": "Red Dress",
                  "Price": 130,
                  "index": 1401
                },
                {
                  "Action": "Purchased",
                  "Country": "Liechtenstein",
                  "Item": "Baseball Hat",
                  "Price": 17,
                  "index": 1402
                },
                {
                  "Action": "Viewed",
                  "Country": "Bahrain",
                  "Item": "Puffy Jacket",
                  "Price": 95.99,
                  "index": 1403
                },
                {
                  "Action": "Viewed",
                  "Country": "Saint Barthelemy",
                  "Item": "Socks",
                  "Price": 3.75,
                  "index": 1404
                },
                {
                  "Action": "Added",
                  "Country": "Sao Tome and Principe",
                  "Item": "White Sweater",
                  "Price": 32,
                  "index": 1405
                },
                {
                  "Action": "Purchased",
                  "Country": "Sao Tome and Principe",
                  "Item": "White Sweater",
                  "Price": 32,
                  "index": 1406
                },
                {
                  "Action": "Viewed",
                  "Country": "Sao Tome and Principe",
                  "Item": "White Sweater",
                  "Price": 32,
                  "index": 1407
                },
                {
                  "Action": "Added",
                  "Country": "Anguilla",
                  "Item": "Crewneck Sweater",
                  "Price": 22,
                  "index": 1408
                },
                {
                  "Action": "Added",
                  "Country": "Cocos (Keeling) Islands",
                  "Item": "Puffy Jacket",
                  "Price": 105,
                  "index": 1409
                },
                {
                  "Action": "Viewed",
                  "Country": "Anguilla",
                  "Item": "Crewneck Sweater",
                  "Price": 22,
                  "index": 1410
                },
                {
                  "Action": "Viewed",
                  "Country": "Cocos (Keeling) Islands",
                  "Item": "Puffy Jacket",
                  "Price": 105,
                  "index": 1411
                },
                {
                  "Action": "Added",
                  "Country": "New Zealand",
                  "Item": "Pant",
                  "Price": 40,
                  "index": 1412
                },
                {
                  "Action": "Added",
                  "Country": "Comoros",
                  "Item": "Denim Shorts",
                  "Price": 50,
                  "index": 1413
                },
                {
                  "Action": "Purchased",
                  "Country": "Liberia",
                  "Item": "Gloves",
                  "Price": 20,
                  "index": 1414
                },
                {
                  "Action": "Viewed",
                  "Country": "Comoros",
                  "Item": "Denim Shorts",
                  "Price": 50,
                  "index": 1415
                },
                {
                  "Action": "Added",
                  "Country": "Gambia",
                  "Item": "Earring",
                  "Price": 8,
                  "index": 1416
                },
                {
                  "Action": "Viewed",
                  "Country": "Gambia",
                  "Item": "Earring",
                  "Price": 8,
                  "index": 1417
                },
                {
                  "Action": "Purchased",
                  "Country": "Kyrgyz Republic",
                  "Item": "Sweatpants",
                  "Price": 21,
                  "index": 1418
                },
                {
                  "Action": "Added",
                  "Country": "Kyrgyz Republic",
                  "Item": "Sweatpants",
                  "Price": 21,
                  "index": 1419
                },
                {
                  "Action": "Viewed",
                  "Country": "Kyrgyz Republic",
                  "Item": "Sweatpants",
                  "Price": 21,
                  "index": 1420
                },
                {
                  "Action": "Viewed",
                  "Country": "Guinea-Bissau",
                  "Item": "Puffy Jacket",
                  "Price": 105,
                  "index": 1421
                },
                {
                  "Action": "Added",
                  "Country": "Turkmenistan",
                  "Item": "Windbreaker Jacket",
                  "Price": 49.99,
                  "index": 1422
                },
                {
                  "Action": "Added",
                  "Country": "Russian Federation",
                  "Item": "Crewneck Sweater",
                  "Price": 22,
                  "index": 1423
                },
                {
                  "Action": "Viewed",
                  "Country": "Namibia",
                  "Item": "Denim Jacket",
                  "Price": 31.99,
                  "index": 1424
                },
                {
                  "Action": "Viewed",
                  "Country": "Russian Federation",
                  "Item": "Crewneck Sweater",
                  "Price": 22,
                  "index": 1425
                },
                {
                  "Action": "Added",
                  "Country": "Namibia",
                  "Item": "Denim Jacket",
                  "Price": 31.99,
                  "index": 1426
                },
                {
                  "Action": "Added",
                  "Country": "South Georgia and the South Sandwich Islands",
                  "Item": "Athletic Shoes",
                  "Price": 70,
                  "index": 1427
                },
                {
                  "Action": "Viewed",
                  "Country": "South Georgia and the South Sandwich Islands",
                  "Item": "Athletic Shoes",
                  "Price": 70,
                  "index": 1428
                },
                {
                  "Action": "Added",
                  "Country": "Sudan",
                  "Item": "Jeans",
                  "Price": 85,
                  "index": 1429
                },
                {
                  "Action": "Purchased",
                  "Country": "Namibia",
                  "Item": "Denim Jacket",
                  "Price": 31.99,
                  "index": 1430
                },
                {
                  "Action": "Viewed",
                  "Country": "Sudan",
                  "Item": "Jeans",
                  "Price": 85,
                  "index": 1431
                },
                {
                  "Action": "Purchased",
                  "Country": "Sudan",
                  "Item": "Jeans",
                  "Price": 85,
                  "index": 1432
                },
                {
                  "Action": "Viewed",
                  "Country": "Mali",
                  "Item": "Denim Jacket",
                  "Price": 31.99,
                  "index": 1433
                },
                {
                  "Action": "Added",
                  "Country": "Mali",
                  "Item": "Denim Jacket",
                  "Price": 31.99,
                  "index": 1434
                },
                {
                  "Action": "Viewed",
                  "Country": "Romania",
                  "Item": "Green Sweater",
                  "Price": 30,
                  "index": 1435
                },
                {
                  "Action": "Viewed",
                  "Country": "Puerto Rico",
                  "Item": "White Shirt",
                  "Price": 25.2,
                  "index": 1436
                },
                {
                  "Action": "Added",
                  "Country": "Bermuda",
                  "Item": "Puffy Jacket",
                  "Price": 105,
                  "index": 1437
                },
                {
                  "Action": "Viewed",
                  "Country": "Bermuda",
                  "Item": "Puffy Jacket",
                  "Price": 105,
                  "index": 1438
                },
                {
                  "Action": "Added",
                  "Country": "Libyan Arab Jamahiriya",
                  "Item": "Windbreaker Jacket",
                  "Price": 49.99,
                  "index": 1439
                },
                {
                  "Action": "Viewed",
                  "Country": "Libyan Arab Jamahiriya",
                  "Item": "Windbreaker Jacket",
                  "Price": 49.99,
                  "index": 1440
                },
                {
                  "Action": "Viewed",
                  "Country": "Virgin Islands",
                  "Item": " Necklace",
                  "Price": 12,
                  "index": 1441
                },
                {
                  "Action": "Purchased",
                  "Country": "Libyan Arab Jamahiriya",
                  "Item": "Windbreaker Jacket",
                  "Price": 49.99,
                  "index": 1442
                },
                {
                  "Action": "Purchased",
                  "Country": "Lao People's Democratic Republic",
                  "Item": "Black Dress",
                  "Price": 65,
                  "index": 1443
                },
                {
                  "Action": "Viewed",
                  "Country": "Lao People's Democratic Republic",
                  "Item": "Black Dress",
                  "Price": 65,
                  "index": 1444
                },
                {
                  "Action": "Added",
                  "Country": "Lao People's Democratic Republic",
                  "Item": "Black Dress",
                  "Price": 65,
                  "index": 1445
                },
                {
                  "Action": "Viewed",
                  "Country": "Sierra Leone",
                  "Item": "Windbreaker Jacket",
                  "Price": 49.99,
                  "index": 1446
                },
                {
                  "Action": "Viewed",
                  "Country": "Djibouti",
                  "Item": "Windbreaker Jacket",
                  "Price": 49.99,
                  "index": 1447
                },
                {
                  "Action": "Added",
                  "Country": "Djibouti",
                  "Item": "Windbreaker Jacket",
                  "Price": 49.99,
                  "index": 1448
                },
                {
                  "Action": "Viewed",
                  "Country": "Afghanistan",
                  "Item": "Green Sweater",
                  "Price": 30,
                  "index": 1449
                },
                {
                  "Action": "Added",
                  "Country": "Afghanistan",
                  "Item": "Green Sweater",
                  "Price": 30,
                  "index": 1450
                },
                {
                  "Action": "Purchased",
                  "Country": "Switzerland",
                  "Item": "Crewneck Sweater",
                  "Price": 22,
                  "index": 1451
                },
                {
                  "Action": "Viewed",
                  "Country": "Switzerland",
                  "Item": "Crewneck Sweater",
                  "Price": 22,
                  "index": 1452
                },
                {
                  "Action": "Added",
                  "Country": "Switzerland",
                  "Item": "Crewneck Sweater",
                  "Price": 22,
                  "index": 1453
                },
                {
                  "Action": "Added",
                  "Country": "Timor-Leste",
                  "Item": "Puffy Jacket",
                  "Price": 105,
                  "index": 1454
                },
                {
                  "Action": "Viewed",
                  "Country": "Timor-Leste",
                  "Item": "Puffy Jacket",
                  "Price": 105,
                  "index": 1455
                },
                {
                  "Action": "Added",
                  "Country": "Turkmenistan",
                  "Item": "Red Top",
                  "Price": 33,
                  "index": 1456
                },
                {
                  "Action": "Viewed",
                  "Country": "Christmas Island",
                  "Item": "Windbreaker Jacket",
                  "Price": 49.99,
                  "index": 1457
                },
                {
                  "Action": "Purchased",
                  "Country": "Christmas Island",
                  "Item": "Windbreaker Jacket",
                  "Price": 49.99,
                  "index": 1458
                },
                {
                  "Action": "Added",
                  "Country": "Christmas Island",
                  "Item": "Windbreaker Jacket",
                  "Price": 49.99,
                  "index": 1459
                },
                {
                  "Action": "Purchased",
                  "Country": "Saint Kitts and Nevis",
                  "Item": "Flannel Shirt",
                  "Price": 19.99,
                  "index": 1460
                },
                {
                  "Action": "Viewed",
                  "Country": "Spain",
                  "Item": "High Heel Shoe",
                  "Price": 72,
                  "index": 1461
                },
                {
                  "Action": "Added",
                  "Country": "Spain",
                  "Item": "High Heel Shoe",
                  "Price": 72,
                  "index": 1462
                },
                {
                  "Action": "Viewed",
                  "Country": "Saudi Arabia",
                  "Item": "Suit Pant",
                  "Price": 95,
                  "index": 1463
                },
                {
                  "Action": "Viewed",
                  "Country": "Suriname",
                  "Item": "Athletic Shoes",
                  "Price": 70,
                  "index": 1464
                },
                {
                  "Action": "Purchased",
                  "Country": "Virgin Islands",
                  "Item": "White Shirt",
                  "Price": 25.2,
                  "index": 1465
                },
                {
                  "Action": "Viewed",
                  "Country": "Vanuatu",
                  "Item": "Athletic Shoes",
                  "Price": 75,
                  "index": 1466
                },
                {
                  "Action": "Added",
                  "Country": "Saudi Arabia",
                  "Item": "Suit Pant",
                  "Price": 95,
                  "index": 1467
                },
                {
                  "Action": "Added",
                  "Country": "Republic of Korea",
                  "Item": "Cardigan Sweater",
                  "Price": 25,
                  "index": 1468
                },
                {
                  "Action": "Added",
                  "Country": "Vanuatu",
                  "Item": "Athletic Shoes",
                  "Price": 75,
                  "index": 1469
                },
                {
                  "Action": "Purchased",
                  "Country": "Vanuatu",
                  "Item": "Athletic Shoes",
                  "Price": 75,
                  "index": 1470
                },
                {
                  "Action": "Viewed",
                  "Country": "Republic of Korea",
                  "Item": "Cardigan Sweater",
                  "Price": 25,
                  "index": 1471
                },
                {
                  "Action": "Purchased",
                  "Country": "Liberia",
                  "Item": "Light Jeans",
                  "Price": 80,
                  "index": 1472
                },
                {
                  "Action": "Viewed",
                  "Country": "Libyan Arab Jamahiriya",
                  "Item": "Walking Shoes",
                  "Price": 79.99,
                  "index": 1473
                },
                {
                  "Action": "Viewed",
                  "Country": "Liberia",
                  "Item": "Light Jeans",
                  "Price": 80,
                  "index": 1474
                },
                {
                  "Action": "Added",
                  "Country": "Liberia",
                  "Item": "Light Jeans",
                  "Price": 80,
                  "index": 1475
                },
                {
                  "Action": "Viewed",
                  "Country": "Colombia",
                  "Item": "Blazer Jacket",
                  "Price": 87.5,
                  "index": 1476
                },
                {
                  "Action": "Viewed",
                  "Country": "Brazil",
                  "Item": "Walking Shoes",
                  "Price": 79.99,
                  "index": 1477
                },
                {
                  "Action": "Added",
                  "Country": "Algeria",
                  "Item": "Light Jeans",
                  "Price": 80,
                  "index": 1478
                },
                {
                  "Action": "Viewed",
                  "Country": "Algeria",
                  "Item": "Light Jeans",
                  "Price": 80,
                  "index": 1479
                },
                {
                  "Action": "Viewed",
                  "Country": "Syrian Arab Republic",
                  "Item": "Suit Pant",
                  "Price": 95,
                  "index": 1480
                },
                {
                  "Action": "Viewed",
                  "Country": "Albania",
                  "Item": "Dark Jeans",
                  "Price": 90,
                  "index": 1481
                },
                {
                  "Action": "Viewed",
                  "Country": "Botswana",
                  "Item": "Silver Necklace",
                  "Price": 15.5,
                  "index": 1482
                },
                {
                  "Action": "Viewed",
                  "Country": "Netherlands Antilles",
                  "Item": "Crewneck Sweater",
                  "Price": 22,
                  "index": 1483
                },
                {
                  "Action": "Purchased",
                  "Country": "Netherlands Antilles",
                  "Item": "Crewneck Sweater",
                  "Price": 22,
                  "index": 1484
                },
                {
                  "Action": "Added",
                  "Country": "Netherlands Antilles",
                  "Item": "Crewneck Sweater",
                  "Price": 22,
                  "index": 1485
                },
                {
                  "Action": "Added",
                  "Country": "Western Sahara",
                  "Item": "Athletic Shoes",
                  "Price": 75,
                  "index": 1486
                },
                {
                  "Action": "Viewed",
                  "Country": "Congo",
                  "Item": "Jeans",
                  "Price": 85,
                  "index": 1487
                },
                {
                  "Action": "Viewed",
                  "Country": "Botswana",
                  "Item": "Jeans",
                  "Price": 85,
                  "index": 1488
                },
                {
                  "Action": "Viewed",
                  "Country": "Guinea-Bissau",
                  "Item": "Athletic Shorts",
                  "Price": 22.5,
                  "index": 1489
                },
                {
                  "Action": "Purchased",
                  "Country": "Mongolia",
                  "Item": "Red Dress",
                  "Price": 130,
                  "index": 1490
                },
                {
                  "Action": "Viewed",
                  "Country": "Andorra",
                  "Item": "Bag",
                  "Price": 37.5,
                  "index": 1491
                },
                {
                  "Action": "Added",
                  "Country": "Mongolia",
                  "Item": "Red Dress",
                  "Price": 130,
                  "index": 1492
                },
                {
                  "Action": "Viewed",
                  "Country": "Mongolia",
                  "Item": "Red Dress",
                  "Price": 130,
                  "index": 1493
                },
                {
                  "Action": "Purchased",
                  "Country": "Norway",
                  "Item": "Athletic Shoes",
                  "Price": 75,
                  "index": 1494
                },
                {
                  "Action": "Viewed",
                  "Country": "Norway",
                  "Item": "Athletic Shoes",
                  "Price": 75,
                  "index": 1495
                },
                {
                  "Action": "Added",
                  "Country": "Norway",
                  "Item": "Athletic Shoes",
                  "Price": 75,
                  "index": 1496
                },
                {
                  "Action": "Added",
                  "Country": "Guinea-Bissau",
                  "Item": "Athletic Shorts",
                  "Price": 22.5,
                  "index": 1497
                },
                {
                  "Action": "Viewed",
                  "Country": "Djibouti",
                  "Item": " Necklace",
                  "Price": 12,
                  "index": 1498
                },
                {
                  "Action": "Added",
                  "Country": "Burkina Faso",
                  "Item": "Denim Shorts",
                  "Price": 50,
                  "index": 1499
                },
                {
                  "Action": "Viewed",
                  "Country": "Kuwait",
                  "Item": "White Sweater",
                  "Price": 32,
                  "index": 1500
                },
                {
                  "Action": "Viewed",
                  "Country": "Burkina Faso",
                  "Item": "Denim Shorts",
                  "Price": 50,
                  "index": 1501
                },
                {
                  "Action": "Added",
                  "Country": "Djibouti",
                  "Item": " Necklace",
                  "Price": 12,
                  "index": 1502
                },
                {
                  "Action": "Viewed",
                  "Country": "Nicaragua",
                  "Item": "White Dress",
                  "Price": 84.99,
                  "index": 1503
                },
                {
                  "Action": "Viewed",
                  "Country": "Germany",
                  "Item": "Athletic Shoes",
                  "Price": 75,
                  "index": 1504
                },
                {
                  "Action": "Added",
                  "Country": "Tanzania",
                  "Item": "White Sweater",
                  "Price": 32,
                  "index": 1505
                },
                {
                  "Action": "Viewed",
                  "Country": "Malaysia",
                  "Item": "Flannel Shirt",
                  "Price": 19.99,
                  "index": 1506
                },
                {
                  "Action": "Added",
                  "Country": "Algeria",
                  "Item": "Beanie",
                  "Price": 10,
                  "index": 1507
                },
                {
                  "Action": "Added",
                  "Country": "Liechtenstein",
                  "Item": "Baseball Hat",
                  "Price": 17,
                  "index": 1508
                },
                {
                  "Action": "Viewed",
                  "Country": "Costa Rica",
                  "Item": " Necklace",
                  "Price": 12,
                  "index": 1509
                },
                {
                  "Action": "Viewed",
                  "Country": "Marshall Islands",
                  "Item": "Jeans",
                  "Price": 85,
                  "index": 1510
                },
                {
                  "Action": "Added",
                  "Country": "Marshall Islands",
                  "Item": "Jeans",
                  "Price": 85,
                  "index": 1511
                },
                {
                  "Action": "Viewed",
                  "Country": "Martinique",
                  "Item": "Suit Pant",
                  "Price": 95,
                  "index": 1512
                },
                {
                  "Action": "Purchased",
                  "Country": "Australia",
                  "Item": "Blue Sweater",
                  "Price": 27,
                  "index": 1513
                },
                {
                  "Action": "Viewed",
                  "Country": "Cape Verde",
                  "Item": "Cardigan Sweater",
                  "Price": 25,
                  "index": 1514
                },
                {
                  "Action": "Added",
                  "Country": "Germany",
                  "Item": "Black Hoodie",
                  "Price": 25,
                  "index": 1515
                },
                {
                  "Action": "Purchased",
                  "Country": "Bahrain",
                  "Item": "Fleece Jacket",
                  "Price": 65,
                  "index": 1516
                },
                {
                  "Action": "Viewed",
                  "Country": "Bahrain",
                  "Item": "Fleece Jacket",
                  "Price": 65,
                  "index": 1517
                },
                {
                  "Action": "Added",
                  "Country": "Belarus",
                  "Item": "Sandals",
                  "Price": 12,
                  "index": 1518
                },
                {
                  "Action": "Added",
                  "Country": "Bahrain",
                  "Item": "Fleece Jacket",
                  "Price": 65,
                  "index": 1519
                },
                {
                  "Action": "Purchased",
                  "Country": "Sudan",
                  "Item": "Beanie",
                  "Price": 10,
                  "index": 1520
                },
                {
                  "Action": "Viewed",
                  "Country": "Belarus",
                  "Item": "Sandals",
                  "Price": 12,
                  "index": 1521
                },
                {
                  "Action": "Purchased",
                  "Country": "Heard Island and McDonald Islands",
                  "Item": "Jeans",
                  "Price": 85,
                  "index": 1522
                },
                {
                  "Action": "Purchased",
                  "Country": "Guam",
                  "Item": "Scarf",
                  "Price": 29.99,
                  "index": 1523
                },
                {
                  "Action": "Viewed",
                  "Country": "Guam",
                  "Item": "Scarf",
                  "Price": 29.99,
                  "index": 1524
                },
                {
                  "Action": "Viewed",
                  "Country": "Montserrat",
                  "Item": "Pant",
                  "Price": 40,
                  "index": 1525
                },
                {
                  "Action": "Purchased",
                  "Country": "Falkland Islands (Malvinas)",
                  "Item": "Light Jeans",
                  "Price": 80,
                  "index": 1526
                },
                {
                  "Action": "Added",
                  "Country": "Marshall Islands",
                  "Item": "Athletic Shorts",
                  "Price": 22.5,
                  "index": 1527
                },
                {
                  "Action": "Viewed",
                  "Country": "Sri Lanka",
                  "Item": "Fleece Jacket",
                  "Price": 65,
                  "index": 1528
                },
                {
                  "Action": "Viewed",
                  "Country": "Sudan",
                  "Item": "Beanie",
                  "Price": 10,
                  "index": 1529
                },
                {
                  "Action": "Added",
                  "Country": "Pitcairn Islands",
                  "Item": "Suit Pant",
                  "Price": 95,
                  "index": 1530
                },
                {
                  "Action": "Viewed",
                  "Country": "Pitcairn Islands",
                  "Item": "Suit Pant",
                  "Price": 95,
                  "index": 1531
                },
                {
                  "Action": "Purchased",
                  "Country": "Mozambique",
                  "Item": " Flip Flop Shoes",
                  "Price": 14,
                  "index": 1532
                },
                {
                  "Action": "Viewed",
                  "Country": "Mozambique",
                  "Item": " Flip Flop Shoes",
                  "Price": 14,
                  "index": 1533
                },
                {
                  "Action": "Added",
                  "Country": "Tonga",
                  "Item": " Necklace",
                  "Price": 12,
                  "index": 1534
                },
                {
                  "Action": "Viewed",
                  "Country": "Syrian Arab Republic",
                  "Item": "Blue Sweater",
                  "Price": 27,
                  "index": 1535
                },
                {
                  "Action": "Added",
                  "Country": "Sri Lanka",
                  "Item": "Fleece Jacket",
                  "Price": 65,
                  "index": 1536
                },
                {
                  "Action": "Added",
                  "Country": "Antigua and Barbuda",
                  "Item": "Baseball Hat",
                  "Price": 17,
                  "index": 1537
                },
                {
                  "Action": "Viewed",
                  "Country": "Antigua and Barbuda",
                  "Item": "Baseball Hat",
                  "Price": 17,
                  "index": 1538
                },
                {
                  "Action": "Purchased",
                  "Country": "Latvia",
                  "Item": "Bag",
                  "Price": 37.5,
                  "index": 1539
                },
                {
                  "Action": "Added",
                  "Country": "Latvia",
                  "Item": "Bag",
                  "Price": 37.5,
                  "index": 1540
                },
                {
                  "Action": "Viewed",
                  "Country": "Latvia",
                  "Item": "Bag",
                  "Price": 37.5,
                  "index": 1541
                },
                {
                  "Action": "Purchased",
                  "Country": "Jordan",
                  "Item": "Denim Jacket",
                  "Price": 31.99,
                  "index": 1542
                },
                {
                  "Action": "Viewed",
                  "Country": "United States Minor Outlying Islands",
                  "Item": "Gloves",
                  "Price": 20,
                  "index": 1543
                },
                {
                  "Action": "Viewed",
                  "Country": "Afghanistan",
                  "Item": "Baseball Hat",
                  "Price": 17,
                  "index": 1544
                },
                {
                  "Action": "Viewed",
                  "Country": "Micronesia",
                  "Item": "Gloves",
                  "Price": 20,
                  "index": 1545
                },
                {
                  "Action": "Added",
                  "Country": "Afghanistan",
                  "Item": "Baseball Hat",
                  "Price": 17,
                  "index": 1546
                },
                {
                  "Action": "Purchased",
                  "Country": "United States Minor Outlying Islands",
                  "Item": "Gloves",
                  "Price": 20,
                  "index": 1547
                },
                {
                  "Action": "Added",
                  "Country": "Heard Island and McDonald Islands",
                  "Item": "Sandal",
                  "Price": 35.5,
                  "index": 1548
                },
                {
                  "Action": "Viewed",
                  "Country": "Heard Island and McDonald Islands",
                  "Item": "Sandal",
                  "Price": 35.5,
                  "index": 1549
                },
                {
                  "Action": "Viewed",
                  "Country": "Panama",
                  "Item": "Denim Shorts",
                  "Price": 50,
                  "index": 1550
                },
                {
                  "Action": "Viewed",
                  "Country": "Fiji",
                  "Item": "Black Tee",
                  "Price": 9,
                  "index": 1551
                },
                {
                  "Action": "Purchased",
                  "Country": "Fiji",
                  "Item": "Black Tee",
                  "Price": 9,
                  "index": 1552
                },
                {
                  "Action": "Added",
                  "Country": "Venezuela",
                  "Item": "Bag",
                  "Price": 37.5,
                  "index": 1553
                },
                {
                  "Action": "Viewed",
                  "Country": "Tunisia",
                  "Item": "Cosmos T-shirt",
                  "Price": 350,
                  "index": 1554
                },
                {
                  "Action": "Viewed",
                  "Country": "Mexico",
                  "Item": "Jeans",
                  "Price": 85,
                  "index": 1555
                },
                {
                  "Action": "Purchased",
                  "Country": "Tunisia",
                  "Item": "Cosmos T-shirt",
                  "Price": 350,
                  "index": 1556
                },
                {
                  "Action": "Viewed",
                  "Country": "Zambia",
                  "Item": "Gloves",
                  "Price": 20,
                  "index": 1557
                },
                {
                  "Action": "Purchased",
                  "Country": "Zambia",
                  "Item": "Gloves",
                  "Price": 20,
                  "index": 1558
                },
                {
                  "Action": "Added",
                  "Country": "Zambia",
                  "Item": "Gloves",
                  "Price": 20,
                  "index": 1559
                },
                {
                  "Action": "Added",
                  "Country": "Latvia",
                  "Item": "Puffy Jacket",
                  "Price": 95.99,
                  "index": 1560
                },
                {
                  "Action": "Added",
                  "Country": "Svalbard & Jan Mayen Islands",
                  "Item": "Black Tee",
                  "Price": 9,
                  "index": 1561
                },
                {
                  "Action": "Purchased",
                  "Country": "Azerbaijan",
                  "Item": "Athletic Shoes",
                  "Price": 70,
                  "index": 1562
                },
                {
                  "Action": "Added",
                  "Country": "Azerbaijan",
                  "Item": "Athletic Shoes",
                  "Price": 70,
                  "index": 1563
                },
                {
                  "Action": "Viewed",
                  "Country": "Nepal",
                  "Item": " Flip Flop Shoes",
                  "Price": 14,
                  "index": 1564
                },
                {
                  "Action": "Added",
                  "Country": "Senegal",
                  "Item": "Black Tee",
                  "Price": 9,
                  "index": 1565
                },
                {
                  "Action": "Viewed",
                  "Country": "Senegal",
                  "Item": "Black Tee",
                  "Price": 9,
                  "index": 1566
                },
                {
                  "Action": "Viewed",
                  "Country": "Mozambique",
                  "Item": "Bag",
                  "Price": 37.5,
                  "index": 1567
                },
                {
                  "Action": "Purchased",
                  "Country": "Mozambique",
                  "Item": "Bag",
                  "Price": 37.5,
                  "index": 1568
                },
                {
                  "Action": "Viewed",
                  "Country": "United Kingdom",
                  "Item": "Gloves",
                  "Price": 20,
                  "index": 1569
                },
                {
                  "Action": "Added",
                  "Country": "Mozambique",
                  "Item": "Bag",
                  "Price": 37.5,
                  "index": 1570
                },
                {
                  "Action": "Added",
                  "Country": "Ghana",
                  "Item": "Fleece Jacket",
                  "Price": 65,
                  "index": 1571
                },
                {
                  "Action": "Viewed",
                  "Country": "Canada",
                  "Item": " Necklace",
                  "Price": 12,
                  "index": 1572
                },
                {
                  "Action": "Added",
                  "Country": "Egypt",
                  "Item": "Baseball Hat",
                  "Price": 17,
                  "index": 1573
                },
                {
                  "Action": "Added",
                  "Country": "Canada",
                  "Item": " Necklace",
                  "Price": 12,
                  "index": 1574
                },
                {
                  "Action": "Viewed",
                  "Country": "Egypt",
                  "Item": "Baseball Hat",
                  "Price": 17,
                  "index": 1575
                },
                {
                  "Action": "Viewed",
                  "Country": "Eritrea",
                  "Item": "Black Tee",
                  "Price": 9,
                  "index": 1576
                },
                {
                  "Action": "Purchased",
                  "Country": "Eritrea",
                  "Item": "Black Tee",
                  "Price": 9,
                  "index": 1577
                },
                {
                  "Action": "Viewed",
                  "Country": "Colombia",
                  "Item": "Cardigan Sweater",
                  "Price": 25,
                  "index": 1578
                },
                {
                  "Action": "Added",
                  "Country": "Eritrea",
                  "Item": "Black Tee",
                  "Price": 9,
                  "index": 1579
                },
                {
                  "Action": "Added",
                  "Country": "Micronesia",
                  "Item": " Necklace",
                  "Price": 12,
                  "index": 1580
                },
                {
                  "Action": "Viewed",
                  "Country": "Mongolia",
                  "Item": "White Dress",
                  "Price": 84.99,
                  "index": 1581
                },
                {
                  "Action": "Viewed",
                  "Country": "Micronesia",
                  "Item": " Necklace",
                  "Price": 12,
                  "index": 1582
                },
                {
                  "Action": "Added",
                  "Country": "Mongolia",
                  "Item": "White Dress",
                  "Price": 84.99,
                  "index": 1583
                },
                {
                  "Action": "Viewed",
                  "Country": "Armenia",
                  "Item": "Puffy Jacket",
                  "Price": 105,
                  "index": 1584
                },
                {
                  "Action": "Purchased",
                  "Country": "Australia",
                  "Item": "Beanie",
                  "Price": 10,
                  "index": 1585
                },
                {
                  "Action": "Viewed",
                  "Country": "Australia",
                  "Item": "Beanie",
                  "Price": 10,
                  "index": 1586
                },
                {
                  "Action": "Added",
                  "Country": "Australia",
                  "Item": "Beanie",
                  "Price": 10,
                  "index": 1587
                },
                {
                  "Action": "Purchased",
                  "Country": "Wallis and Futuna",
                  "Item": "Crewneck Sweater",
                  "Price": 22,
                  "index": 1588
                },
                {
                  "Action": "Purchased",
                  "Country": "Honduras",
                  "Item": "Cardigan Sweater",
                  "Price": 25,
                  "index": 1589
                },
                {
                  "Action": "Added",
                  "Country": "Wallis and Futuna",
                  "Item": "Crewneck Sweater",
                  "Price": 22,
                  "index": 1590
                },
                {
                  "Action": "Viewed",
                  "Country": "Wallis and Futuna",
                  "Item": "Crewneck Sweater",
                  "Price": 22,
                  "index": 1591
                },
                {
                  "Action": "Viewed",
                  "Country": "Honduras",
                  "Item": "Cardigan Sweater",
                  "Price": 25,
                  "index": 1592
                },
                {
                  "Action": "Added",
                  "Country": "Honduras",
                  "Item": "Cardigan Sweater",
                  "Price": 25,
                  "index": 1593
                },
                {
                  "Action": "Added",
                  "Country": "Tonga",
                  "Item": "Athletic Shoes",
                  "Price": 75,
                  "index": 1594
                },
                {
                  "Action": "Viewed",
                  "Country": "Tonga",
                  "Item": "Athletic Shoes",
                  "Price": 75,
                  "index": 1595
                },
                {
                  "Action": "Purchased",
                  "Country": "New Caledonia",
                  "Item": "Windbreaker Jacket",
                  "Price": 49.99,
                  "index": 1596
                },
                {
                  "Action": "Added",
                  "Country": "New Caledonia",
                  "Item": "Windbreaker Jacket",
                  "Price": 49.99,
                  "index": 1597
                },
                {
                  "Action": "Viewed",
                  "Country": "New Caledonia",
                  "Item": "Windbreaker Jacket",
                  "Price": 49.99,
                  "index": 1598
                },
                {
                  "Action": "Added",
                  "Country": "Bermuda",
                  "Item": "Button-Up Shirt",
                  "Price": 19.99,
                  "index": 1599
                },
                {
                  "Action": "Added",
                  "Country": "Tunisia",
                  "Item": "Cosmos T-shirt",
                  "Price": 350,
                  "index": 1600
                },
                {
                  "Action": "Viewed",
                  "Country": "Bermuda",
                  "Item": "Walking Shoes",
                  "Price": 79.99,
                  "index": 1601
                },
                {
                  "Action": "Added",
                  "Country": "Moldova",
                  "Item": "Gloves",
                  "Price": 20,
                  "index": 1602
                },
                {
                  "Action": "Viewed",
                  "Country": "Moldova",
                  "Item": "Gloves",
                  "Price": 20,
                  "index": 1603
                },
                {
                  "Action": "Added",
                  "Country": "United States of America",
                  "Item": "Bag",
                  "Price": 37.5,
                  "index": 1604
                },
                {
                  "Action": "Viewed",
                  "Country": "United States of America",
                  "Item": "Bag",
                  "Price": 37.5,
                  "index": 1605
                },
                {
                  "Action": "Added",
                  "Country": "Congo",
                  "Item": "Bag",
                  "Price": 37.5,
                  "index": 1606
                },
                {
                  "Action": "Viewed",
                  "Country": "Congo",
                  "Item": "Bag",
                  "Price": 37.5,
                  "index": 1607
                },
                {
                  "Action": "Viewed",
                  "Country": "Burkina Faso",
                  "Item": "White Sweater",
                  "Price": 32,
                  "index": 1608
                },
                {
                  "Action": "Viewed",
                  "Country": "Tunisia",
                  "Item": "White Sweater",
                  "Price": 32,
                  "index": 1609
                },
                {
                  "Action": "Added",
                  "Country": "Tunisia",
                  "Item": "White Sweater",
                  "Price": 32,
                  "index": 1610
                },
                {
                  "Action": "Purchased",
                  "Country": "Tunisia",
                  "Item": "White Sweater",
                  "Price": 32,
                  "index": 1611
                },
                {
                  "Action": "Purchased",
                  "Country": "Heard Island and McDonald Islands",
                  "Item": "Rainjacket",
                  "Price": 55,
                  "index": 1612
                },
                {
                  "Action": "Viewed",
                  "Country": "Heard Island and McDonald Islands",
                  "Item": "Rainjacket",
                  "Price": 55,
                  "index": 1613
                },
                {
                  "Action": "Added",
                  "Country": "Heard Island and McDonald Islands",
                  "Item": "Rainjacket",
                  "Price": 55,
                  "index": 1614
                },
                {
                  "Action": "Viewed",
                  "Country": "San Marino",
                  "Item": "Beanie",
                  "Price": 10,
                  "index": 1615
                },
                {
                  "Action": "Purchased",
                  "Country": "San Marino",
                  "Item": "Beanie",
                  "Price": 10,
                  "index": 1616
                },
                {
                  "Action": "Added",
                  "Country": "Netherlands",
                  "Item": "Cosmos T-shirt",
                  "Price": 350,
                  "index": 1617
                },
                {
                  "Action": "Purchased",
                  "Country": "Malta",
                  "Item": "Crewneck Sweater",
                  "Price": 22,
                  "index": 1618
                },
                {
                  "Action": "Added",
                  "Country": "Russian Federation",
                  "Item": "Scarf",
                  "Price": 29.99,
                  "index": 1619
                },
                {
                  "Action": "Added",
                  "Country": "Mexico",
                  "Item": "Jeans",
                  "Price": 85,
                  "index": 1620
                },
                {
                  "Action": "Viewed",
                  "Country": "Russian Federation",
                  "Item": "Scarf",
                  "Price": 29.99,
                  "index": 1621
                },
                {
                  "Action": "Purchased",
                  "Country": "Russian Federation",
                  "Item": "Scarf",
                  "Price": 29.99,
                  "index": 1622
                },
                {
                  "Action": "Added",
                  "Country": "Turkmenistan",
                  "Item": "Dark Jeans",
                  "Price": 90,
                  "index": 1623
                },
                {
                  "Action": "Added",
                  "Country": "Malta",
                  "Item": "Crewneck Sweater",
                  "Price": 22,
                  "index": 1624
                },
                {
                  "Action": "Viewed",
                  "Country": "Tonga",
                  "Item": "Rainjacket",
                  "Price": 55,
                  "index": 1625
                },
                {
                  "Action": "Viewed",
                  "Country": "Djibouti",
                  "Item": "Athletic Shorts",
                  "Price": 22.5,
                  "index": 1626
                },
                {
                  "Action": "Viewed",
                  "Country": "Tuvalu",
                  "Item": "Flannel Shirt",
                  "Price": 19.99,
                  "index": 1627
                },
                {
                  "Action": "Added",
                  "Country": "Albania",
                  "Item": "White Shirt",
                  "Price": 25.2,
                  "index": 1628
                },
                {
                  "Action": "Viewed",
                  "Country": "Norway",
                  "Item": "Puffy Jacket",
                  "Price": 105,
                  "index": 1629
                },
                {
                  "Action": "Added",
                  "Country": "Turkey",
                  "Item": "Earring",
                  "Price": 8,
                  "index": 1630
                },
                {
                  "Action": "Viewed",
                  "Country": "Turkey",
                  "Item": "Earring",
                  "Price": 8,
                  "index": 1631
                },
                {
                  "Action": "Added",
                  "Country": "Tuvalu",
                  "Item": "Flannel Shirt",
                  "Price": 19.99,
                  "index": 1632
                },
                {
                  "Action": "Viewed",
                  "Country": "Tuvalu",
                  "Item": "Red Top",
                  "Price": 33,
                  "index": 1633
                },
                {
                  "Action": "Purchased",
                  "Country": "Palestinian Territory",
                  "Item": "Puffy Jacket",
                  "Price": 99.99,
                  "index": 1634
                },
                {
                  "Action": "Purchased",
                  "Country": "Gibraltar",
                  "Item": "Socks",
                  "Price": 3.75,
                  "index": 1635
                },
                {
                  "Action": "Viewed",
                  "Country": "Gibraltar",
                  "Item": "Socks",
                  "Price": 3.75,
                  "index": 1636
                },
                {
                  "Action": "Viewed",
                  "Country": "Turkmenistan",
                  "Item": "Red Top",
                  "Price": 33,
                  "index": 1637
                },
                {
                  "Action": "Added",
                  "Country": "Georgia",
                  "Item": "Pant",
                  "Price": 40,
                  "index": 1638
                },
                {
                  "Action": "Purchased",
                  "Country": "Georgia",
                  "Item": "Pant",
                  "Price": 40,
                  "index": 1639
                },
                {
                  "Action": "Viewed",
                  "Country": "Georgia",
                  "Item": "Pant",
                  "Price": 40,
                  "index": 1640
                },
                {
                  "Action": "Purchased",
                  "Country": "Sri Lanka",
                  "Item": "White Dress",
                  "Price": 84.99,
                  "index": 1641
                },
                {
                  "Action": "Viewed",
                  "Country": "Sri Lanka",
                  "Item": "White Dress",
                  "Price": 84.99,
                  "index": 1642
                },
                {
                  "Action": "Purchased",
                  "Country": "Zambia",
                  "Item": "Puffy Jacket",
                  "Price": 105,
                  "index": 1643
                },
                {
                  "Action": "Viewed",
                  "Country": "Svalbard & Jan Mayen Islands",
                  "Item": "Denim Shorts",
                  "Price": 50,
                  "index": 1644
                },
                {
                  "Action": "Viewed",
                  "Country": "Zambia",
                  "Item": "Puffy Jacket",
                  "Price": 105,
                  "index": 1645
                },
                {
                  "Action": "Added",
                  "Country": "Peru",
                  "Item": "Cosmos T-shirt",
                  "Price": 350,
                  "index": 1646
                },
                {
                  "Action": "Viewed",
                  "Country": "Azerbaijan",
                  "Item": "Blue Sweater",
                  "Price": 27,
                  "index": 1647
                },
                {
                  "Action": "Purchased",
                  "Country": "Colombia",
                  "Item": "Beanie",
                  "Price": 10,
                  "index": 1648
                },
                {
                  "Action": "Viewed",
                  "Country": "Peru",
                  "Item": "Cosmos T-shirt",
                  "Price": 350,
                  "index": 1649
                },
                {
                  "Action": "Viewed",
                  "Country": "Colombia",
                  "Item": "Beanie",
                  "Price": 10,
                  "index": 1650
                },
                {
                  "Action": "Added",
                  "Country": "Colombia",
                  "Item": "Beanie",
                  "Price": 10,
                  "index": 1651
                },
                {
                  "Action": "Viewed",
                  "Country": "Georgia",
                  "Item": "Denim Shorts",
                  "Price": 50,
                  "index": 1652
                },
                {
                  "Action": "Added",
                  "Country": "Lesotho",
                  "Item": "Suit Pant",
                  "Price": 95,
                  "index": 1653
                },
                {
                  "Action": "Viewed",
                  "Country": "Lesotho",
                  "Item": "Suit Pant",
                  "Price": 95,
                  "index": 1654
                },
                {
                  "Action": "Viewed",
                  "Country": "France",
                  "Item": "Denim Shorts",
                  "Price": 50,
                  "index": 1655
                },
                {
                  "Action": "Added",
                  "Country": "France",
                  "Item": "Denim Shorts",
                  "Price": 50,
                  "index": 1656
                },
                {
                  "Action": "Viewed",
                  "Country": "Australia",
                  "Item": "High Heel Shoe",
                  "Price": 72,
                  "index": 1657
                },
                {
                  "Action": "Added",
                  "Country": "Bahrain",
                  "Item": "Button-Up Shirt",
                  "Price": 19.99,
                  "index": 1658
                },
                {
                  "Action": "Purchased",
                  "Country": "Czech Republic",
                  "Item": "White Dress",
                  "Price": 84.99,
                  "index": 1659
                },
                {
                  "Action": "Viewed",
                  "Country": "Bahrain",
                  "Item": "Button-Up Shirt",
                  "Price": 19.99,
                  "index": 1660
                },
                {
                  "Action": "Viewed",
                  "Country": "Marshall Islands",
                  "Item": "White Dress",
                  "Price": 84.99,
                  "index": 1661
                },
                {
                  "Action": "Viewed",
                  "Country": "Czech Republic",
                  "Item": "White Dress",
                  "Price": 84.99,
                  "index": 1662
                },
                {
                  "Action": "Added",
                  "Country": "Czech Republic",
                  "Item": "White Dress",
                  "Price": 84.99,
                  "index": 1663
                },
                {
                  "Action": "Added",
                  "Country": "Uzbekistan",
                  "Item": "Sandals",
                  "Price": 12,
                  "index": 1664
                },
                {
                  "Action": "Purchased",
                  "Country": "Uzbekistan",
                  "Item": "Sandals",
                  "Price": 12,
                  "index": 1665
                },
                {
                  "Action": "Viewed",
                  "Country": "Uzbekistan",
                  "Item": "Sandals",
                  "Price": 12,
                  "index": 1666
                },
                {
                  "Action": "Added",
                  "Country": "Uruguay",
                  "Item": "Dress Shoes",
                  "Price": 120,
                  "index": 1667
                },
                {
                  "Action": "Viewed",
                  "Country": "Barbados",
                  "Item": "Scarf",
                  "Price": 29.99,
                  "index": 1668
                },
                {
                  "Action": "Viewed",
                  "Country": "Uruguay",
                  "Item": "Dress Shoes",
                  "Price": 120,
                  "index": 1669
                },
                {
                  "Action": "Added",
                  "Country": "Montserrat",
                  "Item": "Athletic Shorts",
                  "Price": 22.5,
                  "index": 1670
                },
                {
                  "Action": "Viewed",
                  "Country": "Montserrat",
                  "Item": "Athletic Shorts",
                  "Price": 22.5,
                  "index": 1671
                },
                {
                  "Action": "Added",
                  "Country": "Chile",
                  "Item": "Puffy Jacket",
                  "Price": 99.99,
                  "index": 1672
                },
                {
                  "Action": "Viewed",
                  "Country": "Chile",
                  "Item": "Puffy Jacket",
                  "Price": 99.99,
                  "index": 1673
                },
                {
                  "Action": "Purchased",
                  "Country": "Turkmenistan",
                  "Item": "Windbreaker Jacket",
                  "Price": 49.99,
                  "index": 1674
                },
                {
                  "Action": "Added",
                  "Country": "Macedonia",
                  "Item": "Black Dress",
                  "Price": 65,
                  "index": 1675
                },
                {
                  "Action": "Viewed",
                  "Country": "Macedonia",
                  "Item": "Black Dress",
                  "Price": 65,
                  "index": 1676
                },
                {
                  "Action": "Viewed",
                  "Country": "Turkmenistan",
                  "Item": "Windbreaker Jacket",
                  "Price": 49.99,
                  "index": 1677
                },
                {
                  "Action": "Added",
                  "Country": "Venezuela",
                  "Item": "Red Dress",
                  "Price": 130,
                  "index": 1678
                },
                {
                  "Action": "Added",
                  "Country": "Papua New Guinea",
                  "Item": "Suit Pant",
                  "Price": 95,
                  "index": 1679
                },
                {
                  "Action": "Viewed",
                  "Country": "Papua New Guinea",
                  "Item": "Suit Pant",
                  "Price": 95,
                  "index": 1680
                },
                {
                  "Action": "Added",
                  "Country": "Anguilla",
                  "Item": "White Shirt",
                  "Price": 25.2,
                  "index": 1681
                },
                {
                  "Action": "Viewed",
                  "Country": "Anguilla",
                  "Item": "White Shirt",
                  "Price": 25.2,
                  "index": 1682
                },
                {
                  "Action": "Purchased",
                  "Country": "Malaysia",
                  "Item": "Athletic Shorts",
                  "Price": 22.5,
                  "index": 1683
                },
                {
                  "Action": "Viewed",
                  "Country": "Jordan",
                  "Item": "Denim Jacket",
                  "Price": 31.99,
                  "index": 1684
                },
                {
                  "Action": "Added",
                  "Country": "Jordan",
                  "Item": "Denim Jacket",
                  "Price": 31.99,
                  "index": 1685
                },
                {
                  "Action": "Added",
                  "Country": "Hong Kong",
                  "Item": "Blazer Jacket",
                  "Price": 87.5,
                  "index": 1686
                },
                {
                  "Action": "Added",
                  "Country": "Malaysia",
                  "Item": "Athletic Shorts",
                  "Price": 22.5,
                  "index": 1687
                },
                {
                  "Action": "Added",
                  "Country": "Antigua and Barbuda",
                  "Item": "Flannel Shirt",
                  "Price": 19.99,
                  "index": 1688
                },
                {
                  "Action": "Viewed",
                  "Country": "Malaysia",
                  "Item": "Athletic Shorts",
                  "Price": 22.5,
                  "index": 1689
                },
                {
                  "Action": "Viewed",
                  "Country": "Hong Kong",
                  "Item": "Blazer Jacket",
                  "Price": 87.5,
                  "index": 1690
                },
                {
                  "Action": "Added",
                  "Country": "Slovakia (Slovak Republic)",
                  "Item": "Athletic Shoes",
                  "Price": 75,
                  "index": 1691
                },
                {
                  "Action": "Viewed",
                  "Country": "Swaziland",
                  "Item": "Athletic Shoes",
                  "Price": 70,
                  "index": 1692
                },
                {
                  "Action": "Viewed",
                  "Country": "Turkey",
                  "Item": "Cardigan Sweater",
                  "Price": 25,
                  "index": 1693
                },
                {
                  "Action": "Viewed",
                  "Country": "Kuwait",
                  "Item": "Beanie",
                  "Price": 10,
                  "index": 1694
                },
                {
                  "Action": "Added",
                  "Country": "Falkland Islands (Malvinas)",
                  "Item": "Sandal",
                  "Price": 35.5,
                  "index": 1695
                },
                {
                  "Action": "Added",
                  "Country": "Turkey",
                  "Item": "Cardigan Sweater",
                  "Price": 25,
                  "index": 1696
                },
                {
                  "Action": "Viewed",
                  "Country": "Saint Kitts and Nevis",
                  "Item": "Black Hoodie",
                  "Price": 25,
                  "index": 1697
                },
                {
                  "Action": "Viewed",
                  "Country": "Central African Republic",
                  "Item": "Pant",
                  "Price": 40,
                  "index": 1698
                },
                {
                  "Action": "Viewed",
                  "Country": "Falkland Islands (Malvinas)",
                  "Item": "Sandal",
                  "Price": 35.5,
                  "index": 1699
                },
                {
                  "Action": "Added",
                  "Country": "Saint Kitts and Nevis",
                  "Item": "Black Hoodie",
                  "Price": 25,
                  "index": 1700
                },
                {
                  "Action": "Viewed",
                  "Country": "Lao People's Democratic Republic",
                  "Item": "Red Top",
                  "Price": 33,
                  "index": 1701
                },
                {
                  "Action": "Viewed",
                  "Country": "Guinea",
                  "Item": "Sandals",
                  "Price": 12,
                  "index": 1702
                },
                {
                  "Action": "Purchased",
                  "Country": "Saudi Arabia",
                  "Item": "Athletic Shoes",
                  "Price": 70,
                  "index": 1703
                },
                {
                  "Action": "Viewed",
                  "Country": "Macao",
                  "Item": "Socks",
                  "Price": 3.75,
                  "index": 1704
                },
                {
                  "Action": "Viewed",
                  "Country": "Switzerland",
                  "Item": "Scarf",
                  "Price": 29.99,
                  "index": 1705
                },
                {
                  "Action": "Added",
                  "Country": "Switzerland",
                  "Item": "Scarf",
                  "Price": 29.99,
                  "index": 1706
                },
                {
                  "Action": "Purchased",
                  "Country": "Switzerland",
                  "Item": "Scarf",
                  "Price": 29.99,
                  "index": 1707
                },
                {
                  "Action": "Added",
                  "Country": "New Zealand",
                  "Item": "Sweatpants",
                  "Price": 21,
                  "index": 1708
                },
                {
                  "Action": "Viewed",
                  "Country": "New Zealand",
                  "Item": "Sweatpants",
                  "Price": 21,
                  "index": 1709
                },
                {
                  "Action": "Added",
                  "Country": "Guatemala",
                  "Item": "Rainjacket",
                  "Price": 55,
                  "index": 1710
                },
                {
                  "Action": "Viewed",
                  "Country": "Afghanistan",
                  "Item": "Suit Pant",
                  "Price": 95,
                  "index": 1711
                },
                {
                  "Action": "Added",
                  "Country": "Mauritania",
                  "Item": "Fleece Jacket",
                  "Price": 65,
                  "index": 1712
                },
                {
                  "Action": "Viewed",
                  "Country": "Kazakhstan",
                  "Item": "Suit Jacket",
                  "Price": 92,
                  "index": 1713
                },
                {
                  "Action": "Viewed",
                  "Country": "Congo",
                  "Item": "Windbreaker Jacket",
                  "Price": 49.99,
                  "index": 1714
                },
                {
                  "Action": "Viewed",
                  "Country": "Mauritania",
                  "Item": "Fleece Jacket",
                  "Price": 65,
                  "index": 1715
                },
                {
                  "Action": "Viewed",
                  "Country": "Bermuda",
                  "Item": "Cosmos T-shirt",
                  "Price": 350,
                  "index": 1716
                },
                {
                  "Action": "Purchased",
                  "Country": "Tunisia",
                  "Item": "Dark Jeans",
                  "Price": 90,
                  "index": 1717
                },
                {
                  "Action": "Added",
                  "Country": "Rwanda",
                  "Item": "Cosmos T-shirt",
                  "Price": 350,
                  "index": 1718
                },
                {
                  "Action": "Viewed",
                  "Country": "Tunisia",
                  "Item": "Dark Jeans",
                  "Price": 90,
                  "index": 1719
                },
                {
                  "Action": "Added",
                  "Country": "Tunisia",
                  "Item": "Dark Jeans",
                  "Price": 90,
                  "index": 1720
                },
                {
                  "Action": "Viewed",
                  "Country": "Rwanda",
                  "Item": "Cosmos T-shirt",
                  "Price": 350,
                  "index": 1721
                },
                {
                  "Action": "Viewed",
                  "Country": "Tanzania",
                  "Item": "Socks",
                  "Price": 3.75,
                  "index": 1722
                },
                {
                  "Action": "Viewed",
                  "Country": "Sierra Leone",
                  "Item": "Suit Pant",
                  "Price": 95,
                  "index": 1723
                },
                {
                  "Action": "Added",
                  "Country": "Sierra Leone",
                  "Item": "Suit Pant",
                  "Price": 95,
                  "index": 1724
                },
                {
                  "Action": "Viewed",
                  "Country": "Suriname",
                  "Item": "Black Tee",
                  "Price": 9,
                  "index": 1725
                },
                {
                  "Action": "Viewed",
                  "Country": "Russian Federation",
                  "Item": "Puffy Jacket",
                  "Price": 99.99,
                  "index": 1726
                },
                {
                  "Action": "Viewed",
                  "Country": "Swaziland",
                  "Item": "Blazer Jacket",
                  "Price": 87.5,
                  "index": 1727
                },
                {
                  "Action": "Purchased",
                  "Country": "Solomon Islands",
                  "Item": "Bag",
                  "Price": 37.5,
                  "index": 1728
                },
                {
                  "Action": "Viewed",
                  "Country": "Solomon Islands",
                  "Item": "Bag",
                  "Price": 37.5,
                  "index": 1729
                },
                {
                  "Action": "Viewed",
                  "Country": "Democratic People's Republic of Korea",
                  "Item": "Rainjacket",
                  "Price": 55,
                  "index": 1730
                },
                {
                  "Action": "Added",
                  "Country": "Democratic People's Republic of Korea",
                  "Item": "Rainjacket",
                  "Price": 55,
                  "index": 1731
                },
                {
                  "Action": "Added",
                  "Country": "Egypt",
                  "Item": "Blazer Jacket",
                  "Price": 87.5,
                  "index": 1732
                },
                {
                  "Action": "Viewed",
                  "Country": "Egypt",
                  "Item": "Blazer Jacket",
                  "Price": 87.5,
                  "index": 1733
                },
                {
                  "Action": "Viewed",
                  "Country": "Burundi",
                  "Item": "Earring",
                  "Price": 8,
                  "index": 1734
                },
                {
                  "Action": "Added",
                  "Country": "Angola",
                  "Item": "Gloves",
                  "Price": 20,
                  "index": 1735
                },
                {
                  "Action": "Viewed",
                  "Country": "Angola",
                  "Item": "Gloves",
                  "Price": 20,
                  "index": 1736
                },
                {
                  "Action": "Added",
                  "Country": "Lebanon",
                  "Item": "Puffy Jacket",
                  "Price": 105,
                  "index": 1737
                },
                {
                  "Action": "Viewed",
                  "Country": "Lebanon",
                  "Item": "Puffy Jacket",
                  "Price": 105,
                  "index": 1738
                },
                {
                  "Action": "Added",
                  "Country": "Georgia",
                  "Item": "Athletic Shorts",
                  "Price": 22.5,
                  "index": 1739
                },
                {
                  "Action": "Added",
                  "Country": "Svalbard & Jan Mayen Islands",
                  "Item": "Athletic Shorts",
                  "Price": 22.5,
                  "index": 1740
                },
                {
                  "Action": "Purchased",
                  "Country": "Cook Islands",
                  "Item": "Walking Shoes",
                  "Price": 79.99,
                  "index": 1741
                },
                {
                  "Action": "Added",
                  "Country": "Norway",
                  "Item": "Suit Jacket",
                  "Price": 92,
                  "index": 1742
                },
                {
                  "Action": "Added",
                  "Country": "Cook Islands",
                  "Item": "Walking Shoes",
                  "Price": 79.99,
                  "index": 1743
                },
                {
                  "Action": "Viewed",
                  "Country": "Cook Islands",
                  "Item": "Walking Shoes",
                  "Price": 79.99,
                  "index": 1744
                },
                {
                  "Action": "Viewed",
                  "Country": "Svalbard & Jan Mayen Islands",
                  "Item": "Athletic Shorts",
                  "Price": 22.5,
                  "index": 1745
                },
                {
                  "Action": "Purchased",
                  "Country": "Svalbard & Jan Mayen Islands",
                  "Item": "Athletic Shorts",
                  "Price": 22.5,
                  "index": 1746
                },
                {
                  "Action": "Added",
                  "Country": "Palestinian Territory",
                  "Item": "Black Hoodie",
                  "Price": 25,
                  "index": 1747
                },
                {
                  "Action": "Viewed",
                  "Country": "Vanuatu",
                  "Item": "Cardigan Sweater",
                  "Price": 25,
                  "index": 1748
                },
                {
                  "Action": "Viewed",
                  "Country": "Cambodia",
                  "Item": "Windbreaker Jacket",
                  "Price": 49.99,
                  "index": 1749
                },
                {
                  "Action": "Viewed",
                  "Country": "British Indian Ocean Territory (Chagos Archipelago)",
                  "Item": " Necklace",
                  "Price": 12,
                  "index": 1750
                },
                {
                  "Action": "Viewed",
                  "Country": "Fiji",
                  "Item": "Denim Shorts",
                  "Price": 50,
                  "index": 1751
                },
                {
                  "Action": "Purchased",
                  "Country": "Madagascar",
                  "Item": "Socks",
                  "Price": 3.75,
                  "index": 1752
                },
                {
                  "Action": "Viewed",
                  "Country": "Vietnam",
                  "Item": "Puffy Jacket",
                  "Price": 99.99,
                  "index": 1753
                },
                {
                  "Action": "Viewed",
                  "Country": "Moldova",
                  "Item": "Denim Jacket",
                  "Price": 31.99,
                  "index": 1754
                },
                {
                  "Action": "Viewed",
                  "Country": "Guam",
                  "Item": "Sandals",
                  "Price": 12,
                  "index": 1755
                },
                {
                  "Action": "Purchased",
                  "Country": "Vietnam",
                  "Item": "Puffy Jacket",
                  "Price": 99.99,
                  "index": 1756
                },
                {
                  "Action": "Viewed",
                  "Country": "Sri Lanka",
                  "Item": "High Heel Shoe",
                  "Price": 72,
                  "index": 1757
                },
                {
                  "Action": "Viewed",
                  "Country": "Estonia",
                  "Item": "Puffy Jacket",
                  "Price": 95.99,
                  "index": 1758
                },
                {
                  "Action": "Added",
                  "Country": "Turkey",
                  "Item": "Bag",
                  "Price": 37.5,
                  "index": 1759
                },
                {
                  "Action": "Viewed",
                  "Country": "Turkey",
                  "Item": "Bag",
                  "Price": 37.5,
                  "index": 1760
                },
                {
                  "Action": "Purchased",
                  "Country": "Australia",
                  "Item": "Crewneck Sweater",
                  "Price": 22,
                  "index": 1761
                },
                {
                  "Action": "Viewed",
                  "Country": "Italy",
                  "Item": "Green Sweater",
                  "Price": 30,
                  "index": 1762
                },
                {
                  "Action": "Added",
                  "Country": "Argentina",
                  "Item": "Puffy Jacket",
                  "Price": 99.99,
                  "index": 1763
                },
                {
                  "Action": "Viewed",
                  "Country": "Australia",
                  "Item": "Crewneck Sweater",
                  "Price": 22,
                  "index": 1764
                },
                {
                  "Action": "Added",
                  "Country": "Australia",
                  "Item": "Crewneck Sweater",
                  "Price": 22,
                  "index": 1765
                },
                {
                  "Action": "Viewed",
                  "Country": "Argentina",
                  "Item": "Puffy Jacket",
                  "Price": 99.99,
                  "index": 1766
                },
                {
                  "Action": "Added",
                  "Country": "Azerbaijan",
                  "Item": "Blue Sweater",
                  "Price": 27,
                  "index": 1767
                },
                {
                  "Action": "Viewed",
                  "Country": "Martinique",
                  "Item": "Fleece Jacket",
                  "Price": 65,
                  "index": 1768
                },
                {
                  "Action": "Viewed",
                  "Country": "Algeria",
                  "Item": "White Sweater",
                  "Price": 32,
                  "index": 1769
                },
                {
                  "Action": "Viewed",
                  "Country": "Chile",
                  "Item": "Light Jeans",
                  "Price": 80,
                  "index": 1770
                },
                {
                  "Action": "Viewed",
                  "Country": "El Salvador",
                  "Item": "Socks",
                  "Price": 3.75,
                  "index": 1771
                },
                {
                  "Action": "Viewed",
                  "Country": "Sri Lanka",
                  "Item": "Button-Up Shirt",
                  "Price": 19.99,
                  "index": 1772
                },
                {
                  "Action": "Purchased",
                  "Country": "Azerbaijan",
                  "Item": "Blue Sweater",
                  "Price": 27,
                  "index": 1773
                },
                {
                  "Action": "Added",
                  "Country": "Brazil",
                  "Item": "Suit Pant",
                  "Price": 95,
                  "index": 1774
                },
                {
                  "Action": "Added",
                  "Country": "Niger",
                  "Item": "Denim Shorts",
                  "Price": 50,
                  "index": 1775
                },
                {
                  "Action": "Viewed",
                  "Country": "Cape Verde",
                  "Item": "Puffy Jacket",
                  "Price": 95.99,
                  "index": 1776
                },
                {
                  "Action": "Viewed",
                  "Country": "Macedonia",
                  "Item": "Puffy Jacket",
                  "Price": 105,
                  "index": 1777
                },
                {
                  "Action": "Viewed",
                  "Country": "Panama",
                  "Item": "Puffy Jacket",
                  "Price": 95.99,
                  "index": 1778
                },
                {
                  "Action": "Added",
                  "Country": "Macedonia",
                  "Item": "Puffy Jacket",
                  "Price": 105,
                  "index": 1779
                },
                {
                  "Action": "Added",
                  "Country": "Guatemala",
                  "Item": "Cosmos T-shirt",
                  "Price": 350,
                  "index": 1780
                },
                {
                  "Action": "Viewed",
                  "Country": "Guatemala",
                  "Item": "Cosmos T-shirt",
                  "Price": 350,
                  "index": 1781
                },
                {
                  "Action": "Viewed",
                  "Country": "Falkland Islands (Malvinas)",
                  "Item": "White Shirt",
                  "Price": 25.2,
                  "index": 1782
                },
                {
                  "Action": "Added",
                  "Country": "British Indian Ocean Territory (Chagos Archipelago)",
                  "Item": "Green Sweater",
                  "Price": 30,
                  "index": 1783
                },
                {
                  "Action": "Added",
                  "Country": "Falkland Islands (Malvinas)",
                  "Item": "White Shirt",
                  "Price": 25.2,
                  "index": 1784
                },
                {
                  "Action": "Purchased",
                  "Country": "Falkland Islands (Malvinas)",
                  "Item": "White Shirt",
                  "Price": 25.2,
                  "index": 1785
                },
                {
                  "Action": "Added",
                  "Country": "Mali",
                  "Item": "Jeans",
                  "Price": 85,
                  "index": 1786
                },
                {
                  "Action": "Added",
                  "Country": "Antigua and Barbuda",
                  "Item": "Cosmos T-shirt",
                  "Price": 350,
                  "index": 1787
                },
                {
                  "Action": "Viewed",
                  "Country": "Guinea-Bissau",
                  "Item": "Jeans",
                  "Price": 85,
                  "index": 1788
                },
                {
                  "Action": "Viewed",
                  "Country": "Antigua and Barbuda",
                  "Item": "Cosmos T-shirt",
                  "Price": 350,
                  "index": 1789
                },
                {
                  "Action": "Viewed",
                  "Country": "Estonia",
                  "Item": "Suit Jacket",
                  "Price": 92,
                  "index": 1790
                },
                {
                  "Action": "Added",
                  "Country": "Ethiopia",
                  "Item": "Dark Jeans",
                  "Price": 90,
                  "index": 1791
                },
                {
                  "Action": "Viewed",
                  "Country": "Ethiopia",
                  "Item": "Dark Jeans",
                  "Price": 90,
                  "index": 1792
                },
                {
                  "Action": "Purchased",
                  "Country": "Bolivia",
                  "Item": "Jeans",
                  "Price": 85,
                  "index": 1793
                },
                {
                  "Action": "Added",
                  "Country": "Bolivia",
                  "Item": "Jeans",
                  "Price": 85,
                  "index": 1794
                },
                {
                  "Action": "Viewed",
                  "Country": "Bolivia",
                  "Item": "Jeans",
                  "Price": 85,
                  "index": 1795
                },
                {
                  "Action": "Viewed",
                  "Country": "Angola",
                  "Item": "Black Hoodie",
                  "Price": 25,
                  "index": 1796
                },
                {
                  "Action": "Viewed",
                  "Country": "Swaziland",
                  "Item": "Black Tee",
                  "Price": 9,
                  "index": 1797
                },
                {
                  "Action": "Added",
                  "Country": "Swaziland",
                  "Item": "Black Tee",
                  "Price": 9,
                  "index": 1798
                },
                {
                  "Action": "Viewed",
                  "Country": "Spain",
                  "Item": "Black Hoodie",
                  "Price": 25,
                  "index": 1799
                },
                {
                  "Action": "Viewed",
                  "Country": "Mongolia",
                  "Item": "High Heel Shoe",
                  "Price": 72,
                  "index": 1800
                },
                {
                  "Action": "Purchased",
                  "Country": "Swaziland",
                  "Item": "Black Tee",
                  "Price": 9,
                  "index": 1801
                },
                {
                  "Action": "Added",
                  "Country": "Sudan",
                  "Item": "High Heel Shoe",
                  "Price": 72,
                  "index": 1802
                },
                {
                  "Action": "Viewed",
                  "Country": "Marshall Islands",
                  "Item": "Rainjacket",
                  "Price": 55,
                  "index": 1803
                },
                {
                  "Action": "Viewed",
                  "Country": "Tuvalu",
                  "Item": "Jeans",
                  "Price": 85,
                  "index": 1804
                },
                {
                  "Action": "Purchased",
                  "Country": "Senegal",
                  "Item": " Flip Flop Shoes",
                  "Price": 14,
                  "index": 1805
                },
                {
                  "Action": "Viewed",
                  "Country": "Guam",
                  "Item": "White Sweater",
                  "Price": 32,
                  "index": 1806
                },
                {
                  "Action": "Viewed",
                  "Country": "Burundi",
                  "Item": "Blazer Jacket",
                  "Price": 87.5,
                  "index": 1807
                },
                {
                  "Action": "Purchased",
                  "Country": "Jordan",
                  "Item": "Blazer Jacket",
                  "Price": 87.5,
                  "index": 1808
                },
                {
                  "Action": "Purchased",
                  "Country": "Estonia",
                  "Item": "Suit Jacket",
                  "Price": 92,
                  "index": 1809
                },
                {
                  "Action": "Added",
                  "Country": "Jordan",
                  "Item": "Blazer Jacket",
                  "Price": 87.5,
                  "index": 1810
                },
                {
                  "Action": "Viewed",
                  "Country": "Netherlands Antilles",
                  "Item": "Black Tee",
                  "Price": 9,
                  "index": 1811
                },
                {
                  "Action": "Viewed",
                  "Country": "Guam",
                  "Item": "Sandals",
                  "Price": 12,
                  "index": 1812
                },
                {
                  "Action": "Purchased",
                  "Country": "Virgin Islands",
                  "Item": "Denim Jacket",
                  "Price": 31.99,
                  "index": 1813
                },
                {
                  "Action": "Viewed",
                  "Country": "Lesotho",
                  "Item": "White Sweater",
                  "Price": 32,
                  "index": 1814
                },
                {
                  "Action": "Viewed",
                  "Country": "Angola",
                  "Item": "Puffy Jacket",
                  "Price": 105,
                  "index": 1815
                },
                {
                  "Action": "Added",
                  "Country": "Lesotho",
                  "Item": "White Sweater",
                  "Price": 32,
                  "index": 1816
                },
                {
                  "Action": "Added",
                  "Country": "Angola",
                  "Item": "Puffy Jacket",
                  "Price": 105,
                  "index": 1817
                },
                {
                  "Action": "Viewed",
                  "Country": "Montserrat",
                  "Item": "Light Jeans",
                  "Price": 80,
                  "index": 1818
                },
                {
                  "Action": "Added",
                  "Country": "Nicaragua",
                  "Item": "Jeans",
                  "Price": 85,
                  "index": 1819
                },
                {
                  "Action": "Viewed",
                  "Country": "Israel",
                  "Item": "Black Hoodie",
                  "Price": 25,
                  "index": 1820
                },
                {
                  "Action": "Viewed",
                  "Country": "Nicaragua",
                  "Item": "Jeans",
                  "Price": 85,
                  "index": 1821
                },
                {
                  "Action": "Added",
                  "Country": "Nicaragua",
                  "Item": "White Dress",
                  "Price": 84.99,
                  "index": 1822
                },
                {
                  "Action": "Added",
                  "Country": "Djibouti",
                  "Item": "Flannel Shirt",
                  "Price": 19.99,
                  "index": 1823
                },
                {
                  "Action": "Added",
                  "Country": "Macao",
                  "Item": "Socks",
                  "Price": 3.75,
                  "index": 1824
                },
                {
                  "Action": "Viewed",
                  "Country": "Djibouti",
                  "Item": "Flannel Shirt",
                  "Price": 19.99,
                  "index": 1825
                },
                {
                  "Action": "Viewed",
                  "Country": "New Caledonia",
                  "Item": "Black Hoodie",
                  "Price": 25,
                  "index": 1826
                },
                {
                  "Action": "Added",
                  "Country": "Heard Island and McDonald Islands",
                  "Item": "White Dress",
                  "Price": 84.99,
                  "index": 1827
                },
                {
                  "Action": "Viewed",
                  "Country": "Heard Island and McDonald Islands",
                  "Item": "White Dress",
                  "Price": 84.99,
                  "index": 1828
                },
                {
                  "Action": "Viewed",
                  "Country": "Wallis and Futuna",
                  "Item": "Sandals",
                  "Price": 12,
                  "index": 1829
                },
                {
                  "Action": "Added",
                  "Country": "Wallis and Futuna",
                  "Item": "Sandals",
                  "Price": 12,
                  "index": 1830
                },
                {
                  "Action": "Viewed",
                  "Country": "United States Minor Outlying Islands",
                  "Item": "Sweatpants",
                  "Price": 21,
                  "index": 1831
                },
                {
                  "Action": "Viewed",
                  "Country": "Jamaica",
                  "Item": "Flannel Shirt",
                  "Price": 19.99,
                  "index": 1832
                },
                {
                  "Action": "Added",
                  "Country": "Jamaica",
                  "Item": "Flannel Shirt",
                  "Price": 19.99,
                  "index": 1833
                },
                {
                  "Action": "Purchased",
                  "Country": "Norfolk Island",
                  "Item": "Silver Necklace",
                  "Price": 15.5,
                  "index": 1834
                },
                {
                  "Action": "Viewed",
                  "Country": "Albania",
                  "Item": "Denim Shorts",
                  "Price": 50,
                  "index": 1835
                },
                {
                  "Action": "Added",
                  "Country": "Norfolk Island",
                  "Item": "Silver Necklace",
                  "Price": 15.5,
                  "index": 1836
                },
                {
                  "Action": "Purchased",
                  "Country": "Albania",
                  "Item": "Denim Shorts",
                  "Price": 50,
                  "index": 1837
                },
                {
                  "Action": "Viewed",
                  "Country": "Norfolk Island",
                  "Item": "Silver Necklace",
                  "Price": 15.5,
                  "index": 1838
                },
                {
                  "Action": "Added",
                  "Country": "Albania",
                  "Item": "Denim Shorts",
                  "Price": 50,
                  "index": 1839
                },
                {
                  "Action": "Purchased",
                  "Country": "Tanzania",
                  "Item": " Flip Flop Shoes",
                  "Price": 14,
                  "index": 1840
                },
                {
                  "Action": "Viewed",
                  "Country": "Norway",
                  "Item": "Suit Jacket",
                  "Price": 92,
                  "index": 1841
                },
                {
                  "Action": "Viewed",
                  "Country": "Greenland",
                  "Item": "Sandals",
                  "Price": 12,
                  "index": 1842
                },
                {
                  "Action": "Viewed",
                  "Country": "Malta",
                  "Item": "Crewneck Sweater",
                  "Price": 22,
                  "index": 1843
                },
                {
                  "Action": "Viewed",
                  "Country": "Madagascar",
                  "Item": "Socks",
                  "Price": 3.75,
                  "index": 1844
                },
                {
                  "Action": "Viewed",
                  "Country": "Bahamas",
                  "Item": "Cardigan Sweater",
                  "Price": 25,
                  "index": 1845
                },
                {
                  "Action": "Viewed",
                  "Country": "Saint Helena",
                  "Item": " Necklace",
                  "Price": 12,
                  "index": 1846
                },
                {
                  "Action": "Added",
                  "Country": "Madagascar",
                  "Item": "Socks",
                  "Price": 3.75,
                  "index": 1847
                },
                {
                  "Action": "Added",
                  "Country": "Bermuda",
                  "Item": "Walking Shoes",
                  "Price": 79.99,
                  "index": 1848
                },
                {
                  "Action": "Added",
                  "Country": "Saint Helena",
                  "Item": " Necklace",
                  "Price": 12,
                  "index": 1849
                },
                {
                  "Action": "Added",
                  "Country": "Norway",
                  "Item": "Puffy Jacket",
                  "Price": 105,
                  "index": 1850
                },
                {
                  "Action": "Viewed",
                  "Country": "Palestinian Territory",
                  "Item": "Puffy Jacket",
                  "Price": 99.99,
                  "index": 1851
                },
                {
                  "Action": "Viewed",
                  "Country": "Monaco",
                  "Item": "Blazer Jacket",
                  "Price": 87.5,
                  "index": 1852
                },
                {
                  "Action": "Added",
                  "Country": "Palestinian Territory",
                  "Item": "Puffy Jacket",
                  "Price": 99.99,
                  "index": 1853
                },
                {
                  "Action": "Added",
                  "Country": "Denmark",
                  "Item": "Rainjacket",
                  "Price": 55,
                  "index": 1854
                },
                {
                  "Action": "Added",
                  "Country": "Gibraltar",
                  "Item": "Socks",
                  "Price": 3.75,
                  "index": 1855
                },
                {
                  "Action": "Viewed",
                  "Country": "Bouvet Island (Bouvetoya)",
                  "Item": "Button-Up Shirt",
                  "Price": 19.99,
                  "index": 1856
                },
                {
                  "Action": "Viewed",
                  "Country": "Denmark",
                  "Item": "Rainjacket",
                  "Price": 55,
                  "index": 1857
                },
                {
                  "Action": "Added",
                  "Country": "Georgia",
                  "Item": "Blazer Jacket",
                  "Price": 87.5,
                  "index": 1858
                },
                {
                  "Action": "Added",
                  "Country": "Micronesia",
                  "Item": "Button-Up Shirt",
                  "Price": 19.99,
                  "index": 1859
                },
                {
                  "Action": "Added",
                  "Country": "Iceland",
                  "Item": "Denim Shorts",
                  "Price": 50,
                  "index": 1860
                },
                {
                  "Action": "Viewed",
                  "Country": "Argentina",
                  "Item": "White Shirt",
                  "Price": 25.2,
                  "index": 1861
                },
                {
                  "Action": "Viewed",
                  "Country": "French Southern Territories",
                  "Item": "Puffy Jacket",
                  "Price": 105,
                  "index": 1862
                },
                {
                  "Action": "Added",
                  "Country": "French Southern Territories",
                  "Item": "Puffy Jacket",
                  "Price": 105,
                  "index": 1863
                },
                {
                  "Action": "Viewed",
                  "Country": "Namibia",
                  "Item": "Dark Jeans",
                  "Price": 90,
                  "index": 1864
                },
                {
                  "Action": "Added",
                  "Country": "Brazil",
                  "Item": "Denim Shorts",
                  "Price": 50,
                  "index": 1865
                },
                {
                  "Action": "Added",
                  "Country": "Cape Verde",
                  "Item": "Black Tee",
                  "Price": 9,
                  "index": 1866
                },
                {
                  "Action": "Viewed",
                  "Country": "Western Sahara",
                  "Item": "Athletic Shoes",
                  "Price": 75,
                  "index": 1867
                },
                {
                  "Action": "Viewed",
                  "Country": "Brazil",
                  "Item": "Denim Shorts",
                  "Price": 50,
                  "index": 1868
                },
                {
                  "Action": "Added",
                  "Country": "Belgium",
                  "Item": "Crewneck Sweater",
                  "Price": 22,
                  "index": 1869
                },
                {
                  "Action": "Added",
                  "Country": "Jamaica",
                  "Item": "Suit Jacket",
                  "Price": 92,
                  "index": 1870
                },
                {
                  "Action": "Viewed",
                  "Country": "French Guiana",
                  "Item": "Light Jeans",
                  "Price": 80,
                  "index": 1871
                },
                {
                  "Action": "Viewed",
                  "Country": "Jamaica",
                  "Item": "Suit Jacket",
                  "Price": 92,
                  "index": 1872
                },
                {
                  "Action": "Viewed",
                  "Country": "Lao People's Democratic Republic",
                  "Item": "Socks",
                  "Price": 3.75,
                  "index": 1873
                },
                {
                  "Action": "Added",
                  "Country": "Lao People's Democratic Republic",
                  "Item": "Socks",
                  "Price": 3.75,
                  "index": 1874
                },
                {
                  "Action": "Added",
                  "Country": "Saint Helena",
                  "Item": "Black Tee",
                  "Price": 9,
                  "index": 1875
                },
                {
                  "Action": "Viewed",
                  "Country": "Saint Helena",
                  "Item": "Black Tee",
                  "Price": 9,
                  "index": 1876
                },
                {
                  "Action": "Added",
                  "Country": "Central African Republic",
                  "Item": "Black Tee",
                  "Price": 9,
                  "index": 1877
                },
                {
                  "Action": "Purchased",
                  "Country": "Central African Republic",
                  "Item": "Black Tee",
                  "Price": 9,
                  "index": 1878
                },
                {
                  "Action": "Purchased",
                  "Country": "Honduras",
                  "Item": "Bag",
                  "Price": 37.5,
                  "index": 1879
                },
                {
                  "Action": "Added",
                  "Country": "Honduras",
                  "Item": "Bag",
                  "Price": 37.5,
                  "index": 1880
                },
                {
                  "Action": "Purchased",
                  "Country": "Brazil",
                  "Item": "Baseball Hat",
                  "Price": 17,
                  "index": 1881
                },
                {
                  "Action": "Added",
                  "Country": "Guam",
                  "Item": "Scarf",
                  "Price": 29.99,
                  "index": 1882
                },
                {
                  "Action": "Viewed",
                  "Country": "Heard Island and McDonald Islands",
                  "Item": "Jeans",
                  "Price": 85,
                  "index": 1883
                },
                {
                  "Action": "Added",
                  "Country": "Saint Pierre and Miquelon",
                  "Item": " Flip Flop Shoes",
                  "Price": 14,
                  "index": 1884
                },
                {
                  "Action": "Added",
                  "Country": "Heard Island and McDonald Islands",
                  "Item": "Jeans",
                  "Price": 85,
                  "index": 1885
                },
                {
                  "Action": "Viewed",
                  "Country": "Saint Pierre and Miquelon",
                  "Item": " Flip Flop Shoes",
                  "Price": 14,
                  "index": 1886
                },
                {
                  "Action": "Viewed",
                  "Country": "Tunisia",
                  "Item": "Black Hoodie",
                  "Price": 25,
                  "index": 1887
                },
                {
                  "Action": "Added",
                  "Country": "Mongolia",
                  "Item": "Socks",
                  "Price": 3.75,
                  "index": 1888
                },
                {
                  "Action": "Purchased",
                  "Country": "Mongolia",
                  "Item": "Socks",
                  "Price": 3.75,
                  "index": 1889
                },
                {
                  "Action": "Purchased",
                  "Country": "Kyrgyz Republic",
                  "Item": "Suit Jacket",
                  "Price": 92,
                  "index": 1890
                },
                {
                  "Action": "Viewed",
                  "Country": "Sao Tome and Principe",
                  "Item": "White Dress",
                  "Price": 84.99,
                  "index": 1891
                },
                {
                  "Action": "Added",
                  "Country": "Kyrgyz Republic",
                  "Item": "Suit Jacket",
                  "Price": 92,
                  "index": 1892
                },
                {
                  "Action": "Viewed",
                  "Country": "Kyrgyz Republic",
                  "Item": "Suit Jacket",
                  "Price": 92,
                  "index": 1893
                },
                {
                  "Action": "Viewed",
                  "Country": "Antigua and Barbuda",
                  "Item": "Green Sweater",
                  "Price": 30,
                  "index": 1894
                },
                {
                  "Action": "Purchased",
                  "Country": "Antigua and Barbuda",
                  "Item": "Green Sweater",
                  "Price": 30,
                  "index": 1895
                },
                {
                  "Action": "Viewed",
                  "Country": "Sweden",
                  "Item": "White Sweater",
                  "Price": 32,
                  "index": 1896
                },
                {
                  "Action": "Added",
                  "Country": "France",
                  "Item": "Gloves",
                  "Price": 20,
                  "index": 1897
                },
                {
                  "Action": "Viewed",
                  "Country": "China",
                  "Item": "Sandal",
                  "Price": 35.5,
                  "index": 1898
                },
                {
                  "Action": "Viewed",
                  "Country": "Russian Federation",
                  "Item": "Black Tee",
                  "Price": 9,
                  "index": 1899
                },
                {
                  "Action": "Viewed",
                  "Country": "France",
                  "Item": "Gloves",
                  "Price": 20,
                  "index": 1900
                },
                {
                  "Action": "Purchased",
                  "Country": "Sri Lanka",
                  "Item": "Fleece Jacket",
                  "Price": 65,
                  "index": 1901
                },
                {
                  "Action": "Viewed",
                  "Country": "Cape Verde",
                  "Item": "White Sweater",
                  "Price": 32,
                  "index": 1902
                },
                {
                  "Action": "Added",
                  "Country": "China",
                  "Item": "Sandal",
                  "Price": 35.5,
                  "index": 1903
                },
                {
                  "Action": "Viewed",
                  "Country": "Bhutan",
                  "Item": "White Dress",
                  "Price": 84.99,
                  "index": 1904
                },
                {
                  "Action": "Added",
                  "Country": "Falkland Islands (Malvinas)",
                  "Item": "Light Jeans",
                  "Price": 80,
                  "index": 1905
                },
                {
                  "Action": "Added",
                  "Country": "Bhutan",
                  "Item": "White Dress",
                  "Price": 84.99,
                  "index": 1906
                },
                {
                  "Action": "Viewed",
                  "Country": "Falkland Islands (Malvinas)",
                  "Item": "Light Jeans",
                  "Price": 80,
                  "index": 1907
                },
                {
                  "Action": "Added",
                  "Country": "South Georgia and the South Sandwich Islands",
                  "Item": "Suit Pant",
                  "Price": 95,
                  "index": 1908
                },
                {
                  "Action": "Added",
                  "Country": "Panama",
                  "Item": "Denim Shorts",
                  "Price": 50,
                  "index": 1909
                },
                {
                  "Action": "Purchased",
                  "Country": "Tokelau",
                  "Item": "Sandals",
                  "Price": 12,
                  "index": 1910
                },
                {
                  "Action": "Viewed",
                  "Country": "South Georgia and the South Sandwich Islands",
                  "Item": "Suit Pant",
                  "Price": 95,
                  "index": 1911
                },
                {
                  "Action": "Viewed",
                  "Country": "Malta",
                  "Item": "Green Sweater",
                  "Price": 30,
                  "index": 1912
                },
                {
                  "Action": "Viewed",
                  "Country": "Bangladesh",
                  "Item": "Black Tee",
                  "Price": 9,
                  "index": 1913
                },
                {
                  "Action": "Added",
                  "Country": "Fiji",
                  "Item": "Black Tee",
                  "Price": 9,
                  "index": 1914
                },
                {
                  "Action": "Viewed",
                  "Country": "Yemen",
                  "Item": " Necklace",
                  "Price": 12,
                  "index": 1915
                },
                {
                  "Action": "Purchased",
                  "Country": "Mongolia",
                  "Item": "Dark Jeans",
                  "Price": 90,
                  "index": 1916
                },
                {
                  "Action": "Added",
                  "Country": "Mongolia",
                  "Item": "Dark Jeans",
                  "Price": 90,
                  "index": 1917
                },
                {
                  "Action": "Viewed",
                  "Country": "Mongolia",
                  "Item": "Dark Jeans",
                  "Price": 90,
                  "index": 1918
                },
                {
                  "Action": "Added",
                  "Country": "Serbia",
                  "Item": "Rainjacket",
                  "Price": 55,
                  "index": 1919
                },
                {
                  "Action": "Viewed",
                  "Country": "Serbia",
                  "Item": "Rainjacket",
                  "Price": 55,
                  "index": 1920
                },
                {
                  "Action": "Purchased",
                  "Country": "Tajikistan",
                  "Item": "Light Jeans",
                  "Price": 80,
                  "index": 1921
                },
                {
                  "Action": "Viewed",
                  "Country": "Burkina Faso",
                  "Item": "High Heel Shoe",
                  "Price": 72,
                  "index": 1922
                },
                {
                  "Action": "Viewed",
                  "Country": "Tajikistan",
                  "Item": "Light Jeans",
                  "Price": 80,
                  "index": 1923
                },
                {
                  "Action": "Purchased",
                  "Country": "Lebanon",
                  "Item": "Blazer Jacket",
                  "Price": 87.5,
                  "index": 1924
                },
                {
                  "Action": "Added",
                  "Country": "Nigeria",
                  "Item": "Black Dress",
                  "Price": 65,
                  "index": 1925
                },
                {
                  "Action": "Viewed",
                  "Country": "Morocco",
                  "Item": "Athletic Shoes",
                  "Price": 70,
                  "index": 1926
                },
                {
                  "Action": "Viewed",
                  "Country": "Czech Republic",
                  "Item": "Black Tee",
                  "Price": 9,
                  "index": 1927
                },
                {
                  "Action": "Added",
                  "Country": "Morocco",
                  "Item": "Athletic Shoes",
                  "Price": 70,
                  "index": 1928
                },
                {
                  "Action": "Viewed",
                  "Country": "Macedonia",
                  "Item": "Green Sweater",
                  "Price": 30,
                  "index": 1929
                },
                {
                  "Action": "Viewed",
                  "Country": "Tunisia",
                  "Item": "Denim Shorts",
                  "Price": 50,
                  "index": 1930
                },
                {
                  "Action": "Purchased",
                  "Country": "Tunisia",
                  "Item": "Denim Shorts",
                  "Price": 50,
                  "index": 1931
                },
                {
                  "Action": "Viewed",
                  "Country": "Taiwan",
                  "Item": "Silver Necklace",
                  "Price": 15.5,
                  "index": 1932
                },
                {
                  "Action": "Added",
                  "Country": "Tunisia",
                  "Item": "Denim Shorts",
                  "Price": 50,
                  "index": 1933
                },
                {
                  "Action": "Purchased",
                  "Country": "Georgia",
                  "Item": "Earring",
                  "Price": 8,
                  "index": 1934
                },
                {
                  "Action": "Viewed",
                  "Country": "Malta",
                  "Item": "Silver Necklace",
                  "Price": 15.5,
                  "index": 1935
                },
                {
                  "Action": "Viewed",
                  "Country": "Mali",
                  "Item": "Puffy Jacket",
                  "Price": 99.99,
                  "index": 1936
                },
                {
                  "Action": "Viewed",
                  "Country": "Philippines",
                  "Item": "White Shirt",
                  "Price": 25.2,
                  "index": 1937
                },
                {
                  "Action": "Viewed",
                  "Country": "Cambodia",
                  "Item": "Cosmos T-shirt",
                  "Price": 350,
                  "index": 1938
                },
                {
                  "Action": "Purchased",
                  "Country": "Georgia",
                  "Item": "Athletic Shorts",
                  "Price": 22.5,
                  "index": 1939
                },
                {
                  "Action": "Added",
                  "Country": "Swaziland",
                  "Item": "Puffy Jacket",
                  "Price": 105,
                  "index": 1940
                },
                {
                  "Action": "Viewed",
                  "Country": "Swaziland",
                  "Item": "Puffy Jacket",
                  "Price": 105,
                  "index": 1941
                },
                {
                  "Action": "Viewed",
                  "Country": "Georgia",
                  "Item": "Athletic Shorts",
                  "Price": 22.5,
                  "index": 1942
                },
                {
                  "Action": "Purchased",
                  "Country": "Swaziland",
                  "Item": "Puffy Jacket",
                  "Price": 105,
                  "index": 1943
                },
                {
                  "Action": "Viewed",
                  "Country": "Falkland Islands (Malvinas)",
                  "Item": "White Dress",
                  "Price": 84.99,
                  "index": 1944
                },
                {
                  "Action": "Viewed",
                  "Country": "Iraq",
                  "Item": "Puffy Jacket",
                  "Price": 99.99,
                  "index": 1945
                },
                {
                  "Action": "Purchased",
                  "Country": "Liechtenstein",
                  "Item": "Athletic Shoes",
                  "Price": 75,
                  "index": 1946
                },
                {
                  "Action": "Viewed",
                  "Country": "Liechtenstein",
                  "Item": "Athletic Shoes",
                  "Price": 75,
                  "index": 1947
                },
                {
                  "Action": "Added",
                  "Country": "Liechtenstein",
                  "Item": "Athletic Shoes",
                  "Price": 75,
                  "index": 1948
                },
                {
                  "Action": "Viewed",
                  "Country": "Spain",
                  "Item": "Cosmos T-shirt",
                  "Price": 350,
                  "index": 1949
                },
                {
                  "Action": "Viewed",
                  "Country": "Georgia",
                  "Item": "High Heel Shoe",
                  "Price": 72,
                  "index": 1950
                },
                {
                  "Action": "Added",
                  "Country": "Australia",
                  "Item": "Rainjacket",
                  "Price": 55,
                  "index": 1951
                },
                {
                  "Action": "Viewed",
                  "Country": "Australia",
                  "Item": "Rainjacket",
                  "Price": 55,
                  "index": 1952
                },
                {
                  "Action": "Added",
                  "Country": "Fiji",
                  "Item": "Green Sweater",
                  "Price": 30,
                  "index": 1953
                },
                {
                  "Action": "Added",
                  "Country": "Myanmar",
                  "Item": "Windbreaker Jacket",
                  "Price": 49.99,
                  "index": 1954
                },
                {
                  "Action": "Added",
                  "Country": "Algeria",
                  "Item": "White Sweater",
                  "Price": 32,
                  "index": 1955
                },
                {
                  "Action": "Viewed",
                  "Country": "Niger",
                  "Item": "Denim Shorts",
                  "Price": 50,
                  "index": 1956
                },
                {
                  "Action": "Viewed",
                  "Country": "Brazil",
                  "Item": "Suit Pant",
                  "Price": 95,
                  "index": 1957
                },
                {
                  "Action": "Added",
                  "Country": "Macedonia",
                  "Item": "Athletic Shoes",
                  "Price": 75,
                  "index": 1958
                },
                {
                  "Action": "Purchased",
                  "Country": "Macedonia",
                  "Item": " Necklace",
                  "Price": 12,
                  "index": 1959
                },
                {
                  "Action": "Viewed",
                  "Country": "Macedonia",
                  "Item": " Necklace",
                  "Price": 12,
                  "index": 1960
                },
                {
                  "Action": "Viewed",
                  "Country": "Macedonia",
                  "Item": "Athletic Shoes",
                  "Price": 75,
                  "index": 1961
                },
                {
                  "Action": "Viewed",
                  "Country": "Guinea-Bissau",
                  "Item": " Necklace",
                  "Price": 12,
                  "index": 1962
                },
                {
                  "Action": "Viewed",
                  "Country": "Poland",
                  "Item": "Crewneck Sweater",
                  "Price": 22,
                  "index": 1963
                },
                {
                  "Action": "Added",
                  "Country": "Poland",
                  "Item": "Crewneck Sweater",
                  "Price": 22,
                  "index": 1964
                },
                {
                  "Action": "Viewed",
                  "Country": "Canada",
                  "Item": "Puffy Jacket",
                  "Price": 99.99,
                  "index": 1965
                },
                {
                  "Action": "Added",
                  "Country": "Cook Islands",
                  "Item": "Athletic Shoes",
                  "Price": 70,
                  "index": 1966
                },
                {
                  "Action": "Added",
                  "Country": "Tunisia",
                  "Item": "Black Hoodie",
                  "Price": 25,
                  "index": 1967
                },
                {
                  "Action": "Purchased",
                  "Country": "Tunisia",
                  "Item": "Black Hoodie",
                  "Price": 25,
                  "index": 1968
                },
                {
                  "Action": "Purchased",
                  "Country": "Kenya",
                  "Item": "Suit Pant",
                  "Price": 95,
                  "index": 1969
                },
                {
                  "Action": "Viewed",
                  "Country": "Kenya",
                  "Item": "Suit Pant",
                  "Price": 95,
                  "index": 1970
                },
                {
                  "Action": "Viewed",
                  "Country": "Tuvalu",
                  "Item": "Scarf",
                  "Price": 29.99,
                  "index": 1971
                },
                {
                  "Action": "Viewed",
                  "Country": "Bulgaria",
                  "Item": " Flip Flop Shoes",
                  "Price": 14,
                  "index": 1972
                },
                {
                  "Action": "Purchased",
                  "Country": "Anguilla",
                  "Item": " Flip Flop Shoes",
                  "Price": 14,
                  "index": 1973
                },
                {
                  "Action": "Viewed",
                  "Country": "Cook Islands",
                  "Item": "Athletic Shoes",
                  "Price": 70,
                  "index": 1974
                },
                {
                  "Action": "Viewed",
                  "Country": "Eritrea",
                  "Item": "Windbreaker Jacket",
                  "Price": 49.99,
                  "index": 1975
                },
                {
                  "Action": "Purchased",
                  "Country": "Cook Islands",
                  "Item": "Athletic Shoes",
                  "Price": 70,
                  "index": 1976
                },
                {
                  "Action": "Added",
                  "Country": "Anguilla",
                  "Item": " Flip Flop Shoes",
                  "Price": 14,
                  "index": 1977
                },
                {
                  "Action": "Viewed",
                  "Country": "Honduras",
                  "Item": "Bag",
                  "Price": 37.5,
                  "index": 1978
                },
                {
                  "Action": "Viewed",
                  "Country": "Anguilla",
                  "Item": " Flip Flop Shoes",
                  "Price": 14,
                  "index": 1979
                },
                {
                  "Action": "Viewed",
                  "Country": "Slovakia (Slovak Republic)",
                  "Item": "Athletic Shoes",
                  "Price": 75,
                  "index": 1980
                },
                {
                  "Action": "Added",
                  "Country": "Tokelau",
                  "Item": "Sandals",
                  "Price": 12,
                  "index": 1981
                },
                {
                  "Action": "Added",
                  "Country": "Yemen",
                  "Item": " Necklace",
                  "Price": 12,
                  "index": 1982
                },
                {
                  "Action": "Viewed",
                  "Country": "Madagascar",
                  "Item": "Suit Pant",
                  "Price": 95,
                  "index": 1983
                },
                {
                  "Action": "Viewed",
                  "Country": "Saint Helena",
                  "Item": "Red Dress",
                  "Price": 130,
                  "index": 1984
                },
                {
                  "Action": "Viewed",
                  "Country": "Netherlands Antilles",
                  "Item": "Walking Shoes",
                  "Price": 79.99,
                  "index": 1985
                },
                {
                  "Action": "Added",
                  "Country": "Nauru",
                  "Item": "Puffy Jacket",
                  "Price": 99.99,
                  "index": 1986
                },
                {
                  "Action": "Purchased",
                  "Country": "Saint Helena",
                  "Item": "Gloves",
                  "Price": 20,
                  "index": 1987
                },
                {
                  "Action": "Viewed",
                  "Country": "Saint Helena",
                  "Item": "Gloves",
                  "Price": 20,
                  "index": 1988
                },
                {
                  "Action": "Viewed",
                  "Country": "Djibouti",
                  "Item": " Flip Flop Shoes",
                  "Price": 14,
                  "index": 1989
                },
                {
                  "Action": "Viewed",
                  "Country": "Peru",
                  "Item": "Black Hoodie",
                  "Price": 25,
                  "index": 1990
                },
                {
                  "Action": "Added",
                  "Country": "Angola",
                  "Item": "White Shirt",
                  "Price": 25.2,
                  "index": 1991
                },
                {
                  "Action": "Added",
                  "Country": "Peru",
                  "Item": "Black Hoodie",
                  "Price": 25,
                  "index": 1992
                },
                {
                  "Action": "Viewed",
                  "Country": "Brunei Darussalam",
                  "Item": "Walking Shoes",
                  "Price": 79.99,
                  "index": 1993
                },
                {
                  "Action": "Viewed",
                  "Country": "Angola",
                  "Item": "White Shirt",
                  "Price": 25.2,
                  "index": 1994
                },
                {
                  "Action": "Viewed",
                  "Country": "Liechtenstein",
                  "Item": "Baseball Hat",
                  "Price": 17,
                  "index": 1995
                },
                {
                  "Action": "Viewed",
                  "Country": "Denmark",
                  "Item": "Scarf",
                  "Price": 29.99,
                  "index": 1996
                },
                {
                  "Action": "Viewed",
                  "Country": "Western Sahara",
                  "Item": "Black Hoodie",
                  "Price": 25,
                  "index": 1997
                },
                {
                  "Action": "Viewed",
                  "Country": "British Indian Ocean Territory (Chagos Archipelago)",
                  "Item": "Cosmos T-shirt",
                  "Price": 350,
                  "index": 1998
                },
                {
                  "Action": "Viewed",
                  "Country": "Netherlands",
                  "Item": "Scarf",
                  "Price": 29.99,
                  "index": 1999
                },
                {
                  "Action": "Viewed",
                  "Country": "Paraguay",
                  "Item": "Sweatpants",
                  "Price": 21,
                  "index": 2000
                },
                {
                  "Action": "Added",
                  "Country": "Gibraltar",
                  "Item": "Dark Jeans",
                  "Price": 90,
                  "index": 2001
                },
                {
                  "Action": "Added",
                  "Country": "Kazakhstan",
                  "Item": " Flip Flop Shoes",
                  "Price": 14,
                  "index": 2002
                },
                {
                  "Action": "Viewed",
                  "Country": "Gibraltar",
                  "Item": "Dark Jeans",
                  "Price": 90,
                  "index": 2003
                },
                {
                  "Action": "Added",
                  "Country": "Dominican Republic",
                  "Item": "Socks",
                  "Price": 3.75,
                  "index": 2004
                },
                {
                  "Action": "Viewed",
                  "Country": "Kazakhstan",
                  "Item": " Flip Flop Shoes",
                  "Price": 14,
                  "index": 2005
                },
                {
                  "Action": "Viewed",
                  "Country": "Dominican Republic",
                  "Item": "Socks",
                  "Price": 3.75,
                  "index": 2006
                },
                {
                  "Action": "Viewed",
                  "Country": "Greece",
                  "Item": "Sweatpants",
                  "Price": 21,
                  "index": 2007
                },
                {
                  "Action": "Purchased",
                  "Country": "Kazakhstan",
                  "Item": " Flip Flop Shoes",
                  "Price": 14,
                  "index": 2008
                },
                {
                  "Action": "Purchased",
                  "Country": "Bolivia",
                  "Item": "Walking Shoes",
                  "Price": 79.99,
                  "index": 2009
                },
                {
                  "Action": "Added",
                  "Country": "Macedonia",
                  "Item": "Black Tee",
                  "Price": 9,
                  "index": 2010
                },
                {
                  "Action": "Added",
                  "Country": "Bolivia",
                  "Item": "Walking Shoes",
                  "Price": 79.99,
                  "index": 2011
                },
                {
                  "Action": "Viewed",
                  "Country": "Egypt",
                  "Item": "Jeans",
                  "Price": 85,
                  "index": 2012
                },
                {
                  "Action": "Added",
                  "Country": "Egypt",
                  "Item": "Jeans",
                  "Price": 85,
                  "index": 2013
                },
                {
                  "Action": "Viewed",
                  "Country": "Belarus",
                  "Item": "Sweatpants",
                  "Price": 21,
                  "index": 2014
                },
                {
                  "Action": "Viewed",
                  "Country": "Wallis and Futuna",
                  "Item": " Necklace",
                  "Price": 12,
                  "index": 2015
                },
                {
                  "Action": "Purchased",
                  "Country": "Moldova",
                  "Item": "Denim Jacket",
                  "Price": 31.99,
                  "index": 2016
                },
                {
                  "Action": "Added",
                  "Country": "Moldova",
                  "Item": "Denim Jacket",
                  "Price": 31.99,
                  "index": 2017
                },
                {
                  "Action": "Viewed",
                  "Country": "Moldova",
                  "Item": "Light Jeans",
                  "Price": 80,
                  "index": 2018
                },
                {
                  "Action": "Viewed",
                  "Country": "Niger",
                  "Item": "Denim Shorts",
                  "Price": 50,
                  "index": 2019
                },
                {
                  "Action": "Viewed",
                  "Country": "Sao Tome and Principe",
                  "Item": "High Heel Shoe",
                  "Price": 72,
                  "index": 2020
                },
                {
                  "Action": "Added",
                  "Country": "Niger",
                  "Item": "Denim Shorts",
                  "Price": 50,
                  "index": 2021
                },
                {
                  "Action": "Purchased",
                  "Country": "Burundi",
                  "Item": "Black Tee",
                  "Price": 9,
                  "index": 2022
                },
                {
                  "Action": "Viewed",
                  "Country": "Kiribati",
                  "Item": "Gloves",
                  "Price": 20,
                  "index": 2023
                },
                {
                  "Action": "Added",
                  "Country": "Moldova",
                  "Item": "Light Jeans",
                  "Price": 80,
                  "index": 2024
                },
                {
                  "Action": "Purchased",
                  "Country": "Yemen",
                  "Item": " Necklace",
                  "Price": 12,
                  "index": 2025
                },
                {
                  "Action": "Viewed",
                  "Country": "Burundi",
                  "Item": "Black Tee",
                  "Price": 9,
                  "index": 2026
                },
                {
                  "Action": "Purchased",
                  "Country": "Gabon",
                  "Item": "Jeans",
                  "Price": 85,
                  "index": 2027
                },
                {
                  "Action": "Added",
                  "Country": "Grenada",
                  "Item": "Blazer Jacket",
                  "Price": 87.5,
                  "index": 2028
                },
                {
                  "Action": "Viewed",
                  "Country": "Gabon",
                  "Item": "Jeans",
                  "Price": 85,
                  "index": 2029
                },
                {
                  "Action": "Added",
                  "Country": "Gabon",
                  "Item": "Jeans",
                  "Price": 85,
                  "index": 2030
                },
                {
                  "Action": "Viewed",
                  "Country": "Svalbard & Jan Mayen Islands",
                  "Item": "High Heel Shoe",
                  "Price": 72,
                  "index": 2031
                },
                {
                  "Action": "Added",
                  "Country": "Svalbard & Jan Mayen Islands",
                  "Item": "High Heel Shoe",
                  "Price": 72,
                  "index": 2032
                },
                {
                  "Action": "Purchased",
                  "Country": "Svalbard & Jan Mayen Islands",
                  "Item": "High Heel Shoe",
                  "Price": 72,
                  "index": 2033
                },
                {
                  "Action": "Added",
                  "Country": "Guinea-Bissau",
                  "Item": " Necklace",
                  "Price": 12,
                  "index": 2034
                },
                {
                  "Action": "Purchased",
                  "Country": "Poland",
                  "Item": "Crewneck Sweater",
                  "Price": 22,
                  "index": 2035
                },
                {
                  "Action": "Added",
                  "Country": "Saudi Arabia",
                  "Item": "Athletic Shorts",
                  "Price": 22.5,
                  "index": 2036
                },
                {
                  "Action": "Viewed",
                  "Country": "Cape Verde",
                  "Item": "Flannel Shirt",
                  "Price": 19.99,
                  "index": 2037
                },
                {
                  "Action": "Viewed",
                  "Country": "Saudi Arabia",
                  "Item": "Athletic Shorts",
                  "Price": 22.5,
                  "index": 2038
                },
                {
                  "Action": "Viewed",
                  "Country": "American Samoa",
                  "Item": "Cardigan Sweater",
                  "Price": 25,
                  "index": 2039
                },
                {
                  "Action": "Added",
                  "Country": "Albania",
                  "Item": "Baseball Hat",
                  "Price": 17,
                  "index": 2040
                },
                {
                  "Action": "Purchased",
                  "Country": "Mongolia",
                  "Item": "White Sweater",
                  "Price": 32,
                  "index": 2041
                },
                {
                  "Action": "Viewed",
                  "Country": "Albania",
                  "Item": "Baseball Hat",
                  "Price": 17,
                  "index": 2042
                },
                {
                  "Action": "Added",
                  "Country": "Mongolia",
                  "Item": "White Sweater",
                  "Price": 32,
                  "index": 2043
                },
                {
                  "Action": "Added",
                  "Country": "Ecuador",
                  "Item": "Gloves",
                  "Price": 20,
                  "index": 2044
                },
                {
                  "Action": "Viewed",
                  "Country": "Antigua and Barbuda",
                  "Item": "Flannel Shirt",
                  "Price": 19.99,
                  "index": 2045
                },
                {
                  "Action": "Viewed",
                  "Country": "Solomon Islands",
                  "Item": "High Heel Shoe",
                  "Price": 72,
                  "index": 2046
                },
                {
                  "Action": "Added",
                  "Country": "San Marino",
                  "Item": "Sandals",
                  "Price": 12,
                  "index": 2047
                },
                {
                  "Action": "Viewed",
                  "Country": "San Marino",
                  "Item": "Sandals",
                  "Price": 12,
                  "index": 2048
                },
                {
                  "Action": "Viewed",
                  "Country": "Belarus",
                  "Item": "Red Dress",
                  "Price": 130,
                  "index": 2049
                },
                {
                  "Action": "Purchased",
                  "Country": "Uganda",
                  "Item": "Black Hoodie",
                  "Price": 25,
                  "index": 2050
                },
                {
                  "Action": "Viewed",
                  "Country": "Honduras",
                  "Item": "Crewneck Sweater",
                  "Price": 22,
                  "index": 2051
                },
                {
                  "Action": "Viewed",
                  "Country": "Bouvet Island (Bouvetoya)",
                  "Item": "Crewneck Sweater",
                  "Price": 22,
                  "index": 2052
                },
                {
                  "Action": "Added",
                  "Country": "Uganda",
                  "Item": "Black Hoodie",
                  "Price": 25,
                  "index": 2053
                },
                {
                  "Action": "Added",
                  "Country": "Bouvet Island (Bouvetoya)",
                  "Item": "Crewneck Sweater",
                  "Price": 22,
                  "index": 2054
                },
                {
                  "Action": "Viewed",
                  "Country": "Uganda",
                  "Item": "Black Hoodie",
                  "Price": 25,
                  "index": 2055
                },
                {
                  "Action": "Added",
                  "Country": "Nicaragua",
                  "Item": "Denim Jacket",
                  "Price": 31.99,
                  "index": 2056
                },
                {
                  "Action": "Viewed",
                  "Country": "Nicaragua",
                  "Item": "Denim Jacket",
                  "Price": 31.99,
                  "index": 2057
                },
                {
                  "Action": "Added",
                  "Country": "Uganda",
                  "Item": "Button-Up Shirt",
                  "Price": 19.99,
                  "index": 2058
                },
                {
                  "Action": "Viewed",
                  "Country": "Montserrat",
                  "Item": "Crewneck Sweater",
                  "Price": 22,
                  "index": 2059
                },
                {
                  "Action": "Viewed",
                  "Country": "Peru",
                  "Item": " Necklace",
                  "Price": 12,
                  "index": 2060
                },
                {
                  "Action": "Added",
                  "Country": "Paraguay",
                  "Item": "Light Jeans",
                  "Price": 80,
                  "index": 2061
                },
                {
                  "Action": "Viewed",
                  "Country": "Uganda",
                  "Item": "Button-Up Shirt",
                  "Price": 19.99,
                  "index": 2062
                },
                {
                  "Action": "Viewed",
                  "Country": "Christmas Island",
                  "Item": "Walking Shoes",
                  "Price": 79.99,
                  "index": 2063
                },
                {
                  "Action": "Viewed",
                  "Country": "Botswana",
                  "Item": "Bag",
                  "Price": 37.5,
                  "index": 2064
                },
                {
                  "Action": "Added",
                  "Country": "Lebanon",
                  "Item": "Scarf",
                  "Price": 29.99,
                  "index": 2065
                },
                {
                  "Action": "Viewed",
                  "Country": "Lebanon",
                  "Item": "Scarf",
                  "Price": 29.99,
                  "index": 2066
                },
                {
                  "Action": "Added",
                  "Country": "Tajikistan",
                  "Item": "Light Jeans",
                  "Price": 80,
                  "index": 2067
                },
                {
                  "Action": "Viewed",
                  "Country": "Lebanon",
                  "Item": "Blazer Jacket",
                  "Price": 87.5,
                  "index": 2068
                },
                {
                  "Action": "Added",
                  "Country": "Lebanon",
                  "Item": "Blazer Jacket",
                  "Price": 87.5,
                  "index": 2069
                },
                {
                  "Action": "Added",
                  "Country": "Ethiopia",
                  "Item": "Dress Shoes",
                  "Price": 120,
                  "index": 2070
                },
                {
                  "Action": "Viewed",
                  "Country": "Ethiopia",
                  "Item": "Dress Shoes",
                  "Price": 120,
                  "index": 2071
                },
                {
                  "Action": "Added",
                  "Country": "Vanuatu",
                  "Item": "Dark Jeans",
                  "Price": 90,
                  "index": 2072
                },
                {
                  "Action": "Viewed",
                  "Country": "Vanuatu",
                  "Item": "Dark Jeans",
                  "Price": 90,
                  "index": 2073
                },
                {
                  "Action": "Purchased",
                  "Country": "Japan",
                  "Item": "Puffy Jacket",
                  "Price": 105,
                  "index": 2074
                },
                {
                  "Action": "Added",
                  "Country": "Portugal",
                  "Item": " Necklace",
                  "Price": 12,
                  "index": 2075
                },
                {
                  "Action": "Viewed",
                  "Country": "Kyrgyz Republic",
                  "Item": " Flip Flop Shoes",
                  "Price": 14,
                  "index": 2076
                },
                {
                  "Action": "Viewed",
                  "Country": "Japan",
                  "Item": "Puffy Jacket",
                  "Price": 105,
                  "index": 2077
                },
                {
                  "Action": "Added",
                  "Country": "Japan",
                  "Item": "Puffy Jacket",
                  "Price": 105,
                  "index": 2078
                },
                {
                  "Action": "Purchased",
                  "Country": "Kyrgyz Republic",
                  "Item": " Flip Flop Shoes",
                  "Price": 14,
                  "index": 2079
                },
                {
                  "Action": "Viewed",
                  "Country": "Haiti",
                  "Item": "High Heel Shoe",
                  "Price": 72,
                  "index": 2080
                },
                {
                  "Action": "Viewed",
                  "Country": "Belgium",
                  "Item": "Black Dress",
                  "Price": 65,
                  "index": 2081
                },
                {
                  "Action": "Purchased",
                  "Country": "Canada",
                  "Item": "Sandal",
                  "Price": 35.5,
                  "index": 2082
                },
                {
                  "Action": "Viewed",
                  "Country": "Saint Kitts and Nevis",
                  "Item": "Cardigan Sweater",
                  "Price": 25,
                  "index": 2083
                },
                {
                  "Action": "Viewed",
                  "Country": "Moldova",
                  "Item": "Puffy Jacket",
                  "Price": 105,
                  "index": 2084
                },
                {
                  "Action": "Viewed",
                  "Country": "New Caledonia",
                  "Item": "Athletic Shorts",
                  "Price": 22.5,
                  "index": 2085
                },
                {
                  "Action": "Viewed",
                  "Country": "Tanzania",
                  "Item": "White Sweater",
                  "Price": 32,
                  "index": 2086
                },
                {
                  "Action": "Added",
                  "Country": "New Caledonia",
                  "Item": "Athletic Shorts",
                  "Price": 22.5,
                  "index": 2087
                },
                {
                  "Action": "Purchased",
                  "Country": "Moldova",
                  "Item": "Light Jeans",
                  "Price": 80,
                  "index": 2088
                },
                {
                  "Action": "Purchased",
                  "Country": "Niger",
                  "Item": "Denim Shorts",
                  "Price": 50,
                  "index": 2089
                },
                {
                  "Action": "Added",
                  "Country": "Solomon Islands",
                  "Item": "Bag",
                  "Price": 37.5,
                  "index": 2090
                },
                {
                  "Action": "Viewed",
                  "Country": "Madagascar",
                  "Item": "Athletic Shoes",
                  "Price": 70,
                  "index": 2091
                },
                {
                  "Action": "Viewed",
                  "Country": "Reunion",
                  "Item": "Puffy Jacket",
                  "Price": 99.99,
                  "index": 2092
                },
                {
                  "Action": "Added",
                  "Country": "Argentina",
                  "Item": "Denim Shorts",
                  "Price": 50,
                  "index": 2093
                },
                {
                  "Action": "Viewed",
                  "Country": "Argentina",
                  "Item": "Denim Shorts",
                  "Price": 50,
                  "index": 2094
                },
                {
                  "Action": "Purchased",
                  "Country": "El Salvador",
                  "Item": "Dress Shoes",
                  "Price": 120,
                  "index": 2095
                },
                {
                  "Action": "Viewed",
                  "Country": "El Salvador",
                  "Item": "Dress Shoes",
                  "Price": 120,
                  "index": 2096
                },
                {
                  "Action": "Added",
                  "Country": "El Salvador",
                  "Item": "Dress Shoes",
                  "Price": 120,
                  "index": 2097
                },
                {
                  "Action": "Viewed",
                  "Country": "Botswana",
                  "Item": "Denim Jacket",
                  "Price": 31.99,
                  "index": 2098
                },
                {
                  "Action": "Viewed",
                  "Country": "Canada",
                  "Item": "Blazer Jacket",
                  "Price": 87.5,
                  "index": 2099
                },
                {
                  "Action": "Added",
                  "Country": "Haiti",
                  "Item": "Sandal",
                  "Price": 35.5,
                  "index": 2100
                },
                {
                  "Action": "Viewed",
                  "Country": "Haiti",
                  "Item": "Sandal",
                  "Price": 35.5,
                  "index": 2101
                },
                {
                  "Action": "Viewed",
                  "Country": "Panama",
                  "Item": "Sandal",
                  "Price": 35.5,
                  "index": 2102
                },
                {
                  "Action": "Added",
                  "Country": "Malawi",
                  "Item": "Denim Shorts",
                  "Price": 50,
                  "index": 2103
                },
                {
                  "Action": "Viewed",
                  "Country": "Heard Island and McDonald Islands",
                  "Item": "Earring",
                  "Price": 8,
                  "index": 2104
                },
                {
                  "Action": "Purchased",
                  "Country": "Kazakhstan",
                  "Item": "Black Hoodie",
                  "Price": 25,
                  "index": 2105
                },
                {
                  "Action": "Purchased",
                  "Country": "Democratic People's Republic of Korea",
                  "Item": "Walking Shoes",
                  "Price": 79.99,
                  "index": 2106
                },
                {
                  "Action": "Added",
                  "Country": "Kazakhstan",
                  "Item": "Black Hoodie",
                  "Price": 25,
                  "index": 2107
                },
                {
                  "Action": "Viewed",
                  "Country": "Democratic People's Republic of Korea",
                  "Item": "Walking Shoes",
                  "Price": 79.99,
                  "index": 2108
                },
                {
                  "Action": "Viewed",
                  "Country": "Niger",
                  "Item": " Necklace",
                  "Price": 12,
                  "index": 2109
                },
                {
                  "Action": "Added",
                  "Country": "Democratic People's Republic of Korea",
                  "Item": "Walking Shoes",
                  "Price": 79.99,
                  "index": 2110
                },
                {
                  "Action": "Viewed",
                  "Country": "Guinea-Bissau",
                  "Item": "White Shirt",
                  "Price": 25.2,
                  "index": 2111
                },
                {
                  "Action": "Purchased",
                  "Country": "Finland",
                  "Item": "Suit Pant",
                  "Price": 95,
                  "index": 2112
                },
                {
                  "Action": "Viewed",
                  "Country": "Finland",
                  "Item": "Suit Pant",
                  "Price": 95,
                  "index": 2113
                },
                {
                  "Action": "Added",
                  "Country": "Guinea-Bissau",
                  "Item": "White Shirt",
                  "Price": 25.2,
                  "index": 2114
                },
                {
                  "Action": "Added",
                  "Country": "Finland",
                  "Item": "Suit Pant",
                  "Price": 95,
                  "index": 2115
                },
                {
                  "Action": "Purchased",
                  "Country": "Niue",
                  "Item": "Socks",
                  "Price": 3.75,
                  "index": 2116
                },
                {
                  "Action": "Added",
                  "Country": "Niue",
                  "Item": "Socks",
                  "Price": 3.75,
                  "index": 2117
                },
                {
                  "Action": "Added",
                  "Country": "Tunisia",
                  "Item": "Black Hoodie",
                  "Price": 25,
                  "index": 2118
                },
                {
                  "Action": "Viewed",
                  "Country": "Niue",
                  "Item": "Socks",
                  "Price": 3.75,
                  "index": 2119
                },
                {
                  "Action": "Viewed",
                  "Country": "Tunisia",
                  "Item": "Black Hoodie",
                  "Price": 25,
                  "index": 2120
                },
                {
                  "Action": "Viewed",
                  "Country": "Turkmenistan",
                  "Item": "Dark Jeans",
                  "Price": 90,
                  "index": 2121
                },
                {
                  "Action": "Viewed",
                  "Country": "Saint Pierre and Miquelon",
                  "Item": "Puffy Jacket",
                  "Price": 95.99,
                  "index": 2122
                },
                {
                  "Action": "Purchased",
                  "Country": "Saint Pierre and Miquelon",
                  "Item": "Puffy Jacket",
                  "Price": 95.99,
                  "index": 2123
                },
                {
                  "Action": "Added",
                  "Country": "Saint Pierre and Miquelon",
                  "Item": "Puffy Jacket",
                  "Price": 95.99,
                  "index": 2124
                },
                {
                  "Action": "Viewed",
                  "Country": "Marshall Islands",
                  "Item": "Black Dress",
                  "Price": 65,
                  "index": 2125
                },
                {
                  "Action": "Added",
                  "Country": "Tonga",
                  "Item": "Socks",
                  "Price": 3.75,
                  "index": 2126
                },
                {
                  "Action": "Added",
                  "Country": "Marshall Islands",
                  "Item": "Black Dress",
                  "Price": 65,
                  "index": 2127
                },
                {
                  "Action": "Purchased",
                  "Country": "Marshall Islands",
                  "Item": "Black Dress",
                  "Price": 65,
                  "index": 2128
                },
                {
                  "Action": "Viewed",
                  "Country": "Fiji",
                  "Item": "White Shirt",
                  "Price": 25.2,
                  "index": 2129
                },
                {
                  "Action": "Added",
                  "Country": "Libyan Arab Jamahiriya",
                  "Item": "Cardigan Sweater",
                  "Price": 25,
                  "index": 2130
                },
                {
                  "Action": "Added",
                  "Country": "Luxembourg",
                  "Item": " Flip Flop Shoes",
                  "Price": 14,
                  "index": 2131
                },
                {
                  "Action": "Purchased",
                  "Country": "Guatemala",
                  "Item": "Scarf",
                  "Price": 29.99,
                  "index": 2132
                },
                {
                  "Action": "Viewed",
                  "Country": "Cape Verde",
                  "Item": "Black Hoodie",
                  "Price": 25,
                  "index": 2133
                },
                {
                  "Action": "Viewed",
                  "Country": "Guatemala",
                  "Item": "Scarf",
                  "Price": 29.99,
                  "index": 2134
                },
                {
                  "Action": "Viewed",
                  "Country": "Senegal",
                  "Item": " Flip Flop Shoes",
                  "Price": 14,
                  "index": 2135
                },
                {
                  "Action": "Added",
                  "Country": "Guatemala",
                  "Item": "Scarf",
                  "Price": 29.99,
                  "index": 2136
                },
                {
                  "Action": "Viewed",
                  "Country": "Slovakia (Slovak Republic)",
                  "Item": "Cardigan Sweater",
                  "Price": 25,
                  "index": 2137
                },
                {
                  "Action": "Viewed",
                  "Country": "Luxembourg",
                  "Item": " Flip Flop Shoes",
                  "Price": 14,
                  "index": 2138
                },
                {
                  "Action": "Viewed",
                  "Country": "Uganda",
                  "Item": "Sandal",
                  "Price": 35.5,
                  "index": 2139
                },
                {
                  "Action": "Viewed",
                  "Country": "Nicaragua",
                  "Item": "White Dress",
                  "Price": 84.99,
                  "index": 2140
                },
                {
                  "Action": "Viewed",
                  "Country": "Mali",
                  "Item": "Suit Jacket",
                  "Price": 92,
                  "index": 2141
                },
                {
                  "Action": "Purchased",
                  "Country": "Uganda",
                  "Item": "Button-Up Shirt",
                  "Price": 19.99,
                  "index": 2142
                },
                {
                  "Action": "Viewed",
                  "Country": "Azerbaijan",
                  "Item": "Gloves",
                  "Price": 20,
                  "index": 2143
                },
                {
                  "Action": "Viewed",
                  "Country": "Paraguay",
                  "Item": "Light Jeans",
                  "Price": 80,
                  "index": 2144
                },
                {
                  "Action": "Added",
                  "Country": "Vietnam",
                  "Item": "Athletic Shoes",
                  "Price": 75,
                  "index": 2145
                },
                {
                  "Action": "Viewed",
                  "Country": "Vietnam",
                  "Item": "Athletic Shoes",
                  "Price": 75,
                  "index": 2146
                },
                {
                  "Action": "Purchased",
                  "Country": "Venezuela",
                  "Item": "Bag",
                  "Price": 37.5,
                  "index": 2147
                },
                {
                  "Action": "Added",
                  "Country": "Azerbaijan",
                  "Item": "Gloves",
                  "Price": 20,
                  "index": 2148
                },
                {
                  "Action": "Viewed",
                  "Country": "Venezuela",
                  "Item": "Bag",
                  "Price": 37.5,
                  "index": 2149
                },
                {
                  "Action": "Viewed",
                  "Country": "Svalbard & Jan Mayen Islands",
                  "Item": "Black Tee",
                  "Price": 9,
                  "index": 2150
                },
                {
                  "Action": "Viewed",
                  "Country": "Latvia",
                  "Item": "Puffy Jacket",
                  "Price": 95.99,
                  "index": 2151
                },
                {
                  "Action": "Purchased",
                  "Country": "Turkey",
                  "Item": "Socks",
                  "Price": 3.75,
                  "index": 2152
                },
                {
                  "Action": "Purchased",
                  "Country": "Latvia",
                  "Item": "Puffy Jacket",
                  "Price": 95.99,
                  "index": 2153
                },
                {
                  "Action": "Viewed",
                  "Country": "Turkey",
                  "Item": "Socks",
                  "Price": 3.75,
                  "index": 2154
                },
                {
                  "Action": "Added",
                  "Country": "Liberia",
                  "Item": "Puffy Jacket",
                  "Price": 95.99,
                  "index": 2155
                },
                {
                  "Action": "Viewed",
                  "Country": "Macedonia",
                  "Item": "Fleece Jacket",
                  "Price": 65,
                  "index": 2156
                },
                {
                  "Action": "Added",
                  "Country": "Turkey",
                  "Item": "Socks",
                  "Price": 3.75,
                  "index": 2157
                },
                {
                  "Action": "Viewed",
                  "Country": "Philippines",
                  "Item": "Puffy Jacket",
                  "Price": 99.99,
                  "index": 2158
                },
                {
                  "Action": "Viewed",
                  "Country": "Ethiopia",
                  "Item": "Sweatpants",
                  "Price": 21,
                  "index": 2159
                },
                {
                  "Action": "Purchased",
                  "Country": "Philippines",
                  "Item": "Puffy Jacket",
                  "Price": 99.99,
                  "index": 2160
                },
                {
                  "Action": "Viewed",
                  "Country": "Bahamas",
                  "Item": "Sweatpants",
                  "Price": 21,
                  "index": 2161
                },
                {
                  "Action": "Viewed",
                  "Country": "Mali",
                  "Item": "Flannel Shirt",
                  "Price": 19.99,
                  "index": 2162
                },
                {
                  "Action": "Added",
                  "Country": "Armenia",
                  "Item": "Flannel Shirt",
                  "Price": 19.99,
                  "index": 2163
                },
                {
                  "Action": "Purchased",
                  "Country": "Venezuela",
                  "Item": "Suit Pant",
                  "Price": 95,
                  "index": 2164
                },
                {
                  "Action": "Viewed",
                  "Country": "Armenia",
                  "Item": "Flannel Shirt",
                  "Price": 19.99,
                  "index": 2165
                },
                {
                  "Action": "Added",
                  "Country": "Ethiopia",
                  "Item": "Sweatpants",
                  "Price": 21,
                  "index": 2166
                },
                {
                  "Action": "Purchased",
                  "Country": "Ethiopia",
                  "Item": "Crewneck Sweater",
                  "Price": 22,
                  "index": 2167
                },
                {
                  "Action": "Added",
                  "Country": "Montserrat",
                  "Item": "Socks",
                  "Price": 3.75,
                  "index": 2168
                },
                {
                  "Action": "Viewed",
                  "Country": "Ethiopia",
                  "Item": "Crewneck Sweater",
                  "Price": 22,
                  "index": 2169
                },
                {
                  "Action": "Added",
                  "Country": "Ethiopia",
                  "Item": "Crewneck Sweater",
                  "Price": 22,
                  "index": 2170
                },
                {
                  "Action": "Viewed",
                  "Country": "Eritrea",
                  "Item": "Black Tee",
                  "Price": 9,
                  "index": 2171
                },
                {
                  "Action": "Added",
                  "Country": "Mexico",
                  "Item": "Cardigan Sweater",
                  "Price": 25,
                  "index": 2172
                },
                {
                  "Action": "Viewed",
                  "Country": "Mexico",
                  "Item": "Cardigan Sweater",
                  "Price": 25,
                  "index": 2173
                },
                {
                  "Action": "Purchased",
                  "Country": "Chile",
                  "Item": "Sandal",
                  "Price": 35.5,
                  "index": 2174
                },
                {
                  "Action": "Viewed",
                  "Country": "Chile",
                  "Item": "Sandal",
                  "Price": 35.5,
                  "index": 2175
                },
                {
                  "Action": "Added",
                  "Country": "Chile",
                  "Item": "Sandal",
                  "Price": 35.5,
                  "index": 2176
                },
                {
                  "Action": "Viewed",
                  "Country": "Ecuador",
                  "Item": "Black Tee",
                  "Price": 9,
                  "index": 2177
                },
                {
                  "Action": "Purchased",
                  "Country": "Ecuador",
                  "Item": "Black Tee",
                  "Price": 9,
                  "index": 2178
                },
                {
                  "Action": "Purchased",
                  "Country": "Mauritius",
                  "Item": "Black Hoodie",
                  "Price": 25,
                  "index": 2179
                },
                {
                  "Action": "Added",
                  "Country": "Saint Kitts and Nevis",
                  "Item": "Cardigan Sweater",
                  "Price": 25,
                  "index": 2180
                },
                {
                  "Action": "Viewed",
                  "Country": "Mauritius",
                  "Item": "Black Hoodie",
                  "Price": 25,
                  "index": 2181
                },
                {
                  "Action": "Added",
                  "Country": "Ecuador",
                  "Item": "Black Tee",
                  "Price": 9,
                  "index": 2182
                },
                {
                  "Action": "Added",
                  "Country": "Brunei Darussalam",
                  "Item": "Pant",
                  "Price": 40,
                  "index": 2183
                },
                {
                  "Action": "Viewed",
                  "Country": "Pakistan",
                  "Item": "Green Sweater",
                  "Price": 30,
                  "index": 2184
                },
                {
                  "Action": "Viewed",
                  "Country": "Kazakhstan",
                  "Item": "Black Hoodie",
                  "Price": 25,
                  "index": 2185
                },
                {
                  "Action": "Viewed",
                  "Country": "Cocos (Keeling) Islands",
                  "Item": "Crewneck Sweater",
                  "Price": 22,
                  "index": 2186
                },
                {
                  "Action": "Viewed",
                  "Country": "Italy",
                  "Item": "Sweatpants",
                  "Price": 21,
                  "index": 2187
                },
                {
                  "Action": "Purchased",
                  "Country": "Belgium",
                  "Item": "Crewneck Sweater",
                  "Price": 22,
                  "index": 2188
                },
                {
                  "Action": "Viewed",
                  "Country": "Oman",
                  "Item": "Green Sweater",
                  "Price": 30,
                  "index": 2189
                },
                {
                  "Action": "Viewed",
                  "Country": "Belgium",
                  "Item": "Crewneck Sweater",
                  "Price": 22,
                  "index": 2190
                },
                {
                  "Action": "Purchased",
                  "Country": "Oman",
                  "Item": "Green Sweater",
                  "Price": 30,
                  "index": 2191
                },
                {
                  "Action": "Added",
                  "Country": "Oman",
                  "Item": "Green Sweater",
                  "Price": 30,
                  "index": 2192
                },
                {
                  "Action": "Added",
                  "Country": "Macedonia",
                  "Item": "Green Sweater",
                  "Price": 30,
                  "index": 2193
                },
                {
                  "Action": "Added",
                  "Country": "Ghana",
                  "Item": "Pant",
                  "Price": 40,
                  "index": 2194
                },
                {
                  "Action": "Added",
                  "Country": "Australia",
                  "Item": "Blue Sweater",
                  "Price": 27,
                  "index": 2195
                },
                {
                  "Action": "Added",
                  "Country": "Guernsey",
                  "Item": "Crewneck Sweater",
                  "Price": 22,
                  "index": 2196
                },
                {
                  "Action": "Added",
                  "Country": "Paraguay",
                  "Item": "Athletic Shoes",
                  "Price": 70,
                  "index": 2197
                },
                {
                  "Action": "Viewed",
                  "Country": "Cape Verde",
                  "Item": "Puffy Jacket",
                  "Price": 95.99,
                  "index": 2198
                },
                {
                  "Action": "Added",
                  "Country": "Australia",
                  "Item": "High Heel Shoe",
                  "Price": 72,
                  "index": 2199
                },
                {
                  "Action": "Viewed",
                  "Country": "Madagascar",
                  "Item": "Sandal",
                  "Price": 35.5,
                  "index": 2200
                },
                {
                  "Action": "Viewed",
                  "Country": "Guernsey",
                  "Item": "Crewneck Sweater",
                  "Price": 22,
                  "index": 2201
                },
                {
                  "Action": "Viewed",
                  "Country": "Saint Pierre and Miquelon",
                  "Item": "High Heel Shoe",
                  "Price": 72,
                  "index": 2202
                },
                {
                  "Action": "Viewed",
                  "Country": "Honduras",
                  "Item": "White Sweater",
                  "Price": 32,
                  "index": 2203
                },
                {
                  "Action": "Added",
                  "Country": "Svalbard & Jan Mayen Islands",
                  "Item": "Cosmos T-shirt",
                  "Price": 350,
                  "index": 2204
                },
                {
                  "Action": "Viewed",
                  "Country": "Svalbard & Jan Mayen Islands",
                  "Item": "Cosmos T-shirt",
                  "Price": 350,
                  "index": 2205
                },
                {
                  "Action": "Added",
                  "Country": "Falkland Islands (Malvinas)",
                  "Item": "Crewneck Sweater",
                  "Price": 22,
                  "index": 2206
                },
                {
                  "Action": "Viewed",
                  "Country": "Falkland Islands (Malvinas)",
                  "Item": "Crewneck Sweater",
                  "Price": 22,
                  "index": 2207
                },
                {
                  "Action": "Added",
                  "Country": "Latvia",
                  "Item": "Windbreaker Jacket",
                  "Price": 49.99,
                  "index": 2208
                },
                {
                  "Action": "Added",
                  "Country": "Chile",
                  "Item": "Flannel Shirt",
                  "Price": 19.99,
                  "index": 2209
                },
                {
                  "Action": "Viewed",
                  "Country": "Latvia",
                  "Item": "Windbreaker Jacket",
                  "Price": 49.99,
                  "index": 2210
                },
                {
                  "Action": "Viewed",
                  "Country": "Chile",
                  "Item": "Flannel Shirt",
                  "Price": 19.99,
                  "index": 2211
                },
                {
                  "Action": "Purchased",
                  "Country": "Somalia",
                  "Item": "Athletic Shorts",
                  "Price": 22.5,
                  "index": 2212
                },
                {
                  "Action": "Added",
                  "Country": "Antigua and Barbuda",
                  "Item": "Green Sweater",
                  "Price": 30,
                  "index": 2213
                },
                {
                  "Action": "Added",
                  "Country": "Guam",
                  "Item": "White Sweater",
                  "Price": 32,
                  "index": 2214
                },
                {
                  "Action": "Viewed",
                  "Country": "Bahamas",
                  "Item": "Blue Sweater",
                  "Price": 27,
                  "index": 2215
                },
                {
                  "Action": "Viewed",
                  "Country": "Mali",
                  "Item": "Jeans",
                  "Price": 85,
                  "index": 2216
                },
                {
                  "Action": "Added",
                  "Country": "Bulgaria",
                  "Item": " Flip Flop Shoes",
                  "Price": 14,
                  "index": 2217
                },
                {
                  "Action": "Viewed",
                  "Country": "Ecuador",
                  "Item": "Gloves",
                  "Price": 20,
                  "index": 2218
                },
                {
                  "Action": "Viewed",
                  "Country": "Spain",
                  "Item": "Blue Sweater",
                  "Price": 27,
                  "index": 2219
                },
                {
                  "Action": "Viewed",
                  "Country": "Mexico",
                  "Item": "Suit Jacket",
                  "Price": 92,
                  "index": 2220
                },
                {
                  "Action": "Viewed",
                  "Country": "Pakistan",
                  "Item": "Athletic Shorts",
                  "Price": 22.5,
                  "index": 2221
                },
                {
                  "Action": "Added",
                  "Country": "Mexico",
                  "Item": "Suit Jacket",
                  "Price": 92,
                  "index": 2222
                },
                {
                  "Action": "Added",
                  "Country": "Moldova",
                  "Item": "Silver Necklace",
                  "Price": 15.5,
                  "index": 2223
                },
                {
                  "Action": "Added",
                  "Country": "Tunisia",
                  "Item": "Dark Jeans",
                  "Price": 90,
                  "index": 2224
                },
                {
                  "Action": "Viewed",
                  "Country": "Tunisia",
                  "Item": "Dark Jeans",
                  "Price": 90,
                  "index": 2225
                },
                {
                  "Action": "Viewed",
                  "Country": "Philippines",
                  "Item": "White Sweater",
                  "Price": 32,
                  "index": 2226
                },
                {
                  "Action": "Added",
                  "Country": "Paraguay",
                  "Item": "Green Sweater",
                  "Price": 30,
                  "index": 2227
                },
                {
                  "Action": "Added",
                  "Country": "Seychelles",
                  "Item": "Red Top",
                  "Price": 33,
                  "index": 2228
                },
                {
                  "Action": "Viewed",
                  "Country": "Seychelles",
                  "Item": "Red Top",
                  "Price": 33,
                  "index": 2229
                },
                {
                  "Action": "Viewed",
                  "Country": "Paraguay",
                  "Item": "Green Sweater",
                  "Price": 30,
                  "index": 2230
                },
                {
                  "Action": "Purchased",
                  "Country": "Nicaragua",
                  "Item": "Beanie",
                  "Price": 10,
                  "index": 2231
                },
                {
                  "Action": "Added",
                  "Country": "Nicaragua",
                  "Item": "Beanie",
                  "Price": 10,
                  "index": 2232
                },
                {
                  "Action": "Viewed",
                  "Country": "Nicaragua",
                  "Item": "Beanie",
                  "Price": 10,
                  "index": 2233
                },
                {
                  "Action": "Viewed",
                  "Country": "Republic of Korea",
                  "Item": "Sandal",
                  "Price": 35.5,
                  "index": 2234
                },
                {
                  "Action": "Purchased",
                  "Country": "Mexico",
                  "Item": "Black Tee",
                  "Price": 9,
                  "index": 2235
                },
                {
                  "Action": "Added",
                  "Country": "Republic of Korea",
                  "Item": "Sandal",
                  "Price": 35.5,
                  "index": 2236
                },
                {
                  "Action": "Viewed",
                  "Country": "Mexico",
                  "Item": "Black Tee",
                  "Price": 9,
                  "index": 2237
                },
                {
                  "Action": "Added",
                  "Country": "Mexico",
                  "Item": "Black Tee",
                  "Price": 9,
                  "index": 2238
                },
                {
                  "Action": "Purchased",
                  "Country": "Macedonia",
                  "Item": "Black Tee",
                  "Price": 9,
                  "index": 2239
                },
                {
                  "Action": "Viewed",
                  "Country": "Macedonia",
                  "Item": "Black Tee",
                  "Price": 9,
                  "index": 2240
                },
                {
                  "Action": "Viewed",
                  "Country": "Malta",
                  "Item": "White Dress",
                  "Price": 84.99,
                  "index": 2241
                },
                {
                  "Action": "Viewed",
                  "Country": "Grenada",
                  "Item": "Bag",
                  "Price": 37.5,
                  "index": 2242
                },
                {
                  "Action": "Viewed",
                  "Country": "French Polynesia",
                  "Item": "Puffy Jacket",
                  "Price": 95.99,
                  "index": 2243
                },
                {
                  "Action": "Viewed",
                  "Country": "Liechtenstein",
                  "Item": "Denim Jacket",
                  "Price": 31.99,
                  "index": 2244
                },
                {
                  "Action": "Added",
                  "Country": "Malta",
                  "Item": "White Dress",
                  "Price": 84.99,
                  "index": 2245
                },
                {
                  "Action": "Viewed",
                  "Country": "New Caledonia",
                  "Item": "Rainjacket",
                  "Price": 55,
                  "index": 2246
                },
                {
                  "Action": "Viewed",
                  "Country": "Mali",
                  "Item": "Athletic Shoes",
                  "Price": 70,
                  "index": 2247
                },
                {
                  "Action": "Added",
                  "Country": "Chad",
                  "Item": "Athletic Shorts",
                  "Price": 22.5,
                  "index": 2248
                },
                {
                  "Action": "Viewed",
                  "Country": "Reunion",
                  "Item": "Light Jeans",
                  "Price": 80,
                  "index": 2249
                },
                {
                  "Action": "Viewed",
                  "Country": "Chad",
                  "Item": "Athletic Shorts",
                  "Price": 22.5,
                  "index": 2250
                },
                {
                  "Action": "Viewed",
                  "Country": "Belgium",
                  "Item": "Crewneck Sweater",
                  "Price": 22,
                  "index": 2251
                },
                {
                  "Action": "Viewed",
                  "Country": "Portugal",
                  "Item": "Athletic Shorts",
                  "Price": 22.5,
                  "index": 2252
                },
                {
                  "Action": "Purchased",
                  "Country": "Albania",
                  "Item": "White Shirt",
                  "Price": 25.2,
                  "index": 2253
                },
                {
                  "Action": "Viewed",
                  "Country": "Azerbaijan",
                  "Item": "Athletic Shoes",
                  "Price": 70,
                  "index": 2254
                },
                {
                  "Action": "Viewed",
                  "Country": "Sao Tome and Principe",
                  "Item": "Earring",
                  "Price": 8,
                  "index": 2255
                },
                {
                  "Action": "Viewed",
                  "Country": "Albania",
                  "Item": "White Shirt",
                  "Price": 25.2,
                  "index": 2256
                },
                {
                  "Action": "Added",
                  "Country": "Sri Lanka",
                  "Item": "White Dress",
                  "Price": 84.99,
                  "index": 2257
                },
                {
                  "Action": "Added",
                  "Country": "Zambia",
                  "Item": "Puffy Jacket",
                  "Price": 105,
                  "index": 2258
                },
                {
                  "Action": "Viewed",
                  "Country": "Swaziland",
                  "Item": "Blue Sweater",
                  "Price": 27,
                  "index": 2259
                },
                {
                  "Action": "Viewed",
                  "Country": "Guadeloupe",
                  "Item": "Athletic Shorts",
                  "Price": 22.5,
                  "index": 2260
                },
                {
                  "Action": "Added",
                  "Country": "Estonia",
                  "Item": "Puffy Jacket",
                  "Price": 95.99,
                  "index": 2261
                },
                {
                  "Action": "Added",
                  "Country": "Guadeloupe",
                  "Item": "Athletic Shorts",
                  "Price": 22.5,
                  "index": 2262
                },
                {
                  "Action": "Added",
                  "Country": "Madagascar",
                  "Item": "Dress Shoes",
                  "Price": 120,
                  "index": 2263
                },
                {
                  "Action": "Viewed",
                  "Country": "Italy",
                  "Item": "Beanie",
                  "Price": 10,
                  "index": 2264
                },
                {
                  "Action": "Viewed",
                  "Country": "Cameroon",
                  "Item": "Gloves",
                  "Price": 20,
                  "index": 2265
                },
                {
                  "Action": "Viewed",
                  "Country": "Cape Verde",
                  "Item": "Black Tee",
                  "Price": 9,
                  "index": 2266
                },
                {
                  "Action": "Viewed",
                  "Country": "Madagascar",
                  "Item": "Dress Shoes",
                  "Price": 120,
                  "index": 2267
                },
                {
                  "Action": "Viewed",
                  "Country": "Denmark",
                  "Item": "Light Jeans",
                  "Price": 80,
                  "index": 2268
                },
                {
                  "Action": "Viewed",
                  "Country": "Tanzania",
                  "Item": " Flip Flop Shoes",
                  "Price": 14,
                  "index": 2269
                },
                {
                  "Action": "Viewed",
                  "Country": "Zambia",
                  "Item": "Red Dress",
                  "Price": 130,
                  "index": 2270
                },
                {
                  "Action": "Purchased",
                  "Country": "Equatorial Guinea",
                  "Item": "Puffy Jacket",
                  "Price": 95.99,
                  "index": 2271
                },
                {
                  "Action": "Viewed",
                  "Country": "Yemen",
                  "Item": " Necklace",
                  "Price": 12,
                  "index": 2272
                },
                {
                  "Action": "Purchased",
                  "Country": "Fiji",
                  "Item": "Green Sweater",
                  "Price": 30,
                  "index": 2273
                },
                {
                  "Action": "Purchased",
                  "Country": "Myanmar",
                  "Item": "Windbreaker Jacket",
                  "Price": 49.99,
                  "index": 2274
                },
                {
                  "Action": "Added",
                  "Country": "Equatorial Guinea",
                  "Item": "Puffy Jacket",
                  "Price": 95.99,
                  "index": 2275
                },
                {
                  "Action": "Viewed",
                  "Country": "Myanmar",
                  "Item": "Windbreaker Jacket",
                  "Price": 49.99,
                  "index": 2276
                },
                {
                  "Action": "Viewed",
                  "Country": "Fiji",
                  "Item": "Green Sweater",
                  "Price": 30,
                  "index": 2277
                },
                {
                  "Action": "Added",
                  "Country": "Yemen",
                  "Item": " Necklace",
                  "Price": 12,
                  "index": 2278
                },
                {
                  "Action": "Added",
                  "Country": "China",
                  "Item": "Windbreaker Jacket",
                  "Price": 49.99,
                  "index": 2279
                },
                {
                  "Action": "Added",
                  "Country": "Malaysia",
                  "Item": "Flannel Shirt",
                  "Price": 19.99,
                  "index": 2280
                },
                {
                  "Action": "Viewed",
                  "Country": "Burundi",
                  "Item": "Earring",
                  "Price": 8,
                  "index": 2281
                },
                {
                  "Action": "Purchased",
                  "Country": "Cameroon",
                  "Item": "Athletic Shorts",
                  "Price": 22.5,
                  "index": 2282
                },
                {
                  "Action": "Viewed",
                  "Country": "China",
                  "Item": "Windbreaker Jacket",
                  "Price": 49.99,
                  "index": 2283
                },
                {
                  "Action": "Added",
                  "Country": "Cameroon",
                  "Item": "Athletic Shorts",
                  "Price": 22.5,
                  "index": 2284
                },
                {
                  "Action": "Viewed",
                  "Country": "Cameroon",
                  "Item": "Athletic Shorts",
                  "Price": 22.5,
                  "index": 2285
                },
                {
                  "Action": "Viewed",
                  "Country": "Sri Lanka",
                  "Item": "Sandals",
                  "Price": 12,
                  "index": 2286
                },
                {
                  "Action": "Viewed",
                  "Country": "Marshall Islands",
                  "Item": "Athletic Shorts",
                  "Price": 22.5,
                  "index": 2287
                },
                {
                  "Action": "Viewed",
                  "Country": "Djibouti",
                  "Item": "Rainjacket",
                  "Price": 55,
                  "index": 2288
                },
                {
                  "Action": "Viewed",
                  "Country": "Bermuda",
                  "Item": "Dark Jeans",
                  "Price": 90,
                  "index": 2289
                },
                {
                  "Action": "Purchased",
                  "Country": "Costa Rica",
                  "Item": "Earring",
                  "Price": 8,
                  "index": 2290
                },
                {
                  "Action": "Added",
                  "Country": "Bermuda",
                  "Item": "Dark Jeans",
                  "Price": 90,
                  "index": 2291
                },
                {
                  "Action": "Added",
                  "Country": "Costa Rica",
                  "Item": "Earring",
                  "Price": 8,
                  "index": 2292
                },
                {
                  "Action": "Viewed",
                  "Country": "Costa Rica",
                  "Item": "Earring",
                  "Price": 8,
                  "index": 2293
                },
                {
                  "Action": "Viewed",
                  "Country": "Iceland",
                  "Item": "Dress Shoes",
                  "Price": 120,
                  "index": 2294
                },
                {
                  "Action": "Viewed",
                  "Country": "Guatemala",
                  "Item": "Rainjacket",
                  "Price": 55,
                  "index": 2295
                },
                {
                  "Action": "Purchased",
                  "Country": "New Zealand",
                  "Item": "Sweatpants",
                  "Price": 21,
                  "index": 2296
                },
                {
                  "Action": "Viewed",
                  "Country": "Saint Vincent and the Grenadines",
                  "Item": "Black Hoodie",
                  "Price": 25,
                  "index": 2297
                },
                {
                  "Action": "Viewed",
                  "Country": "Bolivia",
                  "Item": "Walking Shoes",
                  "Price": 79.99,
                  "index": 2298
                },
                {
                  "Action": "Added",
                  "Country": "Denmark",
                  "Item": "Scarf",
                  "Price": 29.99,
                  "index": 2299
                },
                {
                  "Action": "Viewed",
                  "Country": "Svalbard & Jan Mayen Islands",
                  "Item": "Puffy Jacket",
                  "Price": 99.99,
                  "index": 2300
                },
                {
                  "Action": "Viewed",
                  "Country": "Cameroon",
                  "Item": "Button-Up Shirt",
                  "Price": 19.99,
                  "index": 2301
                },
                {
                  "Action": "Added",
                  "Country": "American Samoa",
                  "Item": "White Sweater",
                  "Price": 32,
                  "index": 2302
                },
                {
                  "Action": "Purchased",
                  "Country": "Svalbard & Jan Mayen Islands",
                  "Item": "Puffy Jacket",
                  "Price": 99.99,
                  "index": 2303
                },
                {
                  "Action": "Added",
                  "Country": "Svalbard & Jan Mayen Islands",
                  "Item": "Puffy Jacket",
                  "Price": 99.99,
                  "index": 2304
                },
                {
                  "Action": "Viewed",
                  "Country": "American Samoa",
                  "Item": "White Sweater",
                  "Price": 32,
                  "index": 2305
                },
                {
                  "Action": "Added",
                  "Country": "Tonga",
                  "Item": "Rainjacket",
                  "Price": 55,
                  "index": 2306
                },
                {
                  "Action": "Added",
                  "Country": "Lebanon",
                  "Item": "Denim Jacket",
                  "Price": 31.99,
                  "index": 2307
                },
                {
                  "Action": "Added",
                  "Country": "Djibouti",
                  "Item": "Athletic Shorts",
                  "Price": 22.5,
                  "index": 2308
                },
                {
                  "Action": "Purchased",
                  "Country": "Norway",
                  "Item": "Puffy Jacket",
                  "Price": 105,
                  "index": 2309
                },
                {
                  "Action": "Viewed",
                  "Country": "Turkmenistan",
                  "Item": "Dark Jeans",
                  "Price": 90,
                  "index": 2310
                },
                {
                  "Action": "Viewed",
                  "Country": "Uruguay",
                  "Item": "Button-Up Shirt",
                  "Price": 19.99,
                  "index": 2311
                },
                {
                  "Action": "Viewed",
                  "Country": "Venezuela",
                  "Item": "Suit Pant",
                  "Price": 95,
                  "index": 2312
                },
                {
                  "Action": "Viewed",
                  "Country": "Lebanon",
                  "Item": "Denim Jacket",
                  "Price": 31.99,
                  "index": 2313
                },
                {
                  "Action": "Added",
                  "Country": "Colombia",
                  "Item": "Light Jeans",
                  "Price": 80,
                  "index": 2314
                },
                {
                  "Action": "Added",
                  "Country": "Sao Tome and Principe",
                  "Item": "Dark Jeans",
                  "Price": 90,
                  "index": 2315
                },
                {
                  "Action": "Viewed",
                  "Country": "Switzerland",
                  "Item": "Sweatpants",
                  "Price": 21,
                  "index": 2316
                },
                {
                  "Action": "Viewed",
                  "Country": "Bosnia and Herzegovina",
                  "Item": "Denim Jacket",
                  "Price": 31.99,
                  "index": 2317
                },
                {
                  "Action": "Added",
                  "Country": "Argentina",
                  "Item": "White Shirt",
                  "Price": 25.2,
                  "index": 2318
                },
                {
                  "Action": "Added",
                  "Country": "Spain",
                  "Item": "Cosmos T-shirt",
                  "Price": 350,
                  "index": 2319
                },
                {
                  "Action": "Added",
                  "Country": "Iceland",
                  "Item": "Red Top",
                  "Price": 33,
                  "index": 2320
                },
                {
                  "Action": "Viewed",
                  "Country": "Iceland",
                  "Item": "Red Top",
                  "Price": 33,
                  "index": 2321
                },
                {
                  "Action": "Viewed",
                  "Country": "Vanuatu",
                  "Item": "Green Sweater",
                  "Price": 30,
                  "index": 2322
                },
                {
                  "Action": "Purchased",
                  "Country": "Montserrat",
                  "Item": "Socks",
                  "Price": 3.75,
                  "index": 2323
                },
                {
                  "Action": "Viewed",
                  "Country": "Montserrat",
                  "Item": "Socks",
                  "Price": 3.75,
                  "index": 2324
                },
                {
                  "Action": "Added",
                  "Country": "Marshall Islands",
                  "Item": "White Dress",
                  "Price": 84.99,
                  "index": 2325
                },
                {
                  "Action": "Purchased",
                  "Country": "Saint Vincent and the Grenadines",
                  "Item": "Crewneck Sweater",
                  "Price": 22,
                  "index": 2326
                },
                {
                  "Action": "Added",
                  "Country": "Cape Verde",
                  "Item": "Puffy Jacket",
                  "Price": 95.99,
                  "index": 2327
                },
                {
                  "Action": "Viewed",
                  "Country": "Somalia",
                  "Item": "Athletic Shorts",
                  "Price": 22.5,
                  "index": 2328
                },
                {
                  "Action": "Added",
                  "Country": "Somalia",
                  "Item": "Athletic Shorts",
                  "Price": 22.5,
                  "index": 2329
                },
                {
                  "Action": "Viewed",
                  "Country": "Guernsey",
                  "Item": "Socks",
                  "Price": 3.75,
                  "index": 2330
                },
                {
                  "Action": "Viewed",
                  "Country": "Antigua and Barbuda",
                  "Item": "Button-Up Shirt",
                  "Price": 19.99,
                  "index": 2331
                },
                {
                  "Action": "Viewed",
                  "Country": "Saint Pierre and Miquelon",
                  "Item": "Athletic Shorts",
                  "Price": 22.5,
                  "index": 2332
                },
                {
                  "Action": "Added",
                  "Country": "Saint Pierre and Miquelon",
                  "Item": "Athletic Shorts",
                  "Price": 22.5,
                  "index": 2333
                },
                {
                  "Action": "Added",
                  "Country": "Tuvalu",
                  "Item": "White Shirt",
                  "Price": 25.2,
                  "index": 2334
                },
                {
                  "Action": "Viewed",
                  "Country": "Tuvalu",
                  "Item": "White Shirt",
                  "Price": 25.2,
                  "index": 2335
                },
                {
                  "Action": "Added",
                  "Country": "Panama",
                  "Item": "Puffy Jacket",
                  "Price": 95.99,
                  "index": 2336
                },
                {
                  "Action": "Viewed",
                  "Country": "British Indian Ocean Territory (Chagos Archipelago)",
                  "Item": "Green Sweater",
                  "Price": 30,
                  "index": 2337
                },
                {
                  "Action": "Added",
                  "Country": "Mauritania",
                  "Item": "Red Dress",
                  "Price": 130,
                  "index": 2338
                },
                {
                  "Action": "Viewed",
                  "Country": "Mauritania",
                  "Item": "Red Dress",
                  "Price": 130,
                  "index": 2339
                },
                {
                  "Action": "Viewed",
                  "Country": "Grenada",
                  "Item": "Blazer Jacket",
                  "Price": 87.5,
                  "index": 2340
                },
                {
                  "Action": "Purchased",
                  "Country": "Grenada",
                  "Item": "Blazer Jacket",
                  "Price": 87.5,
                  "index": 2341
                },
                {
                  "Action": "Viewed",
                  "Country": "Aruba",
                  "Item": "Athletic Shorts",
                  "Price": 22.5,
                  "index": 2342
                },
                {
                  "Action": "Added",
                  "Country": "Kenya",
                  "Item": "Suit Pant",
                  "Price": 95,
                  "index": 2343
                },
                {
                  "Action": "Purchased",
                  "Country": "Palestinian Territory",
                  "Item": "Red Top",
                  "Price": 33,
                  "index": 2344
                },
                {
                  "Action": "Added",
                  "Country": "Guam",
                  "Item": "Sandals",
                  "Price": 12,
                  "index": 2345
                },
                {
                  "Action": "Added",
                  "Country": "Iceland",
                  "Item": "Puffy Jacket",
                  "Price": 99.99,
                  "index": 2346
                },
                {
                  "Action": "Viewed",
                  "Country": "Niue",
                  "Item": "Socks",
                  "Price": 3.75,
                  "index": 2347
                },
                {
                  "Action": "Viewed",
                  "Country": "Palestinian Territory",
                  "Item": "Red Top",
                  "Price": 33,
                  "index": 2348
                },
                {
                  "Action": "Added",
                  "Country": "Samoa",
                  "Item": "Puffy Jacket",
                  "Price": 105,
                  "index": 2349
                },
                {
                  "Action": "Added",
                  "Country": "Senegal",
                  "Item": " Flip Flop Shoes",
                  "Price": 14,
                  "index": 2350
                },
                {
                  "Action": "Viewed",
                  "Country": "Samoa",
                  "Item": "Puffy Jacket",
                  "Price": 105,
                  "index": 2351
                },
                {
                  "Action": "Added",
                  "Country": "Nepal",
                  "Item": "Pant",
                  "Price": 40,
                  "index": 2352
                },
                {
                  "Action": "Viewed",
                  "Country": "Georgia",
                  "Item": "Blazer Jacket",
                  "Price": 87.5,
                  "index": 2353
                },
                {
                  "Action": "Viewed",
                  "Country": "Guinea",
                  "Item": "Earring",
                  "Price": 8,
                  "index": 2354
                },
                {
                  "Action": "Viewed",
                  "Country": "Micronesia",
                  "Item": "Button-Up Shirt",
                  "Price": 19.99,
                  "index": 2355
                },
                {
                  "Action": "Purchased",
                  "Country": "Portugal",
                  "Item": " Necklace",
                  "Price": 12,
                  "index": 2356
                },
                {
                  "Action": "Purchased",
                  "Country": "Micronesia",
                  "Item": "Button-Up Shirt",
                  "Price": 19.99,
                  "index": 2357
                },
                {
                  "Action": "Added",
                  "Country": "Kyrgyz Republic",
                  "Item": " Flip Flop Shoes",
                  "Price": 14,
                  "index": 2358
                },
                {
                  "Action": "Viewed",
                  "Country": "Portugal",
                  "Item": " Necklace",
                  "Price": 12,
                  "index": 2359
                },
                {
                  "Action": "Viewed",
                  "Country": "Chad",
                  "Item": "White Shirt",
                  "Price": 25.2,
                  "index": 2360
                },
                {
                  "Action": "Added",
                  "Country": "Belgium",
                  "Item": "Black Dress",
                  "Price": 65,
                  "index": 2361
                },
                {
                  "Action": "Viewed",
                  "Country": "Canada",
                  "Item": "Sandal",
                  "Price": 35.5,
                  "index": 2362
                },
                {
                  "Action": "Purchased",
                  "Country": "Paraguay",
                  "Item": "Sweatpants",
                  "Price": 21,
                  "index": 2363
                },
                {
                  "Action": "Added",
                  "Country": "Netherlands",
                  "Item": "Scarf",
                  "Price": 29.99,
                  "index": 2364
                },
                {
                  "Action": "Added",
                  "Country": "Canada",
                  "Item": "Sandal",
                  "Price": 35.5,
                  "index": 2365
                },
                {
                  "Action": "Purchased",
                  "Country": "Netherlands",
                  "Item": "Scarf",
                  "Price": 29.99,
                  "index": 2366
                },
                {
                  "Action": "Added",
                  "Country": "Paraguay",
                  "Item": "Sweatpants",
                  "Price": 21,
                  "index": 2367
                },
                {
                  "Action": "Viewed",
                  "Country": "Nigeria",
                  "Item": "Cardigan Sweater",
                  "Price": 25,
                  "index": 2368
                },
                {
                  "Action": "Viewed",
                  "Country": "Zambia",
                  "Item": "Athletic Shorts",
                  "Price": 22.5,
                  "index": 2369
                },
                {
                  "Action": "Viewed",
                  "Country": "Equatorial Guinea",
                  "Item": "White Shirt",
                  "Price": 25.2,
                  "index": 2370
                },
                {
                  "Action": "Added",
                  "Country": "Grenada",
                  "Item": "Bag",
                  "Price": 37.5,
                  "index": 2371
                },
                {
                  "Action": "Added",
                  "Country": "Tanzania",
                  "Item": " Flip Flop Shoes",
                  "Price": 14,
                  "index": 2372
                },
                {
                  "Action": "Viewed",
                  "Country": "Aruba",
                  "Item": "Scarf",
                  "Price": 29.99,
                  "index": 2373
                },
                {
                  "Action": "Purchased",
                  "Country": "Peru",
                  "Item": "Black Hoodie",
                  "Price": 25,
                  "index": 2374
                },
                {
                  "Action": "Purchased",
                  "Country": "Democratic People's Republic of Korea",
                  "Item": "Rainjacket",
                  "Price": 55,
                  "index": 2375
                },
                {
                  "Action": "Added",
                  "Country": "Macedonia",
                  "Item": " Necklace",
                  "Price": 12,
                  "index": 2376
                },
                {
                  "Action": "Purchased",
                  "Country": "Malawi",
                  "Item": "Athletic Shorts",
                  "Price": 22.5,
                  "index": 2377
                },
                {
                  "Action": "Added",
                  "Country": "Cocos (Keeling) Islands",
                  "Item": "Crewneck Sweater",
                  "Price": 22,
                  "index": 2378
                },
                {
                  "Action": "Viewed",
                  "Country": "Central African Republic",
                  "Item": "Black Tee",
                  "Price": 9,
                  "index": 2379
                },
                {
                  "Action": "Added",
                  "Country": "Bahamas",
                  "Item": "Suit Pant",
                  "Price": 95,
                  "index": 2380
                },
                {
                  "Action": "Added",
                  "Country": "Guinea-Bissau",
                  "Item": "Jeans",
                  "Price": 85,
                  "index": 2381
                },
                {
                  "Action": "Viewed",
                  "Country": "Palau",
                  "Item": "Rainjacket",
                  "Price": 55,
                  "index": 2382
                },
                {
                  "Action": "Added",
                  "Country": "Papua New Guinea",
                  "Item": " Necklace",
                  "Price": 12,
                  "index": 2383
                },
                {
                  "Action": "Added",
                  "Country": "Estonia",
                  "Item": "Suit Jacket",
                  "Price": 92,
                  "index": 2384
                },
                {
                  "Action": "Added",
                  "Country": "Palau",
                  "Item": "Rainjacket",
                  "Price": 55,
                  "index": 2385
                },
                {
                  "Action": "Added",
                  "Country": "Saint Helena",
                  "Item": "Red Top",
                  "Price": 33,
                  "index": 2386
                },
                {
                  "Action": "Viewed",
                  "Country": "Jordan",
                  "Item": "Blazer Jacket",
                  "Price": 87.5,
                  "index": 2387
                },
                {
                  "Action": "Purchased",
                  "Country": "Guam",
                  "Item": "Sandals",
                  "Price": 12,
                  "index": 2388
                },
                {
                  "Action": "Viewed",
                  "Country": "Iceland",
                  "Item": "Puffy Jacket",
                  "Price": 99.99,
                  "index": 2389
                },
                {
                  "Action": "Viewed",
                  "Country": "Liechtenstein",
                  "Item": "Red Top",
                  "Price": 33,
                  "index": 2390
                },
                {
                  "Action": "Viewed",
                  "Country": "Libyan Arab Jamahiriya",
                  "Item": "Cardigan Sweater",
                  "Price": 25,
                  "index": 2391
                },
                {
                  "Action": "Viewed",
                  "Country": "Algeria",
                  "Item": "Puffy Jacket",
                  "Price": 105,
                  "index": 2392
                },
                {
                  "Action": "Viewed",
                  "Country": "United Arab Emirates",
                  "Item": "Puffy Jacket",
                  "Price": 95.99,
                  "index": 2393
                },
                {
                  "Action": "Viewed",
                  "Country": "Cape Verde",
                  "Item": " Flip Flop Shoes",
                  "Price": 14,
                  "index": 2394
                },
                {
                  "Action": "Added",
                  "Country": "United Arab Emirates",
                  "Item": "Puffy Jacket",
                  "Price": 95.99,
                  "index": 2395
                },
                {
                  "Action": "Added",
                  "Country": "Cape Verde",
                  "Item": "Black Hoodie",
                  "Price": 25,
                  "index": 2396
                },
                {
                  "Action": "Viewed",
                  "Country": "Botswana",
                  "Item": "High Heel Shoe",
                  "Price": 72,
                  "index": 2397
                },
                {
                  "Action": "Added",
                  "Country": "Palestinian Territory",
                  "Item": "Red Top",
                  "Price": 33,
                  "index": 2398
                },
                {
                  "Action": "Viewed",
                  "Country": "Nepal",
                  "Item": "Pant",
                  "Price": 40,
                  "index": 2399
                },
                {
                  "Action": "Viewed",
                  "Country": "Republic of Korea",
                  "Item": "Bag",
                  "Price": 37.5,
                  "index": 2400
                },
                {
                  "Action": "Viewed",
                  "Country": "Venezuela",
                  "Item": "Athletic Shoes",
                  "Price": 70,
                  "index": 2401
                },
                {
                  "Action": "Purchased",
                  "Country": "French Southern Territories",
                  "Item": "Athletic Shoes",
                  "Price": 70,
                  "index": 2402
                },
                {
                  "Action": "Added",
                  "Country": "Andorra",
                  "Item": "Beanie",
                  "Price": 10,
                  "index": 2403
                },
                {
                  "Action": "Viewed",
                  "Country": "Panama",
                  "Item": "Scarf",
                  "Price": 29.99,
                  "index": 2404
                },
                {
                  "Action": "Viewed",
                  "Country": "Andorra",
                  "Item": "Beanie",
                  "Price": 10,
                  "index": 2405
                },
                {
                  "Action": "Viewed",
                  "Country": "Bermuda",
                  "Item": "Red Dress",
                  "Price": 130,
                  "index": 2406
                },
                {
                  "Action": "Added",
                  "Country": "French Southern Territories",
                  "Item": "Athletic Shoes",
                  "Price": 70,
                  "index": 2407
                },
                {
                  "Action": "Viewed",
                  "Country": "French Southern Territories",
                  "Item": "Athletic Shoes",
                  "Price": 70,
                  "index": 2408
                },
                {
                  "Action": "Added",
                  "Country": "Belarus",
                  "Item": "Cardigan Sweater",
                  "Price": 25,
                  "index": 2409
                },
                {
                  "Action": "Viewed",
                  "Country": "Belarus",
                  "Item": "Cardigan Sweater",
                  "Price": 25,
                  "index": 2410
                },
                {
                  "Action": "Viewed",
                  "Country": "Maldives",
                  "Item": "Crewneck Sweater",
                  "Price": 22,
                  "index": 2411
                },
                {
                  "Action": "Viewed",
                  "Country": "Croatia",
                  "Item": "Crewneck Sweater",
                  "Price": 22,
                  "index": 2412
                },
                {
                  "Action": "Added",
                  "Country": "Denmark",
                  "Item": "Light Jeans",
                  "Price": 80,
                  "index": 2413
                },
                {
                  "Action": "Purchased",
                  "Country": "Iceland",
                  "Item": "Denim Shorts",
                  "Price": 50,
                  "index": 2414
                },
                {
                  "Action": "Added",
                  "Country": "Hong Kong",
                  "Item": "Gloves",
                  "Price": 20,
                  "index": 2415
                },
                {
                  "Action": "Viewed",
                  "Country": "Hong Kong",
                  "Item": "Gloves",
                  "Price": 20,
                  "index": 2416
                },
                {
                  "Action": "Viewed",
                  "Country": "Iceland",
                  "Item": "Denim Shorts",
                  "Price": 50,
                  "index": 2417
                },
                {
                  "Action": "Viewed",
                  "Country": "Malawi",
                  "Item": "Suit Pant",
                  "Price": 95,
                  "index": 2418
                },
                {
                  "Action": "Viewed",
                  "Country": "Pakistan",
                  "Item": "Windbreaker Jacket",
                  "Price": 49.99,
                  "index": 2419
                },
                {
                  "Action": "Purchased",
                  "Country": "Republic of Korea",
                  "Item": "Beanie",
                  "Price": 10,
                  "index": 2420
                },
                {
                  "Action": "Viewed",
                  "Country": "Republic of Korea",
                  "Item": "Beanie",
                  "Price": 10,
                  "index": 2421
                },
                {
                  "Action": "Added",
                  "Country": "Saint Vincent and the Grenadines",
                  "Item": "Red Top",
                  "Price": 33,
                  "index": 2422
                },
                {
                  "Action": "Viewed",
                  "Country": "Saint Vincent and the Grenadines",
                  "Item": "Red Top",
                  "Price": 33,
                  "index": 2423
                },
                {
                  "Action": "Added",
                  "Country": "Republic of Korea",
                  "Item": "Beanie",
                  "Price": 10,
                  "index": 2424
                },
                {
                  "Action": "Added",
                  "Country": "Italy",
                  "Item": "Walking Shoes",
                  "Price": 79.99,
                  "index": 2425
                },
                {
                  "Action": "Added",
                  "Country": "Gibraltar",
                  "Item": "Earring",
                  "Price": 8,
                  "index": 2426
                },
                {
                  "Action": "Viewed",
                  "Country": "Italy",
                  "Item": "Walking Shoes",
                  "Price": 79.99,
                  "index": 2427
                },
                {
                  "Action": "Viewed",
                  "Country": "Gibraltar",
                  "Item": "Earring",
                  "Price": 8,
                  "index": 2428
                },
                {
                  "Action": "Viewed",
                  "Country": "China",
                  "Item": "Sandal",
                  "Price": 35.5,
                  "index": 2429
                },
                {
                  "Action": "Added",
                  "Country": "China",
                  "Item": "Sandal",
                  "Price": 35.5,
                  "index": 2430
                },
                {
                  "Action": "Purchased",
                  "Country": "China",
                  "Item": "Sandal",
                  "Price": 35.5,
                  "index": 2431
                },
                {
                  "Action": "Added",
                  "Country": "Jordan",
                  "Item": "Dark Jeans",
                  "Price": 90,
                  "index": 2432
                },
                {
                  "Action": "Viewed",
                  "Country": "Jordan",
                  "Item": "Dark Jeans",
                  "Price": 90,
                  "index": 2433
                },
                {
                  "Action": "Viewed",
                  "Country": "Bangladesh",
                  "Item": "Scarf",
                  "Price": 29.99,
                  "index": 2434
                },
                {
                  "Action": "Purchased",
                  "Country": "Italy",
                  "Item": "White Shirt",
                  "Price": 25.2,
                  "index": 2435
                },
                {
                  "Action": "Added",
                  "Country": "Bangladesh",
                  "Item": "Scarf",
                  "Price": 29.99,
                  "index": 2436
                },
                {
                  "Action": "Viewed",
                  "Country": "Colombia",
                  "Item": "Light Jeans",
                  "Price": 80,
                  "index": 2437
                },
                {
                  "Action": "Viewed",
                  "Country": "Somalia",
                  "Item": "Fleece Jacket",
                  "Price": 65,
                  "index": 2438
                },
                {
                  "Action": "Purchased",
                  "Country": "Colombia",
                  "Item": "Light Jeans",
                  "Price": 80,
                  "index": 2439
                },
                {
                  "Action": "Viewed",
                  "Country": "Norway",
                  "Item": "White Shirt",
                  "Price": 25.2,
                  "index": 2440
                },
                {
                  "Action": "Added",
                  "Country": "Italy",
                  "Item": "Cardigan Sweater",
                  "Price": 25,
                  "index": 2441
                },
                {
                  "Action": "Added",
                  "Country": "Norway",
                  "Item": "White Shirt",
                  "Price": 25.2,
                  "index": 2442
                },
                {
                  "Action": "Viewed",
                  "Country": "Italy",
                  "Item": "Cardigan Sweater",
                  "Price": 25,
                  "index": 2443
                },
                {
                  "Action": "Purchased",
                  "Country": "Norway",
                  "Item": "White Shirt",
                  "Price": 25.2,
                  "index": 2444
                },
                {
                  "Action": "Added",
                  "Country": "Eritrea",
                  "Item": "White Dress",
                  "Price": 84.99,
                  "index": 2445
                },
                {
                  "Action": "Purchased",
                  "Country": "Kenya",
                  "Item": "Athletic Shoes",
                  "Price": 70,
                  "index": 2446
                },
                {
                  "Action": "Viewed",
                  "Country": "Eritrea",
                  "Item": "White Dress",
                  "Price": 84.99,
                  "index": 2447
                },
                {
                  "Action": "Viewed",
                  "Country": "Kenya",
                  "Item": "Athletic Shoes",
                  "Price": 70,
                  "index": 2448
                },
                {
                  "Action": "Viewed",
                  "Country": "Paraguay",
                  "Item": "Athletic Shoes",
                  "Price": 75,
                  "index": 2449
                },
                {
                  "Action": "Added",
                  "Country": "Kenya",
                  "Item": "Athletic Shoes",
                  "Price": 70,
                  "index": 2450
                },
                {
                  "Action": "Added",
                  "Country": "Paraguay",
                  "Item": "Athletic Shoes",
                  "Price": 75,
                  "index": 2451
                },
                {
                  "Action": "Viewed",
                  "Country": "United States of America",
                  "Item": "Walking Shoes",
                  "Price": 79.99,
                  "index": 2452
                },
                {
                  "Action": "Added",
                  "Country": "San Marino",
                  "Item": "Athletic Shorts",
                  "Price": 22.5,
                  "index": 2453
                },
                {
                  "Action": "Viewed",
                  "Country": "San Marino",
                  "Item": "Athletic Shorts",
                  "Price": 22.5,
                  "index": 2454
                },
                {
                  "Action": "Added",
                  "Country": "Tunisia",
                  "Item": "Puffy Jacket",
                  "Price": 95.99,
                  "index": 2455
                },
                {
                  "Action": "Viewed",
                  "Country": "New Zealand",
                  "Item": "Jeans",
                  "Price": 85,
                  "index": 2456
                },
                {
                  "Action": "Viewed",
                  "Country": "United States of America",
                  "Item": "Green Sweater",
                  "Price": 30,
                  "index": 2457
                },
                {
                  "Action": "Viewed",
                  "Country": "Aruba",
                  "Item": "Athletic Shoes",
                  "Price": 70,
                  "index": 2458
                },
                {
                  "Action": "Added",
                  "Country": "Zambia",
                  "Item": "Red Top",
                  "Price": 33,
                  "index": 2459
                },
                {
                  "Action": "Viewed",
                  "Country": "Nigeria",
                  "Item": "Black Dress",
                  "Price": 65,
                  "index": 2460
                },
                {
                  "Action": "Viewed",
                  "Country": "Grenada",
                  "Item": "Black Hoodie",
                  "Price": 25,
                  "index": 2461
                },
                {
                  "Action": "Viewed",
                  "Country": "Mauritius",
                  "Item": "Bag",
                  "Price": 37.5,
                  "index": 2462
                },
                {
                  "Action": "Viewed",
                  "Country": "Zambia",
                  "Item": "Red Top",
                  "Price": 33,
                  "index": 2463
                },
                {
                  "Action": "Added",
                  "Country": "Aruba",
                  "Item": "Scarf",
                  "Price": 29.99,
                  "index": 2464
                },
                {
                  "Action": "Purchased",
                  "Country": "Malawi",
                  "Item": "Denim Shorts",
                  "Price": 50,
                  "index": 2465
                },
                {
                  "Action": "Added",
                  "Country": "Panama",
                  "Item": "Sandal",
                  "Price": 35.5,
                  "index": 2466
                },
                {
                  "Action": "Viewed",
                  "Country": "Malawi",
                  "Item": "Denim Shorts",
                  "Price": 50,
                  "index": 2467
                },
                {
                  "Action": "Viewed",
                  "Country": "Ghana",
                  "Item": "Pant",
                  "Price": 40,
                  "index": 2468
                },
                {
                  "Action": "Viewed",
                  "Country": "Georgia",
                  "Item": "Jeans",
                  "Price": 85,
                  "index": 2469
                },
                {
                  "Action": "Viewed",
                  "Country": "Latvia",
                  "Item": "Athletic Shorts",
                  "Price": 22.5,
                  "index": 2470
                },
                {
                  "Action": "Viewed",
                  "Country": "Cocos (Keeling) Islands",
                  "Item": "Crewneck Sweater",
                  "Price": 22,
                  "index": 2471
                },
                {
                  "Action": "Viewed",
                  "Country": "Swaziland",
                  "Item": "Button-Up Shirt",
                  "Price": 19.99,
                  "index": 2472
                },
                {
                  "Action": "Viewed",
                  "Country": "Nepal",
                  "Item": "Bag",
                  "Price": 37.5,
                  "index": 2473
                },
                {
                  "Action": "Added",
                  "Country": "Saint Helena",
                  "Item": "Gloves",
                  "Price": 20,
                  "index": 2474
                },
                {
                  "Action": "Purchased",
                  "Country": "Moldova",
                  "Item": "Silver Necklace",
                  "Price": 15.5,
                  "index": 2475
                },
                {
                  "Action": "Viewed",
                  "Country": "Virgin Islands",
                  "Item": "Denim Jacket",
                  "Price": 31.99,
                  "index": 2476
                },
                {
                  "Action": "Viewed",
                  "Country": "Moldova",
                  "Item": "Silver Necklace",
                  "Price": 15.5,
                  "index": 2477
                },
                {
                  "Action": "Viewed",
                  "Country": "Morocco",
                  "Item": "Blazer Jacket",
                  "Price": 87.5,
                  "index": 2478
                },
                {
                  "Action": "Added",
                  "Country": "Philippines",
                  "Item": "White Sweater",
                  "Price": 32,
                  "index": 2479
                },
                {
                  "Action": "Purchased",
                  "Country": "Lesotho",
                  "Item": "White Sweater",
                  "Price": 32,
                  "index": 2480
                },
                {
                  "Action": "Added",
                  "Country": "Israel",
                  "Item": "Black Hoodie",
                  "Price": 25,
                  "index": 2481
                },
                {
                  "Action": "Viewed",
                  "Country": "Liberia",
                  "Item": "Puffy Jacket",
                  "Price": 95.99,
                  "index": 2482
                },
                {
                  "Action": "Viewed",
                  "Country": "Latvia",
                  "Item": " Necklace",
                  "Price": 12,
                  "index": 2483
                },
                {
                  "Action": "Viewed",
                  "Country": "Myanmar",
                  "Item": "Puffy Jacket",
                  "Price": 95.99,
                  "index": 2484
                },
                {
                  "Action": "Added",
                  "Country": "Djibouti",
                  "Item": "Rainjacket",
                  "Price": 55,
                  "index": 2485
                },
                {
                  "Action": "Viewed",
                  "Country": "Equatorial Guinea",
                  "Item": "Socks",
                  "Price": 3.75,
                  "index": 2486
                },
                {
                  "Action": "Purchased",
                  "Country": "Turkmenistan",
                  "Item": "Dark Jeans",
                  "Price": 90,
                  "index": 2487
                },
                {
                  "Action": "Viewed",
                  "Country": "Sao Tome and Principe",
                  "Item": "Dark Jeans",
                  "Price": 90,
                  "index": 2488
                },
                {
                  "Action": "Viewed",
                  "Country": "Honduras",
                  "Item": "Dark Jeans",
                  "Price": 90,
                  "index": 2489
                },
                {
                  "Action": "Added",
                  "Country": "Uruguay",
                  "Item": "Button-Up Shirt",
                  "Price": 19.99,
                  "index": 2490
                },
                {
                  "Action": "Purchased",
                  "Country": "San Marino",
                  "Item": "Athletic Shorts",
                  "Price": 22.5,
                  "index": 2491
                },
                {
                  "Action": "Viewed",
                  "Country": "Tunisia",
                  "Item": "Puffy Jacket",
                  "Price": 95.99,
                  "index": 2492
                },
                {
                  "Action": "Added",
                  "Country": "Philippines",
                  "Item": "Puffy Jacket",
                  "Price": 99.99,
                  "index": 2493
                },
                {
                  "Action": "Purchased",
                  "Country": "Ethiopia",
                  "Item": "Sweatpants",
                  "Price": 21,
                  "index": 2494
                },
                {
                  "Action": "Viewed",
                  "Country": "Armenia",
                  "Item": "Light Jeans",
                  "Price": 80,
                  "index": 2495
                },
                {
                  "Action": "Viewed",
                  "Country": "Peru",
                  "Item": "Bag",
                  "Price": 37.5,
                  "index": 2496
                },
                {
                  "Action": "Purchased",
                  "Country": "Barbados",
                  "Item": "Black Dress",
                  "Price": 65,
                  "index": 2497
                },
                {
                  "Action": "Added",
                  "Country": "Croatia",
                  "Item": "Cardigan Sweater",
                  "Price": 25,
                  "index": 2498
                },
                {
                  "Action": "Added",
                  "Country": "Armenia",
                  "Item": "Light Jeans",
                  "Price": 80,
                  "index": 2499
                },
                {
                  "Action": "Viewed",
                  "Country": "Croatia",
                  "Item": "Cardigan Sweater",
                  "Price": 25,
                  "index": 2500
                },
                {
                  "Action": "Viewed",
                  "Country": "Barbados",
                  "Item": "Black Dress",
                  "Price": 65,
                  "index": 2501
                },
                {
                  "Action": "Viewed",
                  "Country": "Ukraine",
                  "Item": "Red Top",
                  "Price": 33,
                  "index": 2502
                },
                {
                  "Action": "Viewed",
                  "Country": "Maldives",
                  "Item": "Sweatpants",
                  "Price": 21,
                  "index": 2503
                },
                {
                  "Action": "Viewed",
                  "Country": "Cayman Islands",
                  "Item": "Crewneck Sweater",
                  "Price": 22,
                  "index": 2504
                },
                {
                  "Action": "Viewed",
                  "Country": "Macao",
                  "Item": "High Heel Shoe",
                  "Price": 72,
                  "index": 2505
                },
                {
                  "Action": "Added",
                  "Country": "Cayman Islands",
                  "Item": "Crewneck Sweater",
                  "Price": 22,
                  "index": 2506
                },
                {
                  "Action": "Purchased",
                  "Country": "Tonga",
                  "Item": "Green Sweater",
                  "Price": 30,
                  "index": 2507
                },
                {
                  "Action": "Purchased",
                  "Country": "Paraguay",
                  "Item": "Athletic Shoes",
                  "Price": 70,
                  "index": 2508
                },
                {
                  "Action": "Viewed",
                  "Country": "Tonga",
                  "Item": "Green Sweater",
                  "Price": 30,
                  "index": 2509
                },
                {
                  "Action": "Viewed",
                  "Country": "Paraguay",
                  "Item": "Athletic Shoes",
                  "Price": 70,
                  "index": 2510
                },
                {
                  "Action": "Added",
                  "Country": "Tonga",
                  "Item": "Green Sweater",
                  "Price": 30,
                  "index": 2511
                },
                {
                  "Action": "Viewed",
                  "Country": "Australia",
                  "Item": "Blue Sweater",
                  "Price": 27,
                  "index": 2512
                },
                {
                  "Action": "Added",
                  "Country": "Liberia",
                  "Item": "Black Dress",
                  "Price": 65,
                  "index": 2513
                },
                {
                  "Action": "Viewed",
                  "Country": "Liberia",
                  "Item": "Black Dress",
                  "Price": 65,
                  "index": 2514
                },
                {
                  "Action": "Added",
                  "Country": "Madagascar",
                  "Item": "Puffy Jacket",
                  "Price": 95.99,
                  "index": 2515
                },
                {
                  "Action": "Viewed",
                  "Country": "Pitcairn Islands",
                  "Item": "Puffy Jacket",
                  "Price": 105,
                  "index": 2516
                },
                {
                  "Action": "Added",
                  "Country": "Sudan",
                  "Item": "Beanie",
                  "Price": 10,
                  "index": 2517
                },
                {
                  "Action": "Added",
                  "Country": "Malawi",
                  "Item": "Suit Pant",
                  "Price": 95,
                  "index": 2518
                },
                {
                  "Action": "Added",
                  "Country": "Pakistan",
                  "Item": "Windbreaker Jacket",
                  "Price": 49.99,
                  "index": 2519
                },
                {
                  "Action": "Viewed",
                  "Country": "Madagascar",
                  "Item": "Puffy Jacket",
                  "Price": 95.99,
                  "index": 2520
                },
                {
                  "Action": "Viewed",
                  "Country": "Italy",
                  "Item": "White Shirt",
                  "Price": 25.2,
                  "index": 2521
                },
                {
                  "Action": "Added",
                  "Country": "Italy",
                  "Item": "White Shirt",
                  "Price": 25.2,
                  "index": 2522
                },
                {
                  "Action": "Viewed",
                  "Country": "Tonga",
                  "Item": "Socks",
                  "Price": 3.75,
                  "index": 2523
                },
                {
                  "Action": "Viewed",
                  "Country": "New Caledonia",
                  "Item": "Sweatpants",
                  "Price": 21,
                  "index": 2524
                },
                {
                  "Action": "Viewed",
                  "Country": "Wallis and Futuna",
                  "Item": "Button-Up Shirt",
                  "Price": 19.99,
                  "index": 2525
                },
                {
                  "Action": "Added",
                  "Country": "Mozambique",
                  "Item": " Flip Flop Shoes",
                  "Price": 14,
                  "index": 2526
                },
                {
                  "Action": "Viewed",
                  "Country": "Sudan",
                  "Item": "High Heel Shoe",
                  "Price": 72,
                  "index": 2527
                },
                {
                  "Action": "Viewed",
                  "Country": "Kazakhstan",
                  "Item": "Suit Pant",
                  "Price": 95,
                  "index": 2528
                },
                {
                  "Action": "Viewed",
                  "Country": "Kyrgyz Republic",
                  "Item": "Suit Jacket",
                  "Price": 92,
                  "index": 2529
                },
                {
                  "Action": "Viewed",
                  "Country": "Syrian Arab Republic",
                  "Item": "Button-Up Shirt",
                  "Price": 19.99,
                  "index": 2530
                },
                {
                  "Action": "Added",
                  "Country": "Kyrgyz Republic",
                  "Item": "Suit Jacket",
                  "Price": 92,
                  "index": 2531
                },
                {
                  "Action": "Viewed",
                  "Country": "Maldives",
                  "Item": "Sandals",
                  "Price": 12,
                  "index": 2532
                },
                {
                  "Action": "Added",
                  "Country": "Venezuela",
                  "Item": "Light Jeans",
                  "Price": 80,
                  "index": 2533
                },
                {
                  "Action": "Purchased",
                  "Country": "Maldives",
                  "Item": "Sandals",
                  "Price": 12,
                  "index": 2534
                },
                {
                  "Action": "Viewed",
                  "Country": "Venezuela",
                  "Item": "Light Jeans",
                  "Price": 80,
                  "index": 2535
                },
                {
                  "Action": "Viewed",
                  "Country": "Gibraltar",
                  "Item": "Socks",
                  "Price": 3.75,
                  "index": 2536
                },
                {
                  "Action": "Viewed",
                  "Country": "Azerbaijan",
                  "Item": " Necklace",
                  "Price": 12,
                  "index": 2537
                },
                {
                  "Action": "Added",
                  "Country": "Maldives",
                  "Item": "Sandals",
                  "Price": 12,
                  "index": 2538
                },
                {
                  "Action": "Added",
                  "Country": "Falkland Islands (Malvinas)",
                  "Item": "White Dress",
                  "Price": 84.99,
                  "index": 2539
                },
                {
                  "Action": "Viewed",
                  "Country": "Argentina",
                  "Item": "Blue Sweater",
                  "Price": 27,
                  "index": 2540
                },
                {
                  "Action": "Viewed",
                  "Country": "Reunion",
                  "Item": "Beanie",
                  "Price": 10,
                  "index": 2541
                },
                {
                  "Action": "Added",
                  "Country": "Argentina",
                  "Item": "Blue Sweater",
                  "Price": 27,
                  "index": 2542
                },
                {
                  "Action": "Purchased",
                  "Country": "Jamaica",
                  "Item": "Cardigan Sweater",
                  "Price": 25,
                  "index": 2543
                },
                {
                  "Action": "Viewed",
                  "Country": "Jamaica",
                  "Item": "Cardigan Sweater",
                  "Price": 25,
                  "index": 2544
                },
                {
                  "Action": "Added",
                  "Country": "Jamaica",
                  "Item": "Cardigan Sweater",
                  "Price": 25,
                  "index": 2545
                },
                {
                  "Action": "Viewed",
                  "Country": "Sao Tome and Principe",
                  "Item": "Cosmos T-shirt",
                  "Price": 350,
                  "index": 2546
                },
                {
                  "Action": "Purchased",
                  "Country": "Cook Islands",
                  "Item": "Flannel Shirt",
                  "Price": 19.99,
                  "index": 2547
                },
                {
                  "Action": "Viewed",
                  "Country": "Cook Islands",
                  "Item": "Flannel Shirt",
                  "Price": 19.99,
                  "index": 2548
                },
                {
                  "Action": "Added",
                  "Country": "Cook Islands",
                  "Item": "Flannel Shirt",
                  "Price": 19.99,
                  "index": 2549
                },
                {
                  "Action": "Viewed",
                  "Country": "Reunion",
                  "Item": "Walking Shoes",
                  "Price": 79.99,
                  "index": 2550
                },
                {
                  "Action": "Viewed",
                  "Country": "Benin",
                  "Item": "Cardigan Sweater",
                  "Price": 25,
                  "index": 2551
                },
                {
                  "Action": "Purchased",
                  "Country": "Puerto Rico",
                  "Item": "Gloves",
                  "Price": 20,
                  "index": 2552
                },
                {
                  "Action": "Viewed",
                  "Country": "Germany",
                  "Item": "Flannel Shirt",
                  "Price": 19.99,
                  "index": 2553
                },
                {
                  "Action": "Viewed",
                  "Country": "Puerto Rico",
                  "Item": "Gloves",
                  "Price": 20,
                  "index": 2554
                },
                {
                  "Action": "Added",
                  "Country": "Puerto Rico",
                  "Item": "Gloves",
                  "Price": 20,
                  "index": 2555
                },
                {
                  "Action": "Purchased",
                  "Country": "Philippines",
                  "Item": "Sandal",
                  "Price": 35.5,
                  "index": 2556
                },
                {
                  "Action": "Viewed",
                  "Country": "Philippines",
                  "Item": "Sandal",
                  "Price": 35.5,
                  "index": 2557
                },
                {
                  "Action": "Viewed",
                  "Country": "Guinea-Bissau",
                  "Item": "Pant",
                  "Price": 40,
                  "index": 2558
                },
                {
                  "Action": "Viewed",
                  "Country": "Brazil",
                  "Item": "Suit Pant",
                  "Price": 95,
                  "index": 2559
                },
                {
                  "Action": "Purchased",
                  "Country": "Brazil",
                  "Item": "Suit Pant",
                  "Price": 95,
                  "index": 2560
                },
                {
                  "Action": "Added",
                  "Country": "Brazil",
                  "Item": "Suit Pant",
                  "Price": 95,
                  "index": 2561
                },
                {
                  "Action": "Viewed",
                  "Country": "Venezuela",
                  "Item": "Red Dress",
                  "Price": 130,
                  "index": 2562
                },
                {
                  "Action": "Purchased",
                  "Country": "Swaziland",
                  "Item": "Athletic Shorts",
                  "Price": 22.5,
                  "index": 2563
                },
                {
                  "Action": "Added",
                  "Country": "Lao People's Democratic Republic",
                  "Item": "Green Sweater",
                  "Price": 30,
                  "index": 2564
                },
                {
                  "Action": "Added",
                  "Country": "Venezuela",
                  "Item": "Suit Pant",
                  "Price": 95,
                  "index": 2565
                },
                {
                  "Action": "Viewed",
                  "Country": "Lao People's Democratic Republic",
                  "Item": "Green Sweater",
                  "Price": 30,
                  "index": 2566
                },
                {
                  "Action": "Purchased",
                  "Country": "Sao Tome and Principe",
                  "Item": "White Dress",
                  "Price": 84.99,
                  "index": 2567
                },
                {
                  "Action": "Viewed",
                  "Country": "Swaziland",
                  "Item": "Athletic Shorts",
                  "Price": 22.5,
                  "index": 2568
                },
                {
                  "Action": "Added",
                  "Country": "Swaziland",
                  "Item": "Athletic Shorts",
                  "Price": 22.5,
                  "index": 2569
                },
                {
                  "Action": "Added",
                  "Country": "Sao Tome and Principe",
                  "Item": "White Dress",
                  "Price": 84.99,
                  "index": 2570
                },
                {
                  "Action": "Viewed",
                  "Country": "Mongolia",
                  "Item": "Socks",
                  "Price": 3.75,
                  "index": 2571
                },
                {
                  "Action": "Purchased",
                  "Country": "Antigua and Barbuda",
                  "Item": "Flannel Shirt",
                  "Price": 19.99,
                  "index": 2572
                },
                {
                  "Action": "Purchased",
                  "Country": "Cape Verde",
                  "Item": "High Heel Shoe",
                  "Price": 72,
                  "index": 2573
                },
                {
                  "Action": "Viewed",
                  "Country": "Gibraltar",
                  "Item": "Sandal",
                  "Price": 35.5,
                  "index": 2574
                },
                {
                  "Action": "Added",
                  "Country": "Cape Verde",
                  "Item": "High Heel Shoe",
                  "Price": 72,
                  "index": 2575
                },
                {
                  "Action": "Added",
                  "Country": "Spain",
                  "Item": "Blue Sweater",
                  "Price": 27,
                  "index": 2576
                },
                {
                  "Action": "Viewed",
                  "Country": "Cape Verde",
                  "Item": "High Heel Shoe",
                  "Price": 72,
                  "index": 2577
                },
                {
                  "Action": "Viewed",
                  "Country": "United States Minor Outlying Islands",
                  "Item": " Necklace",
                  "Price": 12,
                  "index": 2578
                },
                {
                  "Action": "Added",
                  "Country": "Cape Verde",
                  "Item": "Sandal",
                  "Price": 35.5,
                  "index": 2579
                },
                {
                  "Action": "Viewed",
                  "Country": "Mongolia",
                  "Item": "White Sweater",
                  "Price": 32,
                  "index": 2580
                },
                {
                  "Action": "Viewed",
                  "Country": "Cape Verde",
                  "Item": "Sandal",
                  "Price": 35.5,
                  "index": 2581
                },
                {
                  "Action": "Viewed",
                  "Country": "Saint Helena",
                  "Item": "Red Top",
                  "Price": 33,
                  "index": 2582
                },
                {
                  "Action": "Purchased",
                  "Country": "Palau",
                  "Item": "Rainjacket",
                  "Price": 55,
                  "index": 2583
                },
                {
                  "Action": "Added",
                  "Country": "Niue",
                  "Item": "Socks",
                  "Price": 3.75,
                  "index": 2584
                },
                {
                  "Action": "Added",
                  "Country": "Bermuda",
                  "Item": "Red Dress",
                  "Price": 130,
                  "index": 2585
                },
                {
                  "Action": "Viewed",
                  "Country": "Tuvalu",
                  "Item": "Red Top",
                  "Price": 33,
                  "index": 2586
                },
                {
                  "Action": "Added",
                  "Country": "Panama",
                  "Item": "Scarf",
                  "Price": 29.99,
                  "index": 2587
                },
                {
                  "Action": "Viewed",
                  "Country": "Azerbaijan",
                  "Item": "Sandals",
                  "Price": 12,
                  "index": 2588
                },
                {
                  "Action": "Purchased",
                  "Country": "Algeria",
                  "Item": "Fleece Jacket",
                  "Price": 65,
                  "index": 2589
                },
                {
                  "Action": "Viewed",
                  "Country": "Marshall Islands",
                  "Item": "Dress Shoes",
                  "Price": 120,
                  "index": 2590
                },
                {
                  "Action": "Viewed",
                  "Country": "Algeria",
                  "Item": "Fleece Jacket",
                  "Price": 65,
                  "index": 2591
                },
                {
                  "Action": "Purchased",
                  "Country": "France",
                  "Item": "Gloves",
                  "Price": 20,
                  "index": 2592
                },
                {
                  "Action": "Added",
                  "Country": "Algeria",
                  "Item": "Fleece Jacket",
                  "Price": 65,
                  "index": 2593
                },
                {
                  "Action": "Viewed",
                  "Country": "Nicaragua",
                  "Item": "Socks",
                  "Price": 3.75,
                  "index": 2594
                },
                {
                  "Action": "Viewed",
                  "Country": "Tokelau",
                  "Item": "Sandals",
                  "Price": 12,
                  "index": 2595
                },
                {
                  "Action": "Purchased",
                  "Country": "Western Sahara",
                  "Item": "Dark Jeans",
                  "Price": 90,
                  "index": 2596
                },
                {
                  "Action": "Purchased",
                  "Country": "Guinea",
                  "Item": "Athletic Shoes",
                  "Price": 70,
                  "index": 2597
                },
                {
                  "Action": "Viewed",
                  "Country": "Mozambique",
                  "Item": "Athletic Shorts",
                  "Price": 22.5,
                  "index": 2598
                },
                {
                  "Action": "Viewed",
                  "Country": "Nauru",
                  "Item": "Puffy Jacket",
                  "Price": 99.99,
                  "index": 2599
                },
                {
                  "Action": "Viewed",
                  "Country": "Western Sahara",
                  "Item": "Dark Jeans",
                  "Price": 90,
                  "index": 2600
                },
                {
                  "Action": "Added",
                  "Country": "Virgin Islands",
                  "Item": "Denim Jacket",
                  "Price": 31.99,
                  "index": 2601
                },
                {
                  "Action": "Added",
                  "Country": "Morocco",
                  "Item": "Blazer Jacket",
                  "Price": 87.5,
                  "index": 2602
                },
                {
                  "Action": "Added",
                  "Country": "Lesotho",
                  "Item": "Walking Shoes",
                  "Price": 79.99,
                  "index": 2603
                },
                {
                  "Action": "Added",
                  "Country": "Barbados",
                  "Item": "Black Dress",
                  "Price": 65,
                  "index": 2604
                },
                {
                  "Action": "Viewed",
                  "Country": "Lesotho",
                  "Item": "Walking Shoes",
                  "Price": 79.99,
                  "index": 2605
                },
                {
                  "Action": "Viewed",
                  "Country": "Palestinian Territory",
                  "Item": "Black Hoodie",
                  "Price": 25,
                  "index": 2606
                },
                {
                  "Action": "Viewed",
                  "Country": "Czech Republic",
                  "Item": "Gloves",
                  "Price": 20,
                  "index": 2607
                },
                {
                  "Action": "Added",
                  "Country": "Vietnam",
                  "Item": "Puffy Jacket",
                  "Price": 99.99,
                  "index": 2608
                },
                {
                  "Action": "Viewed",
                  "Country": "Reunion",
                  "Item": "Dark Jeans",
                  "Price": 90,
                  "index": 2609
                },
                {
                  "Action": "Purchased",
                  "Country": "Malta",
                  "Item": "White Dress",
                  "Price": 84.99,
                  "index": 2610
                },
                {
                  "Action": "Viewed",
                  "Country": "Djibouti",
                  "Item": "White Dress",
                  "Price": 84.99,
                  "index": 2611
                },
                {
                  "Action": "Added",
                  "Country": "Djibouti",
                  "Item": "White Dress",
                  "Price": 84.99,
                  "index": 2612
                },
                {
                  "Action": "Viewed",
                  "Country": "Kuwait",
                  "Item": "Earring",
                  "Price": 8,
                  "index": 2613
                },
                {
                  "Action": "Added",
                  "Country": "Reunion",
                  "Item": "Light Jeans",
                  "Price": 80,
                  "index": 2614
                },
                {
                  "Action": "Added",
                  "Country": "Portugal",
                  "Item": "Athletic Shorts",
                  "Price": 22.5,
                  "index": 2615
                },
                {
                  "Action": "Purchased",
                  "Country": "Reunion",
                  "Item": "Light Jeans",
                  "Price": 80,
                  "index": 2616
                },
                {
                  "Action": "Viewed",
                  "Country": "Austria",
                  "Item": "Windbreaker Jacket",
                  "Price": 49.99,
                  "index": 2617
                },
                {
                  "Action": "Added",
                  "Country": "Belgium",
                  "Item": "Crewneck Sweater",
                  "Price": 22,
                  "index": 2618
                },
                {
                  "Action": "Purchased",
                  "Country": "Falkland Islands (Malvinas)",
                  "Item": "White Dress",
                  "Price": 84.99,
                  "index": 2619
                },
                {
                  "Action": "Added",
                  "Country": "Switzerland",
                  "Item": "Sweatpants",
                  "Price": 21,
                  "index": 2620
                },
                {
                  "Action": "Added",
                  "Country": "Philippines",
                  "Item": "Sandal",
                  "Price": 35.5,
                  "index": 2621
                },
                {
                  "Action": "Added",
                  "Country": "Togo",
                  "Item": "Button-Up Shirt",
                  "Price": 19.99,
                  "index": 2622
                },
                {
                  "Action": "Viewed",
                  "Country": "Malawi",
                  "Item": "Puffy Jacket",
                  "Price": 95.99,
                  "index": 2623
                },
                {
                  "Action": "Viewed",
                  "Country": "Lesotho",
                  "Item": "Sandals",
                  "Price": 12,
                  "index": 2624
                },
                {
                  "Action": "Viewed",
                  "Country": "Togo",
                  "Item": "Button-Up Shirt",
                  "Price": 19.99,
                  "index": 2625
                },
                {
                  "Action": "Purchased",
                  "Country": "Norway",
                  "Item": "Denim Jacket",
                  "Price": 31.99,
                  "index": 2626
                },
                {
                  "Action": "Viewed",
                  "Country": "Norway",
                  "Item": "Denim Jacket",
                  "Price": 31.99,
                  "index": 2627
                },
                {
                  "Action": "Viewed",
                  "Country": "Albania",
                  "Item": "Crewneck Sweater",
                  "Price": 22,
                  "index": 2628
                },
                {
                  "Action": "Added",
                  "Country": "Albania",
                  "Item": "Crewneck Sweater",
                  "Price": 22,
                  "index": 2629
                },
                {
                  "Action": "Viewed",
                  "Country": "Spain",
                  "Item": "Red Dress",
                  "Price": 130,
                  "index": 2630
                },
                {
                  "Action": "Added",
                  "Country": "Norfolk Island",
                  "Item": "White Shirt",
                  "Price": 25.2,
                  "index": 2631
                },
                {
                  "Action": "Purchased",
                  "Country": "Bermuda",
                  "Item": "Button-Up Shirt",
                  "Price": 19.99,
                  "index": 2632
                },
                {
                  "Action": "Viewed",
                  "Country": "Norfolk Island",
                  "Item": "White Shirt",
                  "Price": 25.2,
                  "index": 2633
                },
                {
                  "Action": "Viewed",
                  "Country": "Bermuda",
                  "Item": "Button-Up Shirt",
                  "Price": 19.99,
                  "index": 2634
                },
                {
                  "Action": "Viewed",
                  "Country": "Equatorial Guinea",
                  "Item": "Puffy Jacket",
                  "Price": 95.99,
                  "index": 2635
                },
                {
                  "Action": "Viewed",
                  "Country": "Kazakhstan",
                  "Item": "Light Jeans",
                  "Price": 80,
                  "index": 2636
                },
                {
                  "Action": "Added",
                  "Country": "Kazakhstan",
                  "Item": "Light Jeans",
                  "Price": 80,
                  "index": 2637
                },
                {
                  "Action": "Purchased",
                  "Country": "Albania",
                  "Item": "Crewneck Sweater",
                  "Price": 22,
                  "index": 2638
                },
                {
                  "Action": "Viewed",
                  "Country": "Albania",
                  "Item": "Crewneck Sweater",
                  "Price": 22,
                  "index": 2639
                },
                {
                  "Action": "Added",
                  "Country": "San Marino",
                  "Item": "Beanie",
                  "Price": 10,
                  "index": 2640
                },
                {
                  "Action": "Viewed",
                  "Country": "Netherlands",
                  "Item": "Cosmos T-shirt",
                  "Price": 350,
                  "index": 2641
                },
                {
                  "Action": "Viewed",
                  "Country": "Haiti",
                  "Item": "Scarf",
                  "Price": 29.99,
                  "index": 2642
                },
                {
                  "Action": "Added",
                  "Country": "Albania",
                  "Item": "Crewneck Sweater",
                  "Price": 22,
                  "index": 2643
                },
                {
                  "Action": "Viewed",
                  "Country": "Latvia",
                  "Item": "Dark Jeans",
                  "Price": 90,
                  "index": 2644
                },
                {
                  "Action": "Viewed",
                  "Country": "Georgia",
                  "Item": "Button-Up Shirt",
                  "Price": 19.99,
                  "index": 2645
                },
                {
                  "Action": "Viewed",
                  "Country": "Turks and Caicos Islands",
                  "Item": "Sweatpants",
                  "Price": 21,
                  "index": 2646
                },
                {
                  "Action": "Added",
                  "Country": "Georgia",
                  "Item": "Button-Up Shirt",
                  "Price": 19.99,
                  "index": 2647
                },
                {
                  "Action": "Added",
                  "Country": "Dominican Republic",
                  "Item": "Sandal",
                  "Price": 35.5,
                  "index": 2648
                },
                {
                  "Action": "Viewed",
                  "Country": "Dominican Republic",
                  "Item": "Sandal",
                  "Price": 35.5,
                  "index": 2649
                },
                {
                  "Action": "Purchased",
                  "Country": "Nigeria",
                  "Item": "Black Dress",
                  "Price": 65,
                  "index": 2650
                },
                {
                  "Action": "Added",
                  "Country": "Georgia",
                  "Item": "Earring",
                  "Price": 8,
                  "index": 2651
                },
                {
                  "Action": "Viewed",
                  "Country": "Georgia",
                  "Item": "Earring",
                  "Price": 8,
                  "index": 2652
                },
                {
                  "Action": "Added",
                  "Country": "United States of America",
                  "Item": "Green Sweater",
                  "Price": 30,
                  "index": 2653
                }
              ],
              "schema": {
                "fields": [
                  {
                    "name": "index",
                    "type": "integer"
                  },
                  {
                    "name": "Action",
                    "type": "string"
                  },
                  {
                    "name": "Price",
                    "type": "number"
                  },
                  {
                    "name": "Country",
                    "type": "string"
                  },
                  {
                    "name": "Item",
                    "type": "string"
                  }
                ],
                "primaryKey": [
                  "index"
                ]
              }
            },
            "text/plain": "System.Collections.Generic.List`1[Submission#2+Record]"
          },
          "execution_count": 6,
          "metadata": {
            "application/vnd.dataresource+json": {
              "__altered": false,
              "_root": {
                "entries": [
                  [
                    "dx",
                    {
                      "__altered": false,
                      "_root": {
                        "bitmap": 1078182321,
                        "nodes": [
                          {
                            "entry": [
                              "summaryType",
                              "violin"
                            ],
                            "keyHash": -119117824,
                            "ownerID": {}
                          },
                          {
                            "entry": [
                              "marginalGraphics",
                              "none"
                            ],
                            "keyHash": -345406460,
                            "ownerID": {}
                          },
                          {
                            "entry": [
                              "view",
                              "grid"
                            ],
                            "keyHash": 3619493,
                            "ownerID": {}
                          },
                          {
                            "entry": [
                              "areaType",
                              "hexbin"
                            ],
                            "keyHash": -592394905,
                            "ownerID": {}
                          },
                          {
                            "bitmap": 68165696,
                            "nodes": [
                              {
                                "entry": [
                                  "selectedDimensions",
                                  {
                                    "__altered": false,
                                    "_capacity": 1,
                                    "_level": 5,
                                    "_origin": 0,
                                    "_root": null,
                                    "_tail": {
                                      "array": [
                                        "Action"
                                      ]
                                    },
                                    "size": 1
                                  }
                                ],
                                "keyHash": -340014904,
                                "ownerID": {}
                              },
                              {
                                "entry": [
                                  "selectedMetrics",
                                  {
                                    "__altered": false,
                                    "_capacity": 0,
                                    "_level": 5,
                                    "_origin": 0,
                                    "size": 0
                                  }
                                ],
                                "keyHash": 390943144,
                                "ownerID": {}
                              },
                              {
                                "entry": [
                                  "networkType",
                                  "force"
                                ],
                                "keyHash": -866871672,
                                "ownerID": {}
                              },
                              {
                                "entry": [
                                  "pieceType",
                                  "bar"
                                ],
                                "keyHash": 113796936,
                                "ownerID": {}
                              }
                            ],
                            "ownerID": {}
                          },
                          {
                            "entry": [
                              "lineType",
                              "line"
                            ],
                            "keyHash": 114923854,
                            "ownerID": {}
                          },
                          {
                            "entry": [
                              "hierarchyType",
                              "dendrogram"
                            ],
                            "keyHash": 831288079,
                            "ownerID": {}
                          },
                          {
                            "entry": [
                              "colors",
                              {
                                "__altered": false,
                                "_capacity": 19,
                                "_level": 5,
                                "_origin": 0,
                                "_root": null,
                                "_tail": {
                                  "array": [
                                    "#DA752E",
                                    "#E5C209",
                                    "#1441A0",
                                    "#B86117",
                                    "#4D430C",
                                    "#1DB390",
                                    "#B3331D",
                                    "#088EB2",
                                    "#417505",
                                    "#E479A8",
                                    "#F9F39E",
                                    "#5782DC",
                                    "#EBA97B",
                                    "#A2AB60",
                                    "#B291CF",
                                    "#8DD2C2",
                                    "#E6A19F",
                                    "#3DC7E0",
                                    "#98CE5B"
                                  ]
                                },
                                "size": 19
                              }
                            ],
                            "keyHash": -281100944,
                            "ownerID": {}
                          },
                          {
                            "entry": [
                              "trendLine",
                              "none"
                            ],
                            "keyHash": 293080881,
                            "ownerID": {}
                          },
                          {
                            "entry": [
                              "barGrouping",
                              "Clustered"
                            ],
                            "keyHash": -136136138,
                            "ownerID": {}
                          },
                          {
                            "entry": [
                              "chart",
                              {
                                "__altered": false,
                                "_root": {
                                  "bitmap": 3678,
                                  "nodes": [
                                    {
                                      "entry": [
                                        "metric1",
                                        "Price"
                                      ],
                                      "keyHash": 955826305,
                                      "ownerID": {}
                                    },
                                    {
                                      "bitmap": 67108880,
                                      "nodes": [
                                        {
                                          "entry": [
                                            "metric2",
                                            "none"
                                          ],
                                          "keyHash": 955826306,
                                          "ownerID": {}
                                        },
                                        {
                                          "entry": [
                                            "timeseriesSort",
                                            "array-order"
                                          ],
                                          "keyHash": 346180418,
                                          "ownerID": {}
                                        }
                                      ],
                                      "ownerID": {}
                                    },
                                    {
                                      "entry": [
                                        "metric3",
                                        "none"
                                      ],
                                      "keyHash": 955826307,
                                      "ownerID": {}
                                    },
                                    {
                                      "entry": [
                                        "metric4",
                                        "none"
                                      ],
                                      "keyHash": 955826308,
                                      "ownerID": {}
                                    },
                                    {
                                      "entry": [
                                        "networkLabel",
                                        "none"
                                      ],
                                      "keyHash": -37592730,
                                      "ownerID": {}
                                    },
                                    {
                                      "entry": [
                                        "dim1",
                                        "Action"
                                      ],
                                      "keyHash": 3083433,
                                      "ownerID": {}
                                    },
                                    {
                                      "entry": [
                                        "dim2",
                                        "Item"
                                      ],
                                      "keyHash": 3083434,
                                      "ownerID": {}
                                    },
                                    {
                                      "entry": [
                                        "dim3",
                                        "none"
                                      ],
                                      "keyHash": 3083435,
                                      "ownerID": {}
                                    }
                                  ],
                                  "ownerID": {}
                                },
                                "size": 9
                              }
                            ],
                            "keyHash": 94623710,
                            "ownerID": {}
                          }
                        ],
                        "ownerID": {}
                      },
                      "size": 14
                    }
                  ]
                ],
                "ownerID": {}
              },
              "dx": {
                "areaType": "hexbin",
                "barGrouping": "Clustered",
                "chart": {
                  "dim1": "Action",
                  "dim2": "Item",
                  "dim3": "none",
                  "metric1": "Price",
                  "metric2": "none",
                  "metric3": "none",
                  "metric4": "none",
                  "networkLabel": "none",
                  "timeseriesSort": "array-order"
                },
                "colors": [
                  "#DA752E",
                  "#E5C209",
                  "#1441A0",
                  "#B86117",
                  "#4D430C",
                  "#1DB390",
                  "#B3331D",
                  "#088EB2",
                  "#417505",
                  "#E479A8",
                  "#F9F39E",
                  "#5782DC",
                  "#EBA97B",
                  "#A2AB60",
                  "#B291CF",
                  "#8DD2C2",
                  "#E6A19F",
                  "#3DC7E0",
                  "#98CE5B"
                ],
                "hierarchyType": "dendrogram",
                "lineType": "line",
                "marginalGraphics": "none",
                "networkType": "force",
                "pieceType": "bar",
                "selectedDimensions": [
                  "Action"
                ],
                "selectedMetrics": [],
                "summaryType": "violin",
                "trendLine": "none",
                "view": "grid"
              },
              "size": 1
            }
          },
          "output_type": "execute_result"
        }
      ],
      "source": "results"
    }
  ],
  "metadata": {
    "kernelspec": {
      "displayName": "CSharp",
      "language": "csharp",
      "name": "csharp"
    },
    "language_info": {
      "codemirror_mode": "text/x-csharp",
      "file_extension": "ipynb",
      "mimetype": "application/json",
      "name": "csharp",
      "version": "7.3"
    },
    "nteract": {
      "version": "dataExplorer 1.0"
    }
  },
  "nbformat": 4,
  "nbformat_minor": 5
}