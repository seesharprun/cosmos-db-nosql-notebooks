{
  "cells": [
    {
      "cell_type": "code",
      "execution_count": 2,
      "id": "bc85ba8f-5117-4fab-a2f5-e15fc044eb74",
      "metadata": {
        "collapsed": true,
        "execution": {
          "iopub.execute_input": "2022-10-17T17:14:14.280Z",
          "iopub.status.busy": "2022-10-17T17:14:14.259Z",
          "iopub.status.idle": "2022-10-17T17:14:16.993Z",
          "shell.execute_reply": "2022-10-17T17:14:16.989Z"
        },
        "jupyter": {
          "outputs_hidden": false,
          "source_hidden": false
        },
        "nteract": {
          "transient": {
            "deleting": false
          }
        },
        "trusted": false
      },
      "outputs": [],
      "source": "import azure.cosmos\nfrom azure.cosmos.partition_key import PartitionKey\n\ndatabase = cosmos_client.create_database_if_not_exists('RetailIngest')\n\ncontainer = database.create_container_if_not_exists(id='WebsiteMetrics', partition_key=PartitionKey(path='/CartID'))"
    },
    {
      "cell_type": "code",
      "execution_count": 7,
      "id": "351bfb2b-34c6-4d6e-a4c6-7204fbc0f11c",
      "metadata": {
        "collapsed": true,
        "execution": {
          "iopub.status.busy": "2022-10-17T17:14:34.492Z",
          "iopub.status.idle": "2022-10-17T17:14:39.231Z",
          "shell.execute_reply": "2022-10-17T17:14:39.245Z"
        },
        "jupyter": {
          "outputs_hidden": false,
          "source_hidden": false
        },
        "nteract": {
          "transient": {
            "deleting": false
          }
        },
        "trusted": false
      },
      "outputs": [
        {
          "data": {
            "text/html": "\n<span style='color:#0078D4'>\nDocuments successfully uploaded to WebsiteMetrics <br/>\nTotal number of documents imported:<br/>\n&nbsp;&nbsp;Success: <b>2654</b> <br/>\n&nbsp;&nbsp;Failure: <b>0</b> <br/>\nTotal time taken : <b>00:00:04</b> hours <br/>\nTotal RUs consumed : <b>25770.339999998447</b> <br/>\n<br/>\n</span>\n"
          },
          "metadata": {},
          "output_type": "display_data"
        }
      ],
      "source": "%%upload --databaseName RetailIngest --containerName WebsiteMetrics --url https://cosmosnotebooksdata.blob.core.windows.net/notebookdata/websiteData.json"
    },
    {
      "cell_type": "code",
      "execution_count": 6,
      "id": "27aa32d1-6288-4989-bc66-72e87fe60c6c",
      "metadata": {
        "collapsed": true,
        "execution": {
          "iopub.execute_input": "2022-10-17T17:14:43.030Z",
          "iopub.status.busy": "2022-10-17T17:14:42.952Z",
          "iopub.status.idle": "2022-10-17T17:14:43.050Z",
          "shell.execute_reply": "2022-10-17T17:14:43.034Z"
        },
        "jupyter": {
          "outputs_hidden": false,
          "source_hidden": false
        },
        "nteract": {
          "transient": {
            "deleting": false
          }
        },
        "trusted": false
      },
      "outputs": [
        {
          "data": {
            "text/html": "\n<div>\n  <style type='text/css' scoped>\n.collapsible {\n  background-color: #fff;\n  color: #0078D4;\n  cursor: pointer;\n  padding: 10px;\n  border: none;\n  text-align: left;\n  outline: none;\n  font-size: 15px;\n  border-radius: 5px;\n  margin: 5px\n}\n\n.active, .collapsible:hover {\n  color: #4db2ff;\n}\n\n.content {\n  margin: 2px;\n  padding: 0 18px;\n  overflow: hidden;\n  background-color: #fff;\n  height: 0px;\n  -moz-transition: height .2s ease-out;\n  -ms-transition: height .2s ease-out;\n  -o-transition: height .2s ease-out;\n  -webkit-transition: height .2s ease-out;\n  transition: height .2s ease-out;\n}\n</style>\n\n<button type='button' class='collapsible'>� View Query Metrics</button>\n  \n<div class='content'>\n  <div class='measuringWrapper'>\n    <span style=\"color:#0078D4\"><b>totalExecutionTimeInMs    </b>:    19.990000000000002<br/><b>queryCompileTimeInMs    </b>:    0.27<br/><b>queryLogicalPlanBuildTimeInMs    </b>:    0.03<br/><b>queryPhysicalPlanBuildTimeInMs    </b>:    0.02<br/><b>queryOptimizationTimeInMs    </b>:    0<br/><b>VMExecutionTimeInMs    </b>:    18.919999999999998<br/><b>indexLookupTimeInMs    </b>:    0<br/><b>instructionCount    </b>:    37171<br/><b>documentLoadTimeInMs    </b>:    11.940000000000001<br/><b>systemFunctionExecuteTimeInMs    </b>:    0<br/><b>userFunctionExecuteTimeInMs    </b>:    0<br/><b>retrievedDocumentCount    </b>:    2654<br/><b>retrievedDocumentSize    </b>:    1366721<br/><b>outputDocumentCount    </b>:    2654<br/><b>outputDocumentSize    </b>:    220967<br/><b>writeOutputTimeInMs    </b>:    2.66<br/><b>averageIndexUtilizationRation    </b>:    1<br/></span>\n  </div>\n</div>\n\n<script>\nvar coll = document.getElementsByClassName('collapsible');\nvar i;\n\nfor (i = 0; i < coll.length; i++) {\n  \n  coll[i].addEventListener('click', function() {\n    this.classList.toggle('active');\n    var content = this.nextElementSibling;\n    \n    if (content.clientHeight != 0) {\n      this.textContent = '� View Query Metrics';\n      content.style.height = '0px';\n    }\n    else {\n      this.textContent = '� Hide Query Metrics';\n      content.style.height = content.children[0].clientHeight + 'px';\n    }\n  });\n}\n</script>\n</div>"
          },
          "metadata": {},
          "output_type": "display_data"
        }
      ],
      "source": "%%sql --database RetailIngest --container WebsiteMetrics --output df_cosmos\nSELECT c.Action, c.Price as ItemRevenue, c.Country, c.Item FROM c"
    },
    {
      "cell_type": "code",
      "execution_count": 7,
      "id": "4f969c50-77bd-42e8-9015-f0c41e5447a4",
      "metadata": {
        "collapsed": true,
        "execution": {
          "iopub.execute_input": "2022-10-17T17:14:44.275Z",
          "iopub.status.busy": "2022-10-17T17:14:44.257Z",
          "iopub.status.idle": "2022-10-17T17:14:44.290Z",
          "shell.execute_reply": "2022-10-17T17:14:44.297Z"
        },
        "jupyter": {
          "outputs_hidden": false,
          "source_hidden": false
        },
        "nteract": {
          "transient": {
            "deleting": false
          }
        },
        "trusted": false
      },
      "outputs": [
        {
          "data": {
            "application/vnd.dataresource+json": {
              "data": [
                {
                  "Action": "Viewed",
                  "Country": "Brazil",
                  "Item": "Baseball Hat",
                  "ItemRevenue": 17,
                  "index": 0
                },
                {
                  "Action": "Viewed",
                  "Country": "Algeria",
                  "Item": "Beanie",
                  "ItemRevenue": 10,
                  "index": 1
                },
                {
                  "Action": "Viewed",
                  "Country": "Falkland Islands (Malvinas)",
                  "Item": "Bag",
                  "ItemRevenue": 37.5,
                  "index": 2
                },
                {
                  "Action": "Viewed",
                  "Country": "Republic of Korea",
                  "Item": "Red Top",
                  "ItemRevenue": 33,
                  "index": 3
                },
                {
                  "Action": "Purchased",
                  "Country": "Falkland Islands (Malvinas)",
                  "Item": "Bag",
                  "ItemRevenue": 37.5,
                  "index": 4
                },
                {
                  "Action": "Added",
                  "Country": "New Caledonia",
                  "Item": "Rainjacket",
                  "ItemRevenue": 55,
                  "index": 5
                },
                {
                  "Action": "Viewed",
                  "Country": "New Caledonia",
                  "Item": "Rainjacket",
                  "ItemRevenue": 55,
                  "index": 6
                },
                {
                  "Action": "Added",
                  "Country": "Algeria",
                  "Item": "Gloves",
                  "ItemRevenue": 20,
                  "index": 7
                },
                {
                  "Action": "Viewed",
                  "Country": "Algeria",
                  "Item": "Gloves",
                  "ItemRevenue": 20,
                  "index": 8
                },
                {
                  "Action": "Purchased",
                  "Country": "Libyan Arab Jamahiriya",
                  "Item": "Fleece Jacket",
                  "ItemRevenue": 65,
                  "index": 9
                }
              ],
              "schema": {
                "fields": [
                  {
                    "name": "index",
                    "type": "integer"
                  },
                  {
                    "name": "Action",
                    "type": "string"
                  },
                  {
                    "name": "ItemRevenue",
                    "type": "number"
                  },
                  {
                    "name": "Country",
                    "type": "string"
                  },
                  {
                    "name": "Item",
                    "type": "string"
                  }
                ],
                "pandas_version": "0.20.0",
                "primaryKey": [
                  "index"
                ]
              }
            },
            "text/html": "<div>\n<style scoped>\n    .dataframe tbody tr th:only-of-type {\n        vertical-align: middle;\n    }\n\n    .dataframe tbody tr th {\n        vertical-align: top;\n    }\n\n    .dataframe thead th {\n        text-align: right;\n    }\n</style>\n<table border=\"1\" class=\"dataframe\">\n  <thead>\n    <tr style=\"text-align: right;\">\n      <th></th>\n      <th>Action</th>\n      <th>ItemRevenue</th>\n      <th>Country</th>\n      <th>Item</th>\n    </tr>\n  </thead>\n  <tbody>\n    <tr>\n      <th>0</th>\n      <td>Viewed</td>\n      <td>17.0</td>\n      <td>Brazil</td>\n      <td>Baseball Hat</td>\n    </tr>\n    <tr>\n      <th>1</th>\n      <td>Viewed</td>\n      <td>10.0</td>\n      <td>Algeria</td>\n      <td>Beanie</td>\n    </tr>\n    <tr>\n      <th>2</th>\n      <td>Viewed</td>\n      <td>37.5</td>\n      <td>Falkland Islands (Malvinas)</td>\n      <td>Bag</td>\n    </tr>\n    <tr>\n      <th>3</th>\n      <td>Viewed</td>\n      <td>33.0</td>\n      <td>Republic of Korea</td>\n      <td>Red Top</td>\n    </tr>\n    <tr>\n      <th>4</th>\n      <td>Purchased</td>\n      <td>37.5</td>\n      <td>Falkland Islands (Malvinas)</td>\n      <td>Bag</td>\n    </tr>\n    <tr>\n      <th>5</th>\n      <td>Added</td>\n      <td>55.0</td>\n      <td>New Caledonia</td>\n      <td>Rainjacket</td>\n    </tr>\n    <tr>\n      <th>6</th>\n      <td>Viewed</td>\n      <td>55.0</td>\n      <td>New Caledonia</td>\n      <td>Rainjacket</td>\n    </tr>\n    <tr>\n      <th>7</th>\n      <td>Added</td>\n      <td>20.0</td>\n      <td>Algeria</td>\n      <td>Gloves</td>\n    </tr>\n    <tr>\n      <th>8</th>\n      <td>Viewed</td>\n      <td>20.0</td>\n      <td>Algeria</td>\n      <td>Gloves</td>\n    </tr>\n    <tr>\n      <th>9</th>\n      <td>Purchased</td>\n      <td>65.0</td>\n      <td>Libyan Arab Jamahiriya</td>\n      <td>Fleece Jacket</td>\n    </tr>\n  </tbody>\n</table>\n</div>",
            "text/plain": "      Action  ItemRevenue                      Country           Item\n0     Viewed         17.0                       Brazil   Baseball Hat\n1     Viewed         10.0                      Algeria         Beanie\n2     Viewed         37.5  Falkland Islands (Malvinas)            Bag\n3     Viewed         33.0            Republic of Korea        Red Top\n4  Purchased         37.5  Falkland Islands (Malvinas)            Bag\n5      Added         55.0                New Caledonia     Rainjacket\n6     Viewed         55.0                New Caledonia     Rainjacket\n7      Added         20.0                      Algeria         Gloves\n8     Viewed         20.0                      Algeria         Gloves\n9  Purchased         65.0       Libyan Arab Jamahiriya  Fleece Jacket"
          },
          "execution_count": 7,
          "metadata": {
            "application/vnd.dataresource+json": {
              "dx": {
                "areaType": "hexbin",
                "barGrouping": "Clustered",
                "chart": {
                  "dim1": "Action",
                  "dim2": "Country",
                  "dim3": "none",
                  "metric1": "ItemRevenue",
                  "metric2": "none",
                  "metric3": "none",
                  "metric4": "none",
                  "networkLabel": "none",
                  "timeseriesSort": "array-order"
                },
                "colors": [
                  "#DA752E",
                  "#E5C209",
                  "#1441A0",
                  "#B86117",
                  "#4D430C",
                  "#1DB390",
                  "#B3331D",
                  "#088EB2",
                  "#417505",
                  "#E479A8",
                  "#F9F39E",
                  "#5782DC",
                  "#EBA97B",
                  "#A2AB60",
                  "#B291CF",
                  "#8DD2C2",
                  "#E6A19F",
                  "#3DC7E0",
                  "#98CE5B"
                ],
                "hierarchyType": "dendrogram",
                "lineType": "line",
                "marginalGraphics": "none",
                "networkType": "force",
                "pieceType": "bar",
                "selectedDimensions": [
                  "Action"
                ],
                "selectedMetrics": [],
                "summaryType": "violin",
                "trendLine": "none",
                "view": "grid"
              }
            }
          },
          "output_type": "execute_result"
        }
      ],
      "source": "df_cosmos.head(10)"
    },
    {
      "cell_type": "code",
      "execution_count": 8,
      "id": "2cf64383-331d-4e34-8d2f-46ba34a78e2f",
      "metadata": {
        "collapsed": true,
        "execution": {
          "iopub.execute_input": "2022-10-17T17:14:47.301Z",
          "iopub.status.busy": "2022-10-17T17:14:47.294Z",
          "iopub.status.idle": "2022-10-17T17:14:47.312Z",
          "shell.execute_reply": "2022-10-17T17:14:47.317Z"
        },
        "jupyter": {
          "outputs_hidden": false,
          "source_hidden": false
        },
        "nteract": {
          "transient": {
            "deleting": false
          }
        },
        "trusted": false
      },
      "outputs": [
        {
          "data": {
            "application/vnd.dataresource+json": {
              "data": [
                {
                  "Item": " Flip Flop Shoes",
                  "values": 66
                },
                {
                  "Item": " Necklace",
                  "values": 55
                },
                {
                  "Item": "Athletic Shoes",
                  "values": 111
                },
                {
                  "Item": "Athletic Shorts",
                  "values": 118
                },
                {
                  "Item": "Bag",
                  "values": 58
                },
                {
                  "Item": "Baseball Hat",
                  "values": 33
                },
                {
                  "Item": "Beanie",
                  "values": 51
                },
                {
                  "Item": "Black Dress",
                  "values": 37
                },
                {
                  "Item": "Black Hoodie",
                  "values": 58
                },
                {
                  "Item": "Black Tee",
                  "values": 67
                },
                {
                  "Item": "Blazer Jacket",
                  "values": 43
                },
                {
                  "Item": "Blue Sweater",
                  "values": 42
                },
                {
                  "Item": "Button-Up Shirt",
                  "values": 52
                },
                {
                  "Item": "Cardigan Sweater",
                  "values": 75
                },
                {
                  "Item": "Cosmos T-shirt",
                  "values": 54
                },
                {
                  "Item": "Crewneck Sweater",
                  "values": 78
                },
                {
                  "Item": "Dark Jeans",
                  "values": 64
                },
                {
                  "Item": "Denim Jacket",
                  "values": 51
                },
                {
                  "Item": "Denim Shorts",
                  "values": 55
                },
                {
                  "Item": "Dress Shoes",
                  "values": 30
                },
                {
                  "Item": "Earring",
                  "values": 42
                },
                {
                  "Item": "Flannel Shirt",
                  "values": 60
                },
                {
                  "Item": "Fleece Jacket",
                  "values": 47
                },
                {
                  "Item": "Gloves",
                  "values": 51
                },
                {
                  "Item": "Green Sweater",
                  "values": 57
                },
                {
                  "Item": "High Heel Shoe",
                  "values": 51
                },
                {
                  "Item": "Jeans",
                  "values": 57
                },
                {
                  "Item": "Light Jeans",
                  "values": 69
                },
                {
                  "Item": "Pant",
                  "values": 40
                },
                {
                  "Item": "Puffy Jacket",
                  "values": 169
                },
                {
                  "Item": "Rainjacket",
                  "values": 49
                },
                {
                  "Item": "Red Dress",
                  "values": 47
                },
                {
                  "Item": "Red Top",
                  "values": 43
                },
                {
                  "Item": "Sandal",
                  "values": 42
                },
                {
                  "Item": "Sandals",
                  "values": 56
                },
                {
                  "Item": "Scarf",
                  "values": 52
                },
                {
                  "Item": "Silver Necklace",
                  "values": 49
                },
                {
                  "Item": "Socks",
                  "values": 56
                },
                {
                  "Item": "Suit Jacket",
                  "values": 41
                },
                {
                  "Item": "Suit Pant",
                  "values": 58
                },
                {
                  "Item": "Sweatpants",
                  "values": 44
                },
                {
                  "Item": "Walking Shoes",
                  "values": 55
                },
                {
                  "Item": "White Dress",
                  "values": 53
                },
                {
                  "Item": "White Shirt",
                  "values": 55
                },
                {
                  "Item": "White Sweater",
                  "values": 57
                },
                {
                  "Item": "Windbreaker Jacket",
                  "values": 56
                }
              ],
              "schema": {
                "fields": [
                  {
                    "name": "Item",
                    "type": "string"
                  },
                  {
                    "name": "values",
                    "type": "integer"
                  }
                ],
                "pandas_version": "0.20.0",
                "primaryKey": [
                  "Item"
                ]
              }
            },
            "text/plain": "Item\n Flip Flop Shoes       66\n Necklace              55\nAthletic Shoes        111\nAthletic Shorts       118\nBag                    58\nBaseball Hat           33\nBeanie                 51\nBlack Dress            37\nBlack Hoodie           58\nBlack Tee              67\nBlazer Jacket          43\nBlue Sweater           42\nButton-Up Shirt        52\nCardigan Sweater       75\nCosmos T-shirt         54\nCrewneck Sweater       78\nDark Jeans             64\nDenim Jacket           51\nDenim Shorts           55\nDress Shoes            30\nEarring                42\nFlannel Shirt          60\nFleece Jacket          47\nGloves                 51\nGreen Sweater          57\nHigh Heel Shoe         51\nJeans                  57\nLight Jeans            69\nPant                   40\nPuffy Jacket          169\nRainjacket             49\nRed Dress              47\nRed Top                43\nSandal                 42\nSandals                56\nScarf                  52\nSilver Necklace        49\nSocks                  56\nSuit Jacket            41\nSuit Pant              58\nSweatpants             44\nWalking Shoes          55\nWhite Dress            53\nWhite Shirt            55\nWhite Sweater          57\nWindbreaker Jacket     56\ndtype: int64"
          },
          "execution_count": 8,
          "metadata": {
            "application/vnd.dataresource+json": {
              "dx": {
                "areaType": "hexbin",
                "barGrouping": "Clustered",
                "chart": {
                  "dim1": "Item",
                  "dim2": "none",
                  "dim3": "none",
                  "metric1": "values",
                  "metric2": "none",
                  "metric3": "none",
                  "metric4": "none",
                  "networkLabel": "none",
                  "timeseriesSort": "array-order"
                },
                "colors": [
                  "#DA752E",
                  "#E5C209",
                  "#1441A0",
                  "#B86117",
                  "#4D430C",
                  "#1DB390",
                  "#B3331D",
                  "#088EB2",
                  "#417505",
                  "#E479A8",
                  "#F9F39E",
                  "#5782DC",
                  "#EBA97B",
                  "#A2AB60",
                  "#B291CF",
                  "#8DD2C2",
                  "#E6A19F",
                  "#3DC7E0",
                  "#98CE5B"
                ],
                "hierarchyType": "dendrogram",
                "lineType": "line",
                "marginalGraphics": "none",
                "networkType": "force",
                "pieceType": "bar",
                "selectedDimensions": [
                  "Item"
                ],
                "selectedMetrics": [],
                "summaryType": "violin",
                "trendLine": "none",
                "view": "grid"
              }
            }
          },
          "output_type": "execute_result"
        }
      ],
      "source": "import pandas as pd\npd.options.display.html.table_schema = True\npd.options.display.max_rows = None\n\ndf_cosmos.groupby(\"Item\").size()"
    }
  ],
  "metadata": {
    "language_info": {
      "file_extension": "ipynb",
      "mimetype": "application/json",
      "name": "python",
      "version": "3.7"
    },
    "nteract": {
      "version": "dataExplorer 1.0"
    }
  },
  "nbformat": 4,
  "nbformat_minor": 5
}