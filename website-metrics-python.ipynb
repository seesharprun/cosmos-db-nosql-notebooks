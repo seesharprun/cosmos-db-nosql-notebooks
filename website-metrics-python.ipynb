{
  "cells": [
    {
      "cell_type": "code",
      "source": [
        "import azure.cosmos\n",
        "from azure.cosmos.partition_key import PartitionKey\n",
        "\n",
        "database = cosmos_client.create_database_if_not_exists('RetailIngest')\n",
        "\n",
        "container = database.create_container_if_not_exists(id='WebsiteMetrics', partition_key=PartitionKey(path='/CartID'))"
      ],
      "outputs": [],
      "execution_count": 8,
      "metadata": {
        "collapsed": true,
        "execution": {
          "iopub.execute_input": "2022-10-17T17:30:28.932Z",
          "iopub.status.busy": "2022-10-17T17:30:28.906Z",
          "iopub.status.idle": "2022-10-17T17:30:29.040Z",
          "shell.execute_reply": "2022-10-17T17:30:29.072Z"
        },
        "jupyter": {
          "outputs_hidden": false,
          "source_hidden": false
        },
        "nteract": {
          "transient": {
            "deleting": false
          }
        },
        "trusted": false
      },
      "id": "bc85ba8f-5117-4fab-a2f5-e15fc044eb74"
    },
    {
      "cell_type": "code",
      "source": [
        "%%upload --databaseName RetailIngest --containerName WebsiteMetrics --url https://cosmosnotebooksdata.blob.core.windows.net/notebookdata/websiteData.json"
      ],
      "outputs": [
        {
          "output_type": "display_data",
          "data": {
            "text/html": "\n<span style='color:#0078D4'>\nDocuments successfully uploaded to WebsiteMetrics <br/>\nTotal number of documents imported:<br/>\n&nbsp;&nbsp;Success: <b>2654</b> <br/>\n&nbsp;&nbsp;Failure: <b>0</b> <br/>\nTotal time taken : <b>00:00:04</b> hours <br/>\nTotal RUs consumed : <b>27309.660000001593</b> <br/>\n<br/>\n</span>\n"
          },
          "metadata": {}
        }
      ],
      "execution_count": 9,
      "metadata": {
        "collapsed": true,
        "execution": {
          "iopub.status.busy": "2022-10-17T17:30:21.700Z",
          "iopub.status.idle": "2022-10-17T17:30:26.401Z",
          "shell.execute_reply": "2022-10-17T17:30:26.419Z"
        },
        "jupyter": {
          "outputs_hidden": false,
          "source_hidden": false
        },
        "nteract": {
          "transient": {
            "deleting": false
          }
        },
        "trusted": false
      },
      "id": "351bfb2b-34c6-4d6e-a4c6-7204fbc0f11c"
    },
    {
      "cell_type": "code",
      "source": [
        "%%sql --database RetailIngest --container WebsiteMetrics --output df_cosmos\n",
        "SELECT c.Action, c.Price as ItemRevenue, c.Country, c.Item FROM c"
      ],
      "outputs": [
        {
          "output_type": "display_data",
          "data": {
            "text/html": "\n<div>\n  <style type='text/css' scoped>\n.collapsible {\n  background-color: #fff;\n  color: #0078D4;\n  cursor: pointer;\n  padding: 10px;\n  border: none;\n  text-align: left;\n  outline: none;\n  font-size: 15px;\n  border-radius: 5px;\n  margin: 5px\n}\n\n.active, .collapsible:hover {\n  color: #4db2ff;\n}\n\n.content {\n  margin: 2px;\n  padding: 0 18px;\n  overflow: hidden;\n  background-color: #fff;\n  height: 0px;\n  -moz-transition: height .2s ease-out;\n  -ms-transition: height .2s ease-out;\n  -o-transition: height .2s ease-out;\n  -webkit-transition: height .2s ease-out;\n  transition: height .2s ease-out;\n}\n</style>\n\n<button type='button' class='collapsible'>▶ View Query Metrics</button>\n  \n<div class='content'>\n  <div class='measuringWrapper'>\n    <span style=\"color:#0078D4\"><b>totalExecutionTimeInMs    </b>:    16.14<br/><b>queryCompileTimeInMs    </b>:    0.27<br/><b>queryLogicalPlanBuildTimeInMs    </b>:    0.04<br/><b>queryPhysicalPlanBuildTimeInMs    </b>:    0.05<br/><b>queryOptimizationTimeInMs    </b>:    0<br/><b>VMExecutionTimeInMs    </b>:    15.139999999999999<br/><b>indexLookupTimeInMs    </b>:    0<br/><b>instructionCount    </b>:    37171<br/><b>documentLoadTimeInMs    </b>:    9.83<br/><b>systemFunctionExecuteTimeInMs    </b>:    0<br/><b>userFunctionExecuteTimeInMs    </b>:    0<br/><b>retrievedDocumentCount    </b>:    2654<br/><b>retrievedDocumentSize    </b>:    1366721<br/><b>outputDocumentCount    </b>:    2654<br/><b>outputDocumentSize    </b>:    220967<br/><b>writeOutputTimeInMs    </b>:    1.9400000000000002<br/><b>averageIndexUtilizationRation    </b>:    1<br/></span>\n  </div>\n</div>\n\n<script>\nvar coll = document.getElementsByClassName('collapsible');\nvar i;\n\nfor (i = 0; i < coll.length; i++) {\n  \n  coll[i].addEventListener('click', function() {\n    this.classList.toggle('active');\n    var content = this.nextElementSibling;\n    \n    if (content.clientHeight != 0) {\n      this.textContent = '▶ View Query Metrics';\n      content.style.height = '0px';\n    }\n    else {\n      this.textContent = '▼ Hide Query Metrics';\n      content.style.height = content.children[0].clientHeight + 'px';\n    }\n  });\n}\n</script>\n</div>"
          },
          "metadata": {}
        }
      ],
      "execution_count": 9,
      "metadata": {
        "collapsed": true,
        "execution": {
          "iopub.execute_input": "2022-10-17T17:30:33.528Z",
          "iopub.status.busy": "2022-10-17T17:30:33.158Z",
          "iopub.status.idle": "2022-10-17T17:30:33.536Z",
          "shell.execute_reply": "2022-10-17T17:30:33.534Z"
        },
        "jupyter": {
          "outputs_hidden": false,
          "source_hidden": false
        },
        "nteract": {
          "transient": {
            "deleting": false
          }
        },
        "trusted": false
      },
      "id": "27aa32d1-6288-4989-bc66-72e87fe60c6c"
    },
    {
      "cell_type": "code",
      "source": [
        "df_cosmos.head(20)"
      ],
      "outputs": [
        {
          "output_type": "execute_result",
          "execution_count": 10,
          "data": {
            "text/plain": "       Action  ItemRevenue                     Country              Item\n0      Viewed        25.00      Libyan Arab Jamahiriya  Cardigan Sweater\n1       Added        25.00      Libyan Arab Jamahiriya  Cardigan Sweater\n2      Viewed        95.99        United Arab Emirates      Puffy Jacket\n3   Purchased        29.99                   Guatemala             Scarf\n4      Viewed        33.00               Liechtenstein           Red Top\n5       Added        95.99        United Arab Emirates      Puffy Jacket\n6      Viewed        29.99                   Guatemala             Scarf\n7       Added        29.99                   Guatemala             Scarf\n8   Purchased        22.50                    Malaysia   Athletic Shorts\n9      Viewed        22.50                    Malaysia   Athletic Shorts\n10      Added        75.00  Slovakia (Slovak Republic)    Athletic Shoes\n11      Added        22.50                    Malaysia   Athletic Shorts\n12     Viewed        75.00  Slovakia (Slovak Republic)    Athletic Shoes\n13      Added        22.50                Saudi Arabia   Athletic Shorts\n14     Viewed        22.50                Saudi Arabia   Athletic Shorts\n15      Added        17.00                     Albania      Baseball Hat\n16     Viewed        17.00                     Albania      Baseball Hat\n17      Added        20.00                     Ecuador            Gloves\n18      Added        92.00                      Mexico       Suit Jacket\n19     Viewed        20.00                     Ecuador            Gloves",
            "text/html": "<div>\n<style scoped>\n    .dataframe tbody tr th:only-of-type {\n        vertical-align: middle;\n    }\n\n    .dataframe tbody tr th {\n        vertical-align: top;\n    }\n\n    .dataframe thead th {\n        text-align: right;\n    }\n</style>\n<table border=\"1\" class=\"dataframe\">\n  <thead>\n    <tr style=\"text-align: right;\">\n      <th></th>\n      <th>Action</th>\n      <th>ItemRevenue</th>\n      <th>Country</th>\n      <th>Item</th>\n    </tr>\n  </thead>\n  <tbody>\n    <tr>\n      <th>0</th>\n      <td>Viewed</td>\n      <td>25.00</td>\n      <td>Libyan Arab Jamahiriya</td>\n      <td>Cardigan Sweater</td>\n    </tr>\n    <tr>\n      <th>1</th>\n      <td>Added</td>\n      <td>25.00</td>\n      <td>Libyan Arab Jamahiriya</td>\n      <td>Cardigan Sweater</td>\n    </tr>\n    <tr>\n      <th>2</th>\n      <td>Viewed</td>\n      <td>95.99</td>\n      <td>United Arab Emirates</td>\n      <td>Puffy Jacket</td>\n    </tr>\n    <tr>\n      <th>3</th>\n      <td>Purchased</td>\n      <td>29.99</td>\n      <td>Guatemala</td>\n      <td>Scarf</td>\n    </tr>\n    <tr>\n      <th>4</th>\n      <td>Viewed</td>\n      <td>33.00</td>\n      <td>Liechtenstein</td>\n      <td>Red Top</td>\n    </tr>\n    <tr>\n      <th>5</th>\n      <td>Added</td>\n      <td>95.99</td>\n      <td>United Arab Emirates</td>\n      <td>Puffy Jacket</td>\n    </tr>\n    <tr>\n      <th>6</th>\n      <td>Viewed</td>\n      <td>29.99</td>\n      <td>Guatemala</td>\n      <td>Scarf</td>\n    </tr>\n    <tr>\n      <th>7</th>\n      <td>Added</td>\n      <td>29.99</td>\n      <td>Guatemala</td>\n      <td>Scarf</td>\n    </tr>\n    <tr>\n      <th>8</th>\n      <td>Purchased</td>\n      <td>22.50</td>\n      <td>Malaysia</td>\n      <td>Athletic Shorts</td>\n    </tr>\n    <tr>\n      <th>9</th>\n      <td>Viewed</td>\n      <td>22.50</td>\n      <td>Malaysia</td>\n      <td>Athletic Shorts</td>\n    </tr>\n    <tr>\n      <th>10</th>\n      <td>Added</td>\n      <td>75.00</td>\n      <td>Slovakia (Slovak Republic)</td>\n      <td>Athletic Shoes</td>\n    </tr>\n    <tr>\n      <th>11</th>\n      <td>Added</td>\n      <td>22.50</td>\n      <td>Malaysia</td>\n      <td>Athletic Shorts</td>\n    </tr>\n    <tr>\n      <th>12</th>\n      <td>Viewed</td>\n      <td>75.00</td>\n      <td>Slovakia (Slovak Republic)</td>\n      <td>Athletic Shoes</td>\n    </tr>\n    <tr>\n      <th>13</th>\n      <td>Added</td>\n      <td>22.50</td>\n      <td>Saudi Arabia</td>\n      <td>Athletic Shorts</td>\n    </tr>\n    <tr>\n      <th>14</th>\n      <td>Viewed</td>\n      <td>22.50</td>\n      <td>Saudi Arabia</td>\n      <td>Athletic Shorts</td>\n    </tr>\n    <tr>\n      <th>15</th>\n      <td>Added</td>\n      <td>17.00</td>\n      <td>Albania</td>\n      <td>Baseball Hat</td>\n    </tr>\n    <tr>\n      <th>16</th>\n      <td>Viewed</td>\n      <td>17.00</td>\n      <td>Albania</td>\n      <td>Baseball Hat</td>\n    </tr>\n    <tr>\n      <th>17</th>\n      <td>Added</td>\n      <td>20.00</td>\n      <td>Ecuador</td>\n      <td>Gloves</td>\n    </tr>\n    <tr>\n      <th>18</th>\n      <td>Added</td>\n      <td>92.00</td>\n      <td>Mexico</td>\n      <td>Suit Jacket</td>\n    </tr>\n    <tr>\n      <th>19</th>\n      <td>Viewed</td>\n      <td>20.00</td>\n      <td>Ecuador</td>\n      <td>Gloves</td>\n    </tr>\n  </tbody>\n</table>\n</div>",
            "application/vnd.dataresource+json": {
              "schema": {
                "fields": [
                  {
                    "name": "index",
                    "type": "integer"
                  },
                  {
                    "name": "Action",
                    "type": "string"
                  },
                  {
                    "name": "ItemRevenue",
                    "type": "number"
                  },
                  {
                    "name": "Country",
                    "type": "string"
                  },
                  {
                    "name": "Item",
                    "type": "string"
                  }
                ],
                "primaryKey": [
                  "index"
                ],
                "pandas_version": "0.20.0"
              },
              "data": [
                {
                  "index": 0,
                  "Action": "Viewed",
                  "ItemRevenue": 25,
                  "Country": "Libyan Arab Jamahiriya",
                  "Item": "Cardigan Sweater"
                },
                {
                  "index": 1,
                  "Action": "Added",
                  "ItemRevenue": 25,
                  "Country": "Libyan Arab Jamahiriya",
                  "Item": "Cardigan Sweater"
                },
                {
                  "index": 2,
                  "Action": "Viewed",
                  "ItemRevenue": 95.99,
                  "Country": "United Arab Emirates",
                  "Item": "Puffy Jacket"
                },
                {
                  "index": 3,
                  "Action": "Purchased",
                  "ItemRevenue": 29.99,
                  "Country": "Guatemala",
                  "Item": "Scarf"
                },
                {
                  "index": 4,
                  "Action": "Viewed",
                  "ItemRevenue": 33,
                  "Country": "Liechtenstein",
                  "Item": "Red Top"
                },
                {
                  "index": 5,
                  "Action": "Added",
                  "ItemRevenue": 95.99,
                  "Country": "United Arab Emirates",
                  "Item": "Puffy Jacket"
                },
                {
                  "index": 6,
                  "Action": "Viewed",
                  "ItemRevenue": 29.99,
                  "Country": "Guatemala",
                  "Item": "Scarf"
                },
                {
                  "index": 7,
                  "Action": "Added",
                  "ItemRevenue": 29.99,
                  "Country": "Guatemala",
                  "Item": "Scarf"
                },
                {
                  "index": 8,
                  "Action": "Purchased",
                  "ItemRevenue": 22.5,
                  "Country": "Malaysia",
                  "Item": "Athletic Shorts"
                },
                {
                  "index": 9,
                  "Action": "Viewed",
                  "ItemRevenue": 22.5,
                  "Country": "Malaysia",
                  "Item": "Athletic Shorts"
                },
                {
                  "index": 10,
                  "Action": "Added",
                  "ItemRevenue": 75,
                  "Country": "Slovakia (Slovak Republic)",
                  "Item": "Athletic Shoes"
                },
                {
                  "index": 11,
                  "Action": "Added",
                  "ItemRevenue": 22.5,
                  "Country": "Malaysia",
                  "Item": "Athletic Shorts"
                },
                {
                  "index": 12,
                  "Action": "Viewed",
                  "ItemRevenue": 75,
                  "Country": "Slovakia (Slovak Republic)",
                  "Item": "Athletic Shoes"
                },
                {
                  "index": 13,
                  "Action": "Added",
                  "ItemRevenue": 22.5,
                  "Country": "Saudi Arabia",
                  "Item": "Athletic Shorts"
                },
                {
                  "index": 14,
                  "Action": "Viewed",
                  "ItemRevenue": 22.5,
                  "Country": "Saudi Arabia",
                  "Item": "Athletic Shorts"
                },
                {
                  "index": 15,
                  "Action": "Added",
                  "ItemRevenue": 17,
                  "Country": "Albania",
                  "Item": "Baseball Hat"
                },
                {
                  "index": 16,
                  "Action": "Viewed",
                  "ItemRevenue": 17,
                  "Country": "Albania",
                  "Item": "Baseball Hat"
                },
                {
                  "index": 17,
                  "Action": "Added",
                  "ItemRevenue": 20,
                  "Country": "Ecuador",
                  "Item": "Gloves"
                },
                {
                  "index": 18,
                  "Action": "Added",
                  "ItemRevenue": 92,
                  "Country": "Mexico",
                  "Item": "Suit Jacket"
                },
                {
                  "index": 19,
                  "Action": "Viewed",
                  "ItemRevenue": 20,
                  "Country": "Ecuador",
                  "Item": "Gloves"
                }
              ]
            }
          },
          "metadata": {
            "application/vnd.dataresource+json": {
              "size": 1,
              "_root": {
                "ownerID": {},
                "entries": [
                  [
                    "dx",
                    {
                      "size": 14,
                      "_root": {
                        "ownerID": {},
                        "bitmap": 1078182321,
                        "nodes": [
                          {
                            "ownerID": {},
                            "keyHash": -119117824,
                            "entry": [
                              "summaryType",
                              "violin"
                            ]
                          },
                          {
                            "ownerID": {},
                            "keyHash": -345406460,
                            "entry": [
                              "marginalGraphics",
                              "none"
                            ]
                          },
                          {
                            "ownerID": {},
                            "keyHash": 3619493,
                            "entry": [
                              "view",
                              "grid"
                            ]
                          },
                          {
                            "ownerID": {},
                            "keyHash": -592394905,
                            "entry": [
                              "areaType",
                              "hexbin"
                            ]
                          },
                          {
                            "ownerID": {},
                            "bitmap": 68165696,
                            "nodes": [
                              {
                                "ownerID": {},
                                "keyHash": -340014904,
                                "entry": [
                                  "selectedDimensions",
                                  {
                                    "size": 1,
                                    "_origin": 0,
                                    "_capacity": 1,
                                    "_level": 5,
                                    "_root": null,
                                    "_tail": {
                                      "array": [
                                        "Action"
                                      ]
                                    },
                                    "__altered": false
                                  }
                                ]
                              },
                              {
                                "ownerID": {},
                                "keyHash": 390943144,
                                "entry": [
                                  "selectedMetrics",
                                  {
                                    "size": 0,
                                    "_origin": 0,
                                    "_capacity": 0,
                                    "_level": 5,
                                    "__altered": false
                                  }
                                ]
                              },
                              {
                                "ownerID": {},
                                "keyHash": -866871672,
                                "entry": [
                                  "networkType",
                                  "force"
                                ]
                              },
                              {
                                "ownerID": {},
                                "keyHash": 113796936,
                                "entry": [
                                  "pieceType",
                                  "bar"
                                ]
                              }
                            ]
                          },
                          {
                            "ownerID": {},
                            "keyHash": 114923854,
                            "entry": [
                              "lineType",
                              "line"
                            ]
                          },
                          {
                            "ownerID": {},
                            "keyHash": 831288079,
                            "entry": [
                              "hierarchyType",
                              "dendrogram"
                            ]
                          },
                          {
                            "ownerID": {},
                            "keyHash": -281100944,
                            "entry": [
                              "colors",
                              {
                                "size": 19,
                                "_origin": 0,
                                "_capacity": 19,
                                "_level": 5,
                                "_root": null,
                                "_tail": {
                                  "array": [
                                    "#DA752E",
                                    "#E5C209",
                                    "#1441A0",
                                    "#B86117",
                                    "#4D430C",
                                    "#1DB390",
                                    "#B3331D",
                                    "#088EB2",
                                    "#417505",
                                    "#E479A8",
                                    "#F9F39E",
                                    "#5782DC",
                                    "#EBA97B",
                                    "#A2AB60",
                                    "#B291CF",
                                    "#8DD2C2",
                                    "#E6A19F",
                                    "#3DC7E0",
                                    "#98CE5B"
                                  ]
                                },
                                "__altered": false
                              }
                            ]
                          },
                          {
                            "ownerID": {},
                            "keyHash": 293080881,
                            "entry": [
                              "trendLine",
                              "none"
                            ]
                          },
                          {
                            "ownerID": {},
                            "keyHash": -136136138,
                            "entry": [
                              "barGrouping",
                              "Clustered"
                            ]
                          },
                          {
                            "ownerID": {},
                            "keyHash": 94623710,
                            "entry": [
                              "chart",
                              {
                                "size": 9,
                                "_root": {
                                  "ownerID": {},
                                  "bitmap": 3678,
                                  "nodes": [
                                    {
                                      "ownerID": {},
                                      "keyHash": 955826305,
                                      "entry": [
                                        "metric1",
                                        "ItemRevenue"
                                      ]
                                    },
                                    {
                                      "ownerID": {},
                                      "bitmap": 67108880,
                                      "nodes": [
                                        {
                                          "ownerID": {},
                                          "keyHash": 955826306,
                                          "entry": [
                                            "metric2",
                                            "none"
                                          ]
                                        },
                                        {
                                          "ownerID": {},
                                          "keyHash": 346180418,
                                          "entry": [
                                            "timeseriesSort",
                                            "array-order"
                                          ]
                                        }
                                      ]
                                    },
                                    {
                                      "ownerID": {},
                                      "keyHash": 955826307,
                                      "entry": [
                                        "metric3",
                                        "none"
                                      ]
                                    },
                                    {
                                      "ownerID": {},
                                      "keyHash": 955826308,
                                      "entry": [
                                        "metric4",
                                        "none"
                                      ]
                                    },
                                    {
                                      "ownerID": {},
                                      "keyHash": -37592730,
                                      "entry": [
                                        "networkLabel",
                                        "none"
                                      ]
                                    },
                                    {
                                      "ownerID": {},
                                      "keyHash": 3083433,
                                      "entry": [
                                        "dim1",
                                        "Action"
                                      ]
                                    },
                                    {
                                      "ownerID": {},
                                      "keyHash": 3083434,
                                      "entry": [
                                        "dim2",
                                        "Item"
                                      ]
                                    },
                                    {
                                      "ownerID": {},
                                      "keyHash": 3083435,
                                      "entry": [
                                        "dim3",
                                        "none"
                                      ]
                                    }
                                  ]
                                },
                                "__altered": false
                              }
                            ]
                          }
                        ]
                      },
                      "__altered": false
                    }
                  ]
                ]
              },
              "__altered": false,
              "dx": {
                "summaryType": "violin",
                "marginalGraphics": "none",
                "view": "grid",
                "areaType": "hexbin",
                "selectedDimensions": [
                  "Action"
                ],
                "selectedMetrics": [],
                "networkType": "force",
                "pieceType": "bar",
                "lineType": "line",
                "hierarchyType": "dendrogram",
                "colors": [
                  "#DA752E",
                  "#E5C209",
                  "#1441A0",
                  "#B86117",
                  "#4D430C",
                  "#1DB390",
                  "#B3331D",
                  "#088EB2",
                  "#417505",
                  "#E479A8",
                  "#F9F39E",
                  "#5782DC",
                  "#EBA97B",
                  "#A2AB60",
                  "#B291CF",
                  "#8DD2C2",
                  "#E6A19F",
                  "#3DC7E0",
                  "#98CE5B"
                ],
                "trendLine": "none",
                "barGrouping": "Clustered",
                "chart": {
                  "metric1": "ItemRevenue",
                  "metric2": "none",
                  "timeseriesSort": "array-order",
                  "metric3": "none",
                  "metric4": "none",
                  "networkLabel": "none",
                  "dim1": "Action",
                  "dim2": "Item",
                  "dim3": "none"
                }
              }
            }
          }
        }
      ],
      "execution_count": 10,
      "metadata": {
        "collapsed": true,
        "execution": {
          "iopub.execute_input": "2022-10-17T17:30:34.888Z",
          "iopub.status.busy": "2022-10-17T17:30:34.866Z",
          "iopub.status.idle": "2022-10-17T17:30:34.968Z",
          "shell.execute_reply": "2022-10-17T17:30:34.949Z"
        },
        "jupyter": {
          "outputs_hidden": false,
          "source_hidden": false
        },
        "nteract": {
          "transient": {
            "deleting": false
          }
        },
        "trusted": false
      },
      "id": "4f969c50-77bd-42e8-9015-f0c41e5447a4"
    },
    {
      "cell_type": "code",
      "source": [
        "import pandas as pd\n",
        "pd.options.display.html.table_schema = True\n",
        "pd.options.display.max_rows = None\n",
        "\n",
        "df_cosmos.groupby(\"Action\").size()"
      ],
      "outputs": [
        {
          "output_type": "execute_result",
          "execution_count": 20,
          "data": {
            "text/plain": "Action\nAdded         885\nPurchased     422\nViewed       1347\ndtype: int64",
            "application/vnd.dataresource+json": {
              "schema": {
                "fields": [
                  {
                    "name": "Action",
                    "type": "string"
                  },
                  {
                    "name": "values",
                    "type": "integer"
                  }
                ],
                "primaryKey": [
                  "Action"
                ],
                "pandas_version": "0.20.0"
              },
              "data": [
                {
                  "Action": "Added",
                  "values": 885
                },
                {
                  "Action": "Purchased",
                  "values": 422
                },
                {
                  "Action": "Viewed",
                  "values": 1347
                }
              ]
            }
          },
          "metadata": {
            "application/vnd.dataresource+json": {
              "size": 4,
              "_root": {
                "ownerID": {},
                "entries": [
                  [
                    "size",
                    1
                  ],
                  [
                    "_root",
                    {
                      "size": 2,
                      "_root": {
                        "ownerID": {},
                        "entries": [
                          [
                            "ownerID",
                            {
                              "size": 0,
                              "__altered": false
                            }
                          ],
                          [
                            "entries",
                            {
                              "size": 1,
                              "_origin": 0,
                              "_capacity": 1,
                              "_level": 5,
                              "_root": null,
                              "_tail": {
                                "array": [
                                  {
                                    "size": 2,
                                    "_origin": 0,
                                    "_capacity": 2,
                                    "_level": 5,
                                    "_root": null,
                                    "_tail": {
                                      "array": [
                                        "dx",
                                        {
                                          "size": 3,
                                          "_root": {
                                            "ownerID": {},
                                            "entries": [
                                              [
                                                "size",
                                                14
                                              ],
                                              [
                                                "_root",
                                                {
                                                  "size": 3,
                                                  "_root": {
                                                    "ownerID": {},
                                                    "entries": [
                                                      [
                                                        "ownerID",
                                                        {
                                                          "size": 0,
                                                          "__altered": false
                                                        }
                                                      ],
                                                      [
                                                        "bitmap",
                                                        1078182321
                                                      ],
                                                      [
                                                        "nodes",
                                                        {
                                                          "size": 11,
                                                          "_origin": 0,
                                                          "_capacity": 11,
                                                          "_level": 5,
                                                          "_root": null,
                                                          "_tail": {
                                                            "array": [
                                                              {
                                                                "size": 3,
                                                                "_root": {
                                                                  "ownerID": {},
                                                                  "entries": [
                                                                    [
                                                                      "ownerID",
                                                                      {
                                                                        "size": 0,
                                                                        "__altered": false
                                                                      }
                                                                    ],
                                                                    [
                                                                      "keyHash",
                                                                      -119117824
                                                                    ],
                                                                    [
                                                                      "entry",
                                                                      {
                                                                        "size": 2,
                                                                        "_origin": 0,
                                                                        "_capacity": 2,
                                                                        "_level": 5,
                                                                        "_root": null,
                                                                        "_tail": {
                                                                          "array": [
                                                                            "summaryType",
                                                                            "violin"
                                                                          ]
                                                                        },
                                                                        "__altered": false
                                                                      }
                                                                    ]
                                                                  ]
                                                                },
                                                                "__altered": false
                                                              },
                                                              {
                                                                "size": 3,
                                                                "_root": {
                                                                  "ownerID": {},
                                                                  "entries": [
                                                                    [
                                                                      "ownerID",
                                                                      {
                                                                        "size": 0,
                                                                        "__altered": false
                                                                      }
                                                                    ],
                                                                    [
                                                                      "keyHash",
                                                                      -345406460
                                                                    ],
                                                                    [
                                                                      "entry",
                                                                      {
                                                                        "size": 2,
                                                                        "_origin": 0,
                                                                        "_capacity": 2,
                                                                        "_level": 5,
                                                                        "_root": null,
                                                                        "_tail": {
                                                                          "array": [
                                                                            "marginalGraphics",
                                                                            "none"
                                                                          ]
                                                                        },
                                                                        "__altered": false
                                                                      }
                                                                    ]
                                                                  ]
                                                                },
                                                                "__altered": false
                                                              },
                                                              {
                                                                "size": 3,
                                                                "_root": {
                                                                  "ownerID": {},
                                                                  "entries": [
                                                                    [
                                                                      "ownerID",
                                                                      {
                                                                        "size": 0,
                                                                        "__altered": false
                                                                      }
                                                                    ],
                                                                    [
                                                                      "keyHash",
                                                                      3619493
                                                                    ],
                                                                    [
                                                                      "entry",
                                                                      {
                                                                        "size": 2,
                                                                        "_origin": 0,
                                                                        "_capacity": 2,
                                                                        "_level": 5,
                                                                        "_root": null,
                                                                        "_tail": {
                                                                          "array": [
                                                                            "view",
                                                                            "grid"
                                                                          ]
                                                                        },
                                                                        "__altered": false
                                                                      }
                                                                    ]
                                                                  ]
                                                                },
                                                                "__altered": false
                                                              },
                                                              {
                                                                "size": 3,
                                                                "_root": {
                                                                  "ownerID": {},
                                                                  "entries": [
                                                                    [
                                                                      "ownerID",
                                                                      {
                                                                        "size": 0,
                                                                        "__altered": false
                                                                      }
                                                                    ],
                                                                    [
                                                                      "keyHash",
                                                                      -592394905
                                                                    ],
                                                                    [
                                                                      "entry",
                                                                      {
                                                                        "size": 2,
                                                                        "_origin": 0,
                                                                        "_capacity": 2,
                                                                        "_level": 5,
                                                                        "_root": null,
                                                                        "_tail": {
                                                                          "array": [
                                                                            "areaType",
                                                                            "hexbin"
                                                                          ]
                                                                        },
                                                                        "__altered": false
                                                                      }
                                                                    ]
                                                                  ]
                                                                },
                                                                "__altered": false
                                                              },
                                                              {
                                                                "size": 3,
                                                                "_root": {
                                                                  "ownerID": {},
                                                                  "entries": [
                                                                    [
                                                                      "ownerID",
                                                                      {
                                                                        "size": 0,
                                                                        "__altered": false
                                                                      }
                                                                    ],
                                                                    [
                                                                      "bitmap",
                                                                      68165696
                                                                    ],
                                                                    [
                                                                      "nodes",
                                                                      {
                                                                        "size": 4,
                                                                        "_origin": 0,
                                                                        "_capacity": 4,
                                                                        "_level": 5,
                                                                        "_root": null,
                                                                        "_tail": {
                                                                          "array": [
                                                                            {
                                                                              "size": 3,
                                                                              "_root": {
                                                                                "ownerID": {},
                                                                                "entries": [
                                                                                  [
                                                                                    "ownerID",
                                                                                    {
                                                                                      "size": 0,
                                                                                      "__altered": false
                                                                                    }
                                                                                  ],
                                                                                  [
                                                                                    "keyHash",
                                                                                    -340014904
                                                                                  ],
                                                                                  [
                                                                                    "entry",
                                                                                    {
                                                                                      "size": 2,
                                                                                      "_origin": 0,
                                                                                      "_capacity": 2,
                                                                                      "_level": 5,
                                                                                      "_root": null,
                                                                                      "_tail": {
                                                                                        "array": [
                                                                                          "selectedDimensions",
                                                                                          {
                                                                                            "size": 7,
                                                                                            "_root": {
                                                                                              "ownerID": {},
                                                                                              "entries": [
                                                                                                [
                                                                                                  "size",
                                                                                                  1
                                                                                                ],
                                                                                                [
                                                                                                  "_origin",
                                                                                                  0
                                                                                                ],
                                                                                                [
                                                                                                  "_capacity",
                                                                                                  1
                                                                                                ],
                                                                                                [
                                                                                                  "_level",
                                                                                                  5
                                                                                                ],
                                                                                                [
                                                                                                  "_root",
                                                                                                  null
                                                                                                ],
                                                                                                [
                                                                                                  "_tail",
                                                                                                  {
                                                                                                    "size": 1,
                                                                                                    "_root": {
                                                                                                      "ownerID": {},
                                                                                                      "entries": [
                                                                                                        [
                                                                                                          "array",
                                                                                                          {
                                                                                                            "size": 1,
                                                                                                            "_origin": 0,
                                                                                                            "_capacity": 1,
                                                                                                            "_level": 5,
                                                                                                            "_root": null,
                                                                                                            "_tail": {
                                                                                                              "array": [
                                                                                                                "Action"
                                                                                                              ]
                                                                                                            },
                                                                                                            "__altered": false
                                                                                                          }
                                                                                                        ]
                                                                                                      ]
                                                                                                    },
                                                                                                    "__altered": false
                                                                                                  }
                                                                                                ],
                                                                                                [
                                                                                                  "__altered",
                                                                                                  false
                                                                                                ]
                                                                                              ]
                                                                                            },
                                                                                            "__altered": false
                                                                                          }
                                                                                        ]
                                                                                      },
                                                                                      "__altered": false
                                                                                    }
                                                                                  ]
                                                                                ]
                                                                              },
                                                                              "__altered": false
                                                                            },
                                                                            {
                                                                              "size": 3,
                                                                              "_root": {
                                                                                "ownerID": {},
                                                                                "entries": [
                                                                                  [
                                                                                    "ownerID",
                                                                                    {
                                                                                      "size": 0,
                                                                                      "__altered": false
                                                                                    }
                                                                                  ],
                                                                                  [
                                                                                    "keyHash",
                                                                                    390943144
                                                                                  ],
                                                                                  [
                                                                                    "entry",
                                                                                    {
                                                                                      "size": 2,
                                                                                      "_origin": 0,
                                                                                      "_capacity": 2,
                                                                                      "_level": 5,
                                                                                      "_root": null,
                                                                                      "_tail": {
                                                                                        "array": [
                                                                                          "selectedMetrics",
                                                                                          {
                                                                                            "size": 5,
                                                                                            "_root": {
                                                                                              "ownerID": {},
                                                                                              "entries": [
                                                                                                [
                                                                                                  "size",
                                                                                                  0
                                                                                                ],
                                                                                                [
                                                                                                  "_origin",
                                                                                                  0
                                                                                                ],
                                                                                                [
                                                                                                  "_capacity",
                                                                                                  0
                                                                                                ],
                                                                                                [
                                                                                                  "_level",
                                                                                                  5
                                                                                                ],
                                                                                                [
                                                                                                  "__altered",
                                                                                                  false
                                                                                                ]
                                                                                              ]
                                                                                            },
                                                                                            "__altered": false
                                                                                          }
                                                                                        ]
                                                                                      },
                                                                                      "__altered": false
                                                                                    }
                                                                                  ]
                                                                                ]
                                                                              },
                                                                              "__altered": false
                                                                            },
                                                                            {
                                                                              "size": 3,
                                                                              "_root": {
                                                                                "ownerID": {},
                                                                                "entries": [
                                                                                  [
                                                                                    "ownerID",
                                                                                    {
                                                                                      "size": 0,
                                                                                      "__altered": false
                                                                                    }
                                                                                  ],
                                                                                  [
                                                                                    "keyHash",
                                                                                    -866871672
                                                                                  ],
                                                                                  [
                                                                                    "entry",
                                                                                    {
                                                                                      "size": 2,
                                                                                      "_origin": 0,
                                                                                      "_capacity": 2,
                                                                                      "_level": 5,
                                                                                      "_root": null,
                                                                                      "_tail": {
                                                                                        "array": [
                                                                                          "networkType",
                                                                                          "force"
                                                                                        ]
                                                                                      },
                                                                                      "__altered": false
                                                                                    }
                                                                                  ]
                                                                                ]
                                                                              },
                                                                              "__altered": false
                                                                            },
                                                                            {
                                                                              "size": 3,
                                                                              "_root": {
                                                                                "ownerID": {},
                                                                                "entries": [
                                                                                  [
                                                                                    "ownerID",
                                                                                    {
                                                                                      "size": 0,
                                                                                      "__altered": false
                                                                                    }
                                                                                  ],
                                                                                  [
                                                                                    "keyHash",
                                                                                    113796936
                                                                                  ],
                                                                                  [
                                                                                    "entry",
                                                                                    {
                                                                                      "size": 2,
                                                                                      "_origin": 0,
                                                                                      "_capacity": 2,
                                                                                      "_level": 5,
                                                                                      "_root": null,
                                                                                      "_tail": {
                                                                                        "array": [
                                                                                          "pieceType",
                                                                                          "bar"
                                                                                        ]
                                                                                      },
                                                                                      "__altered": false
                                                                                    }
                                                                                  ]
                                                                                ]
                                                                              },
                                                                              "__altered": false
                                                                            }
                                                                          ]
                                                                        },
                                                                        "__altered": false
                                                                      }
                                                                    ]
                                                                  ]
                                                                },
                                                                "__altered": false
                                                              },
                                                              {
                                                                "size": 3,
                                                                "_root": {
                                                                  "ownerID": {},
                                                                  "entries": [
                                                                    [
                                                                      "ownerID",
                                                                      {
                                                                        "size": 0,
                                                                        "__altered": false
                                                                      }
                                                                    ],
                                                                    [
                                                                      "keyHash",
                                                                      114923854
                                                                    ],
                                                                    [
                                                                      "entry",
                                                                      {
                                                                        "size": 2,
                                                                        "_origin": 0,
                                                                        "_capacity": 2,
                                                                        "_level": 5,
                                                                        "_root": null,
                                                                        "_tail": {
                                                                          "array": [
                                                                            "lineType",
                                                                            "line"
                                                                          ]
                                                                        },
                                                                        "__altered": false
                                                                      }
                                                                    ]
                                                                  ]
                                                                },
                                                                "__altered": false
                                                              },
                                                              {
                                                                "size": 3,
                                                                "_root": {
                                                                  "ownerID": {},
                                                                  "entries": [
                                                                    [
                                                                      "ownerID",
                                                                      {
                                                                        "size": 0,
                                                                        "__altered": false
                                                                      }
                                                                    ],
                                                                    [
                                                                      "keyHash",
                                                                      831288079
                                                                    ],
                                                                    [
                                                                      "entry",
                                                                      {
                                                                        "size": 2,
                                                                        "_origin": 0,
                                                                        "_capacity": 2,
                                                                        "_level": 5,
                                                                        "_root": null,
                                                                        "_tail": {
                                                                          "array": [
                                                                            "hierarchyType",
                                                                            "dendrogram"
                                                                          ]
                                                                        },
                                                                        "__altered": false
                                                                      }
                                                                    ]
                                                                  ]
                                                                },
                                                                "__altered": false
                                                              },
                                                              {
                                                                "size": 3,
                                                                "_root": {
                                                                  "ownerID": {},
                                                                  "entries": [
                                                                    [
                                                                      "ownerID",
                                                                      {
                                                                        "size": 0,
                                                                        "__altered": false
                                                                      }
                                                                    ],
                                                                    [
                                                                      "keyHash",
                                                                      -281100944
                                                                    ],
                                                                    [
                                                                      "entry",
                                                                      {
                                                                        "size": 2,
                                                                        "_origin": 0,
                                                                        "_capacity": 2,
                                                                        "_level": 5,
                                                                        "_root": null,
                                                                        "_tail": {
                                                                          "array": [
                                                                            "colors",
                                                                            {
                                                                              "size": 7,
                                                                              "_root": {
                                                                                "ownerID": {},
                                                                                "entries": [
                                                                                  [
                                                                                    "size",
                                                                                    19
                                                                                  ],
                                                                                  [
                                                                                    "_origin",
                                                                                    0
                                                                                  ],
                                                                                  [
                                                                                    "_capacity",
                                                                                    19
                                                                                  ],
                                                                                  [
                                                                                    "_level",
                                                                                    5
                                                                                  ],
                                                                                  [
                                                                                    "_root",
                                                                                    null
                                                                                  ],
                                                                                  [
                                                                                    "_tail",
                                                                                    {
                                                                                      "size": 1,
                                                                                      "_root": {
                                                                                        "ownerID": {},
                                                                                        "entries": [
                                                                                          [
                                                                                            "array",
                                                                                            {
                                                                                              "size": 19,
                                                                                              "_origin": 0,
                                                                                              "_capacity": 19,
                                                                                              "_level": 5,
                                                                                              "_root": null,
                                                                                              "_tail": {
                                                                                                "array": [
                                                                                                  "#DA752E",
                                                                                                  "#E5C209",
                                                                                                  "#1441A0",
                                                                                                  "#B86117",
                                                                                                  "#4D430C",
                                                                                                  "#1DB390",
                                                                                                  "#B3331D",
                                                                                                  "#088EB2",
                                                                                                  "#417505",
                                                                                                  "#E479A8",
                                                                                                  "#F9F39E",
                                                                                                  "#5782DC",
                                                                                                  "#EBA97B",
                                                                                                  "#A2AB60",
                                                                                                  "#B291CF",
                                                                                                  "#8DD2C2",
                                                                                                  "#E6A19F",
                                                                                                  "#3DC7E0",
                                                                                                  "#98CE5B"
                                                                                                ]
                                                                                              },
                                                                                              "__altered": false
                                                                                            }
                                                                                          ]
                                                                                        ]
                                                                                      },
                                                                                      "__altered": false
                                                                                    }
                                                                                  ],
                                                                                  [
                                                                                    "__altered",
                                                                                    false
                                                                                  ]
                                                                                ]
                                                                              },
                                                                              "__altered": false
                                                                            }
                                                                          ]
                                                                        },
                                                                        "__altered": false
                                                                      }
                                                                    ]
                                                                  ]
                                                                },
                                                                "__altered": false
                                                              },
                                                              {
                                                                "size": 3,
                                                                "_root": {
                                                                  "ownerID": {},
                                                                  "entries": [
                                                                    [
                                                                      "ownerID",
                                                                      {
                                                                        "size": 0,
                                                                        "__altered": false
                                                                      }
                                                                    ],
                                                                    [
                                                                      "keyHash",
                                                                      293080881
                                                                    ],
                                                                    [
                                                                      "entry",
                                                                      {
                                                                        "size": 2,
                                                                        "_origin": 0,
                                                                        "_capacity": 2,
                                                                        "_level": 5,
                                                                        "_root": null,
                                                                        "_tail": {
                                                                          "array": [
                                                                            "trendLine",
                                                                            "none"
                                                                          ]
                                                                        },
                                                                        "__altered": false
                                                                      }
                                                                    ]
                                                                  ]
                                                                },
                                                                "__altered": false
                                                              },
                                                              {
                                                                "size": 3,
                                                                "_root": {
                                                                  "ownerID": {},
                                                                  "entries": [
                                                                    [
                                                                      "ownerID",
                                                                      {
                                                                        "size": 0,
                                                                        "__altered": false
                                                                      }
                                                                    ],
                                                                    [
                                                                      "keyHash",
                                                                      -136136138
                                                                    ],
                                                                    [
                                                                      "entry",
                                                                      {
                                                                        "size": 2,
                                                                        "_origin": 0,
                                                                        "_capacity": 2,
                                                                        "_level": 5,
                                                                        "_root": null,
                                                                        "_tail": {
                                                                          "array": [
                                                                            "barGrouping",
                                                                            "Clustered"
                                                                          ]
                                                                        },
                                                                        "__altered": false
                                                                      }
                                                                    ]
                                                                  ]
                                                                },
                                                                "__altered": false
                                                              },
                                                              {
                                                                "size": 3,
                                                                "_root": {
                                                                  "ownerID": {},
                                                                  "entries": [
                                                                    [
                                                                      "ownerID",
                                                                      {
                                                                        "size": 0,
                                                                        "__altered": false
                                                                      }
                                                                    ],
                                                                    [
                                                                      "keyHash",
                                                                      94623710
                                                                    ],
                                                                    [
                                                                      "entry",
                                                                      {
                                                                        "size": 2,
                                                                        "_origin": 0,
                                                                        "_capacity": 2,
                                                                        "_level": 5,
                                                                        "_root": null,
                                                                        "_tail": {
                                                                          "array": [
                                                                            "chart",
                                                                            {
                                                                              "size": 3,
                                                                              "_root": {
                                                                                "ownerID": {},
                                                                                "entries": [
                                                                                  [
                                                                                    "size",
                                                                                    9
                                                                                  ],
                                                                                  [
                                                                                    "_root",
                                                                                    {
                                                                                      "size": 3,
                                                                                      "_root": {
                                                                                        "ownerID": {},
                                                                                        "entries": [
                                                                                          [
                                                                                            "ownerID",
                                                                                            {
                                                                                              "size": 0,
                                                                                              "__altered": false
                                                                                            }
                                                                                          ],
                                                                                          [
                                                                                            "bitmap",
                                                                                            3678
                                                                                          ],
                                                                                          [
                                                                                            "nodes",
                                                                                            {
                                                                                              "size": 8,
                                                                                              "_origin": 0,
                                                                                              "_capacity": 8,
                                                                                              "_level": 5,
                                                                                              "_root": null,
                                                                                              "_tail": {
                                                                                                "array": [
                                                                                                  {
                                                                                                    "size": 3,
                                                                                                    "_root": {
                                                                                                      "ownerID": {},
                                                                                                      "entries": [
                                                                                                        [
                                                                                                          "ownerID",
                                                                                                          {
                                                                                                            "size": 0,
                                                                                                            "__altered": false
                                                                                                          }
                                                                                                        ],
                                                                                                        [
                                                                                                          "keyHash",
                                                                                                          955826305
                                                                                                        ],
                                                                                                        [
                                                                                                          "entry",
                                                                                                          {
                                                                                                            "size": 2,
                                                                                                            "_origin": 0,
                                                                                                            "_capacity": 2,
                                                                                                            "_level": 5,
                                                                                                            "_root": null,
                                                                                                            "_tail": {
                                                                                                              "array": [
                                                                                                                "metric1",
                                                                                                                "values"
                                                                                                              ]
                                                                                                            },
                                                                                                            "__altered": false
                                                                                                          }
                                                                                                        ]
                                                                                                      ]
                                                                                                    },
                                                                                                    "__altered": false
                                                                                                  },
                                                                                                  {
                                                                                                    "size": 3,
                                                                                                    "_root": {
                                                                                                      "ownerID": {},
                                                                                                      "entries": [
                                                                                                        [
                                                                                                          "ownerID",
                                                                                                          {
                                                                                                            "size": 0,
                                                                                                            "__altered": false
                                                                                                          }
                                                                                                        ],
                                                                                                        [
                                                                                                          "bitmap",
                                                                                                          67108880
                                                                                                        ],
                                                                                                        [
                                                                                                          "nodes",
                                                                                                          {
                                                                                                            "size": 2,
                                                                                                            "_origin": 0,
                                                                                                            "_capacity": 2,
                                                                                                            "_level": 5,
                                                                                                            "_root": null,
                                                                                                            "_tail": {
                                                                                                              "array": [
                                                                                                                {
                                                                                                                  "size": 3,
                                                                                                                  "_root": {
                                                                                                                    "ownerID": {},
                                                                                                                    "entries": [
                                                                                                                      [
                                                                                                                        "ownerID",
                                                                                                                        {
                                                                                                                          "size": 0,
                                                                                                                          "__altered": false
                                                                                                                        }
                                                                                                                      ],
                                                                                                                      [
                                                                                                                        "keyHash",
                                                                                                                        955826306
                                                                                                                      ],
                                                                                                                      [
                                                                                                                        "entry",
                                                                                                                        {
                                                                                                                          "size": 2,
                                                                                                                          "_origin": 0,
                                                                                                                          "_capacity": 2,
                                                                                                                          "_level": 5,
                                                                                                                          "_root": null,
                                                                                                                          "_tail": {
                                                                                                                            "array": [
                                                                                                                              "metric2",
                                                                                                                              "none"
                                                                                                                            ]
                                                                                                                          },
                                                                                                                          "__altered": false
                                                                                                                        }
                                                                                                                      ]
                                                                                                                    ]
                                                                                                                  },
                                                                                                                  "__altered": false
                                                                                                                },
                                                                                                                {
                                                                                                                  "size": 3,
                                                                                                                  "_root": {
                                                                                                                    "ownerID": {},
                                                                                                                    "entries": [
                                                                                                                      [
                                                                                                                        "ownerID",
                                                                                                                        {
                                                                                                                          "size": 0,
                                                                                                                          "__altered": false
                                                                                                                        }
                                                                                                                      ],
                                                                                                                      [
                                                                                                                        "keyHash",
                                                                                                                        346180418
                                                                                                                      ],
                                                                                                                      [
                                                                                                                        "entry",
                                                                                                                        {
                                                                                                                          "size": 2,
                                                                                                                          "_origin": 0,
                                                                                                                          "_capacity": 2,
                                                                                                                          "_level": 5,
                                                                                                                          "_root": null,
                                                                                                                          "_tail": {
                                                                                                                            "array": [
                                                                                                                              "timeseriesSort",
                                                                                                                              "array-order"
                                                                                                                            ]
                                                                                                                          },
                                                                                                                          "__altered": false
                                                                                                                        }
                                                                                                                      ]
                                                                                                                    ]
                                                                                                                  },
                                                                                                                  "__altered": false
                                                                                                                }
                                                                                                              ]
                                                                                                            },
                                                                                                            "__altered": false
                                                                                                          }
                                                                                                        ]
                                                                                                      ]
                                                                                                    },
                                                                                                    "__altered": false
                                                                                                  },
                                                                                                  {
                                                                                                    "size": 3,
                                                                                                    "_root": {
                                                                                                      "ownerID": {},
                                                                                                      "entries": [
                                                                                                        [
                                                                                                          "ownerID",
                                                                                                          {
                                                                                                            "size": 0,
                                                                                                            "__altered": false
                                                                                                          }
                                                                                                        ],
                                                                                                        [
                                                                                                          "keyHash",
                                                                                                          955826307
                                                                                                        ],
                                                                                                        [
                                                                                                          "entry",
                                                                                                          {
                                                                                                            "size": 2,
                                                                                                            "_origin": 0,
                                                                                                            "_capacity": 2,
                                                                                                            "_level": 5,
                                                                                                            "_root": null,
                                                                                                            "_tail": {
                                                                                                              "array": [
                                                                                                                "metric3",
                                                                                                                "none"
                                                                                                              ]
                                                                                                            },
                                                                                                            "__altered": false
                                                                                                          }
                                                                                                        ]
                                                                                                      ]
                                                                                                    },
                                                                                                    "__altered": false
                                                                                                  },
                                                                                                  {
                                                                                                    "size": 3,
                                                                                                    "_root": {
                                                                                                      "ownerID": {},
                                                                                                      "entries": [
                                                                                                        [
                                                                                                          "ownerID",
                                                                                                          {
                                                                                                            "size": 0,
                                                                                                            "__altered": false
                                                                                                          }
                                                                                                        ],
                                                                                                        [
                                                                                                          "keyHash",
                                                                                                          955826308
                                                                                                        ],
                                                                                                        [
                                                                                                          "entry",
                                                                                                          {
                                                                                                            "size": 2,
                                                                                                            "_origin": 0,
                                                                                                            "_capacity": 2,
                                                                                                            "_level": 5,
                                                                                                            "_root": null,
                                                                                                            "_tail": {
                                                                                                              "array": [
                                                                                                                "metric4",
                                                                                                                "none"
                                                                                                              ]
                                                                                                            },
                                                                                                            "__altered": false
                                                                                                          }
                                                                                                        ]
                                                                                                      ]
                                                                                                    },
                                                                                                    "__altered": false
                                                                                                  },
                                                                                                  {
                                                                                                    "size": 3,
                                                                                                    "_root": {
                                                                                                      "ownerID": {},
                                                                                                      "entries": [
                                                                                                        [
                                                                                                          "ownerID",
                                                                                                          {
                                                                                                            "size": 0,
                                                                                                            "__altered": false
                                                                                                          }
                                                                                                        ],
                                                                                                        [
                                                                                                          "keyHash",
                                                                                                          -37592730
                                                                                                        ],
                                                                                                        [
                                                                                                          "entry",
                                                                                                          {
                                                                                                            "size": 2,
                                                                                                            "_origin": 0,
                                                                                                            "_capacity": 2,
                                                                                                            "_level": 5,
                                                                                                            "_root": null,
                                                                                                            "_tail": {
                                                                                                              "array": [
                                                                                                                "networkLabel",
                                                                                                                "none"
                                                                                                              ]
                                                                                                            },
                                                                                                            "__altered": false
                                                                                                          }
                                                                                                        ]
                                                                                                      ]
                                                                                                    },
                                                                                                    "__altered": false
                                                                                                  },
                                                                                                  {
                                                                                                    "size": 3,
                                                                                                    "_root": {
                                                                                                      "ownerID": {},
                                                                                                      "entries": [
                                                                                                        [
                                                                                                          "ownerID",
                                                                                                          {
                                                                                                            "size": 0,
                                                                                                            "__altered": false
                                                                                                          }
                                                                                                        ],
                                                                                                        [
                                                                                                          "keyHash",
                                                                                                          3083433
                                                                                                        ],
                                                                                                        [
                                                                                                          "entry",
                                                                                                          {
                                                                                                            "size": 2,
                                                                                                            "_origin": 0,
                                                                                                            "_capacity": 2,
                                                                                                            "_level": 5,
                                                                                                            "_root": null,
                                                                                                            "_tail": {
                                                                                                              "array": [
                                                                                                                "dim1",
                                                                                                                "Action"
                                                                                                              ]
                                                                                                            },
                                                                                                            "__altered": false
                                                                                                          }
                                                                                                        ]
                                                                                                      ]
                                                                                                    },
                                                                                                    "__altered": false
                                                                                                  },
                                                                                                  {
                                                                                                    "size": 3,
                                                                                                    "_root": {
                                                                                                      "ownerID": {},
                                                                                                      "entries": [
                                                                                                        [
                                                                                                          "ownerID",
                                                                                                          {
                                                                                                            "size": 0,
                                                                                                            "__altered": false
                                                                                                          }
                                                                                                        ],
                                                                                                        [
                                                                                                          "keyHash",
                                                                                                          3083434
                                                                                                        ],
                                                                                                        [
                                                                                                          "entry",
                                                                                                          {
                                                                                                            "size": 2,
                                                                                                            "_origin": 0,
                                                                                                            "_capacity": 2,
                                                                                                            "_level": 5,
                                                                                                            "_root": null,
                                                                                                            "_tail": {
                                                                                                              "array": [
                                                                                                                "dim2",
                                                                                                                "none"
                                                                                                              ]
                                                                                                            },
                                                                                                            "__altered": false
                                                                                                          }
                                                                                                        ]
                                                                                                      ]
                                                                                                    },
                                                                                                    "__altered": false
                                                                                                  },
                                                                                                  {
                                                                                                    "size": 3,
                                                                                                    "_root": {
                                                                                                      "ownerID": {},
                                                                                                      "entries": [
                                                                                                        [
                                                                                                          "ownerID",
                                                                                                          {
                                                                                                            "size": 0,
                                                                                                            "__altered": false
                                                                                                          }
                                                                                                        ],
                                                                                                        [
                                                                                                          "keyHash",
                                                                                                          3083435
                                                                                                        ],
                                                                                                        [
                                                                                                          "entry",
                                                                                                          {
                                                                                                            "size": 2,
                                                                                                            "_origin": 0,
                                                                                                            "_capacity": 2,
                                                                                                            "_level": 5,
                                                                                                            "_root": null,
                                                                                                            "_tail": {
                                                                                                              "array": [
                                                                                                                "dim3",
                                                                                                                "none"
                                                                                                              ]
                                                                                                            },
                                                                                                            "__altered": false
                                                                                                          }
                                                                                                        ]
                                                                                                      ]
                                                                                                    },
                                                                                                    "__altered": false
                                                                                                  }
                                                                                                ]
                                                                                              },
                                                                                              "__altered": false
                                                                                            }
                                                                                          ]
                                                                                        ]
                                                                                      },
                                                                                      "__altered": false
                                                                                    }
                                                                                  ],
                                                                                  [
                                                                                    "__altered",
                                                                                    false
                                                                                  ]
                                                                                ]
                                                                              },
                                                                              "__altered": false
                                                                            }
                                                                          ]
                                                                        },
                                                                        "__altered": false
                                                                      }
                                                                    ]
                                                                  ]
                                                                },
                                                                "__altered": false
                                                              }
                                                            ]
                                                          },
                                                          "__altered": false
                                                        }
                                                      ]
                                                    ]
                                                  },
                                                  "__altered": false
                                                }
                                              ],
                                              [
                                                "__altered",
                                                false
                                              ]
                                            ]
                                          },
                                          "__altered": false
                                        }
                                      ]
                                    },
                                    "__altered": false
                                  }
                                ]
                              },
                              "__altered": false
                            }
                          ]
                        ]
                      },
                      "__altered": false
                    }
                  ],
                  [
                    "__altered",
                    false
                  ],
                  [
                    "dx",
                    {
                      "size": 14,
                      "_root": {
                        "ownerID": {},
                        "bitmap": 1078182321,
                        "nodes": [
                          {
                            "ownerID": {},
                            "keyHash": -119117824,
                            "entry": [
                              "summaryType",
                              "violin"
                            ]
                          },
                          {
                            "ownerID": {},
                            "keyHash": -345406460,
                            "entry": [
                              "marginalGraphics",
                              "none"
                            ]
                          },
                          {
                            "ownerID": {},
                            "keyHash": 3619493,
                            "entry": [
                              "view",
                              "bar"
                            ]
                          },
                          {
                            "ownerID": {},
                            "keyHash": -592394905,
                            "entry": [
                              "areaType",
                              "hexbin"
                            ]
                          },
                          {
                            "ownerID": {},
                            "bitmap": 68165696,
                            "nodes": [
                              {
                                "ownerID": {},
                                "keyHash": -340014904,
                                "entry": [
                                  "selectedDimensions",
                                  {
                                    "size": 1,
                                    "_origin": 0,
                                    "_capacity": 1,
                                    "_level": 5,
                                    "_root": null,
                                    "_tail": {
                                      "array": [
                                        "Action"
                                      ]
                                    },
                                    "__altered": false
                                  }
                                ]
                              },
                              {
                                "ownerID": {},
                                "keyHash": 390943144,
                                "entry": [
                                  "selectedMetrics",
                                  {
                                    "size": 0,
                                    "_origin": 0,
                                    "_capacity": 0,
                                    "_level": 5,
                                    "__altered": false
                                  }
                                ]
                              },
                              {
                                "ownerID": {},
                                "keyHash": -866871672,
                                "entry": [
                                  "networkType",
                                  "force"
                                ]
                              },
                              {
                                "ownerID": {},
                                "keyHash": 113796936,
                                "entry": [
                                  "pieceType",
                                  "bar"
                                ]
                              }
                            ]
                          },
                          {
                            "ownerID": {},
                            "keyHash": 114923854,
                            "entry": [
                              "lineType",
                              "line"
                            ]
                          },
                          {
                            "ownerID": {},
                            "keyHash": 831288079,
                            "entry": [
                              "hierarchyType",
                              "dendrogram"
                            ]
                          },
                          {
                            "ownerID": {},
                            "keyHash": -281100944,
                            "entry": [
                              "colors",
                              {
                                "size": 19,
                                "_origin": 0,
                                "_capacity": 19,
                                "_level": 5,
                                "_root": null,
                                "_tail": {
                                  "array": [
                                    "#DA752E",
                                    "#E5C209",
                                    "#1441A0",
                                    "#B86117",
                                    "#4D430C",
                                    "#1DB390",
                                    "#B3331D",
                                    "#088EB2",
                                    "#417505",
                                    "#E479A8",
                                    "#F9F39E",
                                    "#5782DC",
                                    "#EBA97B",
                                    "#A2AB60",
                                    "#B291CF",
                                    "#8DD2C2",
                                    "#E6A19F",
                                    "#3DC7E0",
                                    "#98CE5B"
                                  ]
                                },
                                "__altered": false
                              }
                            ]
                          },
                          {
                            "ownerID": {},
                            "keyHash": 293080881,
                            "entry": [
                              "trendLine",
                              "none"
                            ]
                          },
                          {
                            "ownerID": {},
                            "keyHash": -136136138,
                            "entry": [
                              "barGrouping",
                              "Clustered"
                            ]
                          },
                          {
                            "ownerID": {},
                            "keyHash": 94623710,
                            "entry": [
                              "chart",
                              {
                                "size": 9,
                                "_root": {
                                  "ownerID": {},
                                  "bitmap": 3678,
                                  "nodes": [
                                    {
                                      "ownerID": {},
                                      "keyHash": 955826305,
                                      "entry": [
                                        "metric1",
                                        "values"
                                      ]
                                    },
                                    {
                                      "ownerID": {},
                                      "bitmap": 67108880,
                                      "nodes": [
                                        {
                                          "ownerID": {},
                                          "keyHash": 955826306,
                                          "entry": [
                                            "metric2",
                                            "none"
                                          ]
                                        },
                                        {
                                          "ownerID": {},
                                          "keyHash": 346180418,
                                          "entry": [
                                            "timeseriesSort",
                                            "array-order"
                                          ]
                                        }
                                      ]
                                    },
                                    {
                                      "ownerID": {},
                                      "keyHash": 955826307,
                                      "entry": [
                                        "metric3",
                                        "none"
                                      ]
                                    },
                                    {
                                      "ownerID": {},
                                      "keyHash": 955826308,
                                      "entry": [
                                        "metric4",
                                        "none"
                                      ]
                                    },
                                    {
                                      "ownerID": {},
                                      "keyHash": -37592730,
                                      "entry": [
                                        "networkLabel",
                                        "none"
                                      ]
                                    },
                                    {
                                      "ownerID": {},
                                      "keyHash": 3083433,
                                      "entry": [
                                        "dim1",
                                        "Action"
                                      ]
                                    },
                                    {
                                      "ownerID": {},
                                      "keyHash": 3083434,
                                      "entry": [
                                        "dim2",
                                        "none"
                                      ]
                                    },
                                    {
                                      "ownerID": {},
                                      "keyHash": 3083435,
                                      "entry": [
                                        "dim3",
                                        "none"
                                      ]
                                    }
                                  ]
                                },
                                "__altered": false
                              }
                            ]
                          }
                        ]
                      },
                      "__altered": false
                    }
                  ]
                ]
              },
              "__altered": false,
              "dx": {
                "summaryType": "violin",
                "marginalGraphics": "none",
                "view": "summary",
                "areaType": "hexbin",
                "selectedDimensions": [
                  "Action"
                ],
                "selectedMetrics": [],
                "networkType": "force",
                "pieceType": "bar",
                "lineType": "line",
                "hierarchyType": "dendrogram",
                "colors": [
                  "#DA752E",
                  "#E5C209",
                  "#1441A0",
                  "#B86117",
                  "#4D430C",
                  "#1DB390",
                  "#B3331D",
                  "#088EB2",
                  "#417505",
                  "#E479A8",
                  "#F9F39E",
                  "#5782DC",
                  "#EBA97B",
                  "#A2AB60",
                  "#B291CF",
                  "#8DD2C2",
                  "#E6A19F",
                  "#3DC7E0",
                  "#98CE5B"
                ],
                "trendLine": "none",
                "barGrouping": "Clustered",
                "chart": {
                  "metric1": "values",
                  "metric2": "none",
                  "timeseriesSort": "array-order",
                  "metric3": "none",
                  "metric4": "none",
                  "networkLabel": "none",
                  "dim1": "Action",
                  "dim2": "none",
                  "dim3": "none"
                }
              }
            }
          }
        }
      ],
      "execution_count": 20,
      "metadata": {
        "collapsed": true,
        "execution": {
          "iopub.execute_input": "2022-10-17T17:36:52.653Z",
          "iopub.status.busy": "2022-10-17T17:36:52.635Z",
          "iopub.status.idle": "2022-10-17T17:36:52.732Z",
          "shell.execute_reply": "2022-10-17T17:36:52.712Z"
        },
        "jupyter": {
          "outputs_hidden": false,
          "source_hidden": false
        },
        "nteract": {
          "transient": {
            "deleting": false
          }
        },
        "trusted": false
      },
      "id": "2cf64383-331d-4e34-8d2f-46ba34a78e2f"
    }
  ],
  "metadata": {
    "language_info": {
      "name": "python",
      "version": "3.7",
      "mimetype": "application/json",
      "file_extension": "ipynb"
    },
    "nteract": {
      "version": "dataExplorer 1.0"
    }
  },
  "nbformat": 4,
  "nbformat_minor": 5
}